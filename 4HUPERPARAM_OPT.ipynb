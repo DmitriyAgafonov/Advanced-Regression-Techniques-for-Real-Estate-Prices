{
 "cells": [
  {
   "cell_type": "code",
   "execution_count": 150,
   "id": "fba05946",
   "metadata": {},
   "outputs": [],
   "source": [
    "import pandas as pd\n",
    "import numpy as np\n",
    "\n",
    "import matplotlib.pyplot as plt\n",
    "import seaborn as sns\n",
    "import plotly\n",
    "\n",
    "import xgboost as xgb\n",
    "import lightgbm as lgb\n",
    "from sklearn.ensemble import GradientBoostingRegressor\n",
    "\n",
    "from sklearn.model_selection import train_test_split, RandomizedSearchCV, GridSearchCV, KFold, cross_val_score, cross_validate\n",
    "from sklearn.preprocessing import StandardScaler, MinMaxScaler, RobustScaler, PolynomialFeatures\n",
    "from sklearn.linear_model import LinearRegression, Lasso, LassoCV, Ridge, RidgeCV, ElasticNet, ElasticNetCV\n",
    "from sklearn.svm import SVR\n",
    "from sklearn.metrics import r2_score, mean_absolute_error, mean_squared_error\n",
    "\n",
    "import skopt\n",
    "from skopt.space import Real, Categorical, Integer\n",
    "\n",
    "import optuna\n",
    "from optuna.visualization import plot_intermediate_values\n",
    "\n",
    "import warnings\n",
    "warnings.filterwarnings('ignore')\n",
    "\n",
    "import time\n",
    "%matplotlib inline"
   ]
  },
  {
   "cell_type": "code",
   "execution_count": 29,
   "id": "292fbf9f",
   "metadata": {},
   "outputs": [],
   "source": [
    "optuna.logging.set_verbosity(optuna.logging.CRITICAL)"
   ]
  },
  {
   "cell_type": "code",
   "execution_count": null,
   "id": "3474aa64",
   "metadata": {},
   "outputs": [],
   "source": [
    "import multiprocessing\n",
    "\n",
    "cores = multiprocessing.cpu_count() # Count the number of cores in a computer\n",
    "cores"
   ]
  },
  {
   "cell_type": "code",
   "execution_count": 2,
   "id": "377e7458",
   "metadata": {},
   "outputs": [
    {
     "data": {
      "text/html": [
       "<div>\n",
       "<style scoped>\n",
       "    .dataframe tbody tr th:only-of-type {\n",
       "        vertical-align: middle;\n",
       "    }\n",
       "\n",
       "    .dataframe tbody tr th {\n",
       "        vertical-align: top;\n",
       "    }\n",
       "\n",
       "    .dataframe thead th {\n",
       "        text-align: right;\n",
       "    }\n",
       "</style>\n",
       "<table border=\"1\" class=\"dataframe\">\n",
       "  <thead>\n",
       "    <tr style=\"text-align: right;\">\n",
       "      <th></th>\n",
       "      <th>MSSubClass</th>\n",
       "      <th>MSZoning</th>\n",
       "      <th>Street</th>\n",
       "      <th>LotShape</th>\n",
       "      <th>LandContour</th>\n",
       "      <th>LotConfig</th>\n",
       "      <th>LandSlope</th>\n",
       "      <th>Neighborhood</th>\n",
       "      <th>Condition1</th>\n",
       "      <th>Condition2</th>\n",
       "      <th>...</th>\n",
       "      <th>3SsnPorch_cat</th>\n",
       "      <th>ScreenPorch_cat</th>\n",
       "      <th>MiscVal_cat</th>\n",
       "      <th>PoolArea_cat</th>\n",
       "      <th>1stFlrSF_log</th>\n",
       "      <th>AverageRoomSF_log</th>\n",
       "      <th>GrLivArea_log</th>\n",
       "      <th>LotArea_log</th>\n",
       "      <th>SalePrice_log</th>\n",
       "      <th>totSqFt_log</th>\n",
       "    </tr>\n",
       "    <tr>\n",
       "      <th>Id</th>\n",
       "      <th></th>\n",
       "      <th></th>\n",
       "      <th></th>\n",
       "      <th></th>\n",
       "      <th></th>\n",
       "      <th></th>\n",
       "      <th></th>\n",
       "      <th></th>\n",
       "      <th></th>\n",
       "      <th></th>\n",
       "      <th></th>\n",
       "      <th></th>\n",
       "      <th></th>\n",
       "      <th></th>\n",
       "      <th></th>\n",
       "      <th></th>\n",
       "      <th></th>\n",
       "      <th></th>\n",
       "      <th></th>\n",
       "      <th></th>\n",
       "      <th></th>\n",
       "    </tr>\n",
       "  </thead>\n",
       "  <tbody>\n",
       "    <tr>\n",
       "      <th>1</th>\n",
       "      <td>60</td>\n",
       "      <td>RL</td>\n",
       "      <td>Pave</td>\n",
       "      <td>3.0</td>\n",
       "      <td>Lvl</td>\n",
       "      <td>Inside</td>\n",
       "      <td>0.0</td>\n",
       "      <td>CollgCr</td>\n",
       "      <td>Norm</td>\n",
       "      <td>Norm</td>\n",
       "      <td>...</td>\n",
       "      <td>0</td>\n",
       "      <td>0</td>\n",
       "      <td>0</td>\n",
       "      <td>0</td>\n",
       "      <td>6.752270</td>\n",
       "      <td>5.364807</td>\n",
       "      <td>7.444249</td>\n",
       "      <td>9.041922</td>\n",
       "      <td>12.247694</td>\n",
       "      <td>8.360773</td>\n",
       "    </tr>\n",
       "    <tr>\n",
       "      <th>2</th>\n",
       "      <td>20</td>\n",
       "      <td>RL</td>\n",
       "      <td>Pave</td>\n",
       "      <td>3.0</td>\n",
       "      <td>Lvl</td>\n",
       "      <td>FR2</td>\n",
       "      <td>0.0</td>\n",
       "      <td>Veenker</td>\n",
       "      <td>Feedr</td>\n",
       "      <td>Norm</td>\n",
       "      <td>...</td>\n",
       "      <td>0</td>\n",
       "      <td>0</td>\n",
       "      <td>0</td>\n",
       "      <td>0</td>\n",
       "      <td>7.140453</td>\n",
       "      <td>5.348694</td>\n",
       "      <td>7.140453</td>\n",
       "      <td>9.169518</td>\n",
       "      <td>12.109011</td>\n",
       "      <td>8.239065</td>\n",
       "    </tr>\n",
       "    <tr>\n",
       "      <th>3</th>\n",
       "      <td>60</td>\n",
       "      <td>RL</td>\n",
       "      <td>Pave</td>\n",
       "      <td>2.0</td>\n",
       "      <td>Lvl</td>\n",
       "      <td>Inside</td>\n",
       "      <td>0.0</td>\n",
       "      <td>CollgCr</td>\n",
       "      <td>Norm</td>\n",
       "      <td>Norm</td>\n",
       "      <td>...</td>\n",
       "      <td>0</td>\n",
       "      <td>0</td>\n",
       "      <td>0</td>\n",
       "      <td>0</td>\n",
       "      <td>6.824374</td>\n",
       "      <td>5.695974</td>\n",
       "      <td>7.487734</td>\n",
       "      <td>9.328123</td>\n",
       "      <td>12.317167</td>\n",
       "      <td>8.410053</td>\n",
       "    </tr>\n",
       "    <tr>\n",
       "      <th>4</th>\n",
       "      <td>70</td>\n",
       "      <td>RL</td>\n",
       "      <td>Pave</td>\n",
       "      <td>2.0</td>\n",
       "      <td>Lvl</td>\n",
       "      <td>Corner</td>\n",
       "      <td>0.0</td>\n",
       "      <td>Crawfor</td>\n",
       "      <td>Norm</td>\n",
       "      <td>Norm</td>\n",
       "      <td>...</td>\n",
       "      <td>0</td>\n",
       "      <td>0</td>\n",
       "      <td>0</td>\n",
       "      <td>0</td>\n",
       "      <td>6.867974</td>\n",
       "      <td>5.502424</td>\n",
       "      <td>7.448334</td>\n",
       "      <td>9.164296</td>\n",
       "      <td>11.849398</td>\n",
       "      <td>8.340456</td>\n",
       "    </tr>\n",
       "    <tr>\n",
       "      <th>5</th>\n",
       "      <td>60</td>\n",
       "      <td>RL</td>\n",
       "      <td>Pave</td>\n",
       "      <td>2.0</td>\n",
       "      <td>Lvl</td>\n",
       "      <td>FR2</td>\n",
       "      <td>0.0</td>\n",
       "      <td>NoRidge</td>\n",
       "      <td>Norm</td>\n",
       "      <td>Norm</td>\n",
       "      <td>...</td>\n",
       "      <td>0</td>\n",
       "      <td>0</td>\n",
       "      <td>0</td>\n",
       "      <td>0</td>\n",
       "      <td>7.043160</td>\n",
       "      <td>5.498079</td>\n",
       "      <td>7.695303</td>\n",
       "      <td>9.565214</td>\n",
       "      <td>12.429216</td>\n",
       "      <td>8.619930</td>\n",
       "    </tr>\n",
       "    <tr>\n",
       "      <th>...</th>\n",
       "      <td>...</td>\n",
       "      <td>...</td>\n",
       "      <td>...</td>\n",
       "      <td>...</td>\n",
       "      <td>...</td>\n",
       "      <td>...</td>\n",
       "      <td>...</td>\n",
       "      <td>...</td>\n",
       "      <td>...</td>\n",
       "      <td>...</td>\n",
       "      <td>...</td>\n",
       "      <td>...</td>\n",
       "      <td>...</td>\n",
       "      <td>...</td>\n",
       "      <td>...</td>\n",
       "      <td>...</td>\n",
       "      <td>...</td>\n",
       "      <td>...</td>\n",
       "      <td>...</td>\n",
       "      <td>...</td>\n",
       "      <td>...</td>\n",
       "    </tr>\n",
       "    <tr>\n",
       "      <th>1455</th>\n",
       "      <td>20</td>\n",
       "      <td>FV</td>\n",
       "      <td>Pave</td>\n",
       "      <td>3.0</td>\n",
       "      <td>Lvl</td>\n",
       "      <td>Inside</td>\n",
       "      <td>0.0</td>\n",
       "      <td>Somerst</td>\n",
       "      <td>Norm</td>\n",
       "      <td>Norm</td>\n",
       "      <td>...</td>\n",
       "      <td>0</td>\n",
       "      <td>0</td>\n",
       "      <td>0</td>\n",
       "      <td>0</td>\n",
       "      <td>7.107425</td>\n",
       "      <td>5.315666</td>\n",
       "      <td>7.107425</td>\n",
       "      <td>8.922658</td>\n",
       "      <td>12.128111</td>\n",
       "      <td>8.206038</td>\n",
       "    </tr>\n",
       "    <tr>\n",
       "      <th>1456</th>\n",
       "      <td>60</td>\n",
       "      <td>RL</td>\n",
       "      <td>Pave</td>\n",
       "      <td>3.0</td>\n",
       "      <td>Lvl</td>\n",
       "      <td>Inside</td>\n",
       "      <td>0.0</td>\n",
       "      <td>Gilbert</td>\n",
       "      <td>Norm</td>\n",
       "      <td>Norm</td>\n",
       "      <td>...</td>\n",
       "      <td>0</td>\n",
       "      <td>0</td>\n",
       "      <td>0</td>\n",
       "      <td>0</td>\n",
       "      <td>6.859615</td>\n",
       "      <td>5.460801</td>\n",
       "      <td>7.406711</td>\n",
       "      <td>8.976768</td>\n",
       "      <td>12.072541</td>\n",
       "      <td>8.353968</td>\n",
       "    </tr>\n",
       "    <tr>\n",
       "      <th>1457</th>\n",
       "      <td>20</td>\n",
       "      <td>RL</td>\n",
       "      <td>Pave</td>\n",
       "      <td>3.0</td>\n",
       "      <td>Lvl</td>\n",
       "      <td>Inside</td>\n",
       "      <td>0.0</td>\n",
       "      <td>NWAmes</td>\n",
       "      <td>Norm</td>\n",
       "      <td>Norm</td>\n",
       "      <td>...</td>\n",
       "      <td>0</td>\n",
       "      <td>0</td>\n",
       "      <td>0</td>\n",
       "      <td>0</td>\n",
       "      <td>7.636752</td>\n",
       "      <td>5.690842</td>\n",
       "      <td>7.636752</td>\n",
       "      <td>9.486076</td>\n",
       "      <td>12.254863</td>\n",
       "      <td>8.646114</td>\n",
       "    </tr>\n",
       "    <tr>\n",
       "      <th>1458</th>\n",
       "      <td>70</td>\n",
       "      <td>RL</td>\n",
       "      <td>Pave</td>\n",
       "      <td>3.0</td>\n",
       "      <td>Lvl</td>\n",
       "      <td>Inside</td>\n",
       "      <td>0.0</td>\n",
       "      <td>Crawfor</td>\n",
       "      <td>Norm</td>\n",
       "      <td>Norm</td>\n",
       "      <td>...</td>\n",
       "      <td>0</td>\n",
       "      <td>0</td>\n",
       "      <td>1</td>\n",
       "      <td>0</td>\n",
       "      <td>7.080026</td>\n",
       "      <td>5.560682</td>\n",
       "      <td>7.757906</td>\n",
       "      <td>9.109636</td>\n",
       "      <td>12.493130</td>\n",
       "      <td>8.671115</td>\n",
       "    </tr>\n",
       "    <tr>\n",
       "      <th>1459</th>\n",
       "      <td>20</td>\n",
       "      <td>RL</td>\n",
       "      <td>Pave</td>\n",
       "      <td>3.0</td>\n",
       "      <td>Lvl</td>\n",
       "      <td>Inside</td>\n",
       "      <td>0.0</td>\n",
       "      <td>NAmes</td>\n",
       "      <td>Norm</td>\n",
       "      <td>Norm</td>\n",
       "      <td>...</td>\n",
       "      <td>0</td>\n",
       "      <td>0</td>\n",
       "      <td>0</td>\n",
       "      <td>0</td>\n",
       "      <td>6.982863</td>\n",
       "      <td>5.373425</td>\n",
       "      <td>6.982863</td>\n",
       "      <td>9.181632</td>\n",
       "      <td>11.864462</td>\n",
       "      <td>8.081475</td>\n",
       "    </tr>\n",
       "  </tbody>\n",
       "</table>\n",
       "<p>1252 rows × 87 columns</p>\n",
       "</div>"
      ],
      "text/plain": [
       "      MSSubClass MSZoning Street  LotShape LandContour LotConfig  LandSlope  \\\n",
       "Id                                                                            \n",
       "1             60       RL   Pave       3.0         Lvl    Inside        0.0   \n",
       "2             20       RL   Pave       3.0         Lvl       FR2        0.0   \n",
       "3             60       RL   Pave       2.0         Lvl    Inside        0.0   \n",
       "4             70       RL   Pave       2.0         Lvl    Corner        0.0   \n",
       "5             60       RL   Pave       2.0         Lvl       FR2        0.0   \n",
       "...          ...      ...    ...       ...         ...       ...        ...   \n",
       "1455          20       FV   Pave       3.0         Lvl    Inside        0.0   \n",
       "1456          60       RL   Pave       3.0         Lvl    Inside        0.0   \n",
       "1457          20       RL   Pave       3.0         Lvl    Inside        0.0   \n",
       "1458          70       RL   Pave       3.0         Lvl    Inside        0.0   \n",
       "1459          20       RL   Pave       3.0         Lvl    Inside        0.0   \n",
       "\n",
       "     Neighborhood Condition1 Condition2  ... 3SsnPorch_cat ScreenPorch_cat  \\\n",
       "Id                                       ...                                 \n",
       "1         CollgCr       Norm       Norm  ...             0               0   \n",
       "2         Veenker      Feedr       Norm  ...             0               0   \n",
       "3         CollgCr       Norm       Norm  ...             0               0   \n",
       "4         Crawfor       Norm       Norm  ...             0               0   \n",
       "5         NoRidge       Norm       Norm  ...             0               0   \n",
       "...           ...        ...        ...  ...           ...             ...   \n",
       "1455      Somerst       Norm       Norm  ...             0               0   \n",
       "1456      Gilbert       Norm       Norm  ...             0               0   \n",
       "1457       NWAmes       Norm       Norm  ...             0               0   \n",
       "1458      Crawfor       Norm       Norm  ...             0               0   \n",
       "1459        NAmes       Norm       Norm  ...             0               0   \n",
       "\n",
       "      MiscVal_cat  PoolArea_cat  1stFlrSF_log  AverageRoomSF_log  \\\n",
       "Id                                                                 \n",
       "1               0             0      6.752270           5.364807   \n",
       "2               0             0      7.140453           5.348694   \n",
       "3               0             0      6.824374           5.695974   \n",
       "4               0             0      6.867974           5.502424   \n",
       "5               0             0      7.043160           5.498079   \n",
       "...           ...           ...           ...                ...   \n",
       "1455            0             0      7.107425           5.315666   \n",
       "1456            0             0      6.859615           5.460801   \n",
       "1457            0             0      7.636752           5.690842   \n",
       "1458            1             0      7.080026           5.560682   \n",
       "1459            0             0      6.982863           5.373425   \n",
       "\n",
       "     GrLivArea_log LotArea_log SalePrice_log totSqFt_log  \n",
       "Id                                                        \n",
       "1         7.444249    9.041922     12.247694    8.360773  \n",
       "2         7.140453    9.169518     12.109011    8.239065  \n",
       "3         7.487734    9.328123     12.317167    8.410053  \n",
       "4         7.448334    9.164296     11.849398    8.340456  \n",
       "5         7.695303    9.565214     12.429216    8.619930  \n",
       "...            ...         ...           ...         ...  \n",
       "1455      7.107425    8.922658     12.128111    8.206038  \n",
       "1456      7.406711    8.976768     12.072541    8.353968  \n",
       "1457      7.636752    9.486076     12.254863    8.646114  \n",
       "1458      7.757906    9.109636     12.493130    8.671115  \n",
       "1459      6.982863    9.181632     11.864462    8.081475  \n",
       "\n",
       "[1252 rows x 87 columns]"
      ]
     },
     "execution_count": 2,
     "metadata": {},
     "output_type": "execute_result"
    }
   ],
   "source": [
    "df_ = pd.read_csv('./data/train_df_step1.csv', index_col='Id')\n",
    "df_t_= pd.read_csv('./data/test_df_step1.csv', index_col='Id')\n",
    "df_"
   ]
  },
  {
   "cell_type": "code",
   "execution_count": 3,
   "id": "ec79f813",
   "metadata": {},
   "outputs": [],
   "source": [
    "nominal = ['MSZoning', 'LandContour', 'LotConfig', 'Neighborhood',\n",
    "       'Condition1', 'Condition2', 'BldgType', 'HouseStyle', 'RoofStyle',\n",
    "       'RoofMatl', 'Exterior1st', 'Exterior2nd', 'MasVnrType',\n",
    "       'Foundation', 'Heating', 'Electrical', 'Functional',\n",
    "       'GarageType', 'SaleType', 'SaleCondition',\n",
    "       'Street', 'CentralAir', 'RenovatedY/N', '2ndFloorY/N', 'PorchY/N',\n",
    "       'BsmtFinSF2_cat', 'LowQualFinSF_cat', 'EnclosedPorch_cat',\n",
    "       '3SsnPorch_cat', 'ScreenPorch_cat', 'MiscVal_cat', 'PoolArea_cat']\n",
    "\n",
    "ordinal = ['MSSubClass', 'LotShape', 'LandSlope', 'OverallQual',\n",
    "       'OverallCond', 'ExterQual', 'ExterCond', 'BsmtQual', 'BsmtCond',\n",
    "       'BsmtExposure', 'BsmtFinType1', 'BsmtFinType2', 'HeatingQC',\n",
    "       'BsmtFullBath', 'BsmtHalfBath', 'FullBath', 'HalfBath',\n",
    "       'BedroomAbvGr', 'KitchenAbvGr', 'KitchenQual', 'TotRmsAbvGrd',\n",
    "       'Fireplaces', 'GarageFinish', 'GarageCars', 'GarageQual',\n",
    "       'GarageCond', 'PavedDrive', 'YearBuilt', 'YearRemodAdd',\n",
    "       'GarageYrBlt', 'YrSold', 'AgeWhenSold', 'totBath', 'OtherRooms']\n",
    "\n",
    "continuous = ['2ndFlrSF', 'BsmtFinSF', 'BsmtFinSF1', 'BsmtUnfSF', 'GarageArea',\n",
    "       'GarageSpaceForCar', 'MasVnrArea', 'MoSold_cos', 'MoSold_sin',\n",
    "       'OpenPorchSF', 'TotalBsmtFinSF', 'TotalBsmtSF', 'TotalPorchSF',\n",
    "       'WoodDeckOpenPorch', 'WoodDeckSF', '1stFlrSF_log',\n",
    "       'AverageRoomSF_log', 'GrLivArea_log', 'LotArea_log',\n",
    "       'SalePrice_log', 'totSqFt_log']"
   ]
  },
  {
   "cell_type": "code",
   "execution_count": null,
   "id": "c51b8c77",
   "metadata": {},
   "outputs": [],
   "source": []
  },
  {
   "cell_type": "code",
   "execution_count": null,
   "id": "d55c96ad",
   "metadata": {},
   "outputs": [],
   "source": []
  },
  {
   "cell_type": "code",
   "execution_count": null,
   "id": "0ffb2cff",
   "metadata": {},
   "outputs": [],
   "source": []
  },
  {
   "cell_type": "markdown",
   "id": "4506535b",
   "metadata": {},
   "source": [
    "## Standartization"
   ]
  },
  {
   "cell_type": "code",
   "execution_count": 151,
   "id": "715264fa",
   "metadata": {},
   "outputs": [],
   "source": [
    "def standartize(df, columns):\n",
    "    st_df = df.copy()\n",
    "    \n",
    "#     scaler = StandardScaler()\n",
    "    scaler = RobustScaler()\n",
    "    \n",
    "    st_df[columns] = scaler.fit_transform(df[columns])\n",
    "    print(df.shape, st_df.shape)\n",
    "    \n",
    "    return st_df"
   ]
  },
  {
   "cell_type": "code",
   "execution_count": 152,
   "id": "ba4731aa",
   "metadata": {},
   "outputs": [
    {
     "name": "stdout",
     "output_type": "stream",
     "text": [
      "(1252, 87) (1252, 87)\n",
      "(1459, 86) (1459, 86)\n"
     ]
    }
   ],
   "source": [
    "st_train_df = standartize(df_, ordinal + continuous)\n",
    "\n",
    "arr_to_standartize_test = ordinal + continuous\n",
    "arr_to_standartize_test.remove('SalePrice_log')\n",
    "st_test_df = standartize(df_t_, arr_to_standartize_test)"
   ]
  },
  {
   "cell_type": "code",
   "execution_count": null,
   "id": "fdb8337d",
   "metadata": {},
   "outputs": [],
   "source": []
  },
  {
   "cell_type": "markdown",
   "id": "58cc5210",
   "metadata": {},
   "source": [
    "## OHE"
   ]
  },
  {
   "cell_type": "code",
   "execution_count": 153,
   "id": "550f2a1a",
   "metadata": {},
   "outputs": [],
   "source": [
    "def one_hot_enc(train_df, test_df, columns):\n",
    "    train_df['Status'] = 'Train'\n",
    "    test_df['Status'] = 'Test'\n",
    "    \n",
    "    app_df = train_df.append(test_df)\n",
    "    \n",
    "    merded_app_df = pd.concat([pd.get_dummies(app_df[columns], drop_first=True), \n",
    "                           app_df.loc[:, app_df.columns[~app_df.columns.isin(columns)]]], axis=1)\n",
    "    \n",
    "    train_df_enc = merded_app_df.loc[merded_app_df['Status'] == 'Train']\n",
    "    train_df_enc.drop('Status', axis=1, inplace=True)\n",
    "\n",
    "    test_df_enc = merded_app_df.loc[merded_app_df['Status'] == 'Test']\n",
    "    test_df_enc.drop(['Status', 'SalePrice_log'], axis=1, inplace=True)\n",
    "\n",
    "\n",
    "    print(train_df_enc.shape, test_df_enc.shape)\n",
    "    \n",
    "    return train_df_enc, test_df_enc"
   ]
  },
  {
   "cell_type": "code",
   "execution_count": 154,
   "id": "30f4a946",
   "metadata": {},
   "outputs": [
    {
     "name": "stdout",
     "output_type": "stream",
     "text": [
      "(1252, 207) (1459, 206)\n"
     ]
    }
   ],
   "source": [
    "train_df, test_df = one_hot_enc(st_train_df, st_test_df, nominal)"
   ]
  },
  {
   "cell_type": "code",
   "execution_count": 155,
   "id": "263cc902",
   "metadata": {},
   "outputs": [],
   "source": [
    "# len(ordinal + continuous), len(train_df.columns[~train_df.columns.isin(nominal)]) - 1 # minus Status"
   ]
  },
  {
   "cell_type": "code",
   "execution_count": null,
   "id": "da0c3283",
   "metadata": {},
   "outputs": [],
   "source": []
  },
  {
   "cell_type": "code",
   "execution_count": null,
   "id": "3a04401f",
   "metadata": {},
   "outputs": [],
   "source": []
  },
  {
   "cell_type": "code",
   "execution_count": null,
   "id": "97d9e059",
   "metadata": {},
   "outputs": [],
   "source": []
  },
  {
   "cell_type": "markdown",
   "id": "b5aa7969",
   "metadata": {},
   "source": [
    "## Drop highly correlated features (from initial df)"
   ]
  },
  {
   "cell_type": "code",
   "execution_count": 156,
   "id": "51551e4f",
   "metadata": {},
   "outputs": [],
   "source": [
    "serial_corr_cols_to_drop = ['YrSold', 'YearBuilt', 'TotalBsmtSF', 'GrLivArea_log', 'BsmtFinSF2_cat',\n",
    "        '1stFlrSF_log', '2ndFlrSF', 'BsmtFullBath', 'BsmtHalfBath', 'FullBath', 'HalfBath',\n",
    "        'BsmtFinSF1', 'BsmtFinSF2_cat', 'BsmtFinSF', 'TotRmsAbvGrd', 'BedroomAbvGr', 'KitchenAbvGr',\n",
    "        'TotRmsAbvGrd', 'GarageArea', 'GarageCars', 'WoodDeckSF', 'OpenPorchSF', 'EnclosedPorch_cat',\n",
    "        '3SsnPorch_cat', 'PoolArea_cat', 'RoofStyle', 'RoofMatl', 'Condition2', 'BsmtFinType1', 'LandSlope', 'Exterior2nd']"
   ]
  },
  {
   "cell_type": "code",
   "execution_count": 157,
   "id": "aa95202e",
   "metadata": {},
   "outputs": [],
   "source": [
    "train_df1 = df_.copy()\n",
    "test_df1 = df_t_.copy()\n",
    "\n",
    "\n",
    "train_df1.drop(serial_corr_cols_to_drop, axis=1, inplace=True)\n",
    "test_df1.drop(serial_corr_cols_to_drop, axis=1, inplace=True)\n",
    "\n",
    "nominal1 = list(set(nominal) - set(serial_corr_cols_to_drop))\n",
    "ordinal1 = list(set(ordinal) - set(serial_corr_cols_to_drop))\n",
    "continuous1 = list(set(continuous) - set(serial_corr_cols_to_drop))\n"
   ]
  },
  {
   "cell_type": "code",
   "execution_count": 158,
   "id": "5d338eff",
   "metadata": {},
   "outputs": [
    {
     "name": "stdout",
     "output_type": "stream",
     "text": [
      "(1252, 58) (1252, 58)\n",
      "(1459, 57) (1459, 57)\n"
     ]
    }
   ],
   "source": [
    "st_train_df1 = standartize(train_df1, ordinal1 + continuous1)\n",
    "\n",
    "arr_to_standartize_test1 = ordinal1 + continuous1\n",
    "arr_to_standartize_test1.remove('SalePrice_log')\n",
    "st_test_df1 = standartize(test_df1, arr_to_standartize_test1)"
   ]
  },
  {
   "cell_type": "code",
   "execution_count": 159,
   "id": "7ca663d9",
   "metadata": {},
   "outputs": [
    {
     "name": "stdout",
     "output_type": "stream",
     "text": [
      "(1252, 151) (1459, 150)\n"
     ]
    }
   ],
   "source": [
    "train_df1, test_df1 = one_hot_enc(st_train_df1, st_test_df1, nominal1)"
   ]
  },
  {
   "cell_type": "code",
   "execution_count": null,
   "id": "03aa18eb",
   "metadata": {},
   "outputs": [],
   "source": []
  },
  {
   "cell_type": "markdown",
   "id": "5b87806d",
   "metadata": {},
   "source": [
    "## Modelling"
   ]
  },
  {
   "cell_type": "code",
   "execution_count": 160,
   "id": "5c2dda9d",
   "metadata": {},
   "outputs": [],
   "source": [
    "X = train_df.drop('SalePrice_log', axis=1)\n",
    "y = train_df['SalePrice_log']\n",
    "x_train, x_test, y_train, y_test = train_test_split(X, y, random_state=42, shuffle=True, test_size=0.2)\n",
    "\n",
    "X1 = train_df1.drop('SalePrice_log', axis=1)\n",
    "y1 = train_df1['SalePrice_log']\n",
    "x_train1, x_test1, y_train1, y_test1 = train_test_split(X1, y1, random_state=42, shuffle=True, test_size=0.2)\n",
    "\n",
    "kfolds = KFold(n_splits=6, shuffle=True, random_state=42)\n",
    "\n",
    "def rmse(y, y_pred):\n",
    "    return np.sqrt(mean_squared_error(y, y_pred))\n",
    "\n",
    "def cv_rmse(model, X, y, kfolds=kfolds):\n",
    "    rmse = np.sqrt(-cross_val_score(model, X, y, scoring=\"neg_mean_squared_error\", cv=kfolds))\n",
    "    mae = -cross_val_score(model, X, y, scoring=\"neg_mean_absolute_error\", cv=kfolds)\n",
    "    r2 = cross_val_score(model, X, y, scoring=\"r2\", cv=kfolds)\n",
    "    return rmse, mae, r2\n",
    "\n",
    "def display_cv_scores(rmse_, mae_, r2_):\n",
    "    print(f'RMSE CV: {rmse_}  Mean RMSE: {round(rmse_.mean(),7)} Std RMSE: {round(rmse_.std(),7)}')\n",
    "    print(f'MAE CV: {mae_}  Mean MAE: {round(mae_.mean(),7)} Std MAE: {round(mae_.std(),7)}')\n",
    "    print(f'R2 CV: {r2_}  Mean R2: {round(r2_.mean(),7)} Std R2: {round(r2_.std(),7)}')"
   ]
  },
  {
   "cell_type": "code",
   "execution_count": null,
   "id": "0acc7823",
   "metadata": {},
   "outputs": [],
   "source": []
  },
  {
   "cell_type": "markdown",
   "id": "87e772c0",
   "metadata": {},
   "source": [
    "### Lasso L1"
   ]
  },
  {
   "cell_type": "code",
   "execution_count": 161,
   "id": "888c5e72",
   "metadata": {},
   "outputs": [
    {
     "name": "stdout",
     "output_type": "stream",
     "text": [
      "R2:  0.9268642767973666 ;    Chosen alpha:  0.00115\n"
     ]
    }
   ],
   "source": [
    "alpha_l1 = np.arange(0, 0.002, 0.00005)\n",
    "\n",
    "lasso_reg_cv = LassoCV(alphas=alpha_l1, cv=kfolds).fit(X, y)\n",
    "print('R2: ', lasso_reg_cv.score(X, y), ';    Chosen alpha: ', lasso_reg_cv.alpha_)"
   ]
  },
  {
   "cell_type": "code",
   "execution_count": 162,
   "id": "77f99f05",
   "metadata": {},
   "outputs": [
    {
     "data": {
      "text/plain": [
       "0.00115"
      ]
     },
     "execution_count": 162,
     "metadata": {},
     "output_type": "execute_result"
    }
   ],
   "source": [
    "alpha_l1_ = lasso_reg_cv.alpha_\n",
    "alpha_l1_"
   ]
  },
  {
   "cell_type": "code",
   "execution_count": 163,
   "id": "9e19b3e3",
   "metadata": {},
   "outputs": [
    {
     "name": "stdout",
     "output_type": "stream",
     "text": [
      "R2:  0.9268642767973666\n"
     ]
    }
   ],
   "source": [
    "lasso_reg = Lasso(alpha=alpha_l1_).fit(X, y)\n",
    "print('R2: ', lasso_reg.score(X, y))"
   ]
  },
  {
   "cell_type": "code",
   "execution_count": 164,
   "id": "e210ef42",
   "metadata": {},
   "outputs": [
    {
     "name": "stdout",
     "output_type": "stream",
     "text": [
      "RMSE CV: [0.22309215 0.21390941 0.23866922 0.23974798 0.24225415 0.23524343]  Mean RMSE: 0.2321527 Std RMSE: 0.0102197\n",
      "MAE CV: [0.15261447 0.16116278 0.16105471 0.16232103 0.17403023 0.1600545 ]  Mean MAE: 0.161873 Std MAE: 0.0063008\n",
      "R2 CV: [0.90740637 0.93284684 0.90376051 0.9033491  0.90890813 0.90325035]  Mean R2: 0.9099202 Std R2: 0.0104768\n"
     ]
    }
   ],
   "source": [
    "rmse_l1, mae_l1, r2_l1 = cv_rmse(lasso_reg, X, y)\n",
    "display_cv_scores(rmse_l1, mae_l1, r2_l1)"
   ]
  },
  {
   "cell_type": "code",
   "execution_count": null,
   "id": "0943187e",
   "metadata": {},
   "outputs": [],
   "source": []
  },
  {
   "cell_type": "code",
   "execution_count": null,
   "id": "c570a191",
   "metadata": {},
   "outputs": [],
   "source": []
  },
  {
   "cell_type": "markdown",
   "id": "4dbeef87",
   "metadata": {},
   "source": [
    "### Ridge L2"
   ]
  },
  {
   "cell_type": "code",
   "execution_count": 165,
   "id": "077e69b0",
   "metadata": {},
   "outputs": [
    {
     "name": "stdout",
     "output_type": "stream",
     "text": [
      "R2:  0.9284065911994145 ;    Chosen alpha:  21.264999999999947\n"
     ]
    }
   ],
   "source": [
    "alpha_l2 = np.arange(21, 22, 0.005)\n",
    "\n",
    "ridge_reg_cv = RidgeCV(alphas=alpha_l2, cv=kfolds).fit(X, y)\n",
    "print('R2: ', ridge_reg_cv.score(X, y), ';    Chosen alpha: ', ridge_reg_cv.alpha_)"
   ]
  },
  {
   "cell_type": "code",
   "execution_count": 166,
   "id": "5d4a4ae4",
   "metadata": {},
   "outputs": [
    {
     "data": {
      "text/plain": [
       "21.264999999999947"
      ]
     },
     "execution_count": 166,
     "metadata": {},
     "output_type": "execute_result"
    }
   ],
   "source": [
    "alpha_l2_ = ridge_reg_cv.alpha_\n",
    "alpha_l2_"
   ]
  },
  {
   "cell_type": "code",
   "execution_count": 167,
   "id": "abbac959",
   "metadata": {},
   "outputs": [
    {
     "name": "stdout",
     "output_type": "stream",
     "text": [
      "R2:  0.9284065911994145\n"
     ]
    }
   ],
   "source": [
    "ridge_reg = Ridge(alpha=alpha_l2_).fit(X, y)\n",
    "print('R2: ', ridge_reg.score(X, y))"
   ]
  },
  {
   "cell_type": "code",
   "execution_count": 168,
   "id": "5ed08983",
   "metadata": {},
   "outputs": [
    {
     "name": "stdout",
     "output_type": "stream",
     "text": [
      "RMSE CV: [0.22408249 0.21260436 0.2426084  0.24198196 0.23979638 0.23410171]  Mean RMSE: 0.2325292 Std RMSE: 0.0109131\n",
      "MAE CV: [0.15431668 0.16120822 0.16437643 0.16186778 0.17305958 0.15981245]  Mean MAE: 0.1624402 Std MAE: 0.005646\n",
      "R2 CV: [0.90658248 0.93366374 0.90055747 0.90153952 0.91074708 0.90418719]  Mean R2: 0.9095462 Std R2: 0.0112953\n"
     ]
    }
   ],
   "source": [
    "rmse_l2, mae_l2, r2_l2 = cv_rmse(ridge_reg, X, y)\n",
    "display_cv_scores(rmse_l2, mae_l2, r2_l2)"
   ]
  },
  {
   "cell_type": "code",
   "execution_count": null,
   "id": "996a0452",
   "metadata": {},
   "outputs": [],
   "source": []
  },
  {
   "cell_type": "code",
   "execution_count": null,
   "id": "688976c0",
   "metadata": {},
   "outputs": [],
   "source": []
  },
  {
   "cell_type": "markdown",
   "id": "ef1eef9a",
   "metadata": {},
   "source": [
    "### ElasticNet"
   ]
  },
  {
   "cell_type": "code",
   "execution_count": 22,
   "id": "e4a354d5",
   "metadata": {
    "scrolled": true
   },
   "outputs": [
    {
     "name": "stdout",
     "output_type": "stream",
     "text": [
      "R2:  0.9266204101159536 ;  Chosen alpha:  0.005539999999999998 ;  Chosen l1_ratio:  0.23639999999999983\n"
     ]
    }
   ],
   "source": [
    "elastic_alpha = np.arange(0.0055, 0.0058, 0.00001)\n",
    "l1_ratio = np.arange(0.235, 0.24, 0.0001)\n",
    "\n",
    "elnet_regr_cv = ElasticNetCV(l1_ratio=l1_ratio, alphas=elastic_alpha, cv=kfolds).fit(X, y)\n",
    "print('R2: ', elnet_regr_cv.score(X, y), ';  Chosen alpha: ', elnet_regr_cv.alpha_, ';  Chosen l1_ratio: ', elnet_regr_cv.l1_ratio_)"
   ]
  },
  {
   "cell_type": "code",
   "execution_count": 23,
   "id": "9226d9c2",
   "metadata": {},
   "outputs": [
    {
     "data": {
      "text/plain": [
       "(0.005539999999999998, 0.23639999999999983)"
      ]
     },
     "execution_count": 23,
     "metadata": {},
     "output_type": "execute_result"
    }
   ],
   "source": [
    "elastic_alpha_ =  elnet_regr_cv.alpha_\n",
    "l1_ratio_ = elnet_regr_cv.l1_ratio_\n",
    "elastic_alpha_, l1_ratio_"
   ]
  },
  {
   "cell_type": "code",
   "execution_count": 24,
   "id": "cd392770",
   "metadata": {},
   "outputs": [
    {
     "name": "stdout",
     "output_type": "stream",
     "text": [
      "R2:  0.9266204101159536\n"
     ]
    }
   ],
   "source": [
    "elnet_regr = ElasticNet(alpha = elastic_alpha_, l1_ratio=l1_ratio_).fit(X, y)\n",
    "print('R2: ', elnet_regr.score(X, y))"
   ]
  },
  {
   "cell_type": "code",
   "execution_count": 25,
   "id": "99b968e5",
   "metadata": {},
   "outputs": [
    {
     "name": "stdout",
     "output_type": "stream",
     "text": [
      "RMSE CV: [0.28550711 0.27432961 0.3070584  0.30689605 0.30880261 0.30016517]  Mean RMSE: 0.2971265 Std RMSE: 0.0128735\n",
      "MAE CV: [0.1960541  0.20620551 0.20548714 0.2075017  0.22198002 0.20624393]  Mean MAE: 0.2072454 Std MAE: 0.0076113\n",
      "R2 CV: [0.90773162 0.93280166 0.90308099 0.9036426  0.90994546 0.90416117]  Mean R2: 0.9102272 Std R2: 0.0103854\n"
     ]
    }
   ],
   "source": [
    "rmse_elnet, mae_elnet, r2_elnet = cv_rmse(elnet_regr, X, y)\n",
    "display_cv_scores(rmse_elnet, mae_elnet, r2_elnet)"
   ]
  },
  {
   "cell_type": "code",
   "execution_count": null,
   "id": "ffffe9db",
   "metadata": {},
   "outputs": [],
   "source": []
  },
  {
   "cell_type": "markdown",
   "id": "831bdefc",
   "metadata": {},
   "source": [
    "### Linear regression"
   ]
  },
  {
   "cell_type": "code",
   "execution_count": 21,
   "id": "f4864eec",
   "metadata": {
    "collapsed": true
   },
   "outputs": [
    {
     "data": {
      "text/plain": [
       "array([[ 1.00000000e+00,  1.00000000e+00,  1.00000000e+00, ...,\n",
       "         5.62228499e-02, -9.91845558e-02,  1.74974697e-01],\n",
       "       [ 1.00000000e+00,  0.00000000e+00,  0.00000000e+00, ...,\n",
       "         1.57423000e-02, -2.05683974e-03,  2.68740256e-04],\n",
       "       [ 1.00000000e+00,  1.00000000e+00,  1.00000000e+00, ...,\n",
       "         3.31965423e-01,  3.42419562e-01,  3.53202918e-01],\n",
       "       ...,\n",
       "       [ 1.00000000e+00,  0.00000000e+00,  0.00000000e+00, ...,\n",
       "         1.05064051e+00,  1.47337143e+00,  2.06619042e+00],\n",
       "       [ 1.00000000e+00,  1.00000000e+00,  1.00000000e+00, ...,\n",
       "         1.99772405e-03, -6.82381246e-02,  2.33087329e+00],\n",
       "       [ 1.00000000e+00,  0.00000000e+00,  1.00000000e+00, ...,\n",
       "         2.55652249e-02, -9.26160812e-02,  3.35523686e-01]])"
      ]
     },
     "execution_count": 21,
     "metadata": {},
     "output_type": "execute_result"
    }
   ],
   "source": [
    "poly_X1 = PolynomialFeatures(degree=2).fit_transform(X1)\n",
    "poly_X1"
   ]
  },
  {
   "cell_type": "code",
   "execution_count": 23,
   "id": "2198a4c2",
   "metadata": {},
   "outputs": [
    {
     "name": "stdout",
     "output_type": "stream",
     "text": [
      "R2:  1.0\n"
     ]
    }
   ],
   "source": [
    "lin_reg = LinearRegression().fit(poly_X1, y)\n",
    "print('R2: ', lin_reg.score(poly_X1, y))"
   ]
  },
  {
   "cell_type": "code",
   "execution_count": 25,
   "id": "db7febae",
   "metadata": {},
   "outputs": [
    {
     "name": "stdout",
     "output_type": "stream",
     "text": [
      "RMSE CV: [0.41389113 0.39656829 0.41442633 0.4515745  0.46870333 0.44896628]  Mean RMSE: 0.432355 Std RMSE: 0.0255263\n",
      "MAE CV: [0.30564413 0.3056311  0.30183558 0.33146583 0.34281171 0.32157556]  Mean MAE: 0.3181607 Std MAE: 0.0151466\n",
      "R2 CV: [0.80609399 0.85957347 0.82345245 0.79137743 0.79253742 0.78558837]  Mean R2: 0.8097705 Std R2: 0.0254987\n"
     ]
    }
   ],
   "source": [
    "rmse_linreg, mae_linreg, r2_linreg = cv_rmse(lin_reg, poly_X1, y)\n",
    "display_cv_scores(rmse_linreg, mae_linreg, r2_linreg)"
   ]
  },
  {
   "cell_type": "code",
   "execution_count": null,
   "id": "5a282ded",
   "metadata": {},
   "outputs": [],
   "source": []
  },
  {
   "cell_type": "markdown",
   "id": "490f11b4",
   "metadata": {},
   "source": [
    "### SVR"
   ]
  },
  {
   "cell_type": "code",
   "execution_count": 65,
   "id": "34586032",
   "metadata": {},
   "outputs": [
    {
     "data": {
      "text/plain": [
       "{'C': 1.0,\n",
       " 'cache_size': 200,\n",
       " 'coef0': 0.0,\n",
       " 'degree': 3,\n",
       " 'epsilon': 0.1,\n",
       " 'gamma': 'scale',\n",
       " 'kernel': 'rbf',\n",
       " 'max_iter': -1,\n",
       " 'shrinking': True,\n",
       " 'tol': 0.001,\n",
       " 'verbose': False}"
      ]
     },
     "execution_count": 65,
     "metadata": {},
     "output_type": "execute_result"
    }
   ],
   "source": [
    "SVR().get_params().keys()"
   ]
  },
  {
   "cell_type": "code",
   "execution_count": 14,
   "id": "a1e87620",
   "metadata": {
    "collapsed": true
   },
   "outputs": [
    {
     "name": "stdout",
     "output_type": "stream",
     "text": [
      "Fitting 6 folds for each of 48 candidates, totalling 288 fits\n",
      "[CV] END ........................C=0, gamma=0.01, kernel=rbf; total time=   0.0s\n",
      "[CV] END ........................C=0, gamma=0.01, kernel=rbf; total time=   0.0s\n",
      "[CV] END ........................C=0, gamma=0.01, kernel=rbf; total time=   0.0s\n",
      "[CV] END ........................C=0, gamma=0.01, kernel=rbf; total time=   0.0s\n",
      "[CV] END ........................C=0, gamma=0.01, kernel=rbf; total time=   0.0s\n",
      "[CV] END ........................C=0, gamma=0.01, kernel=rbf; total time=   0.0s\n",
      "[CV] END .......................C=0, gamma=0.001, kernel=rbf; total time=   0.0s\n",
      "[CV] END .......................C=0, gamma=0.001, kernel=rbf; total time=   0.0s\n",
      "[CV] END .......................C=0, gamma=0.001, kernel=rbf; total time=   0.0s\n",
      "[CV] END .......................C=0, gamma=0.001, kernel=rbf; total time=   0.0s\n",
      "[CV] END .......................C=0, gamma=0.001, kernel=rbf; total time=   0.0s\n",
      "[CV] END .......................C=0, gamma=0.001, kernel=rbf; total time=   0.0s\n",
      "[CV] END ......................C=0, gamma=0.0001, kernel=rbf; total time=   0.0s\n",
      "[CV] END ......................C=0, gamma=0.0001, kernel=rbf; total time=   0.0s\n",
      "[CV] END ......................C=0, gamma=0.0001, kernel=rbf; total time=   0.0s\n",
      "[CV] END ......................C=0, gamma=0.0001, kernel=rbf; total time=   0.0s\n",
      "[CV] END ......................C=0, gamma=0.0001, kernel=rbf; total time=   0.0s\n",
      "[CV] END ......................C=0, gamma=0.0001, kernel=rbf; total time=   0.0s\n",
      "[CV] END ........................C=2, gamma=0.01, kernel=rbf; total time=   0.3s\n",
      "[CV] END ........................C=2, gamma=0.01, kernel=rbf; total time=   0.3s\n",
      "[CV] END ........................C=2, gamma=0.01, kernel=rbf; total time=   0.4s\n",
      "[CV] END ........................C=2, gamma=0.01, kernel=rbf; total time=   0.4s\n",
      "[CV] END ........................C=2, gamma=0.01, kernel=rbf; total time=   0.3s\n",
      "[CV] END ........................C=2, gamma=0.01, kernel=rbf; total time=   0.3s\n",
      "[CV] END .......................C=2, gamma=0.001, kernel=rbf; total time=   0.3s\n",
      "[CV] END .......................C=2, gamma=0.001, kernel=rbf; total time=   0.3s\n",
      "[CV] END .......................C=2, gamma=0.001, kernel=rbf; total time=   0.3s\n",
      "[CV] END .......................C=2, gamma=0.001, kernel=rbf; total time=   0.3s\n",
      "[CV] END .......................C=2, gamma=0.001, kernel=rbf; total time=   0.3s\n",
      "[CV] END .......................C=2, gamma=0.001, kernel=rbf; total time=   0.3s\n",
      "[CV] END ......................C=2, gamma=0.0001, kernel=rbf; total time=   0.3s\n",
      "[CV] END ......................C=2, gamma=0.0001, kernel=rbf; total time=   0.3s\n",
      "[CV] END ......................C=2, gamma=0.0001, kernel=rbf; total time=   0.3s\n",
      "[CV] END ......................C=2, gamma=0.0001, kernel=rbf; total time=   0.3s\n",
      "[CV] END ......................C=2, gamma=0.0001, kernel=rbf; total time=   0.3s\n",
      "[CV] END ......................C=2, gamma=0.0001, kernel=rbf; total time=   0.3s\n",
      "[CV] END ........................C=4, gamma=0.01, kernel=rbf; total time=   0.3s\n",
      "[CV] END ........................C=4, gamma=0.01, kernel=rbf; total time=   0.3s\n",
      "[CV] END ........................C=4, gamma=0.01, kernel=rbf; total time=   0.3s\n",
      "[CV] END ........................C=4, gamma=0.01, kernel=rbf; total time=   0.4s\n",
      "[CV] END ........................C=4, gamma=0.01, kernel=rbf; total time=   0.4s\n",
      "[CV] END ........................C=4, gamma=0.01, kernel=rbf; total time=   0.3s\n",
      "[CV] END .......................C=4, gamma=0.001, kernel=rbf; total time=   0.3s\n",
      "[CV] END .......................C=4, gamma=0.001, kernel=rbf; total time=   0.3s\n",
      "[CV] END .......................C=4, gamma=0.001, kernel=rbf; total time=   0.3s\n",
      "[CV] END .......................C=4, gamma=0.001, kernel=rbf; total time=   0.3s\n",
      "[CV] END .......................C=4, gamma=0.001, kernel=rbf; total time=   0.3s\n",
      "[CV] END .......................C=4, gamma=0.001, kernel=rbf; total time=   0.3s\n",
      "[CV] END ......................C=4, gamma=0.0001, kernel=rbf; total time=   0.3s\n",
      "[CV] END ......................C=4, gamma=0.0001, kernel=rbf; total time=   0.3s\n",
      "[CV] END ......................C=4, gamma=0.0001, kernel=rbf; total time=   0.3s\n",
      "[CV] END ......................C=4, gamma=0.0001, kernel=rbf; total time=   0.3s\n",
      "[CV] END ......................C=4, gamma=0.0001, kernel=rbf; total time=   0.3s\n",
      "[CV] END ......................C=4, gamma=0.0001, kernel=rbf; total time=   0.3s\n",
      "[CV] END ........................C=6, gamma=0.01, kernel=rbf; total time=   0.3s\n",
      "[CV] END ........................C=6, gamma=0.01, kernel=rbf; total time=   0.3s\n",
      "[CV] END ........................C=6, gamma=0.01, kernel=rbf; total time=   0.4s\n",
      "[CV] END ........................C=6, gamma=0.01, kernel=rbf; total time=   0.3s\n",
      "[CV] END ........................C=6, gamma=0.01, kernel=rbf; total time=   0.3s\n",
      "[CV] END ........................C=6, gamma=0.01, kernel=rbf; total time=   0.4s\n",
      "[CV] END .......................C=6, gamma=0.001, kernel=rbf; total time=   0.3s\n",
      "[CV] END .......................C=6, gamma=0.001, kernel=rbf; total time=   0.3s\n",
      "[CV] END .......................C=6, gamma=0.001, kernel=rbf; total time=   0.3s\n",
      "[CV] END .......................C=6, gamma=0.001, kernel=rbf; total time=   0.3s\n",
      "[CV] END .......................C=6, gamma=0.001, kernel=rbf; total time=   0.3s\n",
      "[CV] END .......................C=6, gamma=0.001, kernel=rbf; total time=   0.3s\n",
      "[CV] END ......................C=6, gamma=0.0001, kernel=rbf; total time=   0.3s\n",
      "[CV] END ......................C=6, gamma=0.0001, kernel=rbf; total time=   0.3s\n",
      "[CV] END ......................C=6, gamma=0.0001, kernel=rbf; total time=   0.3s\n",
      "[CV] END ......................C=6, gamma=0.0001, kernel=rbf; total time=   0.3s\n",
      "[CV] END ......................C=6, gamma=0.0001, kernel=rbf; total time=   0.3s\n",
      "[CV] END ......................C=6, gamma=0.0001, kernel=rbf; total time=   0.3s\n",
      "[CV] END ........................C=8, gamma=0.01, kernel=rbf; total time=   0.3s\n",
      "[CV] END ........................C=8, gamma=0.01, kernel=rbf; total time=   0.4s\n",
      "[CV] END ........................C=8, gamma=0.01, kernel=rbf; total time=   0.4s\n",
      "[CV] END ........................C=8, gamma=0.01, kernel=rbf; total time=   0.3s\n",
      "[CV] END ........................C=8, gamma=0.01, kernel=rbf; total time=   0.3s\n",
      "[CV] END ........................C=8, gamma=0.01, kernel=rbf; total time=   0.4s\n",
      "[CV] END .......................C=8, gamma=0.001, kernel=rbf; total time=   0.3s\n",
      "[CV] END .......................C=8, gamma=0.001, kernel=rbf; total time=   0.3s\n",
      "[CV] END .......................C=8, gamma=0.001, kernel=rbf; total time=   0.3s\n",
      "[CV] END .......................C=8, gamma=0.001, kernel=rbf; total time=   0.3s\n",
      "[CV] END .......................C=8, gamma=0.001, kernel=rbf; total time=   0.3s\n",
      "[CV] END .......................C=8, gamma=0.001, kernel=rbf; total time=   0.3s\n",
      "[CV] END ......................C=8, gamma=0.0001, kernel=rbf; total time=   0.3s\n",
      "[CV] END ......................C=8, gamma=0.0001, kernel=rbf; total time=   0.3s\n",
      "[CV] END ......................C=8, gamma=0.0001, kernel=rbf; total time=   0.3s\n",
      "[CV] END ......................C=8, gamma=0.0001, kernel=rbf; total time=   0.3s\n",
      "[CV] END ......................C=8, gamma=0.0001, kernel=rbf; total time=   0.3s\n",
      "[CV] END ......................C=8, gamma=0.0001, kernel=rbf; total time=   0.3s\n",
      "[CV] END .......................C=10, gamma=0.01, kernel=rbf; total time=   0.4s\n",
      "[CV] END .......................C=10, gamma=0.01, kernel=rbf; total time=   0.4s\n",
      "[CV] END .......................C=10, gamma=0.01, kernel=rbf; total time=   0.4s\n",
      "[CV] END .......................C=10, gamma=0.01, kernel=rbf; total time=   0.3s\n",
      "[CV] END .......................C=10, gamma=0.01, kernel=rbf; total time=   0.3s\n",
      "[CV] END .......................C=10, gamma=0.01, kernel=rbf; total time=   0.3s\n",
      "[CV] END ......................C=10, gamma=0.001, kernel=rbf; total time=   0.3s\n",
      "[CV] END ......................C=10, gamma=0.001, kernel=rbf; total time=   0.3s\n",
      "[CV] END ......................C=10, gamma=0.001, kernel=rbf; total time=   0.3s\n",
      "[CV] END ......................C=10, gamma=0.001, kernel=rbf; total time=   0.3s\n",
      "[CV] END ......................C=10, gamma=0.001, kernel=rbf; total time=   0.3s\n"
     ]
    },
    {
     "name": "stdout",
     "output_type": "stream",
     "text": [
      "[CV] END ......................C=10, gamma=0.001, kernel=rbf; total time=   0.3s\n",
      "[CV] END .....................C=10, gamma=0.0001, kernel=rbf; total time=   0.3s\n",
      "[CV] END .....................C=10, gamma=0.0001, kernel=rbf; total time=   0.3s\n",
      "[CV] END .....................C=10, gamma=0.0001, kernel=rbf; total time=   0.3s\n",
      "[CV] END .....................C=10, gamma=0.0001, kernel=rbf; total time=   0.3s\n",
      "[CV] END .....................C=10, gamma=0.0001, kernel=rbf; total time=   0.3s\n",
      "[CV] END .....................C=10, gamma=0.0001, kernel=rbf; total time=   0.3s\n",
      "[CV] END .................................C=0, kernel=linear; total time=   0.0s\n",
      "[CV] END .................................C=0, kernel=linear; total time=   0.0s\n",
      "[CV] END .................................C=0, kernel=linear; total time=   0.0s\n",
      "[CV] END .................................C=0, kernel=linear; total time=   0.0s\n",
      "[CV] END .................................C=0, kernel=linear; total time=   0.0s\n",
      "[CV] END .................................C=0, kernel=linear; total time=   0.0s\n",
      "[CV] END .................................C=2, kernel=linear; total time=   9.0s\n",
      "[CV] END .................................C=2, kernel=linear; total time=   6.6s\n",
      "[CV] END .................................C=2, kernel=linear; total time=   7.8s\n",
      "[CV] END .................................C=2, kernel=linear; total time=   7.6s\n",
      "[CV] END .................................C=2, kernel=linear; total time=   7.2s\n",
      "[CV] END .................................C=2, kernel=linear; total time=   8.8s\n",
      "[CV] END .................................C=4, kernel=linear; total time=  20.2s\n",
      "[CV] END .................................C=4, kernel=linear; total time=  11.1s\n",
      "[CV] END .................................C=4, kernel=linear; total time=  17.0s\n",
      "[CV] END .................................C=4, kernel=linear; total time=  14.2s\n",
      "[CV] END .................................C=4, kernel=linear; total time=  16.0s\n",
      "[CV] END .................................C=4, kernel=linear; total time=  13.6s\n",
      "[CV] END .................................C=6, kernel=linear; total time=  33.3s\n",
      "[CV] END .................................C=6, kernel=linear; total time=  22.1s\n",
      "[CV] END .................................C=6, kernel=linear; total time=  25.3s\n",
      "[CV] END .................................C=6, kernel=linear; total time=  28.0s\n",
      "[CV] END .................................C=6, kernel=linear; total time=  27.9s\n",
      "[CV] END .................................C=6, kernel=linear; total time=  30.2s\n",
      "[CV] END .................................C=8, kernel=linear; total time=  40.1s\n",
      "[CV] END .................................C=8, kernel=linear; total time=  31.6s\n",
      "[CV] END .................................C=8, kernel=linear; total time=  40.7s\n",
      "[CV] END .................................C=8, kernel=linear; total time=  35.0s\n",
      "[CV] END .................................C=8, kernel=linear; total time=  39.2s\n",
      "[CV] END .................................C=8, kernel=linear; total time=  30.9s\n",
      "[CV] END ................................C=10, kernel=linear; total time=  46.0s\n",
      "[CV] END ................................C=10, kernel=linear; total time=  57.1s\n",
      "[CV] END ................................C=10, kernel=linear; total time=  47.8s\n",
      "[CV] END ................................C=10, kernel=linear; total time=  54.7s\n",
      "[CV] END ................................C=10, kernel=linear; total time=  43.8s\n",
      "[CV] END ................................C=10, kernel=linear; total time=  47.3s\n",
      "[CV] END .........................C=0, degree=1, kernel=poly; total time=   0.0s\n",
      "[CV] END .........................C=0, degree=1, kernel=poly; total time=   0.0s\n",
      "[CV] END .........................C=0, degree=1, kernel=poly; total time=   0.0s\n",
      "[CV] END .........................C=0, degree=1, kernel=poly; total time=   0.0s\n",
      "[CV] END .........................C=0, degree=1, kernel=poly; total time=   0.0s\n",
      "[CV] END .........................C=0, degree=1, kernel=poly; total time=   0.0s\n",
      "[CV] END .........................C=0, degree=2, kernel=poly; total time=   0.0s\n",
      "[CV] END .........................C=0, degree=2, kernel=poly; total time=   0.0s\n",
      "[CV] END .........................C=0, degree=2, kernel=poly; total time=   0.0s\n",
      "[CV] END .........................C=0, degree=2, kernel=poly; total time=   0.0s\n",
      "[CV] END .........................C=0, degree=2, kernel=poly; total time=   0.0s\n",
      "[CV] END .........................C=0, degree=2, kernel=poly; total time=   0.0s\n",
      "[CV] END .........................C=0, degree=3, kernel=poly; total time=   0.0s\n",
      "[CV] END .........................C=0, degree=3, kernel=poly; total time=   0.0s\n",
      "[CV] END .........................C=0, degree=3, kernel=poly; total time=   0.0s\n",
      "[CV] END .........................C=0, degree=3, kernel=poly; total time=   0.0s\n",
      "[CV] END .........................C=0, degree=3, kernel=poly; total time=   0.0s\n",
      "[CV] END .........................C=0, degree=3, kernel=poly; total time=   0.0s\n",
      "[CV] END .........................C=0, degree=4, kernel=poly; total time=   0.0s\n",
      "[CV] END .........................C=0, degree=4, kernel=poly; total time=   0.0s\n",
      "[CV] END .........................C=0, degree=4, kernel=poly; total time=   0.0s\n",
      "[CV] END .........................C=0, degree=4, kernel=poly; total time=   0.0s\n",
      "[CV] END .........................C=0, degree=4, kernel=poly; total time=   0.0s\n",
      "[CV] END .........................C=0, degree=4, kernel=poly; total time=   0.0s\n",
      "[CV] END .........................C=2, degree=1, kernel=poly; total time=   0.5s\n",
      "[CV] END .........................C=2, degree=1, kernel=poly; total time=   0.8s\n",
      "[CV] END .........................C=2, degree=1, kernel=poly; total time=   0.5s\n",
      "[CV] END .........................C=2, degree=1, kernel=poly; total time=   0.4s\n",
      "[CV] END .........................C=2, degree=1, kernel=poly; total time=   0.3s\n",
      "[CV] END .........................C=2, degree=1, kernel=poly; total time=   0.3s\n",
      "[CV] END .........................C=2, degree=2, kernel=poly; total time=   0.3s\n",
      "[CV] END .........................C=2, degree=2, kernel=poly; total time=   0.3s\n",
      "[CV] END .........................C=2, degree=2, kernel=poly; total time=   0.4s\n",
      "[CV] END .........................C=2, degree=2, kernel=poly; total time=   0.3s\n",
      "[CV] END .........................C=2, degree=2, kernel=poly; total time=   0.3s\n",
      "[CV] END .........................C=2, degree=2, kernel=poly; total time=   0.3s\n",
      "[CV] END .........................C=2, degree=3, kernel=poly; total time=   0.2s\n",
      "[CV] END .........................C=2, degree=3, kernel=poly; total time=   0.2s\n",
      "[CV] END .........................C=2, degree=3, kernel=poly; total time=   0.3s\n",
      "[CV] END .........................C=2, degree=3, kernel=poly; total time=   0.2s\n",
      "[CV] END .........................C=2, degree=3, kernel=poly; total time=   0.2s\n",
      "[CV] END .........................C=2, degree=3, kernel=poly; total time=   0.3s\n",
      "[CV] END .........................C=2, degree=4, kernel=poly; total time=   0.3s\n",
      "[CV] END .........................C=2, degree=4, kernel=poly; total time=   0.3s\n",
      "[CV] END .........................C=2, degree=4, kernel=poly; total time=   0.3s\n",
      "[CV] END .........................C=2, degree=4, kernel=poly; total time=   0.3s\n",
      "[CV] END .........................C=2, degree=4, kernel=poly; total time=   0.3s\n",
      "[CV] END .........................C=2, degree=4, kernel=poly; total time=   0.2s\n",
      "[CV] END .........................C=4, degree=1, kernel=poly; total time=   0.3s\n",
      "[CV] END .........................C=4, degree=1, kernel=poly; total time=   0.3s\n",
      "[CV] END .........................C=4, degree=1, kernel=poly; total time=   0.3s\n",
      "[CV] END .........................C=4, degree=1, kernel=poly; total time=   0.4s\n",
      "[CV] END .........................C=4, degree=1, kernel=poly; total time=   0.3s\n",
      "[CV] END .........................C=4, degree=1, kernel=poly; total time=   0.3s\n",
      "[CV] END .........................C=4, degree=2, kernel=poly; total time=   0.3s\n",
      "[CV] END .........................C=4, degree=2, kernel=poly; total time=   0.3s\n",
      "[CV] END .........................C=4, degree=2, kernel=poly; total time=   0.3s\n",
      "[CV] END .........................C=4, degree=2, kernel=poly; total time=   0.3s\n",
      "[CV] END .........................C=4, degree=2, kernel=poly; total time=   0.3s\n"
     ]
    },
    {
     "name": "stdout",
     "output_type": "stream",
     "text": [
      "[CV] END .........................C=4, degree=2, kernel=poly; total time=   0.3s\n",
      "[CV] END .........................C=4, degree=3, kernel=poly; total time=   0.3s\n",
      "[CV] END .........................C=4, degree=3, kernel=poly; total time=   0.3s\n",
      "[CV] END .........................C=4, degree=3, kernel=poly; total time=   0.3s\n",
      "[CV] END .........................C=4, degree=3, kernel=poly; total time=   0.3s\n",
      "[CV] END .........................C=4, degree=3, kernel=poly; total time=   0.2s\n",
      "[CV] END .........................C=4, degree=3, kernel=poly; total time=   0.3s\n",
      "[CV] END .........................C=4, degree=4, kernel=poly; total time=   0.3s\n",
      "[CV] END .........................C=4, degree=4, kernel=poly; total time=   0.3s\n",
      "[CV] END .........................C=4, degree=4, kernel=poly; total time=   0.3s\n",
      "[CV] END .........................C=4, degree=4, kernel=poly; total time=   0.3s\n",
      "[CV] END .........................C=4, degree=4, kernel=poly; total time=   0.2s\n",
      "[CV] END .........................C=4, degree=4, kernel=poly; total time=   0.3s\n",
      "[CV] END .........................C=6, degree=1, kernel=poly; total time=   0.5s\n",
      "[CV] END .........................C=6, degree=1, kernel=poly; total time=   0.4s\n",
      "[CV] END .........................C=6, degree=1, kernel=poly; total time=   0.5s\n",
      "[CV] END .........................C=6, degree=1, kernel=poly; total time=   0.4s\n",
      "[CV] END .........................C=6, degree=1, kernel=poly; total time=   0.4s\n",
      "[CV] END .........................C=6, degree=1, kernel=poly; total time=   0.5s\n",
      "[CV] END .........................C=6, degree=2, kernel=poly; total time=   0.4s\n",
      "[CV] END .........................C=6, degree=2, kernel=poly; total time=   0.4s\n",
      "[CV] END .........................C=6, degree=2, kernel=poly; total time=   0.4s\n",
      "[CV] END .........................C=6, degree=2, kernel=poly; total time=   0.4s\n",
      "[CV] END .........................C=6, degree=2, kernel=poly; total time=   0.5s\n",
      "[CV] END .........................C=6, degree=2, kernel=poly; total time=   0.4s\n",
      "[CV] END .........................C=6, degree=3, kernel=poly; total time=   0.3s\n",
      "[CV] END .........................C=6, degree=3, kernel=poly; total time=   0.3s\n",
      "[CV] END .........................C=6, degree=3, kernel=poly; total time=   0.3s\n",
      "[CV] END .........................C=6, degree=3, kernel=poly; total time=   0.3s\n",
      "[CV] END .........................C=6, degree=3, kernel=poly; total time=   0.3s\n",
      "[CV] END .........................C=6, degree=3, kernel=poly; total time=   0.3s\n",
      "[CV] END .........................C=6, degree=4, kernel=poly; total time=   0.3s\n",
      "[CV] END .........................C=6, degree=4, kernel=poly; total time=   0.2s\n",
      "[CV] END .........................C=6, degree=4, kernel=poly; total time=   0.3s\n",
      "[CV] END .........................C=6, degree=4, kernel=poly; total time=   0.2s\n",
      "[CV] END .........................C=6, degree=4, kernel=poly; total time=   0.3s\n",
      "[CV] END .........................C=6, degree=4, kernel=poly; total time=   0.3s\n",
      "[CV] END .........................C=8, degree=1, kernel=poly; total time=   0.6s\n",
      "[CV] END .........................C=8, degree=1, kernel=poly; total time=   0.8s\n",
      "[CV] END .........................C=8, degree=1, kernel=poly; total time=   0.7s\n",
      "[CV] END .........................C=8, degree=1, kernel=poly; total time=   0.6s\n",
      "[CV] END .........................C=8, degree=1, kernel=poly; total time=   0.5s\n",
      "[CV] END .........................C=8, degree=1, kernel=poly; total time=   0.5s\n",
      "[CV] END .........................C=8, degree=2, kernel=poly; total time=   0.6s\n",
      "[CV] END .........................C=8, degree=2, kernel=poly; total time=   0.9s\n",
      "[CV] END .........................C=8, degree=2, kernel=poly; total time=   0.8s\n",
      "[CV] END .........................C=8, degree=2, kernel=poly; total time=   0.4s\n",
      "[CV] END .........................C=8, degree=2, kernel=poly; total time=   0.4s\n",
      "[CV] END .........................C=8, degree=2, kernel=poly; total time=   0.5s\n",
      "[CV] END .........................C=8, degree=3, kernel=poly; total time=   0.3s\n",
      "[CV] END .........................C=8, degree=3, kernel=poly; total time=   0.3s\n",
      "[CV] END .........................C=8, degree=3, kernel=poly; total time=   0.3s\n",
      "[CV] END .........................C=8, degree=3, kernel=poly; total time=   0.3s\n",
      "[CV] END .........................C=8, degree=3, kernel=poly; total time=   0.3s\n",
      "[CV] END .........................C=8, degree=3, kernel=poly; total time=   0.3s\n",
      "[CV] END .........................C=8, degree=4, kernel=poly; total time=   0.3s\n",
      "[CV] END .........................C=8, degree=4, kernel=poly; total time=   0.4s\n",
      "[CV] END .........................C=8, degree=4, kernel=poly; total time=   0.3s\n",
      "[CV] END .........................C=8, degree=4, kernel=poly; total time=   0.3s\n",
      "[CV] END .........................C=8, degree=4, kernel=poly; total time=   0.3s\n",
      "[CV] END .........................C=8, degree=4, kernel=poly; total time=   0.3s\n",
      "[CV] END ........................C=10, degree=1, kernel=poly; total time=   1.3s\n",
      "[CV] END ........................C=10, degree=1, kernel=poly; total time=   0.6s\n",
      "[CV] END ........................C=10, degree=1, kernel=poly; total time=   0.6s\n",
      "[CV] END ........................C=10, degree=1, kernel=poly; total time=   0.7s\n",
      "[CV] END ........................C=10, degree=1, kernel=poly; total time=   0.6s\n",
      "[CV] END ........................C=10, degree=1, kernel=poly; total time=   0.6s\n",
      "[CV] END ........................C=10, degree=2, kernel=poly; total time=   0.4s\n",
      "[CV] END ........................C=10, degree=2, kernel=poly; total time=   0.5s\n",
      "[CV] END ........................C=10, degree=2, kernel=poly; total time=   0.5s\n",
      "[CV] END ........................C=10, degree=2, kernel=poly; total time=   0.4s\n",
      "[CV] END ........................C=10, degree=2, kernel=poly; total time=   0.4s\n",
      "[CV] END ........................C=10, degree=2, kernel=poly; total time=   0.5s\n",
      "[CV] END ........................C=10, degree=3, kernel=poly; total time=   0.4s\n",
      "[CV] END ........................C=10, degree=3, kernel=poly; total time=   0.4s\n",
      "[CV] END ........................C=10, degree=3, kernel=poly; total time=   0.3s\n",
      "[CV] END ........................C=10, degree=3, kernel=poly; total time=   0.3s\n",
      "[CV] END ........................C=10, degree=3, kernel=poly; total time=   0.3s\n",
      "[CV] END ........................C=10, degree=3, kernel=poly; total time=   0.4s\n",
      "[CV] END ........................C=10, degree=4, kernel=poly; total time=   0.4s\n",
      "[CV] END ........................C=10, degree=4, kernel=poly; total time=   0.3s\n",
      "[CV] END ........................C=10, degree=4, kernel=poly; total time=   0.3s\n",
      "[CV] END ........................C=10, degree=4, kernel=poly; total time=   0.3s\n",
      "[CV] END ........................C=10, degree=4, kernel=poly; total time=   0.3s\n",
      "[CV] END ........................C=10, degree=4, kernel=poly; total time=   0.3s\n"
     ]
    }
   ],
   "source": [
    "param_svr = [{'kernel': ['rbf'], 'gamma': [1e-2, 1e-3, 1e-4],\n",
    "                     'C': np.arange(0, 11, 2)},\n",
    "             {'kernel': ['linear'], 'C': np.arange(0, 11, 2)},\n",
    "             {'kernel': ['poly'], 'degree': [1, 2, 3, 4], 'C': np.arange(0, 11, 2)}\n",
    "            ]\n",
    "\n",
    "\n",
    "gridsearchsvr = GridSearchCV(estimator=SVR(),\n",
    "                      param_grid= param_svr,\n",
    "                      scoring='neg_mean_squared_error',\n",
    "                      cv=kfolds,\n",
    "                            verbose=2)\n",
    "\n",
    "gridsearchsvr = gridsearchsvr.fit(X, y)"
   ]
  },
  {
   "cell_type": "code",
   "execution_count": 16,
   "id": "accb5a88",
   "metadata": {},
   "outputs": [
    {
     "data": {
      "text/plain": [
       "({'C': 10, 'gamma': 0.001, 'kernel': 'rbf'}, 0.08387869933310117)"
      ]
     },
     "execution_count": 16,
     "metadata": {},
     "output_type": "execute_result"
    }
   ],
   "source": [
    "gridsearchsvr.best_params_, -gridsearchsvr.best_score_"
   ]
  },
  {
   "cell_type": "code",
   "execution_count": 24,
   "id": "216e238a",
   "metadata": {
    "collapsed": true
   },
   "outputs": [
    {
     "name": "stdout",
     "output_type": "stream",
     "text": [
      "Fitting 6 folds for each of 20 candidates, totalling 120 fits\n",
      "[CV] END ....................C=12.0, gamma=0.001, kernel=rbf; total time=   0.3s\n",
      "[CV] END ....................C=12.0, gamma=0.001, kernel=rbf; total time=   0.3s\n",
      "[CV] END ....................C=12.0, gamma=0.001, kernel=rbf; total time=   0.3s\n",
      "[CV] END ....................C=12.0, gamma=0.001, kernel=rbf; total time=   0.3s\n",
      "[CV] END ....................C=12.0, gamma=0.001, kernel=rbf; total time=   0.3s\n",
      "[CV] END ....................C=12.0, gamma=0.001, kernel=rbf; total time=   0.3s\n",
      "[CV] END ....................C=12.1, gamma=0.001, kernel=rbf; total time=   0.3s\n",
      "[CV] END ....................C=12.1, gamma=0.001, kernel=rbf; total time=   0.3s\n",
      "[CV] END ....................C=12.1, gamma=0.001, kernel=rbf; total time=   0.3s\n",
      "[CV] END ....................C=12.1, gamma=0.001, kernel=rbf; total time=   0.3s\n",
      "[CV] END ....................C=12.1, gamma=0.001, kernel=rbf; total time=   0.3s\n",
      "[CV] END ....................C=12.1, gamma=0.001, kernel=rbf; total time=   0.3s\n",
      "[CV] END ....................C=12.2, gamma=0.001, kernel=rbf; total time=   0.3s\n",
      "[CV] END ....................C=12.2, gamma=0.001, kernel=rbf; total time=   0.3s\n",
      "[CV] END ....................C=12.2, gamma=0.001, kernel=rbf; total time=   0.3s\n",
      "[CV] END ....................C=12.2, gamma=0.001, kernel=rbf; total time=   0.3s\n",
      "[CV] END ....................C=12.2, gamma=0.001, kernel=rbf; total time=   0.3s\n",
      "[CV] END ....................C=12.2, gamma=0.001, kernel=rbf; total time=   0.3s\n",
      "[CV] END ......C=12.299999999999999, gamma=0.001, kernel=rbf; total time=   0.3s\n",
      "[CV] END ......C=12.299999999999999, gamma=0.001, kernel=rbf; total time=   0.3s\n",
      "[CV] END ......C=12.299999999999999, gamma=0.001, kernel=rbf; total time=   0.3s\n",
      "[CV] END ......C=12.299999999999999, gamma=0.001, kernel=rbf; total time=   0.3s\n",
      "[CV] END ......C=12.299999999999999, gamma=0.001, kernel=rbf; total time=   0.3s\n",
      "[CV] END ......C=12.299999999999999, gamma=0.001, kernel=rbf; total time=   0.3s\n",
      "[CV] END ......C=12.399999999999999, gamma=0.001, kernel=rbf; total time=   0.3s\n",
      "[CV] END ......C=12.399999999999999, gamma=0.001, kernel=rbf; total time=   0.3s\n",
      "[CV] END ......C=12.399999999999999, gamma=0.001, kernel=rbf; total time=   0.3s\n",
      "[CV] END ......C=12.399999999999999, gamma=0.001, kernel=rbf; total time=   0.3s\n",
      "[CV] END ......C=12.399999999999999, gamma=0.001, kernel=rbf; total time=   0.3s\n",
      "[CV] END ......C=12.399999999999999, gamma=0.001, kernel=rbf; total time=   0.3s\n",
      "[CV] END ......C=12.499999999999998, gamma=0.001, kernel=rbf; total time=   0.3s\n",
      "[CV] END ......C=12.499999999999998, gamma=0.001, kernel=rbf; total time=   0.3s\n",
      "[CV] END ......C=12.499999999999998, gamma=0.001, kernel=rbf; total time=   0.3s\n",
      "[CV] END ......C=12.499999999999998, gamma=0.001, kernel=rbf; total time=   0.3s\n",
      "[CV] END ......C=12.499999999999998, gamma=0.001, kernel=rbf; total time=   0.3s\n",
      "[CV] END ......C=12.499999999999998, gamma=0.001, kernel=rbf; total time=   0.3s\n",
      "[CV] END ......C=12.599999999999998, gamma=0.001, kernel=rbf; total time=   0.3s\n",
      "[CV] END ......C=12.599999999999998, gamma=0.001, kernel=rbf; total time=   0.3s\n",
      "[CV] END ......C=12.599999999999998, gamma=0.001, kernel=rbf; total time=   0.3s\n",
      "[CV] END ......C=12.599999999999998, gamma=0.001, kernel=rbf; total time=   0.3s\n",
      "[CV] END ......C=12.599999999999998, gamma=0.001, kernel=rbf; total time=   0.3s\n",
      "[CV] END ......C=12.599999999999998, gamma=0.001, kernel=rbf; total time=   0.3s\n",
      "[CV] END ......C=12.699999999999998, gamma=0.001, kernel=rbf; total time=   0.3s\n",
      "[CV] END ......C=12.699999999999998, gamma=0.001, kernel=rbf; total time=   0.3s\n",
      "[CV] END ......C=12.699999999999998, gamma=0.001, kernel=rbf; total time=   0.3s\n",
      "[CV] END ......C=12.699999999999998, gamma=0.001, kernel=rbf; total time=   0.3s\n",
      "[CV] END ......C=12.699999999999998, gamma=0.001, kernel=rbf; total time=   0.3s\n",
      "[CV] END ......C=12.699999999999998, gamma=0.001, kernel=rbf; total time=   0.3s\n",
      "[CV] END ......C=12.799999999999997, gamma=0.001, kernel=rbf; total time=   0.3s\n",
      "[CV] END ......C=12.799999999999997, gamma=0.001, kernel=rbf; total time=   0.3s\n",
      "[CV] END ......C=12.799999999999997, gamma=0.001, kernel=rbf; total time=   0.3s\n",
      "[CV] END ......C=12.799999999999997, gamma=0.001, kernel=rbf; total time=   0.3s\n",
      "[CV] END ......C=12.799999999999997, gamma=0.001, kernel=rbf; total time=   0.3s\n",
      "[CV] END ......C=12.799999999999997, gamma=0.001, kernel=rbf; total time=   0.3s\n",
      "[CV] END ......C=12.899999999999997, gamma=0.001, kernel=rbf; total time=   0.3s\n",
      "[CV] END ......C=12.899999999999997, gamma=0.001, kernel=rbf; total time=   0.3s\n",
      "[CV] END ......C=12.899999999999997, gamma=0.001, kernel=rbf; total time=   0.3s\n",
      "[CV] END ......C=12.899999999999997, gamma=0.001, kernel=rbf; total time=   0.3s\n",
      "[CV] END ......C=12.899999999999997, gamma=0.001, kernel=rbf; total time=   0.3s\n",
      "[CV] END ......C=12.899999999999997, gamma=0.001, kernel=rbf; total time=   0.3s\n",
      "[CV] END ......C=12.999999999999996, gamma=0.001, kernel=rbf; total time=   0.3s\n",
      "[CV] END ......C=12.999999999999996, gamma=0.001, kernel=rbf; total time=   0.3s\n",
      "[CV] END ......C=12.999999999999996, gamma=0.001, kernel=rbf; total time=   0.3s\n",
      "[CV] END ......C=12.999999999999996, gamma=0.001, kernel=rbf; total time=   0.3s\n",
      "[CV] END ......C=12.999999999999996, gamma=0.001, kernel=rbf; total time=   0.3s\n",
      "[CV] END ......C=12.999999999999996, gamma=0.001, kernel=rbf; total time=   0.3s\n",
      "[CV] END ......C=13.099999999999996, gamma=0.001, kernel=rbf; total time=   0.3s\n",
      "[CV] END ......C=13.099999999999996, gamma=0.001, kernel=rbf; total time=   0.3s\n",
      "[CV] END ......C=13.099999999999996, gamma=0.001, kernel=rbf; total time=   0.3s\n",
      "[CV] END ......C=13.099999999999996, gamma=0.001, kernel=rbf; total time=   0.3s\n",
      "[CV] END ......C=13.099999999999996, gamma=0.001, kernel=rbf; total time=   0.3s\n",
      "[CV] END ......C=13.099999999999996, gamma=0.001, kernel=rbf; total time=   0.3s\n",
      "[CV] END ......C=13.199999999999996, gamma=0.001, kernel=rbf; total time=   0.3s\n",
      "[CV] END ......C=13.199999999999996, gamma=0.001, kernel=rbf; total time=   0.3s\n",
      "[CV] END ......C=13.199999999999996, gamma=0.001, kernel=rbf; total time=   0.3s\n",
      "[CV] END ......C=13.199999999999996, gamma=0.001, kernel=rbf; total time=   0.3s\n",
      "[CV] END ......C=13.199999999999996, gamma=0.001, kernel=rbf; total time=   0.3s\n",
      "[CV] END ......C=13.199999999999996, gamma=0.001, kernel=rbf; total time=   0.3s\n",
      "[CV] END ......C=13.299999999999995, gamma=0.001, kernel=rbf; total time=   0.3s\n",
      "[CV] END ......C=13.299999999999995, gamma=0.001, kernel=rbf; total time=   0.3s\n",
      "[CV] END ......C=13.299999999999995, gamma=0.001, kernel=rbf; total time=   0.3s\n",
      "[CV] END ......C=13.299999999999995, gamma=0.001, kernel=rbf; total time=   0.3s\n",
      "[CV] END ......C=13.299999999999995, gamma=0.001, kernel=rbf; total time=   0.3s\n",
      "[CV] END ......C=13.299999999999995, gamma=0.001, kernel=rbf; total time=   0.3s\n",
      "[CV] END ......C=13.399999999999995, gamma=0.001, kernel=rbf; total time=   0.3s\n",
      "[CV] END ......C=13.399999999999995, gamma=0.001, kernel=rbf; total time=   0.3s\n",
      "[CV] END ......C=13.399999999999995, gamma=0.001, kernel=rbf; total time=   0.3s\n",
      "[CV] END ......C=13.399999999999995, gamma=0.001, kernel=rbf; total time=   0.3s\n",
      "[CV] END ......C=13.399999999999995, gamma=0.001, kernel=rbf; total time=   0.3s\n",
      "[CV] END ......C=13.399999999999995, gamma=0.001, kernel=rbf; total time=   0.3s\n",
      "[CV] END ......C=13.499999999999995, gamma=0.001, kernel=rbf; total time=   0.3s\n",
      "[CV] END ......C=13.499999999999995, gamma=0.001, kernel=rbf; total time=   0.3s\n",
      "[CV] END ......C=13.499999999999995, gamma=0.001, kernel=rbf; total time=   0.3s\n",
      "[CV] END ......C=13.499999999999995, gamma=0.001, kernel=rbf; total time=   0.3s\n",
      "[CV] END ......C=13.499999999999995, gamma=0.001, kernel=rbf; total time=   0.3s\n",
      "[CV] END ......C=13.499999999999995, gamma=0.001, kernel=rbf; total time=   0.3s\n",
      "[CV] END ......C=13.599999999999994, gamma=0.001, kernel=rbf; total time=   0.3s\n",
      "[CV] END ......C=13.599999999999994, gamma=0.001, kernel=rbf; total time=   0.3s\n",
      "[CV] END ......C=13.599999999999994, gamma=0.001, kernel=rbf; total time=   0.3s\n",
      "[CV] END ......C=13.599999999999994, gamma=0.001, kernel=rbf; total time=   0.3s\n",
      "[CV] END ......C=13.599999999999994, gamma=0.001, kernel=rbf; total time=   0.3s\n"
     ]
    },
    {
     "name": "stdout",
     "output_type": "stream",
     "text": [
      "[CV] END ......C=13.599999999999994, gamma=0.001, kernel=rbf; total time=   0.3s\n",
      "[CV] END ......C=13.699999999999994, gamma=0.001, kernel=rbf; total time=   0.3s\n",
      "[CV] END ......C=13.699999999999994, gamma=0.001, kernel=rbf; total time=   0.3s\n",
      "[CV] END ......C=13.699999999999994, gamma=0.001, kernel=rbf; total time=   0.3s\n",
      "[CV] END ......C=13.699999999999994, gamma=0.001, kernel=rbf; total time=   0.3s\n",
      "[CV] END ......C=13.699999999999994, gamma=0.001, kernel=rbf; total time=   0.3s\n",
      "[CV] END ......C=13.699999999999994, gamma=0.001, kernel=rbf; total time=   0.3s\n",
      "[CV] END ......C=13.799999999999994, gamma=0.001, kernel=rbf; total time=   0.3s\n",
      "[CV] END ......C=13.799999999999994, gamma=0.001, kernel=rbf; total time=   0.3s\n",
      "[CV] END ......C=13.799999999999994, gamma=0.001, kernel=rbf; total time=   0.3s\n",
      "[CV] END ......C=13.799999999999994, gamma=0.001, kernel=rbf; total time=   0.3s\n",
      "[CV] END ......C=13.799999999999994, gamma=0.001, kernel=rbf; total time=   0.3s\n",
      "[CV] END ......C=13.799999999999994, gamma=0.001, kernel=rbf; total time=   0.3s\n",
      "[CV] END ......C=13.899999999999993, gamma=0.001, kernel=rbf; total time=   0.3s\n",
      "[CV] END ......C=13.899999999999993, gamma=0.001, kernel=rbf; total time=   0.3s\n",
      "[CV] END ......C=13.899999999999993, gamma=0.001, kernel=rbf; total time=   0.3s\n",
      "[CV] END ......C=13.899999999999993, gamma=0.001, kernel=rbf; total time=   0.3s\n",
      "[CV] END ......C=13.899999999999993, gamma=0.001, kernel=rbf; total time=   0.3s\n",
      "[CV] END ......C=13.899999999999993, gamma=0.001, kernel=rbf; total time=   0.3s\n"
     ]
    }
   ],
   "source": [
    "param_svr2= {\n",
    "    'kernel': ['rbf'],\n",
    "    'gamma': [0.001],\n",
    "    'C': np.arange(12, 14, 0.1)\n",
    "}\n",
    "\n",
    "gridsearchsvr2 = GridSearchCV(estimator=SVR(),\n",
    "                      param_grid= param_svr2,\n",
    "                      scoring='neg_mean_squared_error',\n",
    "                      cv=kfolds,\n",
    "                            verbose=2)\n",
    "\n",
    "gridsearchsvr2 = gridsearchsvr2.fit(X, y)"
   ]
  },
  {
   "cell_type": "code",
   "execution_count": 25,
   "id": "e078e883",
   "metadata": {},
   "outputs": [
    {
     "data": {
      "text/plain": [
       "({'C': 12.399999999999999, 'gamma': 0.001, 'kernel': 'rbf'},\n",
       " 0.08363938069611127)"
      ]
     },
     "execution_count": 25,
     "metadata": {},
     "output_type": "execute_result"
    }
   ],
   "source": [
    "gridsearchsvr2.best_params_, -gridsearchsvr2.best_score_"
   ]
  },
  {
   "cell_type": "code",
   "execution_count": null,
   "id": "f6f14a02",
   "metadata": {},
   "outputs": [],
   "source": []
  },
  {
   "cell_type": "code",
   "execution_count": 26,
   "id": "6e7f8621",
   "metadata": {},
   "outputs": [
    {
     "name": "stdout",
     "output_type": "stream",
     "text": [
      "R2:  0.94476711847507\n"
     ]
    }
   ],
   "source": [
    "final_svr_params = {\n",
    "    'C': 12.4, \n",
    "    'gamma': 0.001, \n",
    "    'kernel': 'rbf'\n",
    "}\n",
    "\n",
    "sv_reg = SVR(**final_svr_params).fit(X, y)\n",
    "print('R2: ', sv_reg.score(X, y))"
   ]
  },
  {
   "cell_type": "code",
   "execution_count": 27,
   "id": "36afb5db",
   "metadata": {},
   "outputs": [
    {
     "name": "stdout",
     "output_type": "stream",
     "text": [
      "RMSE CV: [0.27551032 0.26025462 0.29971009 0.31056775 0.2979406  0.28836835]  Mean RMSE: 0.2887253 Std RMSE: 0.0166734\n",
      "MAE CV: [0.18933247 0.18919653 0.19748452 0.20505503 0.21090273 0.19313123]  Mean MAE: 0.1975171 Std MAE: 0.0080773\n",
      "R2 CV: [0.9140799  0.93952023 0.90766428 0.90132317 0.9161693  0.91154628]  Mean R2: 0.9150505 Std R2: 0.011946\n"
     ]
    }
   ],
   "source": [
    "rmse_svr, mae_svr, r2_svr = cv_rmse(sv_reg, X, y)\n",
    "display_cv_scores(rmse_svr, mae_svr, r2_svr)"
   ]
  },
  {
   "cell_type": "code",
   "execution_count": null,
   "id": "fe98b8cc",
   "metadata": {},
   "outputs": [],
   "source": []
  },
  {
   "cell_type": "code",
   "execution_count": null,
   "id": "781abc48",
   "metadata": {},
   "outputs": [],
   "source": []
  },
  {
   "cell_type": "markdown",
   "id": "b1151f3a",
   "metadata": {},
   "source": [
    "### XGB Regressor"
   ]
  },
  {
   "cell_type": "markdown",
   "id": "00c5ed26",
   "metadata": {},
   "source": [
    "#### GridSearch"
   ]
  },
  {
   "cell_type": "markdown",
   "id": "c8fd7dc0",
   "metadata": {},
   "source": [
    "##### Tune max_depth and min_child_weight"
   ]
  },
  {
   "cell_type": "code",
   "execution_count": 29,
   "id": "a2fc6382",
   "metadata": {},
   "outputs": [],
   "source": [
    "## Step 1\n",
    "# %%time\n",
    "\n",
    "param_grid1 ={\n",
    "    'max_depth': np.arange(1, 11, 2),\n",
    "    'min_child_weight': np.arange(1, 11, 2)\n",
    "}\n",
    "\n",
    "gridsearch1 = GridSearchCV(estimator=xgb.XGBRegressor(),\n",
    "                          param_grid=param_grid1,\n",
    "                          scoring='neg_mean_squared_error',\n",
    "                          cv=kfolds)\n",
    "\n",
    "gridsearch1 = gridsearch1.fit(X,y)"
   ]
  },
  {
   "cell_type": "code",
   "execution_count": 30,
   "id": "c5ddb1f2",
   "metadata": {},
   "outputs": [
    {
     "data": {
      "text/plain": [
       "({'max_depth': 3, 'min_child_weight': 7}, 0.1107115526552347)"
      ]
     },
     "execution_count": 30,
     "metadata": {},
     "output_type": "execute_result"
    }
   ],
   "source": [
    "best_params = gridsearch1.best_params_\n",
    "best_params, -gridsearch1.best_score_"
   ]
  },
  {
   "cell_type": "code",
   "execution_count": 31,
   "id": "de992e86",
   "metadata": {},
   "outputs": [],
   "source": [
    "## Step 2\n",
    "# %%time\n",
    "\n",
    "param_grid2 ={\n",
    "    'max_depth': np.arange(1, 5, 1),\n",
    "    'min_child_weight': np.arange(5, 9, 1)\n",
    "}\n",
    "\n",
    "gridsearch2 = GridSearchCV(estimator=xgb.XGBRegressor(),\n",
    "                          param_grid=param_grid2,\n",
    "                          scoring='neg_mean_squared_error',\n",
    "                          cv=kfolds)\n",
    "\n",
    "gridsearch2 = gridsearch2.fit(X,y)"
   ]
  },
  {
   "cell_type": "code",
   "execution_count": 32,
   "id": "46e7d2af",
   "metadata": {},
   "outputs": [
    {
     "data": {
      "text/plain": [
       "({'max_depth': 2, 'min_child_weight': 6}, 0.10352683762985758)"
      ]
     },
     "execution_count": 32,
     "metadata": {},
     "output_type": "execute_result"
    }
   ],
   "source": [
    "best_params = gridsearch2.best_params_\n",
    "best_params, -gridsearch2.best_score_"
   ]
  },
  {
   "cell_type": "code",
   "execution_count": null,
   "id": "76382aef",
   "metadata": {},
   "outputs": [],
   "source": []
  },
  {
   "cell_type": "markdown",
   "id": "b397d148",
   "metadata": {},
   "source": [
    "##### Tune gamma and max_delta_step"
   ]
  },
  {
   "cell_type": "code",
   "execution_count": 33,
   "id": "70d27b04",
   "metadata": {},
   "outputs": [],
   "source": [
    "param_grid3 = {\n",
    "    'gamma': np.arange(0, 1, 0.1),\n",
    "    'max_delta_step': np.arange(0, 1, 0.1)\n",
    "}\n",
    "\n",
    "gridsearch3 = GridSearchCV(estimator=xgb.XGBRegressor(**best_params),\n",
    "                          param_grid=param_grid3,\n",
    "                          scoring='neg_mean_squared_error',\n",
    "                          cv=kfolds)\n",
    "\n",
    "gridsearch3 = gridsearch3.fit(X, y)"
   ]
  },
  {
   "cell_type": "code",
   "execution_count": 34,
   "id": "6e2c0578",
   "metadata": {},
   "outputs": [
    {
     "data": {
      "text/plain": [
       "({'max_depth': 2, 'min_child_weight': 6, 'gamma': 0.0, 'max_delta_step': 0.0},\n",
       " 0.10352683762985758)"
      ]
     },
     "execution_count": 34,
     "metadata": {},
     "output_type": "execute_result"
    }
   ],
   "source": [
    "best_params.update(gridsearch3.best_params_)\n",
    "best_params, -gridsearch3.best_score_"
   ]
  },
  {
   "cell_type": "code",
   "execution_count": null,
   "id": "7420e87e",
   "metadata": {},
   "outputs": [],
   "source": []
  },
  {
   "cell_type": "markdown",
   "id": "4aba9add",
   "metadata": {},
   "source": [
    "##### Tune subsample, colsample_bytree , colsample_bylevel and colsample_bynode "
   ]
  },
  {
   "cell_type": "code",
   "execution_count": 39,
   "id": "1c2ee549",
   "metadata": {},
   "outputs": [],
   "source": [
    "# Step 1\n",
    "\n",
    "param_grid4= {\n",
    "    'subsample': np.arange(0.9, 1.2, 0.05),\n",
    "    'colsample_bytree': np.arange(0.9, 1.2, 0.05)\n",
    "}\n",
    "\n",
    "gridsearch4 = GridSearchCV(estimator=xgb.XGBRegressor(**best_params),\n",
    "                          param_grid=param_grid4,\n",
    "                          scoring='neg_mean_squared_error',\n",
    "                          cv=kfolds)\n",
    "\n",
    "gridsearch4 = gridsearch4.fit(X,y)"
   ]
  },
  {
   "cell_type": "code",
   "execution_count": 40,
   "id": "65c285d5",
   "metadata": {},
   "outputs": [
    {
     "data": {
      "text/plain": [
       "({'colsample_bytree': 1.0, 'subsample': 1.0}, 0.10352683762985758)"
      ]
     },
     "execution_count": 40,
     "metadata": {},
     "output_type": "execute_result"
    }
   ],
   "source": [
    "gridsearch4.best_params_, -gridsearch4.best_score_"
   ]
  },
  {
   "cell_type": "code",
   "execution_count": 43,
   "id": "3aed00c1",
   "metadata": {},
   "outputs": [
    {
     "data": {
      "text/plain": [
       "({'max_depth': 2,\n",
       "  'min_child_weight': 6,\n",
       "  'gamma': 0.0,\n",
       "  'max_delta_step': 0.0,\n",
       "  'colsample_bytree': 1.0,\n",
       "  'subsample': 1.0},\n",
       " 0.10352683762985758)"
      ]
     },
     "execution_count": 43,
     "metadata": {},
     "output_type": "execute_result"
    }
   ],
   "source": [
    "best_params.update(gridsearch4.best_params_)\n",
    "best_params, -gridsearch4.best_score_"
   ]
  },
  {
   "cell_type": "code",
   "execution_count": null,
   "id": "35724beb",
   "metadata": {},
   "outputs": [],
   "source": []
  },
  {
   "cell_type": "code",
   "execution_count": 41,
   "id": "50712687",
   "metadata": {},
   "outputs": [],
   "source": [
    "param_grid5= {\n",
    "    'colsample_bylevel': np.arange(1, 10, 1),\n",
    "    'colsample_bynode': np.arange(1, 10, 1)\n",
    "}\n",
    "\n",
    "gridsearch5 = GridSearchCV(estimator=xgb.XGBRegressor(**best_params),\n",
    "                          param_grid=param_grid5,\n",
    "                          scoring='neg_mean_squared_error',\n",
    "                          cv=kfolds)\n",
    "\n",
    "gridsearch5 = gridsearch5.fit(X,y)"
   ]
  },
  {
   "cell_type": "code",
   "execution_count": 42,
   "id": "3484be89",
   "metadata": {},
   "outputs": [
    {
     "data": {
      "text/plain": [
       "({'colsample_bylevel': 1, 'colsample_bynode': 1}, 0.10352683762985758)"
      ]
     },
     "execution_count": 42,
     "metadata": {},
     "output_type": "execute_result"
    }
   ],
   "source": [
    "gridsearch5.best_params_, -gridsearch5.best_score_"
   ]
  },
  {
   "cell_type": "code",
   "execution_count": 44,
   "id": "4ef920cf",
   "metadata": {},
   "outputs": [
    {
     "data": {
      "text/plain": [
       "({'max_depth': 2,\n",
       "  'min_child_weight': 6,\n",
       "  'gamma': 0.0,\n",
       "  'max_delta_step': 0.0,\n",
       "  'colsample_bytree': 1.0,\n",
       "  'subsample': 1.0,\n",
       "  'colsample_bylevel': 1,\n",
       "  'colsample_bynode': 1},\n",
       " 0.10352683762985758)"
      ]
     },
     "execution_count": 44,
     "metadata": {},
     "output_type": "execute_result"
    }
   ],
   "source": [
    "best_params.update(gridsearch5.best_params_)\n",
    "best_params, -gridsearch5.best_score_"
   ]
  },
  {
   "cell_type": "code",
   "execution_count": null,
   "id": "9803d2f9",
   "metadata": {},
   "outputs": [],
   "source": []
  },
  {
   "cell_type": "code",
   "execution_count": null,
   "id": "e03999df",
   "metadata": {},
   "outputs": [],
   "source": []
  },
  {
   "cell_type": "markdown",
   "id": "eed8ec84",
   "metadata": {},
   "source": [
    "##### Tune reg_alpha and reg_lambda"
   ]
  },
  {
   "cell_type": "code",
   "execution_count": 47,
   "id": "d91e87cb",
   "metadata": {},
   "outputs": [],
   "source": [
    "param_grid5 = {\n",
    "    'reg_alpha': np.arange(0.5, 0.71, 0.05),\n",
    "    'reg_lambda': np.arange(0, 0.2, 0.05)\n",
    "}\n",
    "\n",
    "gridsearch5 = GridSearchCV(estimator=xgb.XGBRegressor(**best_params),\n",
    "                          param_grid=param_grid5,\n",
    "                          scoring='neg_mean_squared_error',\n",
    "                          cv=kfolds)\n",
    "\n",
    "gridsearch5 = gridsearch5.fit(X,y)"
   ]
  },
  {
   "cell_type": "code",
   "execution_count": 49,
   "id": "5fdcdb2e",
   "metadata": {},
   "outputs": [
    {
     "data": {
      "text/plain": [
       "({'reg_alpha': 0.6000000000000001, 'reg_lambda': 0.1}, 0.10299264308312793)"
      ]
     },
     "execution_count": 49,
     "metadata": {},
     "output_type": "execute_result"
    }
   ],
   "source": [
    "gridsearch5.best_params_, -gridsearch5.best_score_"
   ]
  },
  {
   "cell_type": "code",
   "execution_count": 50,
   "id": "0ad823a4",
   "metadata": {},
   "outputs": [
    {
     "data": {
      "text/plain": [
       "({'max_depth': 2,\n",
       "  'min_child_weight': 6,\n",
       "  'gamma': 0.0,\n",
       "  'max_delta_step': 0.0,\n",
       "  'colsample_bytree': 1.0,\n",
       "  'subsample': 1.0,\n",
       "  'colsample_bylevel': 1,\n",
       "  'colsample_bynode': 1,\n",
       "  'reg_alpha': 0.6000000000000001,\n",
       "  'reg_lambda': 0.1},\n",
       " 0.10299264308312793)"
      ]
     },
     "execution_count": 50,
     "metadata": {},
     "output_type": "execute_result"
    }
   ],
   "source": [
    "best_params.update(gridsearch5.best_params_)\n",
    "best_params, -gridsearch5.best_score_"
   ]
  },
  {
   "cell_type": "code",
   "execution_count": null,
   "id": "18ec584c",
   "metadata": {},
   "outputs": [],
   "source": []
  },
  {
   "cell_type": "markdown",
   "id": "19c20fba",
   "metadata": {},
   "source": [
    "##### Tune n_estimators and learning_rate"
   ]
  },
  {
   "cell_type": "code",
   "execution_count": 51,
   "id": "a44dc8a7",
   "metadata": {},
   "outputs": [],
   "source": [
    "param_grid6= {\n",
    "    'n_estimators': np.arange(50, 550, 50),\n",
    "    'learning_rate': [0.005, 0.01, 0.05, 0.1, 0.3, 0.5, 0.9]\n",
    "}\n",
    "\n",
    "gridsearch6 = GridSearchCV(estimator= xgb.XGBRegressor(**best_params),\n",
    "                          param_grid= param_grid6,\n",
    "                          scoring='neg_mean_squared_error',\n",
    "                          cv=kfolds)\n",
    "\n",
    "gridsearch6 = gridsearch6.fit(X, y)"
   ]
  },
  {
   "cell_type": "code",
   "execution_count": 52,
   "id": "51103682",
   "metadata": {},
   "outputs": [
    {
     "data": {
      "text/plain": [
       "({'learning_rate': 0.1, 'n_estimators': 350}, -0.09725315881175449)"
      ]
     },
     "execution_count": 52,
     "metadata": {},
     "output_type": "execute_result"
    }
   ],
   "source": [
    "gridsearch6.best_params_, gridsearch6.best_score_"
   ]
  },
  {
   "cell_type": "code",
   "execution_count": 53,
   "id": "13e06487",
   "metadata": {},
   "outputs": [
    {
     "data": {
      "text/plain": [
       "({'max_depth': 2,\n",
       "  'min_child_weight': 6,\n",
       "  'gamma': 0.0,\n",
       "  'max_delta_step': 0.0,\n",
       "  'colsample_bytree': 1.0,\n",
       "  'subsample': 1.0,\n",
       "  'colsample_bylevel': 1,\n",
       "  'colsample_bynode': 1,\n",
       "  'reg_alpha': 0.6000000000000001,\n",
       "  'reg_lambda': 0.1,\n",
       "  'learning_rate': 0.1,\n",
       "  'n_estimators': 350},\n",
       " 0.09725315881175449)"
      ]
     },
     "execution_count": 53,
     "metadata": {},
     "output_type": "execute_result"
    }
   ],
   "source": [
    "best_params.update(gridsearch6.best_params_)\n",
    "best_params, -gridsearch6.best_score_"
   ]
  },
  {
   "cell_type": "code",
   "execution_count": null,
   "id": "208c2488",
   "metadata": {},
   "outputs": [],
   "source": []
  },
  {
   "cell_type": "markdown",
   "id": "52ea9d0f",
   "metadata": {},
   "source": [
    "##### Compare to base model"
   ]
  },
  {
   "cell_type": "code",
   "execution_count": 66,
   "id": "8af0392f",
   "metadata": {},
   "outputs": [],
   "source": [
    "params_xgbreg = {\n",
    "      'max_depth': 2,\n",
    "      'min_child_weight': 6,\n",
    "      'gamma': 0.0,\n",
    "      'max_delta_step': 0.0,\n",
    "      'colsample_bytree': 1.0,\n",
    "      'subsample': 1.0,\n",
    "      'colsample_bylevel': 1,\n",
    "      'colsample_bynode': 1,\n",
    "      'reg_alpha': 0.6,\n",
    "      'reg_lambda': 0.1,\n",
    "      'learning_rate': 0.1,\n",
    "      'n_estimators': 350\n",
    "    }\n",
    "\n",
    "base_booster = xgb.XGBRegressor()\n",
    "tuned_booster = xgb.XGBRegressor(**params_xgbreg, eval_metric='rmse')"
   ]
  },
  {
   "cell_type": "code",
   "execution_count": 67,
   "id": "09590650",
   "metadata": {},
   "outputs": [
    {
     "name": "stdout",
     "output_type": "stream",
     "text": [
      "RMSE CV: [0.37217331 0.36705065 0.37461612 0.35171819 0.39630166 0.37565098]  Mean RMSE: 0.3729185 Std RMSE: 0.0131755\n",
      "MAE CV: [0.25395876 0.25683498 0.25731089 0.25367309 0.27991269 0.25754573]  Mean MAE: 0.2598727 Std MAE: 0.0090941\n",
      "R2 CV: [0.84321321 0.87970012 0.85574199 0.87344126 0.85168144 0.8498968 ]  Mean R2: 0.8589458 Std R2: 0.0131231\n"
     ]
    }
   ],
   "source": [
    "rmse_base_booster, mae_base_booster, r2_base_booster = cv_rmse(base_booster, X, y)\n",
    "display_cv_scores(rmse_base_booster, mae_base_booster, r2_base_booster)"
   ]
  },
  {
   "cell_type": "code",
   "execution_count": 68,
   "id": "9913d224",
   "metadata": {},
   "outputs": [
    {
     "name": "stdout",
     "output_type": "stream",
     "text": [
      "RMSE CV: [0.31755951 0.29480573 0.32559401 0.30854992 0.30731092 0.31640161]  Mean RMSE: 0.3117036 Std RMSE: 0.0096961\n",
      "MAE CV: [0.22298347 0.20888666 0.21240629 0.21547883 0.21369332 0.21477372]  Mean MAE: 0.2147037 Std MAE: 0.004268\n",
      "R2 CV: [0.88585175 0.92239583 0.89102677 0.90260125 0.91081338 0.89351259]  Mean R2: 0.9010336 Std R2: 0.0125276\n"
     ]
    }
   ],
   "source": [
    "rmse_tuned_booster, mae_tuned_booster, r2_tuned_booster = cv_rmse(tuned_booster, X, y)\n",
    "display_cv_scores(rmse_tuned_booster, mae_tuned_booster, r2_tuned_booster)"
   ]
  },
  {
   "cell_type": "code",
   "execution_count": null,
   "id": "452cb326",
   "metadata": {},
   "outputs": [],
   "source": []
  },
  {
   "cell_type": "code",
   "execution_count": null,
   "id": "901dfc88",
   "metadata": {},
   "outputs": [],
   "source": [
    "xgb.XGBRegressor()"
   ]
  },
  {
   "cell_type": "markdown",
   "id": "edc65d76",
   "metadata": {},
   "source": [
    "#### Optuna"
   ]
  },
  {
   "cell_type": "code",
   "execution_count": 14,
   "id": "7d406a0b",
   "metadata": {},
   "outputs": [],
   "source": []
  },
  {
   "cell_type": "code",
   "execution_count": 58,
   "id": "7682b3ef",
   "metadata": {},
   "outputs": [
    {
     "data": {
      "application/vnd.jupyter.widget-view+json": {
       "model_id": "0a08ae60f17549018fd56587a6f482f0",
       "version_major": 2,
       "version_minor": 0
      },
      "text/plain": [
       "  0%|          | 0/100 [00:00<?, ?it/s]"
      ]
     },
     "metadata": {},
     "output_type": "display_data"
    },
    {
     "name": "stdout",
     "output_type": "stream",
     "text": [
      "(0.012730511667245302,)\n",
      "(0.044999157109625924,)\n",
      "(0.08015204864436525,)\n",
      "(0.0016324465763662744,)\n",
      "(0.11871204855141389,)\n",
      "(0.06162537014082194,)\n",
      "(0.0005181018439175284,)\n",
      "(0.00017177059583193733,)\n",
      "(0.08949324305476244,)\n",
      "(0.13261476269855424,)\n",
      "(0.00014822171226050736,)\n",
      "(0.00011960385883675523,)\n",
      "(0.00013146427772250637,)\n",
      "(0.7936677179731922,)\n",
      "(0.0017512199417415704,)\n",
      "(0.0004759273766766207,)\n",
      "(0.0005810392356663184,)\n",
      "(0.004087424308440763,)\n",
      "(0.0004488857046820089,)\n",
      "(0.0014180678919022513,)\n",
      "(0.009416949168179707,)\n",
      "(0.011960208940254059,)\n",
      "(0.016114760679431905,)\n",
      "(0.02402974946036048,)\n",
      "(0.02683187664786484,)\n",
      "(0.021778067635271712,)\n",
      "(0.004502132698061235,)\n",
      "(0.2685622510501793,)\n",
      "(0.00403091981598852,)\n",
      "(0.018511092487840473,)\n",
      "(0.005804526913123958,)\n",
      "(0.007351291394834222,)\n",
      "(0.026947924372928155,)\n",
      "(0.047810983039629364,)\n",
      "(0.34856396220856833,)\n",
      "(0.255194762177104,)\n",
      "(0.5305785671607657,)\n",
      "(0.00026111709828403505,)\n",
      "(0.1648835153573188,)\n",
      "(0.0024140702825289173,)\n",
      "(0.0010217209015869518,)\n",
      "(0.035327631600039336,)\n",
      "(0.06849161178802302,)\n",
      "(0.03424772963156354,)\n",
      "(0.007080244255880569,)\n",
      "(0.04737174049992679,)\n",
      "(0.08885588947069138,)\n",
      "(0.21819729729687087,)\n",
      "(0.5723033570248707,)\n",
      "(0.38328630564629124,)\n",
      "(0.1362863371218316,)\n",
      "(0.01476846461583362,)\n",
      "(0.013101745895682157,)\n",
      "(0.036455956486022616,)\n",
      "(0.0002000108972252568,)\n",
      "(0.012483411578925666,)\n",
      "(0.002724672094023433,)\n",
      "(0.008306455524325105,)\n",
      "(0.00093530010944084,)\n",
      "(0.10211664385603361,)\n",
      "(0.05609970457041856,)\n",
      "(0.030828330015334204,)\n",
      "(0.0310918477753846,)\n",
      "(0.018271711980483572,)\n",
      "(0.010193577733348932,)\n",
      "(0.023603624089515968,)\n",
      "(0.03863704925299039,)\n",
      "(0.015004344812578396,)\n",
      "(0.0003469513823536774,)\n",
      "(0.005239213616779392,)\n",
      "(0.00010092414363311544,)\n",
      "(0.0050916543208508625,)\n",
      "(0.003211420250286053,)\n",
      "(0.003387090253050885,)\n",
      "(0.006937781374057928,)\n",
      "(0.07294883631649651,)\n",
      "(0.0017925676501870497,)\n",
      "(0.026777129606514363,)\n",
      "(0.0006981822610115387,)\n",
      "(0.01935164309524499,)\n",
      "(0.008158463839707515,)\n",
      "(0.010408628075259899,)\n",
      "(0.011326257620714302,)\n",
      "(0.015179227977663917,)\n",
      "(0.01096866792126345,)\n",
      "(0.014905052703888125,)\n",
      "(0.007182657823801802,)\n",
      "(0.020808964494360174,)\n",
      "(0.009786899318966242,)\n",
      "(0.009412628890663839,)\n",
      "(0.00599759429824959,)\n",
      "(0.010715975413116731,)\n",
      "(0.010152857118970567,)\n",
      "(0.013580882177980277,)\n",
      "(0.009103806718631278,)\n",
      "(0.015688441023363996,)\n",
      "(0.011604107996063782,)\n",
      "(0.004358044927359523,)\n",
      "(0.00620006732336345,)\n",
      "(0.009035712780849922,)\n"
     ]
    },
    {
     "data": {
      "text/plain": [
       "{'x': 1.1179954789115607,\n",
       " 'y': -2.8798612924382065,\n",
       " 'n_estimators': 1600,\n",
       " 'learning_rate': 0.015179227977663917}"
      ]
     },
     "execution_count": 58,
     "metadata": {},
     "output_type": "execute_result"
    }
   ],
   "source": [
    "\n",
    "\n",
    "def objective(trial):\n",
    "    x = trial.suggest_float(\"x\", -7, 7)\n",
    "    y = trial.suggest_float(\"y\", -7, 7)\n",
    "    z = trial.suggest_int(\"n_estimators\", 100, 5000, step=100),\n",
    "    a = trial.suggest_loguniform('learning_rate', 0.0001, 0.8),\n",
    "    print(a)\n",
    "    return (x - 1) ** 2 + (y + 3) ** 2\n",
    "\n",
    "study = optuna.create_study(direction='minimize')\n",
    "study.optimize(objective, n_trials=100, show_progress_bar =True)  # number of iterations\n",
    "\n",
    "study.best_params"
   ]
  },
  {
   "cell_type": "code",
   "execution_count": 51,
   "id": "34d62d4b",
   "metadata": {},
   "outputs": [
    {
     "data": {
      "application/vnd.jupyter.widget-view+json": {
       "model_id": "130e02a196a1466d8b7b7165efc392f0",
       "version_major": 2,
       "version_minor": 0
      },
      "text/plain": [
       "  0%|          | 0/100 [00:00<?, ?it/s]"
      ]
     },
     "metadata": {},
     "output_type": "display_data"
    },
    {
     "data": {
      "text/plain": [
       "{'x': 1.0712597203407042, 'y': -3.0112053355468005}"
      ]
     },
     "execution_count": 51,
     "metadata": {},
     "output_type": "execute_result"
    }
   ],
   "source": [
    "study.optimize(objective, n_trials=100, show_progress_bar =True)\n",
    "study.best_params"
   ]
  },
  {
   "cell_type": "code",
   "execution_count": 52,
   "id": "4b717668",
   "metadata": {},
   "outputs": [
    {
     "data": {
      "text/plain": [
       "200"
      ]
     },
     "execution_count": 52,
     "metadata": {},
     "output_type": "execute_result"
    }
   ],
   "source": [
    "len(study.trials)"
   ]
  },
  {
   "cell_type": "code",
   "execution_count": 53,
   "id": "7d514ec1",
   "metadata": {},
   "outputs": [
    {
     "data": {
      "application/vnd.jupyter.widget-view+json": {
       "model_id": "306e5c0c5ce740c88174b3df5b8fa55c",
       "version_major": 2,
       "version_minor": 0
      },
      "text/plain": [
       "  0%|          | 0/100 [00:00<?, ?it/s]"
      ]
     },
     "metadata": {},
     "output_type": "display_data"
    },
    {
     "data": {
      "text/plain": [
       "{'x': 0.996163939832468, 'y': -3.0552198235751}"
      ]
     },
     "execution_count": 53,
     "metadata": {},
     "output_type": "execute_result"
    }
   ],
   "source": [
    "study.optimize(objective, n_trials=100, show_progress_bar =True)\n",
    "study.best_params"
   ]
  },
  {
   "cell_type": "code",
   "execution_count": null,
   "id": "d959f65c",
   "metadata": {},
   "outputs": [],
   "source": []
  },
  {
   "cell_type": "code",
   "execution_count": null,
   "id": "cf0aad09",
   "metadata": {},
   "outputs": [],
   "source": []
  },
  {
   "cell_type": "code",
   "execution_count": null,
   "id": "3d4c2032",
   "metadata": {},
   "outputs": [],
   "source": []
  },
  {
   "cell_type": "code",
   "execution_count": 170,
   "id": "a03098b5",
   "metadata": {},
   "outputs": [],
   "source": [
    "def objective(trial, X, y, cv, scoring):\n",
    "    params = {\n",
    "        \"max_depth\": trial.suggest_int(\"max_depth\", 3, 9),\n",
    "        'min_child_weight': trial.suggest_int(\"min_child_weight\", 1, 9),\n",
    "        'gamma': trial.suggest_float(\"gamma\", 0., 5, step=0.001),\n",
    "        'max_delta_step': trial.suggest_int(\"max_delta_step\", -5, 5),\n",
    "        'colsample_bytree': trial.suggest_float(\"colsample_bytree\", 0., 1., step=0.05),\n",
    "        'subsample': trial.suggest_float(\"subsample\", 0.5, 1., step=0.05),\n",
    "        'reg_alpha':  trial.suggest_float(\"reg_alpha\", 0., 6., step=0.001),\n",
    "        'reg_lambda': trial.suggest_float(\"reg_lambda\", 0., 6., step=0.001),\n",
    "        'learning_rate': trial.suggest_loguniform('learning_rate', 0.0001, 0.1),\n",
    "        'n_estimators': trial.suggest_int(\"n_estimators\", 50, 900, step=25),\n",
    "        \n",
    "    }\n",
    "    \n",
    "    \n",
    "    gr_reg = xgb.XGBRegressor(**params)\n",
    "    scores = cross_validate(gr_reg, X, y, cv=cv, scoring=scoring, n_jobs=2)\n",
    "    \n",
    "    rmse = np.sqrt(-scores[\"test_score\"].mean())\n",
    "\n",
    "    return rmse\n",
    "\n",
    "\n"
   ]
  },
  {
   "cell_type": "code",
   "execution_count": null,
   "id": "1319a1c0",
   "metadata": {},
   "outputs": [],
   "source": []
  },
  {
   "cell_type": "code",
   "execution_count": 145,
   "id": "8e6bff66",
   "metadata": {},
   "outputs": [
    {
     "data": {
      "application/vnd.jupyter.widget-view+json": {
       "model_id": "19424e9092d14465b1ad953aa223b947",
       "version_major": 2,
       "version_minor": 0
      },
      "text/plain": [
       "0it [00:00, ?it/s]"
      ]
     },
     "metadata": {},
     "output_type": "display_data"
    },
    {
     "name": "stdout",
     "output_type": "stream",
     "text": [
      "Optimized RMSE: 0.30905\n",
      "Wall time: 1h 40min 2s\n"
     ]
    }
   ],
   "source": [
    "%%time\n",
    "\n",
    "sampler = optuna.samplers.CmaEsSampler(seed=7)\n",
    "\n",
    "# Create study that minimizes\n",
    "study = optuna.create_study(direction=\"minimize\", sampler=sampler)\n",
    "\n",
    "# Pass additional arguments inside another function\n",
    "func = lambda trial: objective(trial, X, y, cv=kfolds, scoring=\"neg_mean_squared_error\")\n",
    "\n",
    "\n",
    "study.optimize(func, timeout=60*100, show_progress_bar =True)\n",
    "\n",
    "# print(f\"Base RMSE     : {rmse:.5f}\")\n",
    "print(f\"Optimized RMSE: {study.best_value:.5f}\")"
   ]
  },
  {
   "cell_type": "code",
   "execution_count": 146,
   "id": "d4c44d2b",
   "metadata": {},
   "outputs": [
    {
     "data": {
      "image/png": "[encoded data removed]",
      "text/plain": [
       "<Figure size 432x288 with 1 Axes>"
      ]
     },
     "metadata": {},
     "output_type": "display_data"
    }
   ],
   "source": [
    "optuna.visualization.matplotlib.plot_optimization_history(study);"
   ]
  },
  {
   "cell_type": "code",
   "execution_count": 147,
   "id": "5872d712",
   "metadata": {},
   "outputs": [
    {
     "data": {
      "text/plain": [
       "(0.3090506102670145,\n",
       " {'max_depth': 3,\n",
       "  'min_child_weight': 4,\n",
       "  'gamma': 0.044,\n",
       "  'max_delta_step': 2,\n",
       "  'colsample_bytree': 0.30000000000000004,\n",
       "  'subsample': 0.75,\n",
       "  'reg_alpha': 0.6930000000000001,\n",
       "  'reg_lambda': 4.798,\n",
       "  'learning_rate': 0.04365214860451398,\n",
       "  'n_estimators': 475})"
      ]
     },
     "execution_count": 147,
     "metadata": {},
     "output_type": "execute_result"
    }
   ],
   "source": [
    "study.best_value, study.best_params"
   ]
  },
  {
   "cell_type": "code",
   "execution_count": 171,
   "id": "07a80604",
   "metadata": {},
   "outputs": [
    {
     "data": {
      "application/vnd.jupyter.widget-view+json": {
       "model_id": "3260e725eaf04281a61a459dfd818539",
       "version_major": 2,
       "version_minor": 0
      },
      "text/plain": [
       "0it [00:00, ?it/s]"
      ]
     },
     "metadata": {},
     "output_type": "display_data"
    },
    {
     "name": "stdout",
     "output_type": "stream",
     "text": [
      "Optimized RMSE: 0.30905\n"
     ]
    }
   ],
   "source": [
    "# Pass additional arguments inside another function\n",
    "func = lambda trial: objective(trial, X, y, cv=kfolds, scoring=\"neg_mean_squared_error\")\n",
    "\n",
    "\n",
    "study.optimize(func, timeout=60*10, show_progress_bar =True)\n",
    "\n",
    "# print(f\"Base RMSE     : {rmse:.5f}\")\n",
    "print(f\"Optimized RMSE: {study.best_value:.5f}\")"
   ]
  },
  {
   "cell_type": "code",
   "execution_count": 172,
   "id": "cdeed056",
   "metadata": {},
   "outputs": [
    {
     "data": {
      "image/png": "[encoded data removed]",
      "text/plain": [
       "<Figure size 432x288 with 1 Axes>"
      ]
     },
     "metadata": {},
     "output_type": "display_data"
    }
   ],
   "source": [
    "optuna.visualization.matplotlib.plot_optimization_history(study);"
   ]
  },
  {
   "cell_type": "code",
   "execution_count": 173,
   "id": "98b692d0",
   "metadata": {},
   "outputs": [
    {
     "data": {
      "text/plain": [
       "(0.3090506102670145,\n",
       " {'max_depth': 3,\n",
       "  'min_child_weight': 4,\n",
       "  'gamma': 0.044,\n",
       "  'max_delta_step': 2,\n",
       "  'colsample_bytree': 0.30000000000000004,\n",
       "  'subsample': 0.75,\n",
       "  'reg_alpha': 0.6930000000000001,\n",
       "  'reg_lambda': 4.798,\n",
       "  'learning_rate': 0.04365214860451398,\n",
       "  'n_estimators': 475})"
      ]
     },
     "execution_count": 173,
     "metadata": {},
     "output_type": "execute_result"
    }
   ],
   "source": [
    "study.best_value, study.best_params"
   ]
  },
  {
   "cell_type": "code",
   "execution_count": null,
   "id": "d8b752e5",
   "metadata": {},
   "outputs": [],
   "source": []
  },
  {
   "cell_type": "code",
   "execution_count": null,
   "id": "224db363",
   "metadata": {},
   "outputs": [],
   "source": []
  },
  {
   "cell_type": "code",
   "execution_count": null,
   "id": "c27fd78a",
   "metadata": {},
   "outputs": [],
   "source": []
  },
  {
   "cell_type": "code",
   "execution_count": null,
   "id": "fc56d8a0",
   "metadata": {},
   "outputs": [],
   "source": []
  },
  {
   "attachments": {
    "image.png": {
     "image/png": "[encoded data removed]"
    }
   },
   "cell_type": "markdown",
   "id": "c3e315b4",
   "metadata": {},
   "source": [
    "#### BAYES\n",
    " -search_xgbr.best_score_, np.sqrt(-search_xgbr.best_score_)\n",
    " \n",
    "(0.0979280089370345, 0.3129345122178672)\n",
    "\n",
    " dict(search_xgbr.best_params_)\n",
    " \n",
    "{'colsample_bytree': 0.3548862192798395,\n",
    " 'gamma': 0.0,\n",
    " 'learning_rate': 0.03947699668135632,\n",
    " 'max_delta_step': 5,\n",
    " 'max_depth': 23,\n",
    " 'min_child_weight': 9,\n",
    " 'n_estimators': 1024,\n",
    " 'reg_alpha': 0.0,\n",
    " 'reg_lambda': 0.0,\n",
    " 'subsample': 0.5}\n",
    "\n",
    "\n",
    "#### OPTUNA\n",
    "study_xgbr.best_value, study_xgbr.best_params\n",
    "\n",
    "(0.3045265635236234,\n",
    " {'colsample_bytree': 0.25,\n",
    "  'gamma': 0.001,\n",
    "  'learning_rate': 0.02202035690613944,\n",
    "  'max_delta_step': 3,\n",
    "  'max_depth': 3,\n",
    "  'min_child_weight': 8,\n",
    "  'n_estimators': 875,\n",
    "  'reg_alpha': 0.5630000000000001,\n",
    "  'reg_lambda': 3.678,\n",
    "  'subsample': 0.75})\n",
    "  \n",
    "![image.png](attachment:image.png)"
   ]
  },
  {
   "cell_type": "code",
   "execution_count": null,
   "id": "dba75d8f",
   "metadata": {},
   "outputs": [],
   "source": []
  },
  {
   "cell_type": "code",
   "execution_count": 93,
   "id": "a7ebc974",
   "metadata": {},
   "outputs": [],
   "source": [
    "params_xgbr_bayes = {\n",
    "     'colsample_bytree': 0.3548862192798395,\n",
    "     'gamma': 0.0,\n",
    "     'learning_rate': 0.03947699668135632,\n",
    "     'max_delta_step': 5,\n",
    "     'max_depth': 23,\n",
    "     'min_child_weight': 9,\n",
    "     'n_estimators': 1024,\n",
    "     'reg_alpha': 0.0,\n",
    "     'reg_lambda': 0.0,\n",
    "     'subsample': 0.5\n",
    "}\n",
    "\n",
    "\n",
    "params_xgbr_optuna = {\n",
    "    'max_depth': 3,\n",
    "  'min_child_weight': 4,\n",
    "  'gamma': 0.044,\n",
    "  'max_delta_step': 2,\n",
    "  'colsample_bytree': 0.3,\n",
    "  'subsample': 0.75,\n",
    "  'reg_alpha': 0.693,\n",
    "  'reg_lambda': 4.798,\n",
    "  'learning_rate': 0.044,\n",
    "  'n_estimators': 500\n",
    "}\n",
    "\n",
    "\n",
    "base_xgbr_booster = xgb.XGBRegressor()\n",
    "\n",
    "tuned_xgbr_booster_bayes = xgb.XGBRegressor(**params_xgbr_bayes, eval_metric='rmse')\n",
    "\n",
    "tuned_xgbr_booster_optuna = xgb.XGBRegressor(**params_xgbr_optuna, eval_metric='rmse')"
   ]
  },
  {
   "cell_type": "code",
   "execution_count": null,
   "id": "e748150b",
   "metadata": {},
   "outputs": [],
   "source": []
  },
  {
   "cell_type": "code",
   "execution_count": null,
   "id": "9a38c929",
   "metadata": {},
   "outputs": [],
   "source": []
  },
  {
   "cell_type": "code",
   "execution_count": 94,
   "id": "08e65994",
   "metadata": {},
   "outputs": [
    {
     "name": "stdout",
     "output_type": "stream",
     "text": [
      "RMSE CV: [0.37217331 0.36705065 0.37461612 0.35171819 0.39630166 0.37565098]  Mean RMSE: 0.3729185 Std RMSE: 0.0131755\n",
      "MAE CV: [0.25395876 0.25683498 0.25731089 0.25367309 0.27991269 0.25754573]  Mean MAE: 0.2598727 Std MAE: 0.0090941\n",
      "R2 CV: [0.84321321 0.87970012 0.85574199 0.87344126 0.85168144 0.8498968 ]  Mean R2: 0.8589458 Std R2: 0.0131231\n"
     ]
    }
   ],
   "source": [
    "## BASE\n",
    "\n",
    "rmse_base_xgbr_booster, mae_base_xgbr_booster, r2_base_xgbr_booster = cv_rmse(base_xgbr_booster, X, y)\n",
    "display_cv_scores(rmse_base_xgbr_booster, mae_base_xgbr_booster, r2_base_xgbr_booster)"
   ]
  },
  {
   "cell_type": "code",
   "execution_count": 95,
   "id": "b7228bb4",
   "metadata": {},
   "outputs": [
    {
     "name": "stdout",
     "output_type": "stream",
     "text": [
      "RMSE CV: [0.31707715 0.29288039 0.3215619  0.31484674 0.32497068 0.31603741]  Mean RMSE: 0.3145624 Std RMSE: 0.0102958\n",
      "MAE CV: [0.2237736  0.21213722 0.21882931 0.22011677 0.2313492  0.22265363]  Mean MAE: 0.2214766 Std MAE: 0.0057765\n",
      "R2 CV: [0.88619826 0.92340617 0.89370908 0.8985853  0.90026857 0.8937576 ]  Mean R2: 0.8993208 Std R2: 0.0116632\n"
     ]
    }
   ],
   "source": [
    "## BAYES\n",
    "\n",
    "rmse_tuned_xgbr_booster_bayes, mae_tuned_xgbr_booster_bayes, r2_tuned_xgbr_booster_bayes = cv_rmse(tuned_xgbr_booster_bayes, \n",
    "                                                                                                      X, y)\n",
    "display_cv_scores(rmse_tuned_xgbr_booster_bayes, mae_tuned_xgbr_booster_bayes, r2_tuned_xgbr_booster_bayes)"
   ]
  },
  {
   "cell_type": "code",
   "execution_count": 96,
   "id": "a8449955",
   "metadata": {},
   "outputs": [
    {
     "name": "stdout",
     "output_type": "stream",
     "text": [
      "RMSE CV: [0.31407705 0.28005    0.32237648 0.29848934 0.31968095 0.31153793]  Mean RMSE: 0.307702 Std RMSE: 0.0145126\n",
      "MAE CV: [0.21680737 0.20483974 0.20934554 0.20973705 0.22233956 0.21254895]  Mean MAE: 0.212603 Std MAE: 0.0056506\n",
      "R2 CV: [0.88834159 0.92996997 0.89316988 0.90884927 0.90348891 0.89676124]  Mean R2: 0.9034301 Std R2: 0.0136085\n"
     ]
    }
   ],
   "source": [
    "## OPTUNA\n",
    "\n",
    "rmse_tuned_xgbr_booster_optuna, mae_tuned_xgbr_booster_optuna, r2_tuned_xgbr_booster_optuna = cv_rmse(tuned_xgbr_booster_optuna, \n",
    "                                                                                                      X, y)\n",
    "display_cv_scores(rmse_tuned_xgbr_booster_optuna, mae_tuned_xgbr_booster_optuna, r2_tuned_xgbr_booster_optuna)"
   ]
  },
  {
   "cell_type": "code",
   "execution_count": null,
   "id": "e3315398",
   "metadata": {},
   "outputs": [],
   "source": []
  },
  {
   "cell_type": "code",
   "execution_count": null,
   "id": "18c139ec",
   "metadata": {},
   "outputs": [],
   "source": []
  },
  {
   "cell_type": "code",
   "execution_count": null,
   "id": "0dfe8914",
   "metadata": {},
   "outputs": [],
   "source": []
  },
  {
   "cell_type": "code",
   "execution_count": 69,
   "id": "c7fdbcc4",
   "metadata": {},
   "outputs": [],
   "source": [
    "# xgbreg = xgb.XGBRegressor()\n",
    "# param_distributions = {\n",
    "#     \"max_depth\": optuna.distributions.IntUniformDistribution(3, 9),\n",
    "#         'min_child_weight': optuna.distributions.IntUniformDistribution(1, 9),\n",
    "#         'gamma': optuna.distributions.DiscreteUniformDistribution(0., 5, 0.001),\n",
    "#         'max_delta_step': optuna.distributions.IntUniformDistribution(-5, 5),\n",
    "#         'colsample_bytree': optuna.distributions.DiscreteUniformDistribution(0., 1., 0.05),\n",
    "#         'subsample': optuna.distributions.DiscreteUniformDistribution(0.5, 1., 0.05),\n",
    "#         'reg_alpha':  optuna.distributions.DiscreteUniformDistribution(0., 10., 0.001),\n",
    "#         'reg_lambda': optuna.distributions.DiscreteUniformDistribution(0., 10., 0.001),\n",
    "#         'learning_rate': optuna.distributions.LogUniformDistribution(0.0001, 0.8),\n",
    "#         'n_estimators': optuna.distributions.IntUniformDistribution(50, 900, step=25)\n",
    "# }\n",
    "# optuna_search = optuna.integration.OptunaSearchCV(\n",
    "#     xgbreg,\n",
    "#     param_distributions,\n",
    "#     cv=kfolds,\n",
    "#     n_trials=10,\n",
    "#     random_state=42,\n",
    "#     verbose=5\n",
    "    \n",
    "# )\n",
    "# optuna_search.fit(X, y) \n",
    "\n",
    "# optuna_search.best_params_, optuna_search.best_score_"
   ]
  },
  {
   "cell_type": "code",
   "execution_count": null,
   "id": "6bd64785",
   "metadata": {},
   "outputs": [],
   "source": []
  },
  {
   "cell_type": "code",
   "execution_count": null,
   "id": "1a8c4b8e",
   "metadata": {},
   "outputs": [],
   "source": []
  },
  {
   "cell_type": "code",
   "execution_count": null,
   "id": "63d83d26",
   "metadata": {},
   "outputs": [],
   "source": []
  },
  {
   "cell_type": "code",
   "execution_count": null,
   "id": "9cf7d856",
   "metadata": {},
   "outputs": [],
   "source": []
  },
  {
   "cell_type": "code",
   "execution_count": null,
   "id": "5001234d",
   "metadata": {},
   "outputs": [],
   "source": []
  },
  {
   "cell_type": "code",
   "execution_count": null,
   "id": "09f38cd9",
   "metadata": {},
   "outputs": [],
   "source": []
  },
  {
   "cell_type": "markdown",
   "id": "53ee7bca",
   "metadata": {},
   "source": [
    "### LightGBM Regressor"
   ]
  },
  {
   "cell_type": "markdown",
   "id": "5be784fa",
   "metadata": {},
   "source": [
    "##### Select boosting type"
   ]
  },
  {
   "cell_type": "code",
   "execution_count": 14,
   "id": "c3990df1",
   "metadata": {
    "scrolled": true
   },
   "outputs": [
    {
     "name": "stdout",
     "output_type": "stream",
     "text": [
      "Fitting 6 folds for each of 4 candidates, totalling 24 fits\n",
      "[CV] END .................................boosting_type=gbdt; total time=   0.4s\n",
      "[CV] END .................................boosting_type=gbdt; total time=   0.4s\n",
      "[CV] END .................................boosting_type=gbdt; total time=   0.4s\n",
      "[CV] END .................................boosting_type=gbdt; total time=   0.4s\n",
      "[CV] END .................................boosting_type=gbdt; total time=   0.3s\n",
      "[CV] END .................................boosting_type=gbdt; total time=   0.4s\n",
      "[CV] END .................................boosting_type=dart; total time=   0.4s\n",
      "[CV] END .................................boosting_type=dart; total time=   0.4s\n",
      "[CV] END .................................boosting_type=dart; total time=   0.5s\n",
      "[CV] END .................................boosting_type=dart; total time=   0.5s\n",
      "[CV] END .................................boosting_type=dart; total time=   0.4s\n",
      "[CV] END .................................boosting_type=dart; total time=   0.4s\n",
      "[CV] END .................................boosting_type=goss; total time=   0.2s\n",
      "[CV] END .................................boosting_type=goss; total time=   0.2s\n",
      "[CV] END .................................boosting_type=goss; total time=   0.2s\n",
      "[CV] END .................................boosting_type=goss; total time=   0.1s\n",
      "[CV] END .................................boosting_type=goss; total time=   0.1s\n",
      "[CV] END .................................boosting_type=goss; total time=   0.2s\n",
      "[CV] END ...................................boosting_type=rf; total time=   0.0s\n",
      "[CV] END ...................................boosting_type=rf; total time=   0.0s\n",
      "[CV] END ...................................boosting_type=rf; total time=   0.0s\n",
      "[CV] END ...................................boosting_type=rf; total time=   0.0s\n",
      "[CV] END ...................................boosting_type=rf; total time=   0.0s\n",
      "[CV] END ...................................boosting_type=rf; total time=   0.0s\n"
     ]
    }
   ],
   "source": [
    "param_lgbm1 = {\n",
    "    'boosting_type': ['gbdt', 'dart', 'goss', 'rf'] \n",
    "}\n",
    "gridsearch_lgbm1 = GridSearchCV(estimator=lgb.LGBMRegressor(),\n",
    "                          param_grid= param_lgbm1,\n",
    "                          scoring='neg_mean_squared_error',\n",
    "                          cv=kfolds,\n",
    "                               verbose=2)\n",
    "\n",
    "gridsearch_lgbm1 = gridsearch_lgbm1.fit(X, y)"
   ]
  },
  {
   "cell_type": "code",
   "execution_count": 15,
   "id": "1b9b44bc",
   "metadata": {},
   "outputs": [
    {
     "data": {
      "text/plain": [
       "({'boosting_type': 'gbdt'}, 0.11322520468394047)"
      ]
     },
     "execution_count": 15,
     "metadata": {},
     "output_type": "execute_result"
    }
   ],
   "source": [
    "gridsearch_lgbm1.best_params_, -gridsearch_lgbm1.best_score_"
   ]
  },
  {
   "cell_type": "code",
   "execution_count": 16,
   "id": "9b7b8b36",
   "metadata": {},
   "outputs": [
    {
     "data": {
      "text/plain": [
       "({'boosting_type': 'gbdt'}, 0.11322520468394047)"
      ]
     },
     "execution_count": 16,
     "metadata": {},
     "output_type": "execute_result"
    }
   ],
   "source": [
    "best_params_lgbm = gridsearch_lgbm1.best_params_\n",
    "best_params_lgbm, -gridsearch_lgbm1.best_score_"
   ]
  },
  {
   "cell_type": "code",
   "execution_count": null,
   "id": "ce681a6e",
   "metadata": {},
   "outputs": [],
   "source": []
  },
  {
   "cell_type": "markdown",
   "id": "396201c5",
   "metadata": {},
   "source": [
    "###### RandomizeSearch"
   ]
  },
  {
   "cell_type": "code",
   "execution_count": 69,
   "id": "6c76a21f",
   "metadata": {
    "scrolled": true
   },
   "outputs": [],
   "source": [
    "\n",
    "\n",
    "# rand_search_params= {\n",
    "#     'n_estimators': np.linspace(100, 10000, 100, dtype=int),\n",
    "#     'learning_rate': np.logspace(np.log10(0.001), np.log10(0.5), base = 10, num = 100),\n",
    "#     'min_gain_to_split': np.arange(0, 1, 0.05),\n",
    "#     'num_leaves': np.arange(10, 250),\n",
    "#     'max_depth': np.arange(2, 25),\n",
    "#     'max_bin': np.arange(5, 50),\n",
    "#     'min_child_samples':  np.arange(2, 50),\n",
    "#     'reg_alpha': np.linspace(0, 1, 100),\n",
    "#     'reg_lambda': np.linspace(0, 1, 100),\n",
    "#     'subsample': np.arange(0.5, 1., 0.1),\n",
    "#     'subsample_freq' : [4,5,7,10], \n",
    "#     'bagging_seed': [4,5,7,10],\n",
    "#     'feature_fraction_seed': [4,5,7,10],\n",
    "#     'feature_fraction': np.arange(0.5, 1., 0.1)\n",
    "\n",
    "# }\n",
    "\n",
    "# gridsearch_lgbm_rand = RandomizedSearchCV(estimator=lgb.LGBMRegressor(**best_params_lgbm, early_stopping_rounds=30),\n",
    "#                           param_distributions = rand_search_params,\n",
    "#                           scoring='neg_mean_squared_error',\n",
    "#                           cv=kfolds,\n",
    "#                           verbose=2)\n",
    "\n",
    "# gridsearch_lgbm_rand.fit(X, y)"
   ]
  },
  {
   "cell_type": "code",
   "execution_count": null,
   "id": "2cd2c113",
   "metadata": {},
   "outputs": [],
   "source": []
  },
  {
   "cell_type": "markdown",
   "id": "1c7944b3",
   "metadata": {},
   "source": [
    "\n",
    "##### BayesSearch"
   ]
  },
  {
   "cell_type": "code",
   "execution_count": 59,
   "id": "4f3b9931",
   "metadata": {
    "collapsed": true
   },
   "outputs": [
    {
     "name": "stdout",
     "output_type": "stream",
     "text": [
      "Fitting 6 folds for each of 1 candidates, totalling 6 fits\n",
      "Fitting 6 folds for each of 1 candidates, totalling 6 fits\n",
      "Fitting 6 folds for each of 1 candidates, totalling 6 fits\n",
      "Fitting 6 folds for each of 1 candidates, totalling 6 fits\n",
      "Fitting 6 folds for each of 1 candidates, totalling 6 fits\n",
      "Fitting 6 folds for each of 1 candidates, totalling 6 fits\n",
      "Fitting 6 folds for each of 1 candidates, totalling 6 fits\n",
      "Fitting 6 folds for each of 1 candidates, totalling 6 fits\n",
      "Fitting 6 folds for each of 1 candidates, totalling 6 fits\n",
      "Fitting 6 folds for each of 1 candidates, totalling 6 fits\n",
      "Fitting 6 folds for each of 1 candidates, totalling 6 fits\n",
      "Fitting 6 folds for each of 1 candidates, totalling 6 fits\n",
      "Fitting 6 folds for each of 1 candidates, totalling 6 fits\n",
      "Fitting 6 folds for each of 1 candidates, totalling 6 fits\n",
      "Fitting 6 folds for each of 1 candidates, totalling 6 fits\n",
      "Fitting 6 folds for each of 1 candidates, totalling 6 fits\n",
      "Fitting 6 folds for each of 1 candidates, totalling 6 fits\n",
      "Fitting 6 folds for each of 1 candidates, totalling 6 fits\n",
      "Fitting 6 folds for each of 1 candidates, totalling 6 fits\n",
      "Fitting 6 folds for each of 1 candidates, totalling 6 fits\n",
      "Fitting 6 folds for each of 1 candidates, totalling 6 fits\n",
      "Fitting 6 folds for each of 1 candidates, totalling 6 fits\n",
      "Fitting 6 folds for each of 1 candidates, totalling 6 fits\n",
      "Fitting 6 folds for each of 1 candidates, totalling 6 fits\n",
      "Fitting 6 folds for each of 1 candidates, totalling 6 fits\n",
      "Fitting 6 folds for each of 1 candidates, totalling 6 fits\n",
      "Fitting 6 folds for each of 1 candidates, totalling 6 fits\n",
      "Fitting 6 folds for each of 1 candidates, totalling 6 fits\n",
      "Fitting 6 folds for each of 1 candidates, totalling 6 fits\n",
      "Fitting 6 folds for each of 1 candidates, totalling 6 fits\n",
      "Fitting 6 folds for each of 1 candidates, totalling 6 fits\n",
      "Fitting 6 folds for each of 1 candidates, totalling 6 fits\n",
      "Fitting 6 folds for each of 1 candidates, totalling 6 fits\n",
      "Fitting 6 folds for each of 1 candidates, totalling 6 fits\n",
      "Fitting 6 folds for each of 1 candidates, totalling 6 fits\n",
      "Fitting 6 folds for each of 1 candidates, totalling 6 fits\n",
      "Fitting 6 folds for each of 1 candidates, totalling 6 fits\n",
      "Fitting 6 folds for each of 1 candidates, totalling 6 fits\n",
      "Fitting 6 folds for each of 1 candidates, totalling 6 fits\n",
      "Fitting 6 folds for each of 1 candidates, totalling 6 fits\n",
      "Fitting 6 folds for each of 1 candidates, totalling 6 fits\n",
      "Fitting 6 folds for each of 1 candidates, totalling 6 fits\n",
      "Fitting 6 folds for each of 1 candidates, totalling 6 fits\n",
      "Fitting 6 folds for each of 1 candidates, totalling 6 fits\n",
      "Fitting 6 folds for each of 1 candidates, totalling 6 fits\n",
      "Fitting 6 folds for each of 1 candidates, totalling 6 fits\n",
      "Fitting 6 folds for each of 1 candidates, totalling 6 fits\n",
      "Fitting 6 folds for each of 1 candidates, totalling 6 fits\n",
      "Fitting 6 folds for each of 1 candidates, totalling 6 fits\n",
      "Fitting 6 folds for each of 1 candidates, totalling 6 fits\n",
      "Fitting 6 folds for each of 1 candidates, totalling 6 fits\n",
      "Fitting 6 folds for each of 1 candidates, totalling 6 fits\n",
      "Fitting 6 folds for each of 1 candidates, totalling 6 fits\n",
      "Fitting 6 folds for each of 1 candidates, totalling 6 fits\n",
      "Fitting 6 folds for each of 1 candidates, totalling 6 fits\n",
      "Fitting 6 folds for each of 1 candidates, totalling 6 fits\n",
      "Fitting 6 folds for each of 1 candidates, totalling 6 fits\n",
      "Fitting 6 folds for each of 1 candidates, totalling 6 fits\n",
      "Fitting 6 folds for each of 1 candidates, totalling 6 fits\n",
      "Fitting 6 folds for each of 1 candidates, totalling 6 fits\n",
      "Fitting 6 folds for each of 1 candidates, totalling 6 fits\n",
      "Fitting 6 folds for each of 1 candidates, totalling 6 fits\n",
      "Fitting 6 folds for each of 1 candidates, totalling 6 fits\n",
      "Fitting 6 folds for each of 1 candidates, totalling 6 fits\n",
      "Fitting 6 folds for each of 1 candidates, totalling 6 fits\n",
      "Fitting 6 folds for each of 1 candidates, totalling 6 fits\n",
      "Fitting 6 folds for each of 1 candidates, totalling 6 fits\n",
      "Fitting 6 folds for each of 1 candidates, totalling 6 fits\n",
      "Fitting 6 folds for each of 1 candidates, totalling 6 fits\n",
      "Fitting 6 folds for each of 1 candidates, totalling 6 fits\n",
      "Fitting 6 folds for each of 1 candidates, totalling 6 fits\n",
      "Fitting 6 folds for each of 1 candidates, totalling 6 fits\n",
      "Fitting 6 folds for each of 1 candidates, totalling 6 fits\n",
      "Fitting 6 folds for each of 1 candidates, totalling 6 fits\n",
      "Fitting 6 folds for each of 1 candidates, totalling 6 fits\n",
      "Fitting 6 folds for each of 1 candidates, totalling 6 fits\n",
      "Fitting 6 folds for each of 1 candidates, totalling 6 fits\n",
      "Fitting 6 folds for each of 1 candidates, totalling 6 fits\n",
      "Fitting 6 folds for each of 1 candidates, totalling 6 fits\n",
      "Fitting 6 folds for each of 1 candidates, totalling 6 fits\n",
      "Fitting 6 folds for each of 1 candidates, totalling 6 fits\n",
      "Fitting 6 folds for each of 1 candidates, totalling 6 fits\n",
      "Fitting 6 folds for each of 1 candidates, totalling 6 fits\n",
      "Fitting 6 folds for each of 1 candidates, totalling 6 fits\n",
      "Fitting 6 folds for each of 1 candidates, totalling 6 fits\n",
      "Fitting 6 folds for each of 1 candidates, totalling 6 fits\n",
      "Fitting 6 folds for each of 1 candidates, totalling 6 fits\n",
      "Fitting 6 folds for each of 1 candidates, totalling 6 fits\n",
      "Fitting 6 folds for each of 1 candidates, totalling 6 fits\n",
      "Fitting 6 folds for each of 1 candidates, totalling 6 fits\n",
      "Fitting 6 folds for each of 1 candidates, totalling 6 fits\n",
      "Fitting 6 folds for each of 1 candidates, totalling 6 fits\n",
      "Fitting 6 folds for each of 1 candidates, totalling 6 fits\n",
      "Fitting 6 folds for each of 1 candidates, totalling 6 fits\n",
      "Fitting 6 folds for each of 1 candidates, totalling 6 fits\n",
      "Fitting 6 folds for each of 1 candidates, totalling 6 fits\n",
      "Fitting 6 folds for each of 1 candidates, totalling 6 fits\n",
      "Fitting 6 folds for each of 1 candidates, totalling 6 fits\n",
      "Fitting 6 folds for each of 1 candidates, totalling 6 fits\n",
      "Fitting 6 folds for each of 1 candidates, totalling 6 fits\n"
     ]
    }
   ],
   "source": [
    "# https://neptune.ai/blog/lightgbm-parameters-guide\n",
    "\n",
    "param_lgbm2 = {\n",
    "    'n_estimators': np.linspace(100, 10000, 100, dtype=int),\n",
    "    'learning_rate': np.logspace(np.log10(0.001), np.log10(0.5), base = 10, num = 100),\n",
    "    'min_gain_to_split': np.arange(0, 1, 0.05),\n",
    "    'num_leaves': np.arange(10, 250),\n",
    "    'max_depth': np.arange(2, 25),\n",
    "    'max_bin': np.arange(5, 50),\n",
    "    'min_child_samples':  np.arange(2, 50),\n",
    "    'reg_alpha': np.linspace(0, 1, 100),\n",
    "    'reg_lambda': np.linspace(0, 1, 100),\n",
    "    'subsample': np.arange(0.5, 1., 0.1),\n",
    "    'subsample_freq' : [4,5,7,10], \n",
    "    'bagging_seed': [4,5,7,10],\n",
    "    'feature_fraction_seed': [4,5,7,10],\n",
    "    'feature_fraction': np.arange(0.5, 1., 0.1)\n",
    "}\n",
    "\n",
    "\n",
    "gridsearch_lgbm2 = skopt.BayesSearchCV(estimator=lgb.LGBMRegressor(**best_params_lgbm, silent=True, ),\n",
    "                          search_spaces = param_lgbm2,\n",
    "                          scoring='neg_mean_squared_error',\n",
    "                          cv=kfolds,\n",
    "                          verbose=3,\n",
    "                          n_jobs=6,\n",
    "                          n_iter=100,\n",
    "                          random_state=42)\n",
    "\n",
    "gridsearch_lgbm2_ = gridsearch_lgbm2.fit(X, y)"
   ]
  },
  {
   "cell_type": "code",
   "execution_count": 61,
   "id": "79b5c533",
   "metadata": {},
   "outputs": [
    {
     "data": {
      "text/plain": [
       "BayesSearchCV(cv=KFold(n_splits=6, random_state=42, shuffle=True),\n",
       "              estimator=LGBMRegressor(), n_iter=100, n_jobs=6, random_state=42,\n",
       "              scoring='neg_mean_squared_error',\n",
       "              search_spaces={'bagging_seed': [4, 5, 7, 10],\n",
       "                             'feature_fraction': array([0.5, 0.6, 0.7, 0.8, 0.9]),\n",
       "                             'feature_fraction_seed': [4, 5, 7, 10],\n",
       "                             'learning_rate': array([0.001     , 0.00106479, 0.00113377, 0.00120722, 0.001...\n",
       "       0.70707071, 0.71717172, 0.72727273, 0.73737374, 0.74747475,\n",
       "       0.75757576, 0.76767677, 0.77777778, 0.78787879, 0.7979798 ,\n",
       "       0.80808081, 0.81818182, 0.82828283, 0.83838384, 0.84848485,\n",
       "       0.85858586, 0.86868687, 0.87878788, 0.88888889, 0.8989899 ,\n",
       "       0.90909091, 0.91919192, 0.92929293, 0.93939394, 0.94949495,\n",
       "       0.95959596, 0.96969697, 0.97979798, 0.98989899, 1.        ]),\n",
       "                             'subsample': array([0.5, 0.6, 0.7, 0.8, 0.9]),\n",
       "                             'subsample_freq': [4, 5, 7, 10]},\n",
       "              verbose=3)"
      ]
     },
     "execution_count": 61,
     "metadata": {},
     "output_type": "execute_result"
    }
   ],
   "source": [
    "gridsearch_lgbm2_"
   ]
  },
  {
   "cell_type": "code",
   "execution_count": 60,
   "id": "2e703044",
   "metadata": {},
   "outputs": [
    {
     "data": {
      "text/plain": [
       "0.09781439559236388"
      ]
     },
     "execution_count": 60,
     "metadata": {},
     "output_type": "execute_result"
    }
   ],
   "source": [
    "-gridsearch_lgbm2.best_score_"
   ]
  },
  {
   "cell_type": "code",
   "execution_count": 176,
   "id": "f0632240",
   "metadata": {},
   "outputs": [
    {
     "data": {
      "text/plain": [
       "0.31275293058956916"
      ]
     },
     "execution_count": 176,
     "metadata": {},
     "output_type": "execute_result"
    }
   ],
   "source": [
    "np.sqrt(0.09781439559236388)"
   ]
  },
  {
   "cell_type": "code",
   "execution_count": 62,
   "id": "728575a2",
   "metadata": {},
   "outputs": [
    {
     "data": {
      "text/plain": [
       "LGBMRegressor(bagging_seed=7, feature_fraction=0.5, feature_fraction_seed=10,\n",
       "              learning_rate=0.011567262938827608, max_bin=41, max_depth=7,\n",
       "              min_child_samples=19, min_gain_to_split=0.05, n_estimators=10000,\n",
       "              num_leaves=213, reg_alpha=0.4444444444444445,\n",
       "              reg_lambda=0.8080808080808082, subsample=0.7, subsample_freq=7)"
      ]
     },
     "execution_count": 62,
     "metadata": {},
     "output_type": "execute_result"
    }
   ],
   "source": [
    "gridsearch_lgbm2.best_estimator_"
   ]
  },
  {
   "cell_type": "code",
   "execution_count": 63,
   "id": "ebfa49b1",
   "metadata": {},
   "outputs": [
    {
     "data": {
      "text/plain": [
       "{'bagging_seed': 7,\n",
       " 'feature_fraction': 0.5,\n",
       " 'feature_fraction_seed': 10,\n",
       " 'learning_rate': 0.011567262938827608,\n",
       " 'max_bin': 41,\n",
       " 'max_depth': 7,\n",
       " 'min_child_samples': 19,\n",
       " 'min_gain_to_split': 0.05,\n",
       " 'n_estimators': 10000,\n",
       " 'num_leaves': 213,\n",
       " 'reg_alpha': 0.4444444444444445,\n",
       " 'reg_lambda': 0.8080808080808082,\n",
       " 'subsample': 0.7,\n",
       " 'subsample_freq': 7}"
      ]
     },
     "execution_count": 63,
     "metadata": {},
     "output_type": "execute_result"
    }
   ],
   "source": [
    "dict(gridsearch_lgbm2.best_params_)"
   ]
  },
  {
   "cell_type": "code",
   "execution_count": null,
   "id": "147c9c7c",
   "metadata": {},
   "outputs": [],
   "source": []
  },
  {
   "cell_type": "code",
   "execution_count": 68,
   "id": "3b40beee",
   "metadata": {
    "scrolled": true
   },
   "outputs": [
    {
     "name": "stdout",
     "output_type": "stream",
     "text": [
      "[LightGBM] [Warning] feature_fraction is set=0.5, colsample_bytree=1.0 will be ignored. Current value: feature_fraction=0.5\n",
      "[LightGBM] [Warning] min_gain_to_split is set=0.05, min_split_gain=0.0 will be ignored. Current value: min_gain_to_split=0.05\n",
      "[LightGBM] [Warning] feature_fraction is set=0.5, colsample_bytree=1.0 will be ignored. Current value: feature_fraction=0.5\n",
      "[LightGBM] [Warning] min_gain_to_split is set=0.05, min_split_gain=0.0 will be ignored. Current value: min_gain_to_split=0.05\n",
      "[LightGBM] [Warning] feature_fraction is set=0.5, colsample_bytree=1.0 will be ignored. Current value: feature_fraction=0.5\n",
      "[LightGBM] [Warning] min_gain_to_split is set=0.05, min_split_gain=0.0 will be ignored. Current value: min_gain_to_split=0.05\n",
      "[LightGBM] [Warning] feature_fraction is set=0.5, colsample_bytree=1.0 will be ignored. Current value: feature_fraction=0.5\n",
      "[LightGBM] [Warning] min_gain_to_split is set=0.05, min_split_gain=0.0 will be ignored. Current value: min_gain_to_split=0.05\n",
      "[LightGBM] [Warning] feature_fraction is set=0.5, colsample_bytree=1.0 will be ignored. Current value: feature_fraction=0.5\n",
      "[LightGBM] [Warning] min_gain_to_split is set=0.05, min_split_gain=0.0 will be ignored. Current value: min_gain_to_split=0.05\n",
      "[LightGBM] [Warning] feature_fraction is set=0.5, colsample_bytree=1.0 will be ignored. Current value: feature_fraction=0.5\n",
      "[LightGBM] [Warning] min_gain_to_split is set=0.05, min_split_gain=0.0 will be ignored. Current value: min_gain_to_split=0.05\n",
      "[LightGBM] [Warning] feature_fraction is set=0.5, colsample_bytree=1.0 will be ignored. Current value: feature_fraction=0.5\n",
      "[LightGBM] [Warning] min_gain_to_split is set=0.05, min_split_gain=0.0 will be ignored. Current value: min_gain_to_split=0.05\n",
      "[LightGBM] [Warning] feature_fraction is set=0.5, colsample_bytree=1.0 will be ignored. Current value: feature_fraction=0.5\n",
      "[LightGBM] [Warning] min_gain_to_split is set=0.05, min_split_gain=0.0 will be ignored. Current value: min_gain_to_split=0.05\n",
      "[LightGBM] [Warning] feature_fraction is set=0.5, colsample_bytree=1.0 will be ignored. Current value: feature_fraction=0.5\n",
      "[LightGBM] [Warning] min_gain_to_split is set=0.05, min_split_gain=0.0 will be ignored. Current value: min_gain_to_split=0.05\n",
      "[LightGBM] [Warning] feature_fraction is set=0.5, colsample_bytree=1.0 will be ignored. Current value: feature_fraction=0.5\n",
      "[LightGBM] [Warning] min_gain_to_split is set=0.05, min_split_gain=0.0 will be ignored. Current value: min_gain_to_split=0.05\n",
      "[LightGBM] [Warning] feature_fraction is set=0.5, colsample_bytree=1.0 will be ignored. Current value: feature_fraction=0.5\n",
      "[LightGBM] [Warning] min_gain_to_split is set=0.05, min_split_gain=0.0 will be ignored. Current value: min_gain_to_split=0.05\n",
      "[LightGBM] [Warning] feature_fraction is set=0.5, colsample_bytree=1.0 will be ignored. Current value: feature_fraction=0.5\n",
      "[LightGBM] [Warning] min_gain_to_split is set=0.05, min_split_gain=0.0 will be ignored. Current value: min_gain_to_split=0.05\n",
      "[LightGBM] [Warning] feature_fraction is set=0.5, colsample_bytree=1.0 will be ignored. Current value: feature_fraction=0.5\n",
      "[LightGBM] [Warning] min_gain_to_split is set=0.05, min_split_gain=0.0 will be ignored. Current value: min_gain_to_split=0.05\n",
      "[LightGBM] [Warning] feature_fraction is set=0.5, colsample_bytree=1.0 will be ignored. Current value: feature_fraction=0.5\n",
      "[LightGBM] [Warning] min_gain_to_split is set=0.05, min_split_gain=0.0 will be ignored. Current value: min_gain_to_split=0.05\n",
      "[LightGBM] [Warning] feature_fraction is set=0.5, colsample_bytree=1.0 will be ignored. Current value: feature_fraction=0.5\n",
      "[LightGBM] [Warning] min_gain_to_split is set=0.05, min_split_gain=0.0 will be ignored. Current value: min_gain_to_split=0.05\n",
      "[LightGBM] [Warning] feature_fraction is set=0.5, colsample_bytree=1.0 will be ignored. Current value: feature_fraction=0.5\n",
      "[LightGBM] [Warning] min_gain_to_split is set=0.05, min_split_gain=0.0 will be ignored. Current value: min_gain_to_split=0.05\n",
      "[LightGBM] [Warning] feature_fraction is set=0.5, colsample_bytree=1.0 will be ignored. Current value: feature_fraction=0.5\n",
      "[LightGBM] [Warning] min_gain_to_split is set=0.05, min_split_gain=0.0 will be ignored. Current value: min_gain_to_split=0.05\n",
      "RMSE CV: [0.32558598 0.28861674 0.31698375 0.3073141  0.32049753 0.31613478]  Mean RMSE: 0.3125221 Std RMSE: 0.0120126\n",
      "MAE CV: [0.22060256 0.20809894 0.20497822 0.21545999 0.21703968 0.22123654]  Mean MAE: 0.2145693 Std MAE: 0.0060773\n",
      "R2 CV: [0.88000852 0.92561999 0.89671411 0.90337991 0.90299523 0.89369212]  Mean R2: 0.9004016 Std R2: 0.0136995\n"
     ]
    }
   ],
   "source": [
    "rmse_gridsearch_lgbm2_, mae_gridsearch_lgbm2_, r2_gridsearch_lgbm2_ = cv_rmse(lgb.LGBMRegressor(**dict(gridsearch_lgbm2.best_params_, \n",
    "                                                                                                      silent=True,)), X, y)\n",
    "display_cv_scores(rmse_gridsearch_lgbm2_, mae_gridsearch_lgbm2_, r2_gridsearch_lgbm2_)"
   ]
  },
  {
   "cell_type": "code",
   "execution_count": null,
   "id": "48393cc1",
   "metadata": {},
   "outputs": [],
   "source": []
  },
  {
   "cell_type": "code",
   "execution_count": 70,
   "id": "3b65a14b",
   "metadata": {},
   "outputs": [
    {
     "data": {
      "text/plain": [
       "({'boosting_type': 'gbdt',\n",
       "  'bagging_seed': 7,\n",
       "  'feature_fraction': 0.5,\n",
       "  'feature_fraction_seed': 10,\n",
       "  'learning_rate': 0.011567262938827608,\n",
       "  'max_bin': 41,\n",
       "  'max_depth': 7,\n",
       "  'min_child_samples': 19,\n",
       "  'min_gain_to_split': 0.05,\n",
       "  'n_estimators': 10000,\n",
       "  'num_leaves': 213,\n",
       "  'reg_alpha': 0.4444444444444445,\n",
       "  'reg_lambda': 0.8080808080808082,\n",
       "  'subsample': 0.7,\n",
       "  'subsample_freq': 7},\n",
       " 0.09781439559236388)"
      ]
     },
     "execution_count": 70,
     "metadata": {},
     "output_type": "execute_result"
    }
   ],
   "source": [
    "best_params_lgbm.update(gridsearch_lgbm2.best_params_)\n",
    "best_params_lgbm, -gridsearch_lgbm2.best_score_"
   ]
  },
  {
   "cell_type": "code",
   "execution_count": null,
   "id": "89ca59d7",
   "metadata": {},
   "outputs": [],
   "source": []
  },
  {
   "cell_type": "markdown",
   "id": "29786f1c",
   "metadata": {},
   "source": [
    "#### Optuna"
   ]
  },
  {
   "cell_type": "code",
   "execution_count": null,
   "id": "7ca3e8d5",
   "metadata": {},
   "outputs": [],
   "source": []
  },
  {
   "cell_type": "code",
   "execution_count": 82,
   "id": "971ee8ae",
   "metadata": {},
   "outputs": [],
   "source": [
    "def objective_lgbm(trial, X, y, cv, scoring):\n",
    "    params = {\n",
    "        'boosting_type': 'gbdt',\n",
    "        'n_estimators': trial.suggest_int(\"n_estimators\", 100, 10000, step=25),\n",
    "        'learning_rate': trial.suggest_loguniform('learning_rate', 0.0001, 0.3),\n",
    "        'min_gain_to_split': trial.suggest_float('min_gain_to_split', 0, 1, step= 0.05),\n",
    "        'num_leaves': trial.suggest_int('num_leaves', 5, 100),\n",
    "        'max_depth': trial.suggest_int('max_depth', 2, 25),\n",
    "        'max_bin': trial.suggest_int('max_bin', 5, 50),\n",
    "        'min_child_samples': trial.suggest_int('min_child_samples', 2, 50),\n",
    "        'reg_alpha': trial.suggest_float('reg_alpha', 0., 5., step=0.001),\n",
    "        'reg_lambda': trial.suggest_float('reg_lambda', 0., 5., step=0.001),\n",
    "        'subsample': trial.suggest_float('subsample', 0.5, 0.9999, step=0.001),\n",
    "        'subsample_freq': trial.suggest_int('subsample_freq', 0, 15),\n",
    "        'bagging_seed': trial.suggest_int('bagging_seed', 0, 15),\n",
    "        'feature_fraction_seed': trial.suggest_int('feature_fraction_seed', 0, 15),\n",
    "        'feature_fraction': trial.suggest_float('subsample', 0.5, 0.9999, step=0.001)\n",
    "    }\n",
    "    \n",
    "    gr_reg = lgb.LGBMRegressor(**params)\n",
    "    scores = cross_validate(gr_reg, X, y, cv=cv, scoring=scoring, n_jobs=2)\n",
    "    \n",
    "    rmse = np.sqrt(-scores[\"test_score\"].mean())\n",
    "\n",
    "    return rmse"
   ]
  },
  {
   "cell_type": "code",
   "execution_count": 178,
   "id": "834bc385",
   "metadata": {
    "scrolled": true
   },
   "outputs": [
    {
     "data": {
      "application/vnd.jupyter.widget-view+json": {
       "model_id": "a6038872433f46a79415d8e59a2b54a1",
       "version_major": 2,
       "version_minor": 0
      },
      "text/plain": [
       "0it [00:00, ?it/s]"
      ]
     },
     "metadata": {},
     "output_type": "display_data"
    },
    {
     "name": "stdout",
     "output_type": "stream",
     "text": [
      "Optimized RMSE: 0.31248\n",
      "Wall time: 1h 50min 4s\n"
     ]
    }
   ],
   "source": [
    "%%time\n",
    "\n",
    "sampler_lgbm = optuna.samplers.CmaEsSampler(seed=7)\n",
    "# sampler = optuna.samplers.NSGAIISampler()\n",
    "# sampler = optuna.samplers.RandomSampler(seed=7)\n",
    "\n",
    "# Create study that minimizes\n",
    "study_lgbm = optuna.create_study(direction=\"minimize\", sampler=sampler_lgbm) #, sampler=sampler\n",
    "\n",
    "# Pass additional arguments inside another function\n",
    "func_lgbm = lambda trial: objective_lgbm(trial, X, y, cv=kfolds, scoring=\"neg_mean_squared_error\")\n",
    "\n",
    "\n",
    "study_lgbm.optimize(func_lgbm, timeout=60*110, show_progress_bar =True)\n",
    "\n",
    "# print(f\"Base RMSE     : {rmse:.5f}\")\n",
    "print(f\"Optimized RMSE: {study_lgbm.best_value:.5f}\")"
   ]
  },
  {
   "cell_type": "code",
   "execution_count": 179,
   "id": "ab8ca587",
   "metadata": {},
   "outputs": [
    {
     "data": {
      "image/png": "[encoded data removed]",
      "text/plain": [
       "<Figure size 432x288 with 1 Axes>"
      ]
     },
     "metadata": {},
     "output_type": "display_data"
    }
   ],
   "source": [
    "optuna.visualization.matplotlib.plot_optimization_history(study_lgbm);"
   ]
  },
  {
   "cell_type": "code",
   "execution_count": 180,
   "id": "efe89994",
   "metadata": {},
   "outputs": [
    {
     "data": {
      "text/plain": [
       "(0.3124794834480935,\n",
       " {'n_estimators': 5050,\n",
       "  'learning_rate': 0.013246225789170006,\n",
       "  'min_gain_to_split': 0.1,\n",
       "  'num_leaves': 52,\n",
       "  'max_depth': 13,\n",
       "  'max_bin': 28,\n",
       "  'min_child_samples': 26,\n",
       "  'reg_alpha': 0.153,\n",
       "  'reg_lambda': 4.4750000000000005,\n",
       "  'subsample': 0.61,\n",
       "  'subsample_freq': 5,\n",
       "  'bagging_seed': 8,\n",
       "  'feature_fraction_seed': 4})"
      ]
     },
     "execution_count": 180,
     "metadata": {},
     "output_type": "execute_result"
    }
   ],
   "source": [
    "study_lgbm.best_value, study_lgbm.best_params"
   ]
  },
  {
   "cell_type": "code",
   "execution_count": null,
   "id": "d3345fe6",
   "metadata": {},
   "outputs": [],
   "source": []
  },
  {
   "cell_type": "code",
   "execution_count": null,
   "id": "a83cf335",
   "metadata": {},
   "outputs": [],
   "source": []
  },
  {
   "cell_type": "code",
   "execution_count": null,
   "id": "0039c2bb",
   "metadata": {},
   "outputs": [],
   "source": []
  },
  {
   "cell_type": "code",
   "execution_count": 86,
   "id": "806cabc2",
   "metadata": {},
   "outputs": [
    {
     "data": {
      "application/vnd.jupyter.widget-view+json": {
       "model_id": "fc9800b1b52e41e9a5b14cf1dccec2f7",
       "version_major": 2,
       "version_minor": 0
      },
      "text/plain": [
       "0it [00:00, ?it/s]"
      ]
     },
     "metadata": {},
     "output_type": "display_data"
    },
    {
     "name": "stdout",
     "output_type": "stream",
     "text": [
      "Optimized RMSE: 0.31087\n",
      "Wall time: 3h 3s\n"
     ]
    }
   ],
   "source": [
    "%%time\n",
    "\n",
    "# sampler_lgbm = optuna.samplers.CmaEsSampler(seed=7)\n",
    "# sampler = optuna.samplers.NSGAIISampler()\n",
    "# sampler = optuna.samplers.RandomSampler(seed=7)\n",
    "\n",
    "# Create study that minimizes\n",
    "study_lgbm = optuna.create_study(direction=\"minimize\", sampler=sampler_lgbm) #, sampler=sampler\n",
    "\n",
    "# Pass additional arguments inside another function\n",
    "func_lgbm = lambda trial: objective_lgbm(trial, X, y, cv=kfolds, scoring=\"neg_mean_squared_error\")\n",
    "\n",
    "\n",
    "study_lgbm.optimize(func_lgbm, timeout=60*60*3, show_progress_bar =True)\n",
    "\n",
    "# print(f\"Base RMSE     : {rmse:.5f}\")\n",
    "print(f\"Optimized RMSE: {study_lgbm.best_value:.5f}\")"
   ]
  },
  {
   "cell_type": "code",
   "execution_count": 87,
   "id": "1a6cea4f",
   "metadata": {},
   "outputs": [
    {
     "data": {
      "image/png": "[encoded data removed]",
      "text/plain": [
       "<Figure size 432x288 with 1 Axes>"
      ]
     },
     "metadata": {},
     "output_type": "display_data"
    }
   ],
   "source": [
    "optuna.visualization.matplotlib.plot_optimization_history(study_lgbm);"
   ]
  },
  {
   "cell_type": "code",
   "execution_count": 88,
   "id": "bd7fa6b1",
   "metadata": {},
   "outputs": [
    {
     "data": {
      "text/plain": [
       "(0.31086762747269037,\n",
       " {'n_estimators': 5050,\n",
       "  'learning_rate': 0.004848581842511997,\n",
       "  'min_gain_to_split': 0.0,\n",
       "  'num_leaves': 53,\n",
       "  'max_depth': 11,\n",
       "  'max_bin': 28,\n",
       "  'min_child_samples': 27,\n",
       "  'reg_alpha': 0.053,\n",
       "  'reg_lambda': 2.251,\n",
       "  'subsample': 0.616,\n",
       "  'subsample_freq': 7,\n",
       "  'bagging_seed': 7,\n",
       "  'feature_fraction_seed': 8})"
      ]
     },
     "execution_count": 88,
     "metadata": {},
     "output_type": "execute_result"
    }
   ],
   "source": [
    "study_lgbm.best_value, study_lgbm.best_params"
   ]
  },
  {
   "cell_type": "code",
   "execution_count": null,
   "id": "0338c57f",
   "metadata": {},
   "outputs": [],
   "source": []
  },
  {
   "cell_type": "code",
   "execution_count": null,
   "id": "3d477758",
   "metadata": {},
   "outputs": [],
   "source": []
  },
  {
   "cell_type": "code",
   "execution_count": null,
   "id": "0b581a97",
   "metadata": {},
   "outputs": [],
   "source": []
  },
  {
   "attachments": {
    "image.png": {
     "image/png": "[encoded data removed]"
    }
   },
   "cell_type": "markdown",
   "id": "81508bf5",
   "metadata": {},
   "source": [
    "#### BAYES\n",
    "\n",
    "-search_lgbm_.best_score_, np.sqrt(-search_lgbm_.best_score_)\n",
    "\n",
    "(0.09446497342138672, 0.3073515469643625)\n",
    "\n",
    "dict(search_lgbm_.best_params_)\n",
    "\n",
    "{'bagging_seed': 11,\n",
    " 'feature_fraction': 0.5,\n",
    " 'feature_fraction_seed': 12,\n",
    " 'learning_rate': 0.004013138203882341,\n",
    " 'max_bin': 50,\n",
    " 'max_depth': 2,\n",
    " 'min_child_samples': 2,\n",
    " 'min_gain_to_split': 0.0,\n",
    " 'n_estimators': 9534,\n",
    " 'num_leaves': 10,\n",
    " 'reg_alpha': 1.0,\n",
    " 'reg_lambda': 0.0,\n",
    " 'subsample': 0.557334026744272,\n",
    " 'subsample_freq': 2}\n",
    "\n",
    "\n",
    "#### OPTUNA\n",
    "\n",
    "study_lgbm.best_value, study_lgbm.best_params\n",
    "\n",
    "(0.31086762747269037,\n",
    " {'n_estimators': 5050,\n",
    "  'learning_rate': 0.004848581842511997,\n",
    "  'min_gain_to_split': 0.0,\n",
    "  'num_leaves': 53,\n",
    "  'max_depth': 11,\n",
    "  'max_bin': 28,\n",
    "  'min_child_samples': 27,\n",
    "  'reg_alpha': 0.053,\n",
    "  'reg_lambda': 2.251,\n",
    "  'subsample': 0.616,\n",
    "  'subsample_freq': 7,\n",
    "  'bagging_seed': 7,\n",
    "  'feature_fraction_seed': 8})\n",
    "  \n",
    "![image.png](attachment:image.png)"
   ]
  },
  {
   "cell_type": "code",
   "execution_count": null,
   "id": "12dc7b69",
   "metadata": {},
   "outputs": [],
   "source": []
  },
  {
   "cell_type": "code",
   "execution_count": 110,
   "id": "e449a8e8",
   "metadata": {},
   "outputs": [],
   "source": [
    "params_lgbm_bayes = {\n",
    "     'bagging_seed': 11,\n",
    "     'feature_fraction': 0.5,\n",
    "     'feature_fraction_seed': 12,\n",
    "     'learning_rate': 0.004013138203882341,\n",
    "     'max_bin': 50,\n",
    "     'max_depth': 2,\n",
    "     'min_child_samples': 2,\n",
    "     'min_gain_to_split': 0.0,\n",
    "     'n_estimators': 9534,\n",
    "     'num_leaves': 10,\n",
    "     'reg_alpha': 1.0,\n",
    "     'reg_lambda': 0.0,\n",
    "     'subsample': 0.557334026744272,\n",
    "     'subsample_freq': 2,\n",
    "     'silent': True\n",
    "}\n",
    "\n",
    "\n",
    "params_lgbm_optuna = {\n",
    "      'n_estimators': 5050,\n",
    "      'learning_rate': 0.004848581842511997,\n",
    "      'min_gain_to_split': 0.0,\n",
    "      'num_leaves': 53,\n",
    "      'max_depth': 11,\n",
    "      'max_bin': 28,\n",
    "      'min_child_samples': 27,\n",
    "      'reg_alpha': 0.053,\n",
    "      'reg_lambda': 2.251,\n",
    "      'subsample': 0.616,\n",
    "      'subsample_freq': 7,\n",
    "      'bagging_seed': 7,\n",
    "      'feature_fraction_seed': 8\n",
    "}\n",
    "\n",
    "base_lgbm_booster = lgb.LGBMRegressor()\n",
    "\n",
    "tuned_lgbm_booster_bayes = lgb.LGBMRegressor(**params_lgbm_bayes)\n",
    "\n",
    "tuned_lgbm_booster_optuna = lgb.LGBMRegressor(**params_lgbm_optuna, verbose=-1)"
   ]
  },
  {
   "cell_type": "code",
   "execution_count": 98,
   "id": "96d65bd9",
   "metadata": {},
   "outputs": [
    {
     "name": "stdout",
     "output_type": "stream",
     "text": [
      "RMSE CV: [0.34448026 0.32455455 0.32913793 0.32957013 0.35518478 0.33502902]  Mean RMSE: 0.3363261 Std RMSE: 0.0104857\n",
      "MAE CV: [0.24517961 0.22747823 0.21656203 0.22935602 0.24960427 0.24326186]  Mean MAE: 0.2352403 Std MAE: 0.011642\n",
      "R2 CV: [0.86567783 0.90594354 0.88864163 0.88887848 0.88086143 0.8806051 ]  Mean R2: 0.8851013 Std R2: 0.0120876\n"
     ]
    }
   ],
   "source": [
    "## BASE\n",
    "\n",
    "rmse_base_lgbm_booster, mae_base_lgbm_booster, r2_base_lgbm_booster = cv_rmse(base_lgbm_booster, X, y)\n",
    "display_cv_scores(rmse_base_lgbm_booster, mae_base_lgbm_booster, r2_base_lgbm_booster)"
   ]
  },
  {
   "cell_type": "code",
   "execution_count": 111,
   "id": "251d8ad1",
   "metadata": {
    "scrolled": true
   },
   "outputs": [
    {
     "name": "stdout",
     "output_type": "stream",
     "text": [
      "[LightGBM] [Warning] feature_fraction is set=0.5, colsample_bytree=1.0 will be ignored. Current value: feature_fraction=0.5\n",
      "[LightGBM] [Warning] min_gain_to_split is set=0.0, min_split_gain=0.0 will be ignored. Current value: min_gain_to_split=0.0\n",
      "[LightGBM] [Warning] feature_fraction is set=0.5, colsample_bytree=1.0 will be ignored. Current value: feature_fraction=0.5\n",
      "[LightGBM] [Warning] min_gain_to_split is set=0.0, min_split_gain=0.0 will be ignored. Current value: min_gain_to_split=0.0\n",
      "[LightGBM] [Warning] feature_fraction is set=0.5, colsample_bytree=1.0 will be ignored. Current value: feature_fraction=0.5\n",
      "[LightGBM] [Warning] min_gain_to_split is set=0.0, min_split_gain=0.0 will be ignored. Current value: min_gain_to_split=0.0\n",
      "[LightGBM] [Warning] feature_fraction is set=0.5, colsample_bytree=1.0 will be ignored. Current value: feature_fraction=0.5\n",
      "[LightGBM] [Warning] min_gain_to_split is set=0.0, min_split_gain=0.0 will be ignored. Current value: min_gain_to_split=0.0\n",
      "[LightGBM] [Warning] feature_fraction is set=0.5, colsample_bytree=1.0 will be ignored. Current value: feature_fraction=0.5\n",
      "[LightGBM] [Warning] min_gain_to_split is set=0.0, min_split_gain=0.0 will be ignored. Current value: min_gain_to_split=0.0\n",
      "[LightGBM] [Warning] feature_fraction is set=0.5, colsample_bytree=1.0 will be ignored. Current value: feature_fraction=0.5\n",
      "[LightGBM] [Warning] min_gain_to_split is set=0.0, min_split_gain=0.0 will be ignored. Current value: min_gain_to_split=0.0\n",
      "[LightGBM] [Warning] feature_fraction is set=0.5, colsample_bytree=1.0 will be ignored. Current value: feature_fraction=0.5\n",
      "[LightGBM] [Warning] min_gain_to_split is set=0.0, min_split_gain=0.0 will be ignored. Current value: min_gain_to_split=0.0\n",
      "[LightGBM] [Warning] feature_fraction is set=0.5, colsample_bytree=1.0 will be ignored. Current value: feature_fraction=0.5\n",
      "[LightGBM] [Warning] min_gain_to_split is set=0.0, min_split_gain=0.0 will be ignored. Current value: min_gain_to_split=0.0\n",
      "[LightGBM] [Warning] feature_fraction is set=0.5, colsample_bytree=1.0 will be ignored. Current value: feature_fraction=0.5\n",
      "[LightGBM] [Warning] min_gain_to_split is set=0.0, min_split_gain=0.0 will be ignored. Current value: min_gain_to_split=0.0\n",
      "[LightGBM] [Warning] feature_fraction is set=0.5, colsample_bytree=1.0 will be ignored. Current value: feature_fraction=0.5\n",
      "[LightGBM] [Warning] min_gain_to_split is set=0.0, min_split_gain=0.0 will be ignored. Current value: min_gain_to_split=0.0\n",
      "[LightGBM] [Warning] feature_fraction is set=0.5, colsample_bytree=1.0 will be ignored. Current value: feature_fraction=0.5\n",
      "[LightGBM] [Warning] min_gain_to_split is set=0.0, min_split_gain=0.0 will be ignored. Current value: min_gain_to_split=0.0\n",
      "[LightGBM] [Warning] feature_fraction is set=0.5, colsample_bytree=1.0 will be ignored. Current value: feature_fraction=0.5\n",
      "[LightGBM] [Warning] min_gain_to_split is set=0.0, min_split_gain=0.0 will be ignored. Current value: min_gain_to_split=0.0\n",
      "[LightGBM] [Warning] feature_fraction is set=0.5, colsample_bytree=1.0 will be ignored. Current value: feature_fraction=0.5\n",
      "[LightGBM] [Warning] min_gain_to_split is set=0.0, min_split_gain=0.0 will be ignored. Current value: min_gain_to_split=0.0\n",
      "[LightGBM] [Warning] feature_fraction is set=0.5, colsample_bytree=1.0 will be ignored. Current value: feature_fraction=0.5\n",
      "[LightGBM] [Warning] min_gain_to_split is set=0.0, min_split_gain=0.0 will be ignored. Current value: min_gain_to_split=0.0\n",
      "[LightGBM] [Warning] feature_fraction is set=0.5, colsample_bytree=1.0 will be ignored. Current value: feature_fraction=0.5\n",
      "[LightGBM] [Warning] min_gain_to_split is set=0.0, min_split_gain=0.0 will be ignored. Current value: min_gain_to_split=0.0\n",
      "[LightGBM] [Warning] feature_fraction is set=0.5, colsample_bytree=1.0 will be ignored. Current value: feature_fraction=0.5\n",
      "[LightGBM] [Warning] min_gain_to_split is set=0.0, min_split_gain=0.0 will be ignored. Current value: min_gain_to_split=0.0\n",
      "[LightGBM] [Warning] feature_fraction is set=0.5, colsample_bytree=1.0 will be ignored. Current value: feature_fraction=0.5\n",
      "[LightGBM] [Warning] min_gain_to_split is set=0.0, min_split_gain=0.0 will be ignored. Current value: min_gain_to_split=0.0\n",
      "[LightGBM] [Warning] feature_fraction is set=0.5, colsample_bytree=1.0 will be ignored. Current value: feature_fraction=0.5\n",
      "[LightGBM] [Warning] min_gain_to_split is set=0.0, min_split_gain=0.0 will be ignored. Current value: min_gain_to_split=0.0\n",
      "RMSE CV: [0.31076326 0.27665541 0.32036598 0.31304322 0.30671917 0.31634276]  Mean RMSE: 0.307315 Std RMSE: 0.0143579\n",
      "MAE CV: [0.21344128 0.19952689 0.20935855 0.21756547 0.21435214 0.21892032]  Mean MAE: 0.2121941 Std MAE: 0.0064395\n",
      "R2 CV: [0.89068535 0.9316574  0.89449822 0.89974383 0.91115653 0.8935522 ]  Mean R2: 0.9035489 Std R2: 0.0141995\n"
     ]
    }
   ],
   "source": [
    "## BAYES\n",
    "\n",
    "rmse_tuned_lgbm_booster_bayes, mae_tuned_lgbm_booster_bayes, r2_tuned_lgbm_booster_bayes = cv_rmse(tuned_lgbm_booster_bayes, \n",
    "                                                                                                   X, y)\n",
    "display_cv_scores(rmse_tuned_lgbm_booster_bayes, mae_tuned_lgbm_booster_bayes, r2_tuned_lgbm_booster_bayes)"
   ]
  },
  {
   "cell_type": "code",
   "execution_count": 112,
   "id": "8a5237c3",
   "metadata": {},
   "outputs": [
    {
     "name": "stdout",
     "output_type": "stream",
     "text": [
      "[LightGBM] [Warning] min_gain_to_split is set=0.0, min_split_gain=0.0 will be ignored. Current value: min_gain_to_split=0.0\n",
      "[LightGBM] [Warning] min_gain_to_split is set=0.0, min_split_gain=0.0 will be ignored. Current value: min_gain_to_split=0.0\n",
      "[LightGBM] [Warning] min_gain_to_split is set=0.0, min_split_gain=0.0 will be ignored. Current value: min_gain_to_split=0.0\n",
      "[LightGBM] [Warning] min_gain_to_split is set=0.0, min_split_gain=0.0 will be ignored. Current value: min_gain_to_split=0.0\n",
      "[LightGBM] [Warning] min_gain_to_split is set=0.0, min_split_gain=0.0 will be ignored. Current value: min_gain_to_split=0.0\n",
      "[LightGBM] [Warning] min_gain_to_split is set=0.0, min_split_gain=0.0 will be ignored. Current value: min_gain_to_split=0.0\n",
      "[LightGBM] [Warning] min_gain_to_split is set=0.0, min_split_gain=0.0 will be ignored. Current value: min_gain_to_split=0.0\n",
      "[LightGBM] [Warning] min_gain_to_split is set=0.0, min_split_gain=0.0 will be ignored. Current value: min_gain_to_split=0.0\n",
      "[LightGBM] [Warning] min_gain_to_split is set=0.0, min_split_gain=0.0 will be ignored. Current value: min_gain_to_split=0.0\n",
      "[LightGBM] [Warning] min_gain_to_split is set=0.0, min_split_gain=0.0 will be ignored. Current value: min_gain_to_split=0.0\n",
      "[LightGBM] [Warning] min_gain_to_split is set=0.0, min_split_gain=0.0 will be ignored. Current value: min_gain_to_split=0.0\n",
      "[LightGBM] [Warning] min_gain_to_split is set=0.0, min_split_gain=0.0 will be ignored. Current value: min_gain_to_split=0.0\n",
      "[LightGBM] [Warning] min_gain_to_split is set=0.0, min_split_gain=0.0 will be ignored. Current value: min_gain_to_split=0.0\n",
      "[LightGBM] [Warning] min_gain_to_split is set=0.0, min_split_gain=0.0 will be ignored. Current value: min_gain_to_split=0.0\n",
      "[LightGBM] [Warning] min_gain_to_split is set=0.0, min_split_gain=0.0 will be ignored. Current value: min_gain_to_split=0.0\n",
      "[LightGBM] [Warning] min_gain_to_split is set=0.0, min_split_gain=0.0 will be ignored. Current value: min_gain_to_split=0.0\n",
      "[LightGBM] [Warning] min_gain_to_split is set=0.0, min_split_gain=0.0 will be ignored. Current value: min_gain_to_split=0.0\n",
      "[LightGBM] [Warning] min_gain_to_split is set=0.0, min_split_gain=0.0 will be ignored. Current value: min_gain_to_split=0.0\n",
      "RMSE CV: [0.3295668  0.3002449  0.32427494 0.31641898 0.3291767  0.3129438 ]  Mean RMSE: 0.318771 Std RMSE: 0.0103104\n",
      "MAE CV: [0.22382583 0.2116329  0.21110781 0.2270084  0.23401581 0.22044789]  Mean MAE: 0.2213398 Std MAE: 0.0081518\n",
      "R2 CV: [0.8770564  0.91950582 0.89190794 0.89756991 0.89767026 0.89582738]  Mean R2: 0.8965896 Std R2: 0.0124588\n"
     ]
    }
   ],
   "source": [
    "## OPTUNA\n",
    "\n",
    "rmse_tuned_lgbm_booster_optuna, mae_tuned_lgbm_booster_optuna, r2_tuned_lgbm_booster_optuna = cv_rmse(tuned_lgbm_booster_optuna,\n",
    "                                                                                                      X, y)\n",
    "display_cv_scores(rmse_tuned_lgbm_booster_optuna, mae_tuned_lgbm_booster_optuna, r2_tuned_lgbm_booster_optuna)"
   ]
  },
  {
   "cell_type": "code",
   "execution_count": null,
   "id": "1386e1ae",
   "metadata": {},
   "outputs": [],
   "source": []
  },
  {
   "cell_type": "code",
   "execution_count": null,
   "id": "5cfebf5e",
   "metadata": {},
   "outputs": [],
   "source": []
  },
  {
   "cell_type": "code",
   "execution_count": null,
   "id": "ceeb4ad8",
   "metadata": {},
   "outputs": [],
   "source": []
  },
  {
   "cell_type": "code",
   "execution_count": null,
   "id": "c8249e93",
   "metadata": {},
   "outputs": [],
   "source": []
  },
  {
   "cell_type": "markdown",
   "id": "f0c63838",
   "metadata": {},
   "source": [
    "### GradientBoostingRegressor"
   ]
  },
  {
   "cell_type": "code",
   "execution_count": 22,
   "id": "25e5beca",
   "metadata": {},
   "outputs": [
    {
     "data": {
      "text/plain": [
       "0.0007987220447284345"
      ]
     },
     "execution_count": 22,
     "metadata": {},
     "output_type": "execute_result"
    }
   ],
   "source": [
    "1/X.shape[0]"
   ]
  },
  {
   "cell_type": "markdown",
   "id": "c14177d7",
   "metadata": {},
   "source": [
    "#### BayesSearch"
   ]
  },
  {
   "cell_type": "code",
   "execution_count": 89,
   "id": "7380d82e",
   "metadata": {
    "collapsed": true
   },
   "outputs": [
    {
     "name": "stdout",
     "output_type": "stream",
     "text": [
      "Fitting 6 folds for each of 1 candidates, totalling 6 fits\n",
      "Fitting 6 folds for each of 1 candidates, totalling 6 fits\n",
      "Fitting 6 folds for each of 1 candidates, totalling 6 fits\n",
      "Fitting 6 folds for each of 1 candidates, totalling 6 fits\n",
      "Fitting 6 folds for each of 1 candidates, totalling 6 fits\n",
      "Fitting 6 folds for each of 1 candidates, totalling 6 fits\n",
      "Fitting 6 folds for each of 1 candidates, totalling 6 fits\n",
      "Fitting 6 folds for each of 1 candidates, totalling 6 fits\n",
      "Fitting 6 folds for each of 1 candidates, totalling 6 fits\n",
      "Fitting 6 folds for each of 1 candidates, totalling 6 fits\n",
      "Fitting 6 folds for each of 1 candidates, totalling 6 fits\n",
      "Fitting 6 folds for each of 1 candidates, totalling 6 fits\n",
      "Fitting 6 folds for each of 1 candidates, totalling 6 fits\n",
      "Fitting 6 folds for each of 1 candidates, totalling 6 fits\n",
      "Fitting 6 folds for each of 1 candidates, totalling 6 fits\n",
      "Fitting 6 folds for each of 1 candidates, totalling 6 fits\n",
      "Fitting 6 folds for each of 1 candidates, totalling 6 fits\n",
      "Fitting 6 folds for each of 1 candidates, totalling 6 fits\n",
      "Fitting 6 folds for each of 1 candidates, totalling 6 fits\n",
      "Fitting 6 folds for each of 1 candidates, totalling 6 fits\n",
      "Fitting 6 folds for each of 1 candidates, totalling 6 fits\n",
      "Fitting 6 folds for each of 1 candidates, totalling 6 fits\n",
      "Fitting 6 folds for each of 1 candidates, totalling 6 fits\n",
      "Fitting 6 folds for each of 1 candidates, totalling 6 fits\n",
      "Fitting 6 folds for each of 1 candidates, totalling 6 fits\n",
      "Fitting 6 folds for each of 1 candidates, totalling 6 fits\n",
      "Fitting 6 folds for each of 1 candidates, totalling 6 fits\n",
      "Fitting 6 folds for each of 1 candidates, totalling 6 fits\n",
      "Fitting 6 folds for each of 1 candidates, totalling 6 fits\n",
      "Fitting 6 folds for each of 1 candidates, totalling 6 fits\n",
      "Fitting 6 folds for each of 1 candidates, totalling 6 fits\n",
      "Fitting 6 folds for each of 1 candidates, totalling 6 fits\n",
      "Fitting 6 folds for each of 1 candidates, totalling 6 fits\n",
      "Fitting 6 folds for each of 1 candidates, totalling 6 fits\n",
      "Fitting 6 folds for each of 1 candidates, totalling 6 fits\n",
      "Fitting 6 folds for each of 1 candidates, totalling 6 fits\n",
      "Fitting 6 folds for each of 1 candidates, totalling 6 fits\n",
      "Fitting 6 folds for each of 1 candidates, totalling 6 fits\n",
      "Fitting 6 folds for each of 1 candidates, totalling 6 fits\n",
      "Fitting 6 folds for each of 1 candidates, totalling 6 fits\n",
      "Fitting 6 folds for each of 1 candidates, totalling 6 fits\n",
      "Fitting 6 folds for each of 1 candidates, totalling 6 fits\n",
      "Fitting 6 folds for each of 1 candidates, totalling 6 fits\n",
      "Fitting 6 folds for each of 1 candidates, totalling 6 fits\n",
      "Fitting 6 folds for each of 1 candidates, totalling 6 fits\n",
      "Fitting 6 folds for each of 1 candidates, totalling 6 fits\n",
      "Fitting 6 folds for each of 1 candidates, totalling 6 fits\n",
      "Fitting 6 folds for each of 1 candidates, totalling 6 fits\n",
      "Fitting 6 folds for each of 1 candidates, totalling 6 fits\n",
      "Fitting 6 folds for each of 1 candidates, totalling 6 fits\n",
      "Fitting 6 folds for each of 1 candidates, totalling 6 fits\n",
      "Fitting 6 folds for each of 1 candidates, totalling 6 fits\n",
      "Fitting 6 folds for each of 1 candidates, totalling 6 fits\n",
      "Fitting 6 folds for each of 1 candidates, totalling 6 fits\n",
      "Fitting 6 folds for each of 1 candidates, totalling 6 fits\n",
      "Fitting 6 folds for each of 1 candidates, totalling 6 fits\n",
      "Fitting 6 folds for each of 1 candidates, totalling 6 fits\n",
      "Fitting 6 folds for each of 1 candidates, totalling 6 fits\n",
      "Fitting 6 folds for each of 1 candidates, totalling 6 fits\n",
      "Fitting 6 folds for each of 1 candidates, totalling 6 fits\n",
      "Fitting 6 folds for each of 1 candidates, totalling 6 fits\n",
      "Fitting 6 folds for each of 1 candidates, totalling 6 fits\n",
      "Fitting 6 folds for each of 1 candidates, totalling 6 fits\n",
      "Fitting 6 folds for each of 1 candidates, totalling 6 fits\n",
      "Fitting 6 folds for each of 1 candidates, totalling 6 fits\n",
      "Fitting 6 folds for each of 1 candidates, totalling 6 fits\n",
      "Fitting 6 folds for each of 1 candidates, totalling 6 fits\n",
      "Fitting 6 folds for each of 1 candidates, totalling 6 fits\n",
      "Fitting 6 folds for each of 1 candidates, totalling 6 fits\n",
      "Fitting 6 folds for each of 1 candidates, totalling 6 fits\n",
      "Fitting 6 folds for each of 1 candidates, totalling 6 fits\n",
      "Fitting 6 folds for each of 1 candidates, totalling 6 fits\n",
      "Fitting 6 folds for each of 1 candidates, totalling 6 fits\n",
      "Fitting 6 folds for each of 1 candidates, totalling 6 fits\n",
      "Fitting 6 folds for each of 1 candidates, totalling 6 fits\n",
      "Fitting 6 folds for each of 1 candidates, totalling 6 fits\n",
      "Fitting 6 folds for each of 1 candidates, totalling 6 fits\n",
      "Fitting 6 folds for each of 1 candidates, totalling 6 fits\n",
      "Fitting 6 folds for each of 1 candidates, totalling 6 fits\n",
      "Fitting 6 folds for each of 1 candidates, totalling 6 fits\n",
      "Fitting 6 folds for each of 1 candidates, totalling 6 fits\n",
      "Fitting 6 folds for each of 1 candidates, totalling 6 fits\n",
      "Fitting 6 folds for each of 1 candidates, totalling 6 fits\n",
      "Fitting 6 folds for each of 1 candidates, totalling 6 fits\n",
      "Fitting 6 folds for each of 1 candidates, totalling 6 fits\n",
      "Fitting 6 folds for each of 1 candidates, totalling 6 fits\n",
      "Fitting 6 folds for each of 1 candidates, totalling 6 fits\n",
      "Fitting 6 folds for each of 1 candidates, totalling 6 fits\n",
      "Fitting 6 folds for each of 1 candidates, totalling 6 fits\n",
      "Fitting 6 folds for each of 1 candidates, totalling 6 fits\n",
      "Fitting 6 folds for each of 1 candidates, totalling 6 fits\n",
      "Fitting 6 folds for each of 1 candidates, totalling 6 fits\n",
      "Fitting 6 folds for each of 1 candidates, totalling 6 fits\n",
      "Fitting 6 folds for each of 1 candidates, totalling 6 fits\n",
      "Fitting 6 folds for each of 1 candidates, totalling 6 fits\n",
      "Fitting 6 folds for each of 1 candidates, totalling 6 fits\n",
      "Fitting 6 folds for each of 1 candidates, totalling 6 fits\n",
      "Fitting 6 folds for each of 1 candidates, totalling 6 fits\n",
      "Fitting 6 folds for each of 1 candidates, totalling 6 fits\n",
      "Fitting 6 folds for each of 1 candidates, totalling 6 fits\n",
      "Fitting 6 folds for each of 1 candidates, totalling 6 fits\n",
      "Fitting 6 folds for each of 1 candidates, totalling 6 fits\n",
      "Fitting 6 folds for each of 1 candidates, totalling 6 fits\n",
      "Fitting 6 folds for each of 1 candidates, totalling 6 fits\n",
      "Fitting 6 folds for each of 1 candidates, totalling 6 fits\n",
      "Fitting 6 folds for each of 1 candidates, totalling 6 fits\n",
      "Fitting 6 folds for each of 1 candidates, totalling 6 fits\n",
      "Fitting 6 folds for each of 1 candidates, totalling 6 fits\n",
      "Fitting 6 folds for each of 1 candidates, totalling 6 fits\n",
      "Fitting 6 folds for each of 1 candidates, totalling 6 fits\n",
      "Fitting 6 folds for each of 1 candidates, totalling 6 fits\n",
      "Fitting 6 folds for each of 1 candidates, totalling 6 fits\n",
      "Fitting 6 folds for each of 1 candidates, totalling 6 fits\n",
      "Fitting 6 folds for each of 1 candidates, totalling 6 fits\n",
      "Fitting 6 folds for each of 1 candidates, totalling 6 fits\n",
      "Fitting 6 folds for each of 1 candidates, totalling 6 fits\n",
      "Fitting 6 folds for each of 1 candidates, totalling 6 fits\n",
      "Fitting 6 folds for each of 1 candidates, totalling 6 fits\n",
      "Fitting 6 folds for each of 1 candidates, totalling 6 fits\n",
      "Fitting 6 folds for each of 1 candidates, totalling 6 fits\n",
      "Fitting 6 folds for each of 1 candidates, totalling 6 fits\n",
      "Fitting 6 folds for each of 1 candidates, totalling 6 fits\n",
      "Fitting 6 folds for each of 1 candidates, totalling 6 fits\n",
      "Fitting 6 folds for each of 1 candidates, totalling 6 fits\n",
      "Fitting 6 folds for each of 1 candidates, totalling 6 fits\n",
      "Fitting 6 folds for each of 1 candidates, totalling 6 fits\n",
      "Fitting 6 folds for each of 1 candidates, totalling 6 fits\n",
      "Fitting 6 folds for each of 1 candidates, totalling 6 fits\n",
      "Fitting 6 folds for each of 1 candidates, totalling 6 fits\n",
      "Fitting 6 folds for each of 1 candidates, totalling 6 fits\n",
      "Fitting 6 folds for each of 1 candidates, totalling 6 fits\n",
      "Fitting 6 folds for each of 1 candidates, totalling 6 fits\n",
      "Fitting 6 folds for each of 1 candidates, totalling 6 fits\n",
      "Fitting 6 folds for each of 1 candidates, totalling 6 fits\n",
      "Fitting 6 folds for each of 1 candidates, totalling 6 fits\n",
      "Fitting 6 folds for each of 1 candidates, totalling 6 fits\n",
      "Fitting 6 folds for each of 1 candidates, totalling 6 fits\n",
      "Fitting 6 folds for each of 1 candidates, totalling 6 fits\n",
      "Fitting 6 folds for each of 1 candidates, totalling 6 fits\n"
     ]
    },
    {
     "name": "stdout",
     "output_type": "stream",
     "text": [
      "Fitting 6 folds for each of 1 candidates, totalling 6 fits\n",
      "Fitting 6 folds for each of 1 candidates, totalling 6 fits\n",
      "Fitting 6 folds for each of 1 candidates, totalling 6 fits\n",
      "Fitting 6 folds for each of 1 candidates, totalling 6 fits\n",
      "Fitting 6 folds for each of 1 candidates, totalling 6 fits\n",
      "Fitting 6 folds for each of 1 candidates, totalling 6 fits\n",
      "Fitting 6 folds for each of 1 candidates, totalling 6 fits\n",
      "Fitting 6 folds for each of 1 candidates, totalling 6 fits\n",
      "Fitting 6 folds for each of 1 candidates, totalling 6 fits\n",
      "Fitting 6 folds for each of 1 candidates, totalling 6 fits\n",
      "Fitting 6 folds for each of 1 candidates, totalling 6 fits\n",
      "Fitting 6 folds for each of 1 candidates, totalling 6 fits\n",
      "Fitting 6 folds for each of 1 candidates, totalling 6 fits\n",
      "Fitting 6 folds for each of 1 candidates, totalling 6 fits\n",
      "Fitting 6 folds for each of 1 candidates, totalling 6 fits\n",
      "Fitting 6 folds for each of 1 candidates, totalling 6 fits\n",
      "Fitting 6 folds for each of 1 candidates, totalling 6 fits\n",
      "Fitting 6 folds for each of 1 candidates, totalling 6 fits\n",
      "Fitting 6 folds for each of 1 candidates, totalling 6 fits\n",
      "Fitting 6 folds for each of 1 candidates, totalling 6 fits\n",
      "Fitting 6 folds for each of 1 candidates, totalling 6 fits\n",
      "Fitting 6 folds for each of 1 candidates, totalling 6 fits\n",
      "Fitting 6 folds for each of 1 candidates, totalling 6 fits\n",
      "Fitting 6 folds for each of 1 candidates, totalling 6 fits\n",
      "Fitting 6 folds for each of 1 candidates, totalling 6 fits\n",
      "Fitting 6 folds for each of 1 candidates, totalling 6 fits\n",
      "Fitting 6 folds for each of 1 candidates, totalling 6 fits\n",
      "Fitting 6 folds for each of 1 candidates, totalling 6 fits\n",
      "Fitting 6 folds for each of 1 candidates, totalling 6 fits\n",
      "Fitting 6 folds for each of 1 candidates, totalling 6 fits\n",
      "Fitting 6 folds for each of 1 candidates, totalling 6 fits\n",
      "Fitting 6 folds for each of 1 candidates, totalling 6 fits\n",
      "Fitting 6 folds for each of 1 candidates, totalling 6 fits\n",
      "Fitting 6 folds for each of 1 candidates, totalling 6 fits\n",
      "Fitting 6 folds for each of 1 candidates, totalling 6 fits\n",
      "Fitting 6 folds for each of 1 candidates, totalling 6 fits\n",
      "Fitting 6 folds for each of 1 candidates, totalling 6 fits\n",
      "Fitting 6 folds for each of 1 candidates, totalling 6 fits\n",
      "Fitting 6 folds for each of 1 candidates, totalling 6 fits\n",
      "Fitting 6 folds for each of 1 candidates, totalling 6 fits\n",
      "Fitting 6 folds for each of 1 candidates, totalling 6 fits\n",
      "Fitting 6 folds for each of 1 candidates, totalling 6 fits\n",
      "Fitting 6 folds for each of 1 candidates, totalling 6 fits\n",
      "Fitting 6 folds for each of 1 candidates, totalling 6 fits\n",
      "Fitting 6 folds for each of 1 candidates, totalling 6 fits\n",
      "Fitting 6 folds for each of 1 candidates, totalling 6 fits\n",
      "Fitting 6 folds for each of 1 candidates, totalling 6 fits\n",
      "Fitting 6 folds for each of 1 candidates, totalling 6 fits\n",
      "Fitting 6 folds for each of 1 candidates, totalling 6 fits\n",
      "Fitting 6 folds for each of 1 candidates, totalling 6 fits\n",
      "Fitting 6 folds for each of 1 candidates, totalling 6 fits\n",
      "Fitting 6 folds for each of 1 candidates, totalling 6 fits\n",
      "Fitting 6 folds for each of 1 candidates, totalling 6 fits\n",
      "Fitting 6 folds for each of 1 candidates, totalling 6 fits\n",
      "Fitting 6 folds for each of 1 candidates, totalling 6 fits\n",
      "Fitting 6 folds for each of 1 candidates, totalling 6 fits\n",
      "Fitting 6 folds for each of 1 candidates, totalling 6 fits\n",
      "Fitting 6 folds for each of 1 candidates, totalling 6 fits\n",
      "Fitting 6 folds for each of 1 candidates, totalling 6 fits\n",
      "Fitting 6 folds for each of 1 candidates, totalling 6 fits\n",
      "Fitting 6 folds for each of 1 candidates, totalling 6 fits\n",
      "Fitting 6 folds for each of 1 candidates, totalling 6 fits\n",
      "Fitting 6 folds for each of 1 candidates, totalling 6 fits\n",
      "Fitting 6 folds for each of 1 candidates, totalling 6 fits\n",
      "Fitting 6 folds for each of 1 candidates, totalling 6 fits\n",
      "Fitting 6 folds for each of 1 candidates, totalling 6 fits\n",
      "Fitting 6 folds for each of 1 candidates, totalling 6 fits\n",
      "Fitting 6 folds for each of 1 candidates, totalling 6 fits\n",
      "Fitting 6 folds for each of 1 candidates, totalling 6 fits\n",
      "Fitting 6 folds for each of 1 candidates, totalling 6 fits\n",
      "Fitting 6 folds for each of 1 candidates, totalling 6 fits\n",
      "Fitting 6 folds for each of 1 candidates, totalling 6 fits\n",
      "Fitting 6 folds for each of 1 candidates, totalling 6 fits\n",
      "Fitting 6 folds for each of 1 candidates, totalling 6 fits\n",
      "Fitting 6 folds for each of 1 candidates, totalling 6 fits\n",
      "Fitting 6 folds for each of 1 candidates, totalling 6 fits\n",
      "Fitting 6 folds for each of 1 candidates, totalling 6 fits\n",
      "Fitting 6 folds for each of 1 candidates, totalling 6 fits\n",
      "Fitting 6 folds for each of 1 candidates, totalling 6 fits\n",
      "Fitting 6 folds for each of 1 candidates, totalling 6 fits\n",
      "Fitting 6 folds for each of 1 candidates, totalling 6 fits\n",
      "Fitting 6 folds for each of 1 candidates, totalling 6 fits\n",
      "Fitting 6 folds for each of 1 candidates, totalling 6 fits\n",
      "Fitting 6 folds for each of 1 candidates, totalling 6 fits\n",
      "Fitting 6 folds for each of 1 candidates, totalling 6 fits\n",
      "Fitting 6 folds for each of 1 candidates, totalling 6 fits\n",
      "Fitting 6 folds for each of 1 candidates, totalling 6 fits\n",
      "Fitting 6 folds for each of 1 candidates, totalling 6 fits\n",
      "Fitting 6 folds for each of 1 candidates, totalling 6 fits\n",
      "Fitting 6 folds for each of 1 candidates, totalling 6 fits\n",
      "Fitting 6 folds for each of 1 candidates, totalling 6 fits\n",
      "Fitting 6 folds for each of 1 candidates, totalling 6 fits\n",
      "Fitting 6 folds for each of 1 candidates, totalling 6 fits\n",
      "Fitting 6 folds for each of 1 candidates, totalling 6 fits\n",
      "Fitting 6 folds for each of 1 candidates, totalling 6 fits\n",
      "Fitting 6 folds for each of 1 candidates, totalling 6 fits\n",
      "Fitting 6 folds for each of 1 candidates, totalling 6 fits\n",
      "Fitting 6 folds for each of 1 candidates, totalling 6 fits\n",
      "Fitting 6 folds for each of 1 candidates, totalling 6 fits\n",
      "Fitting 6 folds for each of 1 candidates, totalling 6 fits\n",
      "Fitting 6 folds for each of 1 candidates, totalling 6 fits\n",
      "Fitting 6 folds for each of 1 candidates, totalling 6 fits\n",
      "Fitting 6 folds for each of 1 candidates, totalling 6 fits\n",
      "Fitting 6 folds for each of 1 candidates, totalling 6 fits\n",
      "Fitting 6 folds for each of 1 candidates, totalling 6 fits\n",
      "Fitting 6 folds for each of 1 candidates, totalling 6 fits\n",
      "Fitting 6 folds for each of 1 candidates, totalling 6 fits\n",
      "Fitting 6 folds for each of 1 candidates, totalling 6 fits\n",
      "Fitting 6 folds for each of 1 candidates, totalling 6 fits\n",
      "Fitting 6 folds for each of 1 candidates, totalling 6 fits\n",
      "Fitting 6 folds for each of 1 candidates, totalling 6 fits\n",
      "Fitting 6 folds for each of 1 candidates, totalling 6 fits\n",
      "Fitting 6 folds for each of 1 candidates, totalling 6 fits\n",
      "Fitting 6 folds for each of 1 candidates, totalling 6 fits\n",
      "Fitting 6 folds for each of 1 candidates, totalling 6 fits\n",
      "Fitting 6 folds for each of 1 candidates, totalling 6 fits\n",
      "Fitting 6 folds for each of 1 candidates, totalling 6 fits\n",
      "Fitting 6 folds for each of 1 candidates, totalling 6 fits\n",
      "Fitting 6 folds for each of 1 candidates, totalling 6 fits\n",
      "Fitting 6 folds for each of 1 candidates, totalling 6 fits\n",
      "Fitting 6 folds for each of 1 candidates, totalling 6 fits\n",
      "Fitting 6 folds for each of 1 candidates, totalling 6 fits\n",
      "Fitting 6 folds for each of 1 candidates, totalling 6 fits\n",
      "Fitting 6 folds for each of 1 candidates, totalling 6 fits\n",
      "Fitting 6 folds for each of 1 candidates, totalling 6 fits\n",
      "Fitting 6 folds for each of 1 candidates, totalling 6 fits\n",
      "Fitting 6 folds for each of 1 candidates, totalling 6 fits\n",
      "Fitting 6 folds for each of 1 candidates, totalling 6 fits\n",
      "Fitting 6 folds for each of 1 candidates, totalling 6 fits\n",
      "Fitting 6 folds for each of 1 candidates, totalling 6 fits\n",
      "Fitting 6 folds for each of 1 candidates, totalling 6 fits\n",
      "Fitting 6 folds for each of 1 candidates, totalling 6 fits\n",
      "Fitting 6 folds for each of 1 candidates, totalling 6 fits\n",
      "Fitting 6 folds for each of 1 candidates, totalling 6 fits\n",
      "Fitting 6 folds for each of 1 candidates, totalling 6 fits\n",
      "Fitting 6 folds for each of 1 candidates, totalling 6 fits\n",
      "Fitting 6 folds for each of 1 candidates, totalling 6 fits\n",
      "Fitting 6 folds for each of 1 candidates, totalling 6 fits\n",
      "Fitting 6 folds for each of 1 candidates, totalling 6 fits\n"
     ]
    },
    {
     "name": "stdout",
     "output_type": "stream",
     "text": [
      "Fitting 6 folds for each of 1 candidates, totalling 6 fits\n",
      "Fitting 6 folds for each of 1 candidates, totalling 6 fits\n",
      "Fitting 6 folds for each of 1 candidates, totalling 6 fits\n",
      "Fitting 6 folds for each of 1 candidates, totalling 6 fits\n",
      "Fitting 6 folds for each of 1 candidates, totalling 6 fits\n",
      "Fitting 6 folds for each of 1 candidates, totalling 6 fits\n",
      "Fitting 6 folds for each of 1 candidates, totalling 6 fits\n",
      "Fitting 6 folds for each of 1 candidates, totalling 6 fits\n",
      "Fitting 6 folds for each of 1 candidates, totalling 6 fits\n",
      "Fitting 6 folds for each of 1 candidates, totalling 6 fits\n",
      "Fitting 6 folds for each of 1 candidates, totalling 6 fits\n",
      "Fitting 6 folds for each of 1 candidates, totalling 6 fits\n",
      "Fitting 6 folds for each of 1 candidates, totalling 6 fits\n",
      "Fitting 6 folds for each of 1 candidates, totalling 6 fits\n",
      "Fitting 6 folds for each of 1 candidates, totalling 6 fits\n",
      "Fitting 6 folds for each of 1 candidates, totalling 6 fits\n",
      "Fitting 6 folds for each of 1 candidates, totalling 6 fits\n",
      "Fitting 6 folds for each of 1 candidates, totalling 6 fits\n",
      "Fitting 6 folds for each of 1 candidates, totalling 6 fits\n",
      "Fitting 6 folds for each of 1 candidates, totalling 6 fits\n",
      "Fitting 6 folds for each of 1 candidates, totalling 6 fits\n",
      "Fitting 6 folds for each of 1 candidates, totalling 6 fits\n",
      "Fitting 6 folds for each of 1 candidates, totalling 6 fits\n",
      "Fitting 6 folds for each of 1 candidates, totalling 6 fits\n",
      "Fitting 6 folds for each of 1 candidates, totalling 6 fits\n",
      "Fitting 6 folds for each of 1 candidates, totalling 6 fits\n",
      "Fitting 6 folds for each of 1 candidates, totalling 6 fits\n",
      "Fitting 6 folds for each of 1 candidates, totalling 6 fits\n",
      "Fitting 6 folds for each of 1 candidates, totalling 6 fits\n",
      "Fitting 6 folds for each of 1 candidates, totalling 6 fits\n",
      "Fitting 6 folds for each of 1 candidates, totalling 6 fits\n",
      "Fitting 6 folds for each of 1 candidates, totalling 6 fits\n",
      "Fitting 6 folds for each of 1 candidates, totalling 6 fits\n",
      "Fitting 6 folds for each of 1 candidates, totalling 6 fits\n",
      "Fitting 6 folds for each of 1 candidates, totalling 6 fits\n",
      "Fitting 6 folds for each of 1 candidates, totalling 6 fits\n",
      "Fitting 6 folds for each of 1 candidates, totalling 6 fits\n",
      "Fitting 6 folds for each of 1 candidates, totalling 6 fits\n",
      "Fitting 6 folds for each of 1 candidates, totalling 6 fits\n",
      "Fitting 6 folds for each of 1 candidates, totalling 6 fits\n",
      "Fitting 6 folds for each of 1 candidates, totalling 6 fits\n",
      "Fitting 6 folds for each of 1 candidates, totalling 6 fits\n",
      "Fitting 6 folds for each of 1 candidates, totalling 6 fits\n",
      "Fitting 6 folds for each of 1 candidates, totalling 6 fits\n",
      "Fitting 6 folds for each of 1 candidates, totalling 6 fits\n",
      "Fitting 6 folds for each of 1 candidates, totalling 6 fits\n",
      "Fitting 6 folds for each of 1 candidates, totalling 6 fits\n",
      "Fitting 6 folds for each of 1 candidates, totalling 6 fits\n",
      "Fitting 6 folds for each of 1 candidates, totalling 6 fits\n",
      "Fitting 6 folds for each of 1 candidates, totalling 6 fits\n",
      "Fitting 6 folds for each of 1 candidates, totalling 6 fits\n",
      "Fitting 6 folds for each of 1 candidates, totalling 6 fits\n",
      "Fitting 6 folds for each of 1 candidates, totalling 6 fits\n",
      "Fitting 6 folds for each of 1 candidates, totalling 6 fits\n",
      "Fitting 6 folds for each of 1 candidates, totalling 6 fits\n",
      "Fitting 6 folds for each of 1 candidates, totalling 6 fits\n",
      "Fitting 6 folds for each of 1 candidates, totalling 6 fits\n",
      "Fitting 6 folds for each of 1 candidates, totalling 6 fits\n",
      "Fitting 6 folds for each of 1 candidates, totalling 6 fits\n",
      "Fitting 6 folds for each of 1 candidates, totalling 6 fits\n",
      "Fitting 6 folds for each of 1 candidates, totalling 6 fits\n",
      "Fitting 6 folds for each of 1 candidates, totalling 6 fits\n",
      "Fitting 6 folds for each of 1 candidates, totalling 6 fits\n",
      "Fitting 6 folds for each of 1 candidates, totalling 6 fits\n",
      "Fitting 6 folds for each of 1 candidates, totalling 6 fits\n",
      "Fitting 6 folds for each of 1 candidates, totalling 6 fits\n",
      "Fitting 6 folds for each of 1 candidates, totalling 6 fits\n",
      "Fitting 6 folds for each of 1 candidates, totalling 6 fits\n",
      "Fitting 6 folds for each of 1 candidates, totalling 6 fits\n",
      "Fitting 6 folds for each of 1 candidates, totalling 6 fits\n",
      "Fitting 6 folds for each of 1 candidates, totalling 6 fits\n",
      "Fitting 6 folds for each of 1 candidates, totalling 6 fits\n",
      "Fitting 6 folds for each of 1 candidates, totalling 6 fits\n",
      "Fitting 6 folds for each of 1 candidates, totalling 6 fits\n",
      "Fitting 6 folds for each of 1 candidates, totalling 6 fits\n",
      "Fitting 6 folds for each of 1 candidates, totalling 6 fits\n",
      "Fitting 6 folds for each of 1 candidates, totalling 6 fits\n",
      "Fitting 6 folds for each of 1 candidates, totalling 6 fits\n",
      "Fitting 6 folds for each of 1 candidates, totalling 6 fits\n",
      "Fitting 6 folds for each of 1 candidates, totalling 6 fits\n",
      "Fitting 6 folds for each of 1 candidates, totalling 6 fits\n",
      "Fitting 6 folds for each of 1 candidates, totalling 6 fits\n",
      "Fitting 6 folds for each of 1 candidates, totalling 6 fits\n",
      "Fitting 6 folds for each of 1 candidates, totalling 6 fits\n",
      "Fitting 6 folds for each of 1 candidates, totalling 6 fits\n",
      "Fitting 6 folds for each of 1 candidates, totalling 6 fits\n",
      "Fitting 6 folds for each of 1 candidates, totalling 6 fits\n",
      "Fitting 6 folds for each of 1 candidates, totalling 6 fits\n",
      "Fitting 6 folds for each of 1 candidates, totalling 6 fits\n",
      "Fitting 6 folds for each of 1 candidates, totalling 6 fits\n",
      "Fitting 6 folds for each of 1 candidates, totalling 6 fits\n",
      "Fitting 6 folds for each of 1 candidates, totalling 6 fits\n",
      "Fitting 6 folds for each of 1 candidates, totalling 6 fits\n",
      "Fitting 6 folds for each of 1 candidates, totalling 6 fits\n",
      "Fitting 6 folds for each of 1 candidates, totalling 6 fits\n",
      "Fitting 6 folds for each of 1 candidates, totalling 6 fits\n",
      "Fitting 6 folds for each of 1 candidates, totalling 6 fits\n",
      "Fitting 6 folds for each of 1 candidates, totalling 6 fits\n",
      "Fitting 6 folds for each of 1 candidates, totalling 6 fits\n",
      "Fitting 6 folds for each of 1 candidates, totalling 6 fits\n",
      "Fitting 6 folds for each of 1 candidates, totalling 6 fits\n",
      "Fitting 6 folds for each of 1 candidates, totalling 6 fits\n",
      "Fitting 6 folds for each of 1 candidates, totalling 6 fits\n",
      "Fitting 6 folds for each of 1 candidates, totalling 6 fits\n",
      "Fitting 6 folds for each of 1 candidates, totalling 6 fits\n",
      "Fitting 6 folds for each of 1 candidates, totalling 6 fits\n",
      "Fitting 6 folds for each of 1 candidates, totalling 6 fits\n",
      "Fitting 6 folds for each of 1 candidates, totalling 6 fits\n",
      "Fitting 6 folds for each of 1 candidates, totalling 6 fits\n",
      "Fitting 6 folds for each of 1 candidates, totalling 6 fits\n",
      "Fitting 6 folds for each of 1 candidates, totalling 6 fits\n",
      "Fitting 6 folds for each of 1 candidates, totalling 6 fits\n",
      "Fitting 6 folds for each of 1 candidates, totalling 6 fits\n",
      "Fitting 6 folds for each of 1 candidates, totalling 6 fits\n",
      "Fitting 6 folds for each of 1 candidates, totalling 6 fits\n",
      "Fitting 6 folds for each of 1 candidates, totalling 6 fits\n",
      "Fitting 6 folds for each of 1 candidates, totalling 6 fits\n",
      "Fitting 6 folds for each of 1 candidates, totalling 6 fits\n",
      "Fitting 6 folds for each of 1 candidates, totalling 6 fits\n",
      "Fitting 6 folds for each of 1 candidates, totalling 6 fits\n",
      "Fitting 6 folds for each of 1 candidates, totalling 6 fits\n",
      "Fitting 6 folds for each of 1 candidates, totalling 6 fits\n",
      "Fitting 6 folds for each of 1 candidates, totalling 6 fits\n",
      "Fitting 6 folds for each of 1 candidates, totalling 6 fits\n",
      "Fitting 6 folds for each of 1 candidates, totalling 6 fits\n",
      "Fitting 6 folds for each of 1 candidates, totalling 6 fits\n",
      "Fitting 6 folds for each of 1 candidates, totalling 6 fits\n",
      "Fitting 6 folds for each of 1 candidates, totalling 6 fits\n",
      "Fitting 6 folds for each of 1 candidates, totalling 6 fits\n",
      "Fitting 6 folds for each of 1 candidates, totalling 6 fits\n",
      "Fitting 6 folds for each of 1 candidates, totalling 6 fits\n",
      "Fitting 6 folds for each of 1 candidates, totalling 6 fits\n",
      "Fitting 6 folds for each of 1 candidates, totalling 6 fits\n",
      "Fitting 6 folds for each of 1 candidates, totalling 6 fits\n",
      "Fitting 6 folds for each of 1 candidates, totalling 6 fits\n",
      "Fitting 6 folds for each of 1 candidates, totalling 6 fits\n",
      "Fitting 6 folds for each of 1 candidates, totalling 6 fits\n",
      "Fitting 6 folds for each of 1 candidates, totalling 6 fits\n",
      "Fitting 6 folds for each of 1 candidates, totalling 6 fits\n"
     ]
    },
    {
     "name": "stdout",
     "output_type": "stream",
     "text": [
      "Fitting 6 folds for each of 1 candidates, totalling 6 fits\n",
      "Fitting 6 folds for each of 1 candidates, totalling 6 fits\n",
      "Fitting 6 folds for each of 1 candidates, totalling 6 fits\n",
      "Fitting 6 folds for each of 1 candidates, totalling 6 fits\n",
      "Fitting 6 folds for each of 1 candidates, totalling 6 fits\n",
      "Fitting 6 folds for each of 1 candidates, totalling 6 fits\n",
      "Fitting 6 folds for each of 1 candidates, totalling 6 fits\n",
      "Fitting 6 folds for each of 1 candidates, totalling 6 fits\n",
      "Fitting 6 folds for each of 1 candidates, totalling 6 fits\n",
      "Fitting 6 folds for each of 1 candidates, totalling 6 fits\n",
      "Fitting 6 folds for each of 1 candidates, totalling 6 fits\n",
      "Fitting 6 folds for each of 1 candidates, totalling 6 fits\n",
      "Fitting 6 folds for each of 1 candidates, totalling 6 fits\n",
      "Fitting 6 folds for each of 1 candidates, totalling 6 fits\n",
      "Fitting 6 folds for each of 1 candidates, totalling 6 fits\n",
      "Fitting 6 folds for each of 1 candidates, totalling 6 fits\n",
      "Fitting 6 folds for each of 1 candidates, totalling 6 fits\n",
      "Fitting 6 folds for each of 1 candidates, totalling 6 fits\n",
      "Fitting 6 folds for each of 1 candidates, totalling 6 fits\n",
      "Fitting 6 folds for each of 1 candidates, totalling 6 fits\n",
      "Fitting 6 folds for each of 1 candidates, totalling 6 fits\n",
      "Fitting 6 folds for each of 1 candidates, totalling 6 fits\n",
      "Fitting 6 folds for each of 1 candidates, totalling 6 fits\n",
      "Fitting 6 folds for each of 1 candidates, totalling 6 fits\n",
      "Fitting 6 folds for each of 1 candidates, totalling 6 fits\n",
      "Fitting 6 folds for each of 1 candidates, totalling 6 fits\n",
      "Fitting 6 folds for each of 1 candidates, totalling 6 fits\n",
      "Fitting 6 folds for each of 1 candidates, totalling 6 fits\n",
      "Fitting 6 folds for each of 1 candidates, totalling 6 fits\n",
      "Fitting 6 folds for each of 1 candidates, totalling 6 fits\n",
      "Fitting 6 folds for each of 1 candidates, totalling 6 fits\n",
      "Fitting 6 folds for each of 1 candidates, totalling 6 fits\n",
      "Fitting 6 folds for each of 1 candidates, totalling 6 fits\n",
      "Fitting 6 folds for each of 1 candidates, totalling 6 fits\n",
      "Fitting 6 folds for each of 1 candidates, totalling 6 fits\n",
      "Fitting 6 folds for each of 1 candidates, totalling 6 fits\n",
      "Fitting 6 folds for each of 1 candidates, totalling 6 fits\n",
      "Fitting 6 folds for each of 1 candidates, totalling 6 fits\n",
      "Fitting 6 folds for each of 1 candidates, totalling 6 fits\n",
      "Fitting 6 folds for each of 1 candidates, totalling 6 fits\n",
      "Fitting 6 folds for each of 1 candidates, totalling 6 fits\n",
      "Fitting 6 folds for each of 1 candidates, totalling 6 fits\n",
      "Fitting 6 folds for each of 1 candidates, totalling 6 fits\n",
      "Fitting 6 folds for each of 1 candidates, totalling 6 fits\n",
      "Fitting 6 folds for each of 1 candidates, totalling 6 fits\n",
      "Fitting 6 folds for each of 1 candidates, totalling 6 fits\n",
      "Fitting 6 folds for each of 1 candidates, totalling 6 fits\n",
      "Fitting 6 folds for each of 1 candidates, totalling 6 fits\n",
      "Fitting 6 folds for each of 1 candidates, totalling 6 fits\n",
      "Fitting 6 folds for each of 1 candidates, totalling 6 fits\n",
      "Fitting 6 folds for each of 1 candidates, totalling 6 fits\n",
      "Fitting 6 folds for each of 1 candidates, totalling 6 fits\n",
      "Fitting 6 folds for each of 1 candidates, totalling 6 fits\n",
      "Fitting 6 folds for each of 1 candidates, totalling 6 fits\n",
      "Fitting 6 folds for each of 1 candidates, totalling 6 fits\n",
      "Fitting 6 folds for each of 1 candidates, totalling 6 fits\n",
      "Fitting 6 folds for each of 1 candidates, totalling 6 fits\n",
      "Fitting 6 folds for each of 1 candidates, totalling 6 fits\n",
      "Fitting 6 folds for each of 1 candidates, totalling 6 fits\n",
      "Fitting 6 folds for each of 1 candidates, totalling 6 fits\n",
      "Fitting 6 folds for each of 1 candidates, totalling 6 fits\n"
     ]
    },
    {
     "ename": "KeyboardInterrupt",
     "evalue": "",
     "output_type": "error",
     "traceback": [
      "\u001b[1;31m---------------------------------------------------------------------------\u001b[0m",
      "\u001b[1;31mKeyboardInterrupt\u001b[0m                         Traceback (most recent call last)",
      "\u001b[1;32m<timed exec>\u001b[0m in \u001b[0;36m<module>\u001b[1;34m\u001b[0m\n",
      "\u001b[1;32m~\\anaconda3\\envs\\kaggleenv\\lib\\site-packages\\skopt\\searchcv.py\u001b[0m in \u001b[0;36mfit\u001b[1;34m(self, X, y, groups, callback, **fit_params)\u001b[0m\n\u001b[0;32m    464\u001b[0m             \u001b[0mself\u001b[0m\u001b[1;33m.\u001b[0m\u001b[0moptimizer_kwargs_\u001b[0m \u001b[1;33m=\u001b[0m \u001b[0mdict\u001b[0m\u001b[1;33m(\u001b[0m\u001b[0mself\u001b[0m\u001b[1;33m.\u001b[0m\u001b[0moptimizer_kwargs\u001b[0m\u001b[1;33m)\u001b[0m\u001b[1;33m\u001b[0m\u001b[1;33m\u001b[0m\u001b[0m\n\u001b[0;32m    465\u001b[0m \u001b[1;33m\u001b[0m\u001b[0m\n\u001b[1;32m--> 466\u001b[1;33m         \u001b[0msuper\u001b[0m\u001b[1;33m(\u001b[0m\u001b[1;33m)\u001b[0m\u001b[1;33m.\u001b[0m\u001b[0mfit\u001b[0m\u001b[1;33m(\u001b[0m\u001b[0mX\u001b[0m\u001b[1;33m=\u001b[0m\u001b[0mX\u001b[0m\u001b[1;33m,\u001b[0m \u001b[0my\u001b[0m\u001b[1;33m=\u001b[0m\u001b[0my\u001b[0m\u001b[1;33m,\u001b[0m \u001b[0mgroups\u001b[0m\u001b[1;33m=\u001b[0m\u001b[0mgroups\u001b[0m\u001b[1;33m,\u001b[0m \u001b[1;33m**\u001b[0m\u001b[0mfit_params\u001b[0m\u001b[1;33m)\u001b[0m\u001b[1;33m\u001b[0m\u001b[1;33m\u001b[0m\u001b[0m\n\u001b[0m\u001b[0;32m    467\u001b[0m \u001b[1;33m\u001b[0m\u001b[0m\n\u001b[0;32m    468\u001b[0m         \u001b[1;31m# BaseSearchCV never ranked train scores,\u001b[0m\u001b[1;33m\u001b[0m\u001b[1;33m\u001b[0m\u001b[1;33m\u001b[0m\u001b[0m\n",
      "\u001b[1;32m~\\anaconda3\\envs\\kaggleenv\\lib\\site-packages\\sklearn\\model_selection\\_search.py\u001b[0m in \u001b[0;36mfit\u001b[1;34m(self, X, y, groups, **fit_params)\u001b[0m\n\u001b[0;32m    889\u001b[0m                 \u001b[1;32mreturn\u001b[0m \u001b[0mresults\u001b[0m\u001b[1;33m\u001b[0m\u001b[1;33m\u001b[0m\u001b[0m\n\u001b[0;32m    890\u001b[0m \u001b[1;33m\u001b[0m\u001b[0m\n\u001b[1;32m--> 891\u001b[1;33m             \u001b[0mself\u001b[0m\u001b[1;33m.\u001b[0m\u001b[0m_run_search\u001b[0m\u001b[1;33m(\u001b[0m\u001b[0mevaluate_candidates\u001b[0m\u001b[1;33m)\u001b[0m\u001b[1;33m\u001b[0m\u001b[1;33m\u001b[0m\u001b[0m\n\u001b[0m\u001b[0;32m    892\u001b[0m \u001b[1;33m\u001b[0m\u001b[0m\n\u001b[0;32m    893\u001b[0m             \u001b[1;31m# multimetric is determined here because in the case of a callable\u001b[0m\u001b[1;33m\u001b[0m\u001b[1;33m\u001b[0m\u001b[1;33m\u001b[0m\u001b[0m\n",
      "\u001b[1;32m~\\anaconda3\\envs\\kaggleenv\\lib\\site-packages\\skopt\\searchcv.py\u001b[0m in \u001b[0;36m_run_search\u001b[1;34m(self, evaluate_candidates)\u001b[0m\n\u001b[0;32m    512\u001b[0m                 optim_result = self._step(\n\u001b[0;32m    513\u001b[0m                     \u001b[0msearch_space\u001b[0m\u001b[1;33m,\u001b[0m \u001b[0moptimizer\u001b[0m\u001b[1;33m,\u001b[0m\u001b[1;33m\u001b[0m\u001b[1;33m\u001b[0m\u001b[0m\n\u001b[1;32m--> 514\u001b[1;33m                     \u001b[0mevaluate_candidates\u001b[0m\u001b[1;33m,\u001b[0m \u001b[0mn_points\u001b[0m\u001b[1;33m=\u001b[0m\u001b[0mn_points_adjusted\u001b[0m\u001b[1;33m\u001b[0m\u001b[1;33m\u001b[0m\u001b[0m\n\u001b[0m\u001b[0;32m    515\u001b[0m                 )\n\u001b[0;32m    516\u001b[0m                 \u001b[0mn_iter\u001b[0m \u001b[1;33m-=\u001b[0m \u001b[0mn_points\u001b[0m\u001b[1;33m\u001b[0m\u001b[1;33m\u001b[0m\u001b[0m\n",
      "\u001b[1;32m~\\anaconda3\\envs\\kaggleenv\\lib\\site-packages\\skopt\\searchcv.py\u001b[0m in \u001b[0;36m_step\u001b[1;34m(self, search_space, optimizer, evaluate_candidates, n_points)\u001b[0m\n\u001b[0;32m    410\u001b[0m         \u001b[1;31m# Optimizer minimizes objective, hence provide negative score\u001b[0m\u001b[1;33m\u001b[0m\u001b[1;33m\u001b[0m\u001b[1;33m\u001b[0m\u001b[0m\n\u001b[0;32m    411\u001b[0m         \u001b[0mlocal_results\u001b[0m \u001b[1;33m=\u001b[0m \u001b[0mall_results\u001b[0m\u001b[1;33m[\u001b[0m\u001b[1;34m\"mean_test_score\"\u001b[0m\u001b[1;33m]\u001b[0m\u001b[1;33m[\u001b[0m\u001b[1;33m-\u001b[0m\u001b[0mlen\u001b[0m\u001b[1;33m(\u001b[0m\u001b[0mparams\u001b[0m\u001b[1;33m)\u001b[0m\u001b[1;33m:\u001b[0m\u001b[1;33m]\u001b[0m\u001b[1;33m\u001b[0m\u001b[1;33m\u001b[0m\u001b[0m\n\u001b[1;32m--> 412\u001b[1;33m         \u001b[1;32mreturn\u001b[0m \u001b[0moptimizer\u001b[0m\u001b[1;33m.\u001b[0m\u001b[0mtell\u001b[0m\u001b[1;33m(\u001b[0m\u001b[0mparams\u001b[0m\u001b[1;33m,\u001b[0m \u001b[1;33m[\u001b[0m\u001b[1;33m-\u001b[0m\u001b[0mscore\u001b[0m \u001b[1;32mfor\u001b[0m \u001b[0mscore\u001b[0m \u001b[1;32min\u001b[0m \u001b[0mlocal_results\u001b[0m\u001b[1;33m]\u001b[0m\u001b[1;33m)\u001b[0m\u001b[1;33m\u001b[0m\u001b[1;33m\u001b[0m\u001b[0m\n\u001b[0m\u001b[0;32m    413\u001b[0m \u001b[1;33m\u001b[0m\u001b[0m\n\u001b[0;32m    414\u001b[0m     \u001b[1;33m@\u001b[0m\u001b[0mproperty\u001b[0m\u001b[1;33m\u001b[0m\u001b[1;33m\u001b[0m\u001b[0m\n",
      "\u001b[1;32m~\\anaconda3\\envs\\kaggleenv\\lib\\site-packages\\skopt\\optimizer\\optimizer.py\u001b[0m in \u001b[0;36mtell\u001b[1;34m(self, x, y, fit)\u001b[0m\n\u001b[0;32m    491\u001b[0m                 \u001b[0my\u001b[0m\u001b[1;33m[\u001b[0m\u001b[1;36m1\u001b[0m\u001b[1;33m]\u001b[0m \u001b[1;33m=\u001b[0m \u001b[0mlog\u001b[0m\u001b[1;33m(\u001b[0m\u001b[0my\u001b[0m\u001b[1;33m[\u001b[0m\u001b[1;36m1\u001b[0m\u001b[1;33m]\u001b[0m\u001b[1;33m)\u001b[0m\u001b[1;33m\u001b[0m\u001b[1;33m\u001b[0m\u001b[0m\n\u001b[0;32m    492\u001b[0m \u001b[1;33m\u001b[0m\u001b[0m\n\u001b[1;32m--> 493\u001b[1;33m         \u001b[1;32mreturn\u001b[0m \u001b[0mself\u001b[0m\u001b[1;33m.\u001b[0m\u001b[0m_tell\u001b[0m\u001b[1;33m(\u001b[0m\u001b[0mx\u001b[0m\u001b[1;33m,\u001b[0m \u001b[0my\u001b[0m\u001b[1;33m,\u001b[0m \u001b[0mfit\u001b[0m\u001b[1;33m=\u001b[0m\u001b[0mfit\u001b[0m\u001b[1;33m)\u001b[0m\u001b[1;33m\u001b[0m\u001b[1;33m\u001b[0m\u001b[0m\n\u001b[0m\u001b[0;32m    494\u001b[0m \u001b[1;33m\u001b[0m\u001b[0m\n\u001b[0;32m    495\u001b[0m     \u001b[1;32mdef\u001b[0m \u001b[0m_tell\u001b[0m\u001b[1;33m(\u001b[0m\u001b[0mself\u001b[0m\u001b[1;33m,\u001b[0m \u001b[0mx\u001b[0m\u001b[1;33m,\u001b[0m \u001b[0my\u001b[0m\u001b[1;33m,\u001b[0m \u001b[0mfit\u001b[0m\u001b[1;33m=\u001b[0m\u001b[1;32mTrue\u001b[0m\u001b[1;33m)\u001b[0m\u001b[1;33m:\u001b[0m\u001b[1;33m\u001b[0m\u001b[1;33m\u001b[0m\u001b[0m\n",
      "\u001b[1;32m~\\anaconda3\\envs\\kaggleenv\\lib\\site-packages\\skopt\\optimizer\\optimizer.py\u001b[0m in \u001b[0;36m_tell\u001b[1;34m(self, x, y, fit)\u001b[0m\n\u001b[0;32m    534\u001b[0m             \u001b[1;32mwith\u001b[0m \u001b[0mwarnings\u001b[0m\u001b[1;33m.\u001b[0m\u001b[0mcatch_warnings\u001b[0m\u001b[1;33m(\u001b[0m\u001b[1;33m)\u001b[0m\u001b[1;33m:\u001b[0m\u001b[1;33m\u001b[0m\u001b[1;33m\u001b[0m\u001b[0m\n\u001b[0;32m    535\u001b[0m                 \u001b[0mwarnings\u001b[0m\u001b[1;33m.\u001b[0m\u001b[0msimplefilter\u001b[0m\u001b[1;33m(\u001b[0m\u001b[1;34m\"ignore\"\u001b[0m\u001b[1;33m)\u001b[0m\u001b[1;33m\u001b[0m\u001b[1;33m\u001b[0m\u001b[0m\n\u001b[1;32m--> 536\u001b[1;33m                 \u001b[0mest\u001b[0m\u001b[1;33m.\u001b[0m\u001b[0mfit\u001b[0m\u001b[1;33m(\u001b[0m\u001b[0mself\u001b[0m\u001b[1;33m.\u001b[0m\u001b[0mspace\u001b[0m\u001b[1;33m.\u001b[0m\u001b[0mtransform\u001b[0m\u001b[1;33m(\u001b[0m\u001b[0mself\u001b[0m\u001b[1;33m.\u001b[0m\u001b[0mXi\u001b[0m\u001b[1;33m)\u001b[0m\u001b[1;33m,\u001b[0m \u001b[0mself\u001b[0m\u001b[1;33m.\u001b[0m\u001b[0myi\u001b[0m\u001b[1;33m)\u001b[0m\u001b[1;33m\u001b[0m\u001b[1;33m\u001b[0m\u001b[0m\n\u001b[0m\u001b[0;32m    537\u001b[0m \u001b[1;33m\u001b[0m\u001b[0m\n\u001b[0;32m    538\u001b[0m             \u001b[1;32mif\u001b[0m \u001b[0mhasattr\u001b[0m\u001b[1;33m(\u001b[0m\u001b[0mself\u001b[0m\u001b[1;33m,\u001b[0m \u001b[1;34m\"next_xs_\"\u001b[0m\u001b[1;33m)\u001b[0m \u001b[1;32mand\u001b[0m \u001b[0mself\u001b[0m\u001b[1;33m.\u001b[0m\u001b[0macq_func\u001b[0m \u001b[1;33m==\u001b[0m \u001b[1;34m\"gp_hedge\"\u001b[0m\u001b[1;33m:\u001b[0m\u001b[1;33m\u001b[0m\u001b[1;33m\u001b[0m\u001b[0m\n",
      "\u001b[1;32m~\\anaconda3\\envs\\kaggleenv\\lib\\site-packages\\skopt\\learning\\gaussian_process\\gpr.py\u001b[0m in \u001b[0;36mfit\u001b[1;34m(self, X, y)\u001b[0m\n\u001b[0;32m    193\u001b[0m                 \u001b[0mnoise_level\u001b[0m\u001b[1;33m=\u001b[0m\u001b[0mself\u001b[0m\u001b[1;33m.\u001b[0m\u001b[0mnoise\u001b[0m\u001b[1;33m,\u001b[0m \u001b[0mnoise_level_bounds\u001b[0m\u001b[1;33m=\u001b[0m\u001b[1;34m\"fixed\"\u001b[0m\u001b[1;33m\u001b[0m\u001b[1;33m\u001b[0m\u001b[0m\n\u001b[0;32m    194\u001b[0m             )\n\u001b[1;32m--> 195\u001b[1;33m         \u001b[0msuper\u001b[0m\u001b[1;33m(\u001b[0m\u001b[0mGaussianProcessRegressor\u001b[0m\u001b[1;33m,\u001b[0m \u001b[0mself\u001b[0m\u001b[1;33m)\u001b[0m\u001b[1;33m.\u001b[0m\u001b[0mfit\u001b[0m\u001b[1;33m(\u001b[0m\u001b[0mX\u001b[0m\u001b[1;33m,\u001b[0m \u001b[0my\u001b[0m\u001b[1;33m)\u001b[0m\u001b[1;33m\u001b[0m\u001b[1;33m\u001b[0m\u001b[0m\n\u001b[0m\u001b[0;32m    196\u001b[0m \u001b[1;33m\u001b[0m\u001b[0m\n\u001b[0;32m    197\u001b[0m         \u001b[0mself\u001b[0m\u001b[1;33m.\u001b[0m\u001b[0mnoise_\u001b[0m \u001b[1;33m=\u001b[0m \u001b[1;32mNone\u001b[0m\u001b[1;33m\u001b[0m\u001b[1;33m\u001b[0m\u001b[0m\n",
      "\u001b[1;32m~\\anaconda3\\envs\\kaggleenv\\lib\\site-packages\\sklearn\\gaussian_process\\_gpr.py\u001b[0m in \u001b[0;36mfit\u001b[1;34m(self, X, y)\u001b[0m\n\u001b[0;32m    288\u001b[0m                     \u001b[0mtheta_initial\u001b[0m \u001b[1;33m=\u001b[0m \u001b[0mself\u001b[0m\u001b[1;33m.\u001b[0m\u001b[0m_rng\u001b[0m\u001b[1;33m.\u001b[0m\u001b[0muniform\u001b[0m\u001b[1;33m(\u001b[0m\u001b[0mbounds\u001b[0m\u001b[1;33m[\u001b[0m\u001b[1;33m:\u001b[0m\u001b[1;33m,\u001b[0m \u001b[1;36m0\u001b[0m\u001b[1;33m]\u001b[0m\u001b[1;33m,\u001b[0m \u001b[0mbounds\u001b[0m\u001b[1;33m[\u001b[0m\u001b[1;33m:\u001b[0m\u001b[1;33m,\u001b[0m \u001b[1;36m1\u001b[0m\u001b[1;33m]\u001b[0m\u001b[1;33m)\u001b[0m\u001b[1;33m\u001b[0m\u001b[1;33m\u001b[0m\u001b[0m\n\u001b[0;32m    289\u001b[0m                     optima.append(\n\u001b[1;32m--> 290\u001b[1;33m                         \u001b[0mself\u001b[0m\u001b[1;33m.\u001b[0m\u001b[0m_constrained_optimization\u001b[0m\u001b[1;33m(\u001b[0m\u001b[0mobj_func\u001b[0m\u001b[1;33m,\u001b[0m \u001b[0mtheta_initial\u001b[0m\u001b[1;33m,\u001b[0m \u001b[0mbounds\u001b[0m\u001b[1;33m)\u001b[0m\u001b[1;33m\u001b[0m\u001b[1;33m\u001b[0m\u001b[0m\n\u001b[0m\u001b[0;32m    291\u001b[0m                     )\n\u001b[0;32m    292\u001b[0m             \u001b[1;31m# Select result from run with minimal (negative) log-marginal\u001b[0m\u001b[1;33m\u001b[0m\u001b[1;33m\u001b[0m\u001b[1;33m\u001b[0m\u001b[0m\n",
      "\u001b[1;32m~\\anaconda3\\envs\\kaggleenv\\lib\\site-packages\\sklearn\\gaussian_process\\_gpr.py\u001b[0m in \u001b[0;36m_constrained_optimization\u001b[1;34m(self, obj_func, initial_theta, bounds)\u001b[0m\n\u001b[0;32m    592\u001b[0m                 \u001b[0mmethod\u001b[0m\u001b[1;33m=\u001b[0m\u001b[1;34m\"L-BFGS-B\"\u001b[0m\u001b[1;33m,\u001b[0m\u001b[1;33m\u001b[0m\u001b[1;33m\u001b[0m\u001b[0m\n\u001b[0;32m    593\u001b[0m                 \u001b[0mjac\u001b[0m\u001b[1;33m=\u001b[0m\u001b[1;32mTrue\u001b[0m\u001b[1;33m,\u001b[0m\u001b[1;33m\u001b[0m\u001b[1;33m\u001b[0m\u001b[0m\n\u001b[1;32m--> 594\u001b[1;33m                 \u001b[0mbounds\u001b[0m\u001b[1;33m=\u001b[0m\u001b[0mbounds\u001b[0m\u001b[1;33m,\u001b[0m\u001b[1;33m\u001b[0m\u001b[1;33m\u001b[0m\u001b[0m\n\u001b[0m\u001b[0;32m    595\u001b[0m             )\n\u001b[0;32m    596\u001b[0m             \u001b[0m_check_optimize_result\u001b[0m\u001b[1;33m(\u001b[0m\u001b[1;34m\"lbfgs\"\u001b[0m\u001b[1;33m,\u001b[0m \u001b[0mopt_res\u001b[0m\u001b[1;33m)\u001b[0m\u001b[1;33m\u001b[0m\u001b[1;33m\u001b[0m\u001b[0m\n",
      "\u001b[1;32m~\\anaconda3\\envs\\kaggleenv\\lib\\site-packages\\scipy\\optimize\\_minimize.py\u001b[0m in \u001b[0;36mminimize\u001b[1;34m(fun, x0, args, method, jac, hess, hessp, bounds, constraints, tol, callback, options)\u001b[0m\n\u001b[0;32m    622\u001b[0m     \u001b[1;32melif\u001b[0m \u001b[0mmeth\u001b[0m \u001b[1;33m==\u001b[0m \u001b[1;34m'l-bfgs-b'\u001b[0m\u001b[1;33m:\u001b[0m\u001b[1;33m\u001b[0m\u001b[1;33m\u001b[0m\u001b[0m\n\u001b[0;32m    623\u001b[0m         return _minimize_lbfgsb(fun, x0, args, jac, bounds,\n\u001b[1;32m--> 624\u001b[1;33m                                 callback=callback, **options)\n\u001b[0m\u001b[0;32m    625\u001b[0m     \u001b[1;32melif\u001b[0m \u001b[0mmeth\u001b[0m \u001b[1;33m==\u001b[0m \u001b[1;34m'tnc'\u001b[0m\u001b[1;33m:\u001b[0m\u001b[1;33m\u001b[0m\u001b[1;33m\u001b[0m\u001b[0m\n\u001b[0;32m    626\u001b[0m         return _minimize_tnc(fun, x0, args, jac, bounds, callback=callback,\n",
      "\u001b[1;32m~\\anaconda3\\envs\\kaggleenv\\lib\\site-packages\\scipy\\optimize\\lbfgsb.py\u001b[0m in \u001b[0;36m_minimize_lbfgsb\u001b[1;34m(fun, x0, args, jac, bounds, disp, maxcor, ftol, gtol, eps, maxfun, maxiter, iprint, callback, maxls, finite_diff_rel_step, **unknown_options)\u001b[0m\n\u001b[0;32m    358\u001b[0m             \u001b[1;31m# until the completion of the current minimization iteration.\u001b[0m\u001b[1;33m\u001b[0m\u001b[1;33m\u001b[0m\u001b[1;33m\u001b[0m\u001b[0m\n\u001b[0;32m    359\u001b[0m             \u001b[1;31m# Overwrite f and g:\u001b[0m\u001b[1;33m\u001b[0m\u001b[1;33m\u001b[0m\u001b[1;33m\u001b[0m\u001b[0m\n\u001b[1;32m--> 360\u001b[1;33m             \u001b[0mf\u001b[0m\u001b[1;33m,\u001b[0m \u001b[0mg\u001b[0m \u001b[1;33m=\u001b[0m \u001b[0mfunc_and_grad\u001b[0m\u001b[1;33m(\u001b[0m\u001b[0mx\u001b[0m\u001b[1;33m)\u001b[0m\u001b[1;33m\u001b[0m\u001b[1;33m\u001b[0m\u001b[0m\n\u001b[0m\u001b[0;32m    361\u001b[0m         \u001b[1;32melif\u001b[0m \u001b[0mtask_str\u001b[0m\u001b[1;33m.\u001b[0m\u001b[0mstartswith\u001b[0m\u001b[1;33m(\u001b[0m\u001b[1;34mb'NEW_X'\u001b[0m\u001b[1;33m)\u001b[0m\u001b[1;33m:\u001b[0m\u001b[1;33m\u001b[0m\u001b[1;33m\u001b[0m\u001b[0m\n\u001b[0;32m    362\u001b[0m             \u001b[1;31m# new iteration\u001b[0m\u001b[1;33m\u001b[0m\u001b[1;33m\u001b[0m\u001b[1;33m\u001b[0m\u001b[0m\n",
      "\u001b[1;32m~\\anaconda3\\envs\\kaggleenv\\lib\\site-packages\\scipy\\optimize\\_differentiable_functions.py\u001b[0m in \u001b[0;36mfun_and_grad\u001b[1;34m(self, x)\u001b[0m\n\u001b[0;32m    265\u001b[0m         \u001b[1;32mif\u001b[0m \u001b[1;32mnot\u001b[0m \u001b[0mnp\u001b[0m\u001b[1;33m.\u001b[0m\u001b[0marray_equal\u001b[0m\u001b[1;33m(\u001b[0m\u001b[0mx\u001b[0m\u001b[1;33m,\u001b[0m \u001b[0mself\u001b[0m\u001b[1;33m.\u001b[0m\u001b[0mx\u001b[0m\u001b[1;33m)\u001b[0m\u001b[1;33m:\u001b[0m\u001b[1;33m\u001b[0m\u001b[1;33m\u001b[0m\u001b[0m\n\u001b[0;32m    266\u001b[0m             \u001b[0mself\u001b[0m\u001b[1;33m.\u001b[0m\u001b[0m_update_x_impl\u001b[0m\u001b[1;33m(\u001b[0m\u001b[0mx\u001b[0m\u001b[1;33m)\u001b[0m\u001b[1;33m\u001b[0m\u001b[1;33m\u001b[0m\u001b[0m\n\u001b[1;32m--> 267\u001b[1;33m         \u001b[0mself\u001b[0m\u001b[1;33m.\u001b[0m\u001b[0m_update_fun\u001b[0m\u001b[1;33m(\u001b[0m\u001b[1;33m)\u001b[0m\u001b[1;33m\u001b[0m\u001b[1;33m\u001b[0m\u001b[0m\n\u001b[0m\u001b[0;32m    268\u001b[0m         \u001b[0mself\u001b[0m\u001b[1;33m.\u001b[0m\u001b[0m_update_grad\u001b[0m\u001b[1;33m(\u001b[0m\u001b[1;33m)\u001b[0m\u001b[1;33m\u001b[0m\u001b[1;33m\u001b[0m\u001b[0m\n\u001b[0;32m    269\u001b[0m         \u001b[1;32mreturn\u001b[0m \u001b[0mself\u001b[0m\u001b[1;33m.\u001b[0m\u001b[0mf\u001b[0m\u001b[1;33m,\u001b[0m \u001b[0mself\u001b[0m\u001b[1;33m.\u001b[0m\u001b[0mg\u001b[0m\u001b[1;33m\u001b[0m\u001b[1;33m\u001b[0m\u001b[0m\n",
      "\u001b[1;32m~\\anaconda3\\envs\\kaggleenv\\lib\\site-packages\\scipy\\optimize\\_differentiable_functions.py\u001b[0m in \u001b[0;36m_update_fun\u001b[1;34m(self)\u001b[0m\n\u001b[0;32m    231\u001b[0m     \u001b[1;32mdef\u001b[0m \u001b[0m_update_fun\u001b[0m\u001b[1;33m(\u001b[0m\u001b[0mself\u001b[0m\u001b[1;33m)\u001b[0m\u001b[1;33m:\u001b[0m\u001b[1;33m\u001b[0m\u001b[1;33m\u001b[0m\u001b[0m\n\u001b[0;32m    232\u001b[0m         \u001b[1;32mif\u001b[0m \u001b[1;32mnot\u001b[0m \u001b[0mself\u001b[0m\u001b[1;33m.\u001b[0m\u001b[0mf_updated\u001b[0m\u001b[1;33m:\u001b[0m\u001b[1;33m\u001b[0m\u001b[1;33m\u001b[0m\u001b[0m\n\u001b[1;32m--> 233\u001b[1;33m             \u001b[0mself\u001b[0m\u001b[1;33m.\u001b[0m\u001b[0m_update_fun_impl\u001b[0m\u001b[1;33m(\u001b[0m\u001b[1;33m)\u001b[0m\u001b[1;33m\u001b[0m\u001b[1;33m\u001b[0m\u001b[0m\n\u001b[0m\u001b[0;32m    234\u001b[0m             \u001b[0mself\u001b[0m\u001b[1;33m.\u001b[0m\u001b[0mf_updated\u001b[0m \u001b[1;33m=\u001b[0m \u001b[1;32mTrue\u001b[0m\u001b[1;33m\u001b[0m\u001b[1;33m\u001b[0m\u001b[0m\n\u001b[0;32m    235\u001b[0m \u001b[1;33m\u001b[0m\u001b[0m\n",
      "\u001b[1;32m~\\anaconda3\\envs\\kaggleenv\\lib\\site-packages\\scipy\\optimize\\_differentiable_functions.py\u001b[0m in \u001b[0;36mupdate_fun\u001b[1;34m()\u001b[0m\n\u001b[0;32m    135\u001b[0m \u001b[1;33m\u001b[0m\u001b[0m\n\u001b[0;32m    136\u001b[0m         \u001b[1;32mdef\u001b[0m \u001b[0mupdate_fun\u001b[0m\u001b[1;33m(\u001b[0m\u001b[1;33m)\u001b[0m\u001b[1;33m:\u001b[0m\u001b[1;33m\u001b[0m\u001b[1;33m\u001b[0m\u001b[0m\n\u001b[1;32m--> 137\u001b[1;33m             \u001b[0mself\u001b[0m\u001b[1;33m.\u001b[0m\u001b[0mf\u001b[0m \u001b[1;33m=\u001b[0m \u001b[0mfun_wrapped\u001b[0m\u001b[1;33m(\u001b[0m\u001b[0mself\u001b[0m\u001b[1;33m.\u001b[0m\u001b[0mx\u001b[0m\u001b[1;33m)\u001b[0m\u001b[1;33m\u001b[0m\u001b[1;33m\u001b[0m\u001b[0m\n\u001b[0m\u001b[0;32m    138\u001b[0m \u001b[1;33m\u001b[0m\u001b[0m\n\u001b[0;32m    139\u001b[0m         \u001b[0mself\u001b[0m\u001b[1;33m.\u001b[0m\u001b[0m_update_fun_impl\u001b[0m \u001b[1;33m=\u001b[0m \u001b[0mupdate_fun\u001b[0m\u001b[1;33m\u001b[0m\u001b[1;33m\u001b[0m\u001b[0m\n",
      "\u001b[1;32m~\\anaconda3\\envs\\kaggleenv\\lib\\site-packages\\scipy\\optimize\\_differentiable_functions.py\u001b[0m in \u001b[0;36mfun_wrapped\u001b[1;34m(x)\u001b[0m\n\u001b[0;32m    132\u001b[0m             \u001b[1;31m# Overwriting results in undefined behaviour because\u001b[0m\u001b[1;33m\u001b[0m\u001b[1;33m\u001b[0m\u001b[1;33m\u001b[0m\u001b[0m\n\u001b[0;32m    133\u001b[0m             \u001b[1;31m# fun(self.x) will change self.x, with the two no longer linked.\u001b[0m\u001b[1;33m\u001b[0m\u001b[1;33m\u001b[0m\u001b[1;33m\u001b[0m\u001b[0m\n\u001b[1;32m--> 134\u001b[1;33m             \u001b[1;32mreturn\u001b[0m \u001b[0mfun\u001b[0m\u001b[1;33m(\u001b[0m\u001b[0mnp\u001b[0m\u001b[1;33m.\u001b[0m\u001b[0mcopy\u001b[0m\u001b[1;33m(\u001b[0m\u001b[0mx\u001b[0m\u001b[1;33m)\u001b[0m\u001b[1;33m,\u001b[0m \u001b[1;33m*\u001b[0m\u001b[0margs\u001b[0m\u001b[1;33m)\u001b[0m\u001b[1;33m\u001b[0m\u001b[1;33m\u001b[0m\u001b[0m\n\u001b[0m\u001b[0;32m    135\u001b[0m \u001b[1;33m\u001b[0m\u001b[0m\n\u001b[0;32m    136\u001b[0m         \u001b[1;32mdef\u001b[0m \u001b[0mupdate_fun\u001b[0m\u001b[1;33m(\u001b[0m\u001b[1;33m)\u001b[0m\u001b[1;33m:\u001b[0m\u001b[1;33m\u001b[0m\u001b[1;33m\u001b[0m\u001b[0m\n",
      "\u001b[1;32m~\\anaconda3\\envs\\kaggleenv\\lib\\site-packages\\scipy\\optimize\\optimize.py\u001b[0m in \u001b[0;36m__call__\u001b[1;34m(self, x, *args)\u001b[0m\n\u001b[0;32m     72\u001b[0m     \u001b[1;32mdef\u001b[0m \u001b[0m__call__\u001b[0m\u001b[1;33m(\u001b[0m\u001b[0mself\u001b[0m\u001b[1;33m,\u001b[0m \u001b[0mx\u001b[0m\u001b[1;33m,\u001b[0m \u001b[1;33m*\u001b[0m\u001b[0margs\u001b[0m\u001b[1;33m)\u001b[0m\u001b[1;33m:\u001b[0m\u001b[1;33m\u001b[0m\u001b[1;33m\u001b[0m\u001b[0m\n\u001b[0;32m     73\u001b[0m         \u001b[1;34m\"\"\" returns the the function value \"\"\"\u001b[0m\u001b[1;33m\u001b[0m\u001b[1;33m\u001b[0m\u001b[0m\n\u001b[1;32m---> 74\u001b[1;33m         \u001b[0mself\u001b[0m\u001b[1;33m.\u001b[0m\u001b[0m_compute_if_needed\u001b[0m\u001b[1;33m(\u001b[0m\u001b[0mx\u001b[0m\u001b[1;33m,\u001b[0m \u001b[1;33m*\u001b[0m\u001b[0margs\u001b[0m\u001b[1;33m)\u001b[0m\u001b[1;33m\u001b[0m\u001b[1;33m\u001b[0m\u001b[0m\n\u001b[0m\u001b[0;32m     75\u001b[0m         \u001b[1;32mreturn\u001b[0m \u001b[0mself\u001b[0m\u001b[1;33m.\u001b[0m\u001b[0m_value\u001b[0m\u001b[1;33m\u001b[0m\u001b[1;33m\u001b[0m\u001b[0m\n\u001b[0;32m     76\u001b[0m \u001b[1;33m\u001b[0m\u001b[0m\n",
      "\u001b[1;32m~\\anaconda3\\envs\\kaggleenv\\lib\\site-packages\\scipy\\optimize\\optimize.py\u001b[0m in \u001b[0;36m_compute_if_needed\u001b[1;34m(self, x, *args)\u001b[0m\n\u001b[0;32m     66\u001b[0m         \u001b[1;32mif\u001b[0m \u001b[1;32mnot\u001b[0m \u001b[0mnp\u001b[0m\u001b[1;33m.\u001b[0m\u001b[0mall\u001b[0m\u001b[1;33m(\u001b[0m\u001b[0mx\u001b[0m \u001b[1;33m==\u001b[0m \u001b[0mself\u001b[0m\u001b[1;33m.\u001b[0m\u001b[0mx\u001b[0m\u001b[1;33m)\u001b[0m \u001b[1;32mor\u001b[0m \u001b[0mself\u001b[0m\u001b[1;33m.\u001b[0m\u001b[0m_value\u001b[0m \u001b[1;32mis\u001b[0m \u001b[1;32mNone\u001b[0m \u001b[1;32mor\u001b[0m \u001b[0mself\u001b[0m\u001b[1;33m.\u001b[0m\u001b[0mjac\u001b[0m \u001b[1;32mis\u001b[0m \u001b[1;32mNone\u001b[0m\u001b[1;33m:\u001b[0m\u001b[1;33m\u001b[0m\u001b[1;33m\u001b[0m\u001b[0m\n\u001b[0;32m     67\u001b[0m             \u001b[0mself\u001b[0m\u001b[1;33m.\u001b[0m\u001b[0mx\u001b[0m \u001b[1;33m=\u001b[0m \u001b[0mnp\u001b[0m\u001b[1;33m.\u001b[0m\u001b[0masarray\u001b[0m\u001b[1;33m(\u001b[0m\u001b[0mx\u001b[0m\u001b[1;33m)\u001b[0m\u001b[1;33m.\u001b[0m\u001b[0mcopy\u001b[0m\u001b[1;33m(\u001b[0m\u001b[1;33m)\u001b[0m\u001b[1;33m\u001b[0m\u001b[1;33m\u001b[0m\u001b[0m\n\u001b[1;32m---> 68\u001b[1;33m             \u001b[0mfg\u001b[0m \u001b[1;33m=\u001b[0m \u001b[0mself\u001b[0m\u001b[1;33m.\u001b[0m\u001b[0mfun\u001b[0m\u001b[1;33m(\u001b[0m\u001b[0mx\u001b[0m\u001b[1;33m,\u001b[0m \u001b[1;33m*\u001b[0m\u001b[0margs\u001b[0m\u001b[1;33m)\u001b[0m\u001b[1;33m\u001b[0m\u001b[1;33m\u001b[0m\u001b[0m\n\u001b[0m\u001b[0;32m     69\u001b[0m             \u001b[0mself\u001b[0m\u001b[1;33m.\u001b[0m\u001b[0mjac\u001b[0m \u001b[1;33m=\u001b[0m \u001b[0mfg\u001b[0m\u001b[1;33m[\u001b[0m\u001b[1;36m1\u001b[0m\u001b[1;33m]\u001b[0m\u001b[1;33m\u001b[0m\u001b[1;33m\u001b[0m\u001b[0m\n\u001b[0;32m     70\u001b[0m             \u001b[0mself\u001b[0m\u001b[1;33m.\u001b[0m\u001b[0m_value\u001b[0m \u001b[1;33m=\u001b[0m \u001b[0mfg\u001b[0m\u001b[1;33m[\u001b[0m\u001b[1;36m0\u001b[0m\u001b[1;33m]\u001b[0m\u001b[1;33m\u001b[0m\u001b[1;33m\u001b[0m\u001b[0m\n",
      "\u001b[1;32m~\\anaconda3\\envs\\kaggleenv\\lib\\site-packages\\sklearn\\gaussian_process\\_gpr.py\u001b[0m in \u001b[0;36mobj_func\u001b[1;34m(theta, eval_gradient)\u001b[0m\n\u001b[0;32m    261\u001b[0m                 \u001b[1;32mif\u001b[0m \u001b[0meval_gradient\u001b[0m\u001b[1;33m:\u001b[0m\u001b[1;33m\u001b[0m\u001b[1;33m\u001b[0m\u001b[0m\n\u001b[0;32m    262\u001b[0m                     lml, grad = self.log_marginal_likelihood(\n\u001b[1;32m--> 263\u001b[1;33m                         \u001b[0mtheta\u001b[0m\u001b[1;33m,\u001b[0m \u001b[0meval_gradient\u001b[0m\u001b[1;33m=\u001b[0m\u001b[1;32mTrue\u001b[0m\u001b[1;33m,\u001b[0m \u001b[0mclone_kernel\u001b[0m\u001b[1;33m=\u001b[0m\u001b[1;32mFalse\u001b[0m\u001b[1;33m\u001b[0m\u001b[1;33m\u001b[0m\u001b[0m\n\u001b[0m\u001b[0;32m    264\u001b[0m                     )\n\u001b[0;32m    265\u001b[0m                     \u001b[1;32mreturn\u001b[0m \u001b[1;33m-\u001b[0m\u001b[0mlml\u001b[0m\u001b[1;33m,\u001b[0m \u001b[1;33m-\u001b[0m\u001b[0mgrad\u001b[0m\u001b[1;33m\u001b[0m\u001b[1;33m\u001b[0m\u001b[0m\n",
      "\u001b[1;32m~\\anaconda3\\envs\\kaggleenv\\lib\\site-packages\\sklearn\\gaussian_process\\_gpr.py\u001b[0m in \u001b[0;36mlog_marginal_likelihood\u001b[1;34m(self, theta, eval_gradient, clone_kernel)\u001b[0m\n\u001b[0;32m    511\u001b[0m \u001b[1;33m\u001b[0m\u001b[0m\n\u001b[0;32m    512\u001b[0m         \u001b[1;32mif\u001b[0m \u001b[0meval_gradient\u001b[0m\u001b[1;33m:\u001b[0m\u001b[1;33m\u001b[0m\u001b[1;33m\u001b[0m\u001b[0m\n\u001b[1;32m--> 513\u001b[1;33m             \u001b[0mK\u001b[0m\u001b[1;33m,\u001b[0m \u001b[0mK_gradient\u001b[0m \u001b[1;33m=\u001b[0m \u001b[0mkernel\u001b[0m\u001b[1;33m(\u001b[0m\u001b[0mself\u001b[0m\u001b[1;33m.\u001b[0m\u001b[0mX_train_\u001b[0m\u001b[1;33m,\u001b[0m \u001b[0meval_gradient\u001b[0m\u001b[1;33m=\u001b[0m\u001b[1;32mTrue\u001b[0m\u001b[1;33m)\u001b[0m\u001b[1;33m\u001b[0m\u001b[1;33m\u001b[0m\u001b[0m\n\u001b[0m\u001b[0;32m    514\u001b[0m         \u001b[1;32melse\u001b[0m\u001b[1;33m:\u001b[0m\u001b[1;33m\u001b[0m\u001b[1;33m\u001b[0m\u001b[0m\n\u001b[0;32m    515\u001b[0m             \u001b[0mK\u001b[0m \u001b[1;33m=\u001b[0m \u001b[0mkernel\u001b[0m\u001b[1;33m(\u001b[0m\u001b[0mself\u001b[0m\u001b[1;33m.\u001b[0m\u001b[0mX_train_\u001b[0m\u001b[1;33m)\u001b[0m\u001b[1;33m\u001b[0m\u001b[1;33m\u001b[0m\u001b[0m\n",
      "\u001b[1;32m~\\anaconda3\\envs\\kaggleenv\\lib\\site-packages\\sklearn\\gaussian_process\\kernels.py\u001b[0m in \u001b[0;36m__call__\u001b[1;34m(self, X, Y, eval_gradient)\u001b[0m\n\u001b[0;32m    840\u001b[0m         \"\"\"\n\u001b[0;32m    841\u001b[0m         \u001b[1;32mif\u001b[0m \u001b[0meval_gradient\u001b[0m\u001b[1;33m:\u001b[0m\u001b[1;33m\u001b[0m\u001b[1;33m\u001b[0m\u001b[0m\n\u001b[1;32m--> 842\u001b[1;33m             \u001b[0mK1\u001b[0m\u001b[1;33m,\u001b[0m \u001b[0mK1_gradient\u001b[0m \u001b[1;33m=\u001b[0m \u001b[0mself\u001b[0m\u001b[1;33m.\u001b[0m\u001b[0mk1\u001b[0m\u001b[1;33m(\u001b[0m\u001b[0mX\u001b[0m\u001b[1;33m,\u001b[0m \u001b[0mY\u001b[0m\u001b[1;33m,\u001b[0m \u001b[0meval_gradient\u001b[0m\u001b[1;33m=\u001b[0m\u001b[1;32mTrue\u001b[0m\u001b[1;33m)\u001b[0m\u001b[1;33m\u001b[0m\u001b[1;33m\u001b[0m\u001b[0m\n\u001b[0m\u001b[0;32m    843\u001b[0m             \u001b[0mK2\u001b[0m\u001b[1;33m,\u001b[0m \u001b[0mK2_gradient\u001b[0m \u001b[1;33m=\u001b[0m \u001b[0mself\u001b[0m\u001b[1;33m.\u001b[0m\u001b[0mk2\u001b[0m\u001b[1;33m(\u001b[0m\u001b[0mX\u001b[0m\u001b[1;33m,\u001b[0m \u001b[0mY\u001b[0m\u001b[1;33m,\u001b[0m \u001b[0meval_gradient\u001b[0m\u001b[1;33m=\u001b[0m\u001b[1;32mTrue\u001b[0m\u001b[1;33m)\u001b[0m\u001b[1;33m\u001b[0m\u001b[1;33m\u001b[0m\u001b[0m\n\u001b[0;32m    844\u001b[0m             \u001b[1;32mreturn\u001b[0m \u001b[0mK1\u001b[0m \u001b[1;33m+\u001b[0m \u001b[0mK2\u001b[0m\u001b[1;33m,\u001b[0m \u001b[0mnp\u001b[0m\u001b[1;33m.\u001b[0m\u001b[0mdstack\u001b[0m\u001b[1;33m(\u001b[0m\u001b[1;33m(\u001b[0m\u001b[0mK1_gradient\u001b[0m\u001b[1;33m,\u001b[0m \u001b[0mK2_gradient\u001b[0m\u001b[1;33m)\u001b[0m\u001b[1;33m)\u001b[0m\u001b[1;33m\u001b[0m\u001b[1;33m\u001b[0m\u001b[0m\n",
      "\u001b[1;32m~\\anaconda3\\envs\\kaggleenv\\lib\\site-packages\\sklearn\\gaussian_process\\kernels.py\u001b[0m in \u001b[0;36m__call__\u001b[1;34m(self, X, Y, eval_gradient)\u001b[0m\n\u001b[0;32m    941\u001b[0m             \u001b[0mK2\u001b[0m\u001b[1;33m,\u001b[0m \u001b[0mK2_gradient\u001b[0m \u001b[1;33m=\u001b[0m \u001b[0mself\u001b[0m\u001b[1;33m.\u001b[0m\u001b[0mk2\u001b[0m\u001b[1;33m(\u001b[0m\u001b[0mX\u001b[0m\u001b[1;33m,\u001b[0m \u001b[0mY\u001b[0m\u001b[1;33m,\u001b[0m \u001b[0meval_gradient\u001b[0m\u001b[1;33m=\u001b[0m\u001b[1;32mTrue\u001b[0m\u001b[1;33m)\u001b[0m\u001b[1;33m\u001b[0m\u001b[1;33m\u001b[0m\u001b[0m\n\u001b[0;32m    942\u001b[0m             return K1 * K2, np.dstack(\n\u001b[1;32m--> 943\u001b[1;33m                 \u001b[1;33m(\u001b[0m\u001b[0mK1_gradient\u001b[0m \u001b[1;33m*\u001b[0m \u001b[0mK2\u001b[0m\u001b[1;33m[\u001b[0m\u001b[1;33m:\u001b[0m\u001b[1;33m,\u001b[0m \u001b[1;33m:\u001b[0m\u001b[1;33m,\u001b[0m \u001b[0mnp\u001b[0m\u001b[1;33m.\u001b[0m\u001b[0mnewaxis\u001b[0m\u001b[1;33m]\u001b[0m\u001b[1;33m,\u001b[0m \u001b[0mK2_gradient\u001b[0m \u001b[1;33m*\u001b[0m \u001b[0mK1\u001b[0m\u001b[1;33m[\u001b[0m\u001b[1;33m:\u001b[0m\u001b[1;33m,\u001b[0m \u001b[1;33m:\u001b[0m\u001b[1;33m,\u001b[0m \u001b[0mnp\u001b[0m\u001b[1;33m.\u001b[0m\u001b[0mnewaxis\u001b[0m\u001b[1;33m]\u001b[0m\u001b[1;33m)\u001b[0m\u001b[1;33m\u001b[0m\u001b[1;33m\u001b[0m\u001b[0m\n\u001b[0m\u001b[0;32m    944\u001b[0m             )\n\u001b[0;32m    945\u001b[0m         \u001b[1;32melse\u001b[0m\u001b[1;33m:\u001b[0m\u001b[1;33m\u001b[0m\u001b[1;33m\u001b[0m\u001b[0m\n",
      "\u001b[1;32m<__array_function__ internals>\u001b[0m in \u001b[0;36mdstack\u001b[1;34m(*args, **kwargs)\u001b[0m\n",
      "\u001b[1;32m~\\anaconda3\\envs\\kaggleenv\\lib\\site-packages\\numpy\\lib\\shape_base.py\u001b[0m in \u001b[0;36mdstack\u001b[1;34m(tup)\u001b[0m\n\u001b[0;32m    721\u001b[0m     \u001b[1;32mif\u001b[0m \u001b[1;32mnot\u001b[0m \u001b[0misinstance\u001b[0m\u001b[1;33m(\u001b[0m\u001b[0marrs\u001b[0m\u001b[1;33m,\u001b[0m \u001b[0mlist\u001b[0m\u001b[1;33m)\u001b[0m\u001b[1;33m:\u001b[0m\u001b[1;33m\u001b[0m\u001b[1;33m\u001b[0m\u001b[0m\n\u001b[0;32m    722\u001b[0m         \u001b[0marrs\u001b[0m \u001b[1;33m=\u001b[0m \u001b[1;33m[\u001b[0m\u001b[0marrs\u001b[0m\u001b[1;33m]\u001b[0m\u001b[1;33m\u001b[0m\u001b[1;33m\u001b[0m\u001b[0m\n\u001b[1;32m--> 723\u001b[1;33m     \u001b[1;32mreturn\u001b[0m \u001b[0m_nx\u001b[0m\u001b[1;33m.\u001b[0m\u001b[0mconcatenate\u001b[0m\u001b[1;33m(\u001b[0m\u001b[0marrs\u001b[0m\u001b[1;33m,\u001b[0m \u001b[1;36m2\u001b[0m\u001b[1;33m)\u001b[0m\u001b[1;33m\u001b[0m\u001b[1;33m\u001b[0m\u001b[0m\n\u001b[0m\u001b[0;32m    724\u001b[0m \u001b[1;33m\u001b[0m\u001b[0m\n\u001b[0;32m    725\u001b[0m \u001b[1;33m\u001b[0m\u001b[0m\n",
      "\u001b[1;32m<__array_function__ internals>\u001b[0m in \u001b[0;36mconcatenate\u001b[1;34m(*args, **kwargs)\u001b[0m\n",
      "\u001b[1;31mKeyboardInterrupt\u001b[0m: "
     ]
    }
   ],
   "source": [
    "%%time\n",
    "\n",
    "gbr_params = {\n",
    "    'loss': ['huber'],\n",
    "    'learning_rate': Real(0.0001, 0.3, prior='log-uniform'),        \n",
    "    'n_estimators': Integer(25, 1500, prior='uniform'),\n",
    "    'subsample':  Real(0.6, 1., prior='uniform'),   \n",
    "    'max_depth': Integer(1, 23, prior='uniform'),\n",
    "    'min_samples_split': Real(0.00015, 0.4, prior='uniform'),\n",
    "    'min_samples_leaf': Real(0.0007, 0.03, prior='uniform'),\n",
    "    'max_features': Real(0.01, 1., prior='uniform')\n",
    "}\n",
    "\n",
    "search_gbr = skopt.BayesSearchCV(estimator=GradientBoostingRegressor(),\n",
    "                                search_spaces=gbr_params,\n",
    "                                scoring='neg_mean_squared_error',\n",
    "                                n_iter=600,\n",
    "                                cv=kfolds,\n",
    "                                random_state=11,\n",
    "                                n_jobs=3,\n",
    "                                 verbose=10\n",
    "                                )\n",
    "\n",
    "search_gbr_ = search_gbr.fit(X, y)"
   ]
  },
  {
   "cell_type": "code",
   "execution_count": 92,
   "id": "813855c0",
   "metadata": {},
   "outputs": [],
   "source": [
    "-search_gbr.best_score_, np.sqrt(-search_gbr.best_score_)"
   ]
  },
  {
   "cell_type": "code",
   "execution_count": null,
   "id": "4eebb524",
   "metadata": {},
   "outputs": [],
   "source": [
    "dict(search_gbr.best_params_)"
   ]
  },
  {
   "cell_type": "code",
   "execution_count": null,
   "id": "ccaaef05",
   "metadata": {},
   "outputs": [],
   "source": []
  },
  {
   "cell_type": "code",
   "execution_count": null,
   "id": "c7a73d0c",
   "metadata": {},
   "outputs": [],
   "source": [
    "time.sleep(60*5)"
   ]
  },
  {
   "cell_type": "code",
   "execution_count": null,
   "id": "95a01752",
   "metadata": {},
   "outputs": [],
   "source": []
  },
  {
   "cell_type": "markdown",
   "id": "74fd22aa",
   "metadata": {},
   "source": [
    "#### Optuna"
   ]
  },
  {
   "cell_type": "code",
   "execution_count": null,
   "id": "2a738184",
   "metadata": {},
   "outputs": [],
   "source": []
  },
  {
   "cell_type": "code",
   "execution_count": null,
   "id": "5140ed32",
   "metadata": {},
   "outputs": [],
   "source": [
    "def objective_gbr(trial, X, y, cv, scoring):\n",
    "    params = {\n",
    "        \n",
    "        'learning_rate': trial.suggest_loguniform('learning_rate', 0.0001, 0.3),        \n",
    "        'n_estimators': trial.suggest_int(\"n_estimators\", 25, 1500, step=25),\n",
    "        'max_depth': trial.suggest_int('max_depth', 1, 35),\n",
    "        'min_samples_split': trial.suggest_float(\"min_samples_split\", 0.01, 1., step=0.1),\n",
    "        'min_samples_leaf': trial.suggest_float(\"min_samples_leaf\", 0.1, 5., step=0.1),\n",
    "        'max_features': trial.suggest_float(\"min_samples_leaf\", 0.01, 1., step=0.01),\n",
    "        \n",
    "    }\n",
    "    \n",
    "    gr_reg = GradientBoostingRegressor(**params, loss='huber')\n",
    "    scores = cross_validate(gr_reg, X, y, cv=cv, scoring=scoring, n_jobs=2)\n",
    "    \n",
    "    rmse = np.sqrt(-scores[\"test_score\"].mean())\n",
    "\n",
    "    return rmse"
   ]
  },
  {
   "cell_type": "code",
   "execution_count": null,
   "id": "322d31fd",
   "metadata": {},
   "outputs": [],
   "source": [
    "%%time\n",
    "\n",
    "# sampler_gbr = optuna.samplers.CmaEsSampler(seed=5)\n",
    "# sampler = optuna.samplers.NSGAIISampler()\n",
    "# sampler_gbr = optuna.samplers.RandomSampler(seed=7)\n",
    "\n",
    "# Create study that minimizes\n",
    "study_gbr = optuna.create_study(direction=\"minimize\") #, sampler=sampler\n",
    "\n",
    "# Pass additional arguments inside another function\n",
    "func_gbr = lambda trial: objective_gbr(trial, X, y, cv=kfolds, scoring=\"neg_mean_squared_error\")\n",
    "\n",
    "\n",
    "study_gbr.optimize(func_gbr, timeout=60*60*3, show_progress_bar =True)\n",
    "\n",
    "# print(f\"Base RMSE     : {rmse:.5f}\")\n",
    "print(f\"Optimized RMSE: {study_gbr.best_value:.5f}\")"
   ]
  },
  {
   "cell_type": "code",
   "execution_count": null,
   "id": "dd2dc298",
   "metadata": {},
   "outputs": [],
   "source": [
    "optuna.visualization.matplotlib.plot_optimization_history(study_gbr);"
   ]
  },
  {
   "cell_type": "code",
   "execution_count": null,
   "id": "754be5a2",
   "metadata": {},
   "outputs": [],
   "source": [
    "study_gbr.best_value, study_gbr.best_params"
   ]
  },
  {
   "cell_type": "code",
   "execution_count": null,
   "id": "76e0a9b8",
   "metadata": {},
   "outputs": [],
   "source": []
  },
  {
   "cell_type": "code",
   "execution_count": null,
   "id": "63838bd9",
   "metadata": {},
   "outputs": [],
   "source": [
    "params_gbr = {\n",
    "    'n_estimators': 5050,\n",
    "  'learning_rate': 0.013246225789170006,\n",
    "  'min_gain_to_split': 0.1,\n",
    "  'num_leaves': 52,\n",
    "  'max_depth': 13,\n",
    "  'max_bin': 28,\n",
    "  'min_child_samples': 26,\n",
    "  'reg_alpha': 0.153,\n",
    "  'reg_lambda': 4.4750000000000005,\n",
    "  'subsample': 0.61,\n",
    "  'subsample_freq': 5,\n",
    "  'bagging_seed': 8,\n",
    "  'feature_fraction_seed': 4\n",
    "}\n",
    "\n",
    "tuned_gbr_booster = GradientBoostingRegressor(**params_gbr)"
   ]
  },
  {
   "cell_type": "code",
   "execution_count": null,
   "id": "04b34e58",
   "metadata": {},
   "outputs": [],
   "source": []
  },
  {
   "cell_type": "code",
   "execution_count": null,
   "id": "48247dca",
   "metadata": {},
   "outputs": [],
   "source": []
  },
  {
   "cell_type": "code",
   "execution_count": null,
   "id": "85d752f0",
   "metadata": {},
   "outputs": [],
   "source": []
  },
  {
   "attachments": {
    "image.png": {
     "image/png": "[encoded data removed]"
    }
   },
   "cell_type": "markdown",
   "id": "61575e2d",
   "metadata": {},
   "source": [
    "#### BAYES\n",
    "\n",
    "-search_gbr.best_score_, np.sqrt(-search_gbr.best_score_)\n",
    "\n",
    "(0.09074316234536499, 0.30123605751198673)\n",
    "\n",
    "dict(search_gbr.best_params_)\n",
    "\n",
    "{'learning_rate': 0.0440214178426571,\n",
    " 'loss': 'huber',\n",
    " 'max_depth': 4,\n",
    " 'max_features': 0.5750332565203448,\n",
    " 'min_samples_leaf': 0.003217809894833784,\n",
    " 'min_samples_split': 0.3540291457373217,\n",
    " 'n_estimators': 727,\n",
    " 'subsample': 0.7757691666432391}\n",
    "\n",
    "#### OPTUNA\n",
    "\n",
    "study_gbr.best_value, study_gbr.best_params\n",
    "\n",
    "(0.33657088548453534,\n",
    " {'learning_rate': 0.06627912441656152,\n",
    "  'max_depth': 4,\n",
    "  'max_features': 0.4,\n",
    "  'min_samples_leaf': 0.1,\n",
    "  'min_samples_split': 0.21000000000000002,\n",
    "  'n_estimators': 475})\n",
    "  \n",
    "  \n",
    "![image.png](attachment:image.png)\n"
   ]
  },
  {
   "cell_type": "code",
   "execution_count": null,
   "id": "ec26441c",
   "metadata": {},
   "outputs": [],
   "source": []
  },
  {
   "cell_type": "code",
   "execution_count": 113,
   "id": "730a6a4d",
   "metadata": {},
   "outputs": [],
   "source": [
    "params_gbr_bayes = {\n",
    "     'learning_rate': 0.044,\n",
    "     'loss': 'huber',\n",
    "     'max_depth': 4,\n",
    "     'max_features': 0.575,\n",
    "     'min_samples_leaf': 0.003218,\n",
    "     'min_samples_split': 0.3540,\n",
    "     'n_estimators': 727,\n",
    "     'subsample': 0.7758\n",
    "}\n",
    "\n",
    "params_gbr_optuna = {\n",
    "      'learning_rate': 0.06627912441656152,\n",
    "      'max_depth': 4,\n",
    "      'max_features': 0.4,\n",
    "      'min_samples_leaf': 0.1,\n",
    "      'min_samples_split': 0.21000000000000002,\n",
    "      'n_estimators': 475\n",
    "    }\n",
    "\n",
    "base_gbr_booster = GradientBoostingRegressor()\n",
    "\n",
    "tuned_gbr_booster_bayes = GradientBoostingRegressor(**params_gbr_bayes)\n",
    "\n",
    "tuned_gbr_booster_optuna = GradientBoostingRegressor(**params_gbr_optuna)"
   ]
  },
  {
   "cell_type": "code",
   "execution_count": 114,
   "id": "2c236ef2",
   "metadata": {},
   "outputs": [
    {
     "name": "stdout",
     "output_type": "stream",
     "text": [
      "RMSE CV: [0.32379716 0.30893973 0.34152062 0.31199628 0.33521631 0.33802525]  Mean RMSE: 0.3265826 Std RMSE: 0.0126518\n",
      "MAE CV: [0.228729   0.22051481 0.23269596 0.22637278 0.23595376 0.23986619]  Mean MAE: 0.2306887 Std MAE: 0.0063502\n",
      "R2 CV: [0.88434648 0.91518213 0.87988219 0.89962604 0.89612948 0.87871828]  Mean R2: 0.8923141 Std R2: 0.0128702\n"
     ]
    }
   ],
   "source": [
    "## BASE\n",
    "\n",
    "rmse_base_gbr_booster, mae_base_gbr_booster, r2_base_gbr_booster = cv_rmse(base_gbr_booster, X, y)\n",
    "display_cv_scores(rmse_base_gbr_booster, mae_base_gbr_booster, r2_base_gbr_booster)"
   ]
  },
  {
   "cell_type": "code",
   "execution_count": 115,
   "id": "6065acfc",
   "metadata": {},
   "outputs": [
    {
     "name": "stdout",
     "output_type": "stream",
     "text": [
      "RMSE CV: [0.30035963 0.27384128 0.31855399 0.30928373 0.30682785 0.31079822]  Mean RMSE: 0.3032774 Std RMSE: 0.0142221\n",
      "MAE CV: [0.20992639 0.20096114 0.21125161 0.20347358 0.21456171 0.20673958]  Mean MAE: 0.207819 Std MAE: 0.0046326\n",
      "R2 CV: [0.89864394 0.93329251 0.89429951 0.9012824  0.91314198 0.88907252]  Mean R2: 0.9049555 Std R2: 0.0146581\n"
     ]
    }
   ],
   "source": [
    "## BAYES\n",
    "\n",
    "rmse_tuned_gbr_booster_bayes, mae_tuned_gbr_booster_bayes, r2_tuned_gbr_booster_bayes = cv_rmse(tuned_gbr_booster_bayes, \n",
    "                                                                                                   X, y)\n",
    "display_cv_scores(rmse_tuned_gbr_booster_bayes, mae_tuned_gbr_booster_bayes, r2_tuned_gbr_booster_bayes)"
   ]
  },
  {
   "cell_type": "code",
   "execution_count": 116,
   "id": "3fc439dd",
   "metadata": {},
   "outputs": [
    {
     "name": "stdout",
     "output_type": "stream",
     "text": [
      "RMSE CV: [0.34305346 0.31179284 0.36158349 0.34818438 0.33484985 0.33618974]  Mean RMSE: 0.3392756 Std RMSE: 0.0151421\n",
      "MAE CV: [0.24483031 0.22424632 0.24933187 0.24267879 0.24099623 0.24596792]  Mean MAE: 0.2413419 Std MAE: 0.0080785\n",
      "R2 CV: [0.86542936 0.91061619 0.86300055 0.88537138 0.89605206 0.87214738]  Mean R2: 0.8821028 Std R2: 0.0171284\n"
     ]
    }
   ],
   "source": [
    "## OPTUNA\n",
    "\n",
    "rmse_tuned_gbr_booster_optuna, mae_tuned_gbr_booster_optuna, r2_tuned_gbr_booster_optuna = cv_rmse(tuned_gbr_booster_optuna,\n",
    "                                                                                                      X, y)\n",
    "display_cv_scores(rmse_tuned_gbr_booster_optuna, mae_tuned_gbr_booster_optuna, r2_tuned_gbr_booster_optuna)"
   ]
  },
  {
   "cell_type": "code",
   "execution_count": null,
   "id": "4f2f2fa3",
   "metadata": {},
   "outputs": [],
   "source": []
  },
  {
   "cell_type": "code",
   "execution_count": null,
   "id": "35680fb6",
   "metadata": {},
   "outputs": [],
   "source": []
  },
  {
   "cell_type": "code",
   "execution_count": null,
   "id": "83c4bf06",
   "metadata": {},
   "outputs": [],
   "source": []
  },
  {
   "cell_type": "code",
   "execution_count": null,
   "id": "f37a49f1",
   "metadata": {},
   "outputs": [],
   "source": []
  },
  {
   "cell_type": "markdown",
   "id": "c61dff91",
   "metadata": {},
   "source": [
    "### Compare Models"
   ]
  },
  {
   "cell_type": "code",
   "execution_count": 118,
   "id": "0a6aa310",
   "metadata": {
    "scrolled": true
   },
   "outputs": [
    {
     "name": "stdout",
     "output_type": "stream",
     "text": [
      "[LightGBM] [Warning] feature_fraction is set=0.2, colsample_bytree=1.0 will be ignored. Current value: feature_fraction=0.2\n",
      "[LightGBM] [Warning] bagging_fraction is set=0.75, subsample=1.0 will be ignored. Current value: bagging_fraction=0.75\n",
      "[LightGBM] [Warning] bagging_freq is set=5, subsample_freq=0 will be ignored. Current value: bagging_freq=5\n",
      "[LightGBM] [Warning] feature_fraction is set=0.2, colsample_bytree=1.0 will be ignored. Current value: feature_fraction=0.2\n",
      "[LightGBM] [Warning] bagging_fraction is set=0.75, subsample=1.0 will be ignored. Current value: bagging_fraction=0.75\n",
      "[LightGBM] [Warning] bagging_freq is set=5, subsample_freq=0 will be ignored. Current value: bagging_freq=5\n",
      "[LightGBM] [Warning] feature_fraction is set=0.2, colsample_bytree=1.0 will be ignored. Current value: feature_fraction=0.2\n",
      "[LightGBM] [Warning] bagging_fraction is set=0.75, subsample=1.0 will be ignored. Current value: bagging_fraction=0.75\n",
      "[LightGBM] [Warning] bagging_freq is set=5, subsample_freq=0 will be ignored. Current value: bagging_freq=5\n",
      "[LightGBM] [Warning] feature_fraction is set=0.2, colsample_bytree=1.0 will be ignored. Current value: feature_fraction=0.2\n",
      "[LightGBM] [Warning] bagging_fraction is set=0.75, subsample=1.0 will be ignored. Current value: bagging_fraction=0.75\n",
      "[LightGBM] [Warning] bagging_freq is set=5, subsample_freq=0 will be ignored. Current value: bagging_freq=5\n",
      "[LightGBM] [Warning] feature_fraction is set=0.2, colsample_bytree=1.0 will be ignored. Current value: feature_fraction=0.2\n",
      "[LightGBM] [Warning] bagging_fraction is set=0.75, subsample=1.0 will be ignored. Current value: bagging_fraction=0.75\n",
      "[LightGBM] [Warning] bagging_freq is set=5, subsample_freq=0 will be ignored. Current value: bagging_freq=5\n",
      "[LightGBM] [Warning] feature_fraction is set=0.2, colsample_bytree=1.0 will be ignored. Current value: feature_fraction=0.2\n",
      "[LightGBM] [Warning] bagging_fraction is set=0.75, subsample=1.0 will be ignored. Current value: bagging_fraction=0.75\n",
      "[LightGBM] [Warning] bagging_freq is set=5, subsample_freq=0 will be ignored. Current value: bagging_freq=5\n",
      "[LightGBM] [Warning] feature_fraction is set=0.2, colsample_bytree=1.0 will be ignored. Current value: feature_fraction=0.2\n",
      "[LightGBM] [Warning] bagging_fraction is set=0.75, subsample=1.0 will be ignored. Current value: bagging_fraction=0.75\n",
      "[LightGBM] [Warning] bagging_freq is set=5, subsample_freq=0 will be ignored. Current value: bagging_freq=5\n",
      "[LightGBM] [Warning] feature_fraction is set=0.2, colsample_bytree=1.0 will be ignored. Current value: feature_fraction=0.2\n",
      "[LightGBM] [Warning] bagging_fraction is set=0.75, subsample=1.0 will be ignored. Current value: bagging_fraction=0.75\n",
      "[LightGBM] [Warning] bagging_freq is set=5, subsample_freq=0 will be ignored. Current value: bagging_freq=5\n",
      "[LightGBM] [Warning] feature_fraction is set=0.2, colsample_bytree=1.0 will be ignored. Current value: feature_fraction=0.2\n",
      "[LightGBM] [Warning] bagging_fraction is set=0.75, subsample=1.0 will be ignored. Current value: bagging_fraction=0.75\n",
      "[LightGBM] [Warning] bagging_freq is set=5, subsample_freq=0 will be ignored. Current value: bagging_freq=5\n",
      "[LightGBM] [Warning] feature_fraction is set=0.2, colsample_bytree=1.0 will be ignored. Current value: feature_fraction=0.2\n",
      "[LightGBM] [Warning] bagging_fraction is set=0.75, subsample=1.0 will be ignored. Current value: bagging_fraction=0.75\n",
      "[LightGBM] [Warning] bagging_freq is set=5, subsample_freq=0 will be ignored. Current value: bagging_freq=5\n",
      "[LightGBM] [Warning] feature_fraction is set=0.2, colsample_bytree=1.0 will be ignored. Current value: feature_fraction=0.2\n",
      "[LightGBM] [Warning] bagging_fraction is set=0.75, subsample=1.0 will be ignored. Current value: bagging_fraction=0.75\n",
      "[LightGBM] [Warning] bagging_freq is set=5, subsample_freq=0 will be ignored. Current value: bagging_freq=5\n",
      "[LightGBM] [Warning] feature_fraction is set=0.2, colsample_bytree=1.0 will be ignored. Current value: feature_fraction=0.2\n",
      "[LightGBM] [Warning] bagging_fraction is set=0.75, subsample=1.0 will be ignored. Current value: bagging_fraction=0.75\n",
      "[LightGBM] [Warning] bagging_freq is set=5, subsample_freq=0 will be ignored. Current value: bagging_freq=5\n",
      "[LightGBM] [Warning] feature_fraction is set=0.2, colsample_bytree=1.0 will be ignored. Current value: feature_fraction=0.2\n",
      "[LightGBM] [Warning] bagging_fraction is set=0.75, subsample=1.0 will be ignored. Current value: bagging_fraction=0.75\n",
      "[LightGBM] [Warning] bagging_freq is set=5, subsample_freq=0 will be ignored. Current value: bagging_freq=5\n",
      "[LightGBM] [Warning] feature_fraction is set=0.2, colsample_bytree=1.0 will be ignored. Current value: feature_fraction=0.2\n",
      "[LightGBM] [Warning] bagging_fraction is set=0.75, subsample=1.0 will be ignored. Current value: bagging_fraction=0.75\n",
      "[LightGBM] [Warning] bagging_freq is set=5, subsample_freq=0 will be ignored. Current value: bagging_freq=5\n",
      "[LightGBM] [Warning] feature_fraction is set=0.2, colsample_bytree=1.0 will be ignored. Current value: feature_fraction=0.2\n",
      "[LightGBM] [Warning] bagging_fraction is set=0.75, subsample=1.0 will be ignored. Current value: bagging_fraction=0.75\n",
      "[LightGBM] [Warning] bagging_freq is set=5, subsample_freq=0 will be ignored. Current value: bagging_freq=5\n",
      "[LightGBM] [Warning] feature_fraction is set=0.2, colsample_bytree=1.0 will be ignored. Current value: feature_fraction=0.2\n",
      "[LightGBM] [Warning] bagging_fraction is set=0.75, subsample=1.0 will be ignored. Current value: bagging_fraction=0.75\n",
      "[LightGBM] [Warning] bagging_freq is set=5, subsample_freq=0 will be ignored. Current value: bagging_freq=5\n",
      "[LightGBM] [Warning] feature_fraction is set=0.2, colsample_bytree=1.0 will be ignored. Current value: feature_fraction=0.2\n",
      "[LightGBM] [Warning] bagging_fraction is set=0.75, subsample=1.0 will be ignored. Current value: bagging_fraction=0.75\n",
      "[LightGBM] [Warning] bagging_freq is set=5, subsample_freq=0 will be ignored. Current value: bagging_freq=5\n",
      "[LightGBM] [Warning] feature_fraction is set=0.2, colsample_bytree=1.0 will be ignored. Current value: feature_fraction=0.2\n",
      "[LightGBM] [Warning] bagging_fraction is set=0.75, subsample=1.0 will be ignored. Current value: bagging_fraction=0.75\n",
      "[LightGBM] [Warning] bagging_freq is set=5, subsample_freq=0 will be ignored. Current value: bagging_freq=5\n",
      "RMSE CV: [0.30631087 0.27692145 0.31495194 0.3090343  0.31418603 0.31211882]  Mean RMSE: 0.3055872 Std RMSE: 0.0131557\n",
      "MAE CV: [0.21327403 0.2036933  0.21064499 0.21153102 0.21550733 0.21913689]  Mean MAE: 0.2122979 Std MAE: 0.0047502\n",
      "R2 CV: [0.89379528 0.93152589 0.89803395 0.90229521 0.90677821 0.89637589]  Mean R2: 0.9048007 Std R2: 0.0126643\n"
     ]
    }
   ],
   "source": [
    "lightgbm = lgb.LGBMRegressor(objective='regression', \n",
    "                                       num_leaves=4,\n",
    "                                       learning_rate=0.01, \n",
    "                                       n_estimators=5000,\n",
    "                                       max_bin=200, \n",
    "                                       bagging_fraction=0.75,\n",
    "                                       bagging_freq=5, \n",
    "                                       bagging_seed=7,\n",
    "                                       feature_fraction=0.2,\n",
    "                                       feature_fraction_seed=7,\n",
    "                                       verbose=-1,\n",
    "                                       )\n",
    "\n",
    "rmse_lgbm, mae_lgbm, r2_lgbm = cv_rmse(lightgbm, X, y)\n",
    "display_cv_scores(rmse_lgbm, mae_lgbm, r2_lgbm )"
   ]
  },
  {
   "cell_type": "code",
   "execution_count": 169,
   "id": "40e1ab68",
   "metadata": {},
   "outputs": [
    {
     "name": "stdout",
     "output_type": "stream",
     "text": [
      "RMSE CV: [0.23888119 0.22098587 0.2488139  0.24075765 0.24800949 0.25537261]  Mean RMSE: 0.2421368 Std RMSE: 0.0109096\n",
      "MAE CV: [0.1659052  0.15294113 0.16876011 0.17164554 0.16992981 0.17657041]  Mean MAE: 0.1676254 Std MAE: 0.0073185\n",
      "R2 CV: [0.89383621 0.92833028 0.89540528 0.90253332 0.90452849 0.88598473]  Mean R2: 0.9017697 Std R2: 0.0133309\n"
     ]
    }
   ],
   "source": [
    "xgboost = xgb.XGBRegressor(learning_rate=0.01,n_estimators=3460,\n",
    "                                     max_depth=3, min_child_weight=0,\n",
    "                                     gamma=0, subsample=0.7,\n",
    "                                     colsample_bytree=0.7,\n",
    "                                     objective='reg:squarederror', nthread=-1,\n",
    "                                     scale_pos_weight=1, seed=27,\n",
    "                                     reg_alpha=0.00006)\n",
    "\n",
    "rmse_xgb, mae_xgb, r2_xgb = cv_rmse(xgboost, X1, y1)\n",
    "display_cv_scores(rmse_xgb, mae_xgb, r2_xgb)"
   ]
  },
  {
   "cell_type": "code",
   "execution_count": 135,
   "id": "00a7fce4",
   "metadata": {},
   "outputs": [
    {
     "name": "stdout",
     "output_type": "stream",
     "text": [
      "RMSE CV: [0.30564225 0.28305718 0.3188826  0.30970968 0.31677962 0.325578  ]  Mean RMSE: 0.3099416 Std RMSE: 0.0136168\n",
      "MAE CV: [0.21212717 0.19660931 0.21561874 0.22066512 0.21766712 0.22540358]  Mean MAE: 0.2146818 Std MAE: 0.0090709\n",
      "R2 CV: [0.89425842 0.92845792 0.89547296 0.90186768 0.90523278 0.88724624]  Mean R2: 0.9020893 Std R2: 0.0131063\n"
     ]
    }
   ],
   "source": [
    "rmse_xgb, mae_xgb, r2_xgb = cv_rmse(xgboost, X1, y1)\n",
    "display_cv_scores(rmse_xgb, mae_xgb, r2_xgb)"
   ]
  },
  {
   "cell_type": "code",
   "execution_count": null,
   "id": "92a1bd4e",
   "metadata": {},
   "outputs": [],
   "source": []
  },
  {
   "cell_type": "code",
   "execution_count": null,
   "id": "51ed609a",
   "metadata": {},
   "outputs": [],
   "source": []
  },
  {
   "cell_type": "code",
   "execution_count": null,
   "id": "ba6a3f32",
   "metadata": {},
   "outputs": [],
   "source": []
  }
 ],
 "metadata": {
  "kernelspec": {
   "display_name": "Python 3 (ipykernel)",
   "language": "python",
   "name": "python3"
  },
  "language_info": {
   "codemirror_mode": {
    "name": "ipython",
    "version": 3
   },
   "file_extension": ".py",
   "mimetype": "text/x-python",
   "name": "python",
   "nbconvert_exporter": "python",
   "pygments_lexer": "ipython3",
   "version": "3.7.9"
  }
 },
 "nbformat": 4,
 "nbformat_minor": 5
}
