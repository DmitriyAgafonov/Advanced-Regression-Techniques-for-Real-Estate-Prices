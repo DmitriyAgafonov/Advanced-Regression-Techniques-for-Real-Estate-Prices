{
  "nbformat": 4,
  "nbformat_minor": 0,
  "metadata": {
    "colab": {
      "name": "MODELLING_HP.ipynb",
      "provenance": [],
      "collapsed_sections": []
    },
    "kernelspec": {
      "name": "python3",
      "display_name": "Python 3"
    },
    "language_info": {
      "name": "python"
    },
    "widgets": {
      "application/vnd.jupyter.widget-state+json": {
        "ecfe8c0a841f412eba7526c35027a296": {
          "model_module": "@jupyter-widgets/controls",
          "model_name": "HBoxModel",
          "model_module_version": "1.5.0",
          "state": {
            "_view_name": "HBoxView",
            "_dom_classes": [],
            "_model_name": "HBoxModel",
            "_view_module": "@jupyter-widgets/controls",
            "_model_module_version": "1.5.0",
            "_view_count": null,
            "_view_module_version": "1.5.0",
            "box_style": "",
            "layout": "IPY_MODEL_1ea6f4e3fc4e4a6f8da62e94d6dd8da7",
            "_model_module": "@jupyter-widgets/controls",
            "children": [
              "IPY_MODEL_b0c6bb4a83694daaa5cc98aa0e8bdd06",
              "IPY_MODEL_a28503d75db744f4a3c11fce77642b6e",
              "IPY_MODEL_8211776589024b4e8a05f07e0ff1d97b"
            ]
          }
        },
        "1ea6f4e3fc4e4a6f8da62e94d6dd8da7": {
          "model_module": "@jupyter-widgets/base",
          "model_name": "LayoutModel",
          "model_module_version": "1.2.0",
          "state": {
            "_view_name": "LayoutView",
            "grid_template_rows": null,
            "right": null,
            "justify_content": null,
            "_view_module": "@jupyter-widgets/base",
            "overflow": null,
            "_model_module_version": "1.2.0",
            "_view_count": null,
            "flex_flow": null,
            "width": null,
            "min_width": null,
            "border": null,
            "align_items": null,
            "bottom": null,
            "_model_module": "@jupyter-widgets/base",
            "top": null,
            "grid_column": null,
            "overflow_y": null,
            "overflow_x": null,
            "grid_auto_flow": null,
            "grid_area": null,
            "grid_template_columns": null,
            "flex": null,
            "_model_name": "LayoutModel",
            "justify_items": null,
            "grid_row": null,
            "max_height": null,
            "align_content": null,
            "visibility": null,
            "align_self": null,
            "height": null,
            "min_height": null,
            "padding": null,
            "grid_auto_rows": null,
            "grid_gap": null,
            "max_width": null,
            "order": null,
            "_view_module_version": "1.2.0",
            "grid_template_areas": null,
            "object_position": null,
            "object_fit": null,
            "grid_auto_columns": null,
            "margin": null,
            "display": null,
            "left": null
          }
        },
        "b0c6bb4a83694daaa5cc98aa0e8bdd06": {
          "model_module": "@jupyter-widgets/controls",
          "model_name": "HTMLModel",
          "model_module_version": "1.5.0",
          "state": {
            "_view_name": "HTMLView",
            "style": "IPY_MODEL_7920fd946e7d4259a44cbcd102489383",
            "_dom_classes": [],
            "description": "",
            "_model_name": "HTMLModel",
            "placeholder": "​",
            "_view_module": "@jupyter-widgets/controls",
            "_model_module_version": "1.5.0",
            "value": "",
            "_view_count": null,
            "_view_module_version": "1.5.0",
            "description_tooltip": null,
            "_model_module": "@jupyter-widgets/controls",
            "layout": "IPY_MODEL_4e74d79a7dc5480a979d2a4ecedac99f"
          }
        },
        "a28503d75db744f4a3c11fce77642b6e": {
          "model_module": "@jupyter-widgets/controls",
          "model_name": "FloatProgressModel",
          "model_module_version": "1.5.0",
          "state": {
            "_view_name": "ProgressView",
            "style": "IPY_MODEL_b9aefadc2d6b42efb78e3dce744c4f5a",
            "_dom_classes": [],
            "description": "",
            "_model_name": "FloatProgressModel",
            "bar_style": "success",
            "max": 1,
            "_view_module": "@jupyter-widgets/controls",
            "_model_module_version": "1.5.0",
            "value": 1,
            "_view_count": null,
            "_view_module_version": "1.5.0",
            "orientation": "horizontal",
            "min": 0,
            "description_tooltip": null,
            "_model_module": "@jupyter-widgets/controls",
            "layout": "IPY_MODEL_2ae185ca8c544a9480c535740cf25641"
          }
        },
        "8211776589024b4e8a05f07e0ff1d97b": {
          "model_module": "@jupyter-widgets/controls",
          "model_name": "HTMLModel",
          "model_module_version": "1.5.0",
          "state": {
            "_view_name": "HTMLView",
            "style": "IPY_MODEL_9f021ccc76654efd89bbc197edafe33e",
            "_dom_classes": [],
            "description": "",
            "_model_name": "HTMLModel",
            "placeholder": "​",
            "_view_module": "@jupyter-widgets/controls",
            "_model_module_version": "1.5.0",
            "value": " 291/? [1:50:41&lt;00:00, 33.62s/it, 6641.63/6600 seconds]",
            "_view_count": null,
            "_view_module_version": "1.5.0",
            "description_tooltip": null,
            "_model_module": "@jupyter-widgets/controls",
            "layout": "IPY_MODEL_8e860b74658540df82850fa495c0762f"
          }
        },
        "7920fd946e7d4259a44cbcd102489383": {
          "model_module": "@jupyter-widgets/controls",
          "model_name": "DescriptionStyleModel",
          "model_module_version": "1.5.0",
          "state": {
            "_view_name": "StyleView",
            "_model_name": "DescriptionStyleModel",
            "description_width": "",
            "_view_module": "@jupyter-widgets/base",
            "_model_module_version": "1.5.0",
            "_view_count": null,
            "_view_module_version": "1.2.0",
            "_model_module": "@jupyter-widgets/controls"
          }
        },
        "4e74d79a7dc5480a979d2a4ecedac99f": {
          "model_module": "@jupyter-widgets/base",
          "model_name": "LayoutModel",
          "model_module_version": "1.2.0",
          "state": {
            "_view_name": "LayoutView",
            "grid_template_rows": null,
            "right": null,
            "justify_content": null,
            "_view_module": "@jupyter-widgets/base",
            "overflow": null,
            "_model_module_version": "1.2.0",
            "_view_count": null,
            "flex_flow": null,
            "width": null,
            "min_width": null,
            "border": null,
            "align_items": null,
            "bottom": null,
            "_model_module": "@jupyter-widgets/base",
            "top": null,
            "grid_column": null,
            "overflow_y": null,
            "overflow_x": null,
            "grid_auto_flow": null,
            "grid_area": null,
            "grid_template_columns": null,
            "flex": null,
            "_model_name": "LayoutModel",
            "justify_items": null,
            "grid_row": null,
            "max_height": null,
            "align_content": null,
            "visibility": null,
            "align_self": null,
            "height": null,
            "min_height": null,
            "padding": null,
            "grid_auto_rows": null,
            "grid_gap": null,
            "max_width": null,
            "order": null,
            "_view_module_version": "1.2.0",
            "grid_template_areas": null,
            "object_position": null,
            "object_fit": null,
            "grid_auto_columns": null,
            "margin": null,
            "display": null,
            "left": null
          }
        },
        "b9aefadc2d6b42efb78e3dce744c4f5a": {
          "model_module": "@jupyter-widgets/controls",
          "model_name": "ProgressStyleModel",
          "model_module_version": "1.5.0",
          "state": {
            "_view_name": "StyleView",
            "_model_name": "ProgressStyleModel",
            "description_width": "",
            "_view_module": "@jupyter-widgets/base",
            "_model_module_version": "1.5.0",
            "_view_count": null,
            "_view_module_version": "1.2.0",
            "bar_color": null,
            "_model_module": "@jupyter-widgets/controls"
          }
        },
        "2ae185ca8c544a9480c535740cf25641": {
          "model_module": "@jupyter-widgets/base",
          "model_name": "LayoutModel",
          "model_module_version": "1.2.0",
          "state": {
            "_view_name": "LayoutView",
            "grid_template_rows": null,
            "right": null,
            "justify_content": null,
            "_view_module": "@jupyter-widgets/base",
            "overflow": null,
            "_model_module_version": "1.2.0",
            "_view_count": null,
            "flex_flow": null,
            "width": "20px",
            "min_width": null,
            "border": null,
            "align_items": null,
            "bottom": null,
            "_model_module": "@jupyter-widgets/base",
            "top": null,
            "grid_column": null,
            "overflow_y": null,
            "overflow_x": null,
            "grid_auto_flow": null,
            "grid_area": null,
            "grid_template_columns": null,
            "flex": null,
            "_model_name": "LayoutModel",
            "justify_items": null,
            "grid_row": null,
            "max_height": null,
            "align_content": null,
            "visibility": null,
            "align_self": null,
            "height": null,
            "min_height": null,
            "padding": null,
            "grid_auto_rows": null,
            "grid_gap": null,
            "max_width": null,
            "order": null,
            "_view_module_version": "1.2.0",
            "grid_template_areas": null,
            "object_position": null,
            "object_fit": null,
            "grid_auto_columns": null,
            "margin": null,
            "display": null,
            "left": null
          }
        },
        "9f021ccc76654efd89bbc197edafe33e": {
          "model_module": "@jupyter-widgets/controls",
          "model_name": "DescriptionStyleModel",
          "model_module_version": "1.5.0",
          "state": {
            "_view_name": "StyleView",
            "_model_name": "DescriptionStyleModel",
            "description_width": "",
            "_view_module": "@jupyter-widgets/base",
            "_model_module_version": "1.5.0",
            "_view_count": null,
            "_view_module_version": "1.2.0",
            "_model_module": "@jupyter-widgets/controls"
          }
        },
        "8e860b74658540df82850fa495c0762f": {
          "model_module": "@jupyter-widgets/base",
          "model_name": "LayoutModel",
          "model_module_version": "1.2.0",
          "state": {
            "_view_name": "LayoutView",
            "grid_template_rows": null,
            "right": null,
            "justify_content": null,
            "_view_module": "@jupyter-widgets/base",
            "overflow": null,
            "_model_module_version": "1.2.0",
            "_view_count": null,
            "flex_flow": null,
            "width": null,
            "min_width": null,
            "border": null,
            "align_items": null,
            "bottom": null,
            "_model_module": "@jupyter-widgets/base",
            "top": null,
            "grid_column": null,
            "overflow_y": null,
            "overflow_x": null,
            "grid_auto_flow": null,
            "grid_area": null,
            "grid_template_columns": null,
            "flex": null,
            "_model_name": "LayoutModel",
            "justify_items": null,
            "grid_row": null,
            "max_height": null,
            "align_content": null,
            "visibility": null,
            "align_self": null,
            "height": null,
            "min_height": null,
            "padding": null,
            "grid_auto_rows": null,
            "grid_gap": null,
            "max_width": null,
            "order": null,
            "_view_module_version": "1.2.0",
            "grid_template_areas": null,
            "object_position": null,
            "object_fit": null,
            "grid_auto_columns": null,
            "margin": null,
            "display": null,
            "left": null
          }
        },
        "755d85df196b40bcba09f7783ad48321": {
          "model_module": "@jupyter-widgets/controls",
          "model_name": "HBoxModel",
          "model_module_version": "1.5.0",
          "state": {
            "_view_name": "HBoxView",
            "_dom_classes": [],
            "_model_name": "HBoxModel",
            "_view_module": "@jupyter-widgets/controls",
            "_model_module_version": "1.5.0",
            "_view_count": null,
            "_view_module_version": "1.5.0",
            "box_style": "",
            "layout": "IPY_MODEL_23e973dfbb6340b28cb54d372f4d9f24",
            "_model_module": "@jupyter-widgets/controls",
            "children": [
              "IPY_MODEL_e1d7413a311e4163a5114839fd40accc",
              "IPY_MODEL_e14f7e9a80264444abdee4671a3bfab3",
              "IPY_MODEL_38b9b870a12249b68cc5ea9d28fa9117"
            ]
          }
        },
        "23e973dfbb6340b28cb54d372f4d9f24": {
          "model_module": "@jupyter-widgets/base",
          "model_name": "LayoutModel",
          "model_module_version": "1.2.0",
          "state": {
            "_view_name": "LayoutView",
            "grid_template_rows": null,
            "right": null,
            "justify_content": null,
            "_view_module": "@jupyter-widgets/base",
            "overflow": null,
            "_model_module_version": "1.2.0",
            "_view_count": null,
            "flex_flow": null,
            "width": null,
            "min_width": null,
            "border": null,
            "align_items": null,
            "bottom": null,
            "_model_module": "@jupyter-widgets/base",
            "top": null,
            "grid_column": null,
            "overflow_y": null,
            "overflow_x": null,
            "grid_auto_flow": null,
            "grid_area": null,
            "grid_template_columns": null,
            "flex": null,
            "_model_name": "LayoutModel",
            "justify_items": null,
            "grid_row": null,
            "max_height": null,
            "align_content": null,
            "visibility": null,
            "align_self": null,
            "height": null,
            "min_height": null,
            "padding": null,
            "grid_auto_rows": null,
            "grid_gap": null,
            "max_width": null,
            "order": null,
            "_view_module_version": "1.2.0",
            "grid_template_areas": null,
            "object_position": null,
            "object_fit": null,
            "grid_auto_columns": null,
            "margin": null,
            "display": null,
            "left": null
          }
        },
        "e1d7413a311e4163a5114839fd40accc": {
          "model_module": "@jupyter-widgets/controls",
          "model_name": "HTMLModel",
          "model_module_version": "1.5.0",
          "state": {
            "_view_name": "HTMLView",
            "style": "IPY_MODEL_b6c88e09c4d54d7dbf6f4596c1ce8bf4",
            "_dom_classes": [],
            "description": "",
            "_model_name": "HTMLModel",
            "placeholder": "​",
            "_view_module": "@jupyter-widgets/controls",
            "_model_module_version": "1.5.0",
            "value": "",
            "_view_count": null,
            "_view_module_version": "1.5.0",
            "description_tooltip": null,
            "_model_module": "@jupyter-widgets/controls",
            "layout": "IPY_MODEL_19968a3a53194e688b988aa2aee47190"
          }
        },
        "e14f7e9a80264444abdee4671a3bfab3": {
          "model_module": "@jupyter-widgets/controls",
          "model_name": "FloatProgressModel",
          "model_module_version": "1.5.0",
          "state": {
            "_view_name": "ProgressView",
            "style": "IPY_MODEL_fd19f2a089cd48c189fb841a739a4d63",
            "_dom_classes": [],
            "description": "",
            "_model_name": "FloatProgressModel",
            "bar_style": "success",
            "max": 1,
            "_view_module": "@jupyter-widgets/controls",
            "_model_module_version": "1.5.0",
            "value": 1,
            "_view_count": null,
            "_view_module_version": "1.5.0",
            "orientation": "horizontal",
            "min": 0,
            "description_tooltip": null,
            "_model_module": "@jupyter-widgets/controls",
            "layout": "IPY_MODEL_2c7150772c8e4dc29bd822c41aae426b"
          }
        },
        "38b9b870a12249b68cc5ea9d28fa9117": {
          "model_module": "@jupyter-widgets/controls",
          "model_name": "HTMLModel",
          "model_module_version": "1.5.0",
          "state": {
            "_view_name": "HTMLView",
            "style": "IPY_MODEL_4b47a18dd203408ca342a3662baa29bb",
            "_dom_classes": [],
            "description": "",
            "_model_name": "HTMLModel",
            "placeholder": "​",
            "_view_module": "@jupyter-widgets/controls",
            "_model_module_version": "1.5.0",
            "value": " 6/? [01:04&lt;00:00, 10.24s/it, 64.30/60 seconds]",
            "_view_count": null,
            "_view_module_version": "1.5.0",
            "description_tooltip": null,
            "_model_module": "@jupyter-widgets/controls",
            "layout": "IPY_MODEL_5e751199308f4767af721909893c841a"
          }
        },
        "b6c88e09c4d54d7dbf6f4596c1ce8bf4": {
          "model_module": "@jupyter-widgets/controls",
          "model_name": "DescriptionStyleModel",
          "model_module_version": "1.5.0",
          "state": {
            "_view_name": "StyleView",
            "_model_name": "DescriptionStyleModel",
            "description_width": "",
            "_view_module": "@jupyter-widgets/base",
            "_model_module_version": "1.5.0",
            "_view_count": null,
            "_view_module_version": "1.2.0",
            "_model_module": "@jupyter-widgets/controls"
          }
        },
        "19968a3a53194e688b988aa2aee47190": {
          "model_module": "@jupyter-widgets/base",
          "model_name": "LayoutModel",
          "model_module_version": "1.2.0",
          "state": {
            "_view_name": "LayoutView",
            "grid_template_rows": null,
            "right": null,
            "justify_content": null,
            "_view_module": "@jupyter-widgets/base",
            "overflow": null,
            "_model_module_version": "1.2.0",
            "_view_count": null,
            "flex_flow": null,
            "width": null,
            "min_width": null,
            "border": null,
            "align_items": null,
            "bottom": null,
            "_model_module": "@jupyter-widgets/base",
            "top": null,
            "grid_column": null,
            "overflow_y": null,
            "overflow_x": null,
            "grid_auto_flow": null,
            "grid_area": null,
            "grid_template_columns": null,
            "flex": null,
            "_model_name": "LayoutModel",
            "justify_items": null,
            "grid_row": null,
            "max_height": null,
            "align_content": null,
            "visibility": null,
            "align_self": null,
            "height": null,
            "min_height": null,
            "padding": null,
            "grid_auto_rows": null,
            "grid_gap": null,
            "max_width": null,
            "order": null,
            "_view_module_version": "1.2.0",
            "grid_template_areas": null,
            "object_position": null,
            "object_fit": null,
            "grid_auto_columns": null,
            "margin": null,
            "display": null,
            "left": null
          }
        },
        "fd19f2a089cd48c189fb841a739a4d63": {
          "model_module": "@jupyter-widgets/controls",
          "model_name": "ProgressStyleModel",
          "model_module_version": "1.5.0",
          "state": {
            "_view_name": "StyleView",
            "_model_name": "ProgressStyleModel",
            "description_width": "",
            "_view_module": "@jupyter-widgets/base",
            "_model_module_version": "1.5.0",
            "_view_count": null,
            "_view_module_version": "1.2.0",
            "bar_color": null,
            "_model_module": "@jupyter-widgets/controls"
          }
        },
        "2c7150772c8e4dc29bd822c41aae426b": {
          "model_module": "@jupyter-widgets/base",
          "model_name": "LayoutModel",
          "model_module_version": "1.2.0",
          "state": {
            "_view_name": "LayoutView",
            "grid_template_rows": null,
            "right": null,
            "justify_content": null,
            "_view_module": "@jupyter-widgets/base",
            "overflow": null,
            "_model_module_version": "1.2.0",
            "_view_count": null,
            "flex_flow": null,
            "width": "20px",
            "min_width": null,
            "border": null,
            "align_items": null,
            "bottom": null,
            "_model_module": "@jupyter-widgets/base",
            "top": null,
            "grid_column": null,
            "overflow_y": null,
            "overflow_x": null,
            "grid_auto_flow": null,
            "grid_area": null,
            "grid_template_columns": null,
            "flex": null,
            "_model_name": "LayoutModel",
            "justify_items": null,
            "grid_row": null,
            "max_height": null,
            "align_content": null,
            "visibility": null,
            "align_self": null,
            "height": null,
            "min_height": null,
            "padding": null,
            "grid_auto_rows": null,
            "grid_gap": null,
            "max_width": null,
            "order": null,
            "_view_module_version": "1.2.0",
            "grid_template_areas": null,
            "object_position": null,
            "object_fit": null,
            "grid_auto_columns": null,
            "margin": null,
            "display": null,
            "left": null
          }
        },
        "4b47a18dd203408ca342a3662baa29bb": {
          "model_module": "@jupyter-widgets/controls",
          "model_name": "DescriptionStyleModel",
          "model_module_version": "1.5.0",
          "state": {
            "_view_name": "StyleView",
            "_model_name": "DescriptionStyleModel",
            "description_width": "",
            "_view_module": "@jupyter-widgets/base",
            "_model_module_version": "1.5.0",
            "_view_count": null,
            "_view_module_version": "1.2.0",
            "_model_module": "@jupyter-widgets/controls"
          }
        },
        "5e751199308f4767af721909893c841a": {
          "model_module": "@jupyter-widgets/base",
          "model_name": "LayoutModel",
          "model_module_version": "1.2.0",
          "state": {
            "_view_name": "LayoutView",
            "grid_template_rows": null,
            "right": null,
            "justify_content": null,
            "_view_module": "@jupyter-widgets/base",
            "overflow": null,
            "_model_module_version": "1.2.0",
            "_view_count": null,
            "flex_flow": null,
            "width": null,
            "min_width": null,
            "border": null,
            "align_items": null,
            "bottom": null,
            "_model_module": "@jupyter-widgets/base",
            "top": null,
            "grid_column": null,
            "overflow_y": null,
            "overflow_x": null,
            "grid_auto_flow": null,
            "grid_area": null,
            "grid_template_columns": null,
            "flex": null,
            "_model_name": "LayoutModel",
            "justify_items": null,
            "grid_row": null,
            "max_height": null,
            "align_content": null,
            "visibility": null,
            "align_self": null,
            "height": null,
            "min_height": null,
            "padding": null,
            "grid_auto_rows": null,
            "grid_gap": null,
            "max_width": null,
            "order": null,
            "_view_module_version": "1.2.0",
            "grid_template_areas": null,
            "object_position": null,
            "object_fit": null,
            "grid_auto_columns": null,
            "margin": null,
            "display": null,
            "left": null
          }
        }
      }
    }
  },
  "cells": [
    {
      "cell_type": "code",
      "metadata": {
        "colab": {
          "base_uri": "https://localhost:8080/"
        },
        "id": "q2IUYwIuXMfC",
        "outputId": "e18b2bc0-aeef-4efb-8148-e0cec3675c63"
      },
      "source": [
        "!pip install scikit-optimize\n",
        "!pip install optuna"
      ],
      "execution_count": 1,
      "outputs": [
        {
          "output_type": "stream",
          "name": "stdout",
          "text": [
            "Collecting scikit-optimize\n",
            "  Downloading scikit_optimize-0.9.0-py2.py3-none-any.whl (100 kB)\n",
            "\u001b[?25l\r\u001b[K     |███▎                            | 10 kB 15.1 MB/s eta 0:00:01\r\u001b[K     |██████▌                         | 20 kB 18.9 MB/s eta 0:00:01\r\u001b[K     |█████████▉                      | 30 kB 22.7 MB/s eta 0:00:01\r\u001b[K     |█████████████                   | 40 kB 17.8 MB/s eta 0:00:01\r\u001b[K     |████████████████▍               | 51 kB 19.7 MB/s eta 0:00:01\r\u001b[K     |███████████████████▋            | 61 kB 20.5 MB/s eta 0:00:01\r\u001b[K     |██████████████████████▉         | 71 kB 19.6 MB/s eta 0:00:01\r\u001b[K     |██████████████████████████▏     | 81 kB 20.2 MB/s eta 0:00:01\r\u001b[K     |█████████████████████████████▍  | 92 kB 21.5 MB/s eta 0:00:01\r\u001b[K     |████████████████████████████████| 100 kB 4.7 MB/s \n",
            "\u001b[?25hRequirement already satisfied: scipy>=0.19.1 in /usr/local/lib/python3.7/dist-packages (from scikit-optimize) (1.4.1)\n",
            "Requirement already satisfied: scikit-learn>=0.20.0 in /usr/local/lib/python3.7/dist-packages (from scikit-optimize) (0.22.2.post1)\n",
            "Requirement already satisfied: joblib>=0.11 in /usr/local/lib/python3.7/dist-packages (from scikit-optimize) (1.0.1)\n",
            "Collecting pyaml>=16.9\n",
            "  Downloading pyaml-21.10.1-py2.py3-none-any.whl (24 kB)\n",
            "Requirement already satisfied: numpy>=1.13.3 in /usr/local/lib/python3.7/dist-packages (from scikit-optimize) (1.19.5)\n",
            "Requirement already satisfied: PyYAML in /usr/local/lib/python3.7/dist-packages (from pyaml>=16.9->scikit-optimize) (3.13)\n",
            "Installing collected packages: pyaml, scikit-optimize\n",
            "Successfully installed pyaml-21.10.1 scikit-optimize-0.9.0\n",
            "Collecting optuna\n",
            "  Downloading optuna-2.10.0-py3-none-any.whl (308 kB)\n",
            "\u001b[K     |████████████████████████████████| 308 kB 31.5 MB/s \n",
            "\u001b[?25hCollecting colorlog\n",
            "  Downloading colorlog-6.5.0-py2.py3-none-any.whl (11 kB)\n",
            "Requirement already satisfied: tqdm in /usr/local/lib/python3.7/dist-packages (from optuna) (4.62.3)\n",
            "Collecting alembic\n",
            "  Downloading alembic-1.7.4-py3-none-any.whl (209 kB)\n",
            "\u001b[K     |████████████████████████████████| 209 kB 57.0 MB/s \n",
            "\u001b[?25hCollecting cliff\n",
            "  Downloading cliff-3.9.0-py3-none-any.whl (80 kB)\n",
            "\u001b[K     |████████████████████████████████| 80 kB 10.7 MB/s \n",
            "\u001b[?25hRequirement already satisfied: packaging>=20.0 in /usr/local/lib/python3.7/dist-packages (from optuna) (21.0)\n",
            "Collecting cmaes>=0.8.2\n",
            "  Downloading cmaes-0.8.2-py3-none-any.whl (15 kB)\n",
            "Requirement already satisfied: scipy!=1.4.0 in /usr/local/lib/python3.7/dist-packages (from optuna) (1.4.1)\n",
            "Requirement already satisfied: sqlalchemy>=1.1.0 in /usr/local/lib/python3.7/dist-packages (from optuna) (1.4.25)\n",
            "Requirement already satisfied: PyYAML in /usr/local/lib/python3.7/dist-packages (from optuna) (3.13)\n",
            "Requirement already satisfied: numpy in /usr/local/lib/python3.7/dist-packages (from optuna) (1.19.5)\n",
            "Requirement already satisfied: pyparsing>=2.0.2 in /usr/local/lib/python3.7/dist-packages (from packaging>=20.0->optuna) (2.4.7)\n",
            "Requirement already satisfied: greenlet!=0.4.17 in /usr/local/lib/python3.7/dist-packages (from sqlalchemy>=1.1.0->optuna) (1.1.2)\n",
            "Requirement already satisfied: importlib-metadata in /usr/local/lib/python3.7/dist-packages (from sqlalchemy>=1.1.0->optuna) (4.8.1)\n",
            "Collecting Mako\n",
            "  Downloading Mako-1.1.5-py2.py3-none-any.whl (75 kB)\n",
            "\u001b[K     |████████████████████████████████| 75 kB 4.2 MB/s \n",
            "\u001b[?25hRequirement already satisfied: importlib-resources in /usr/local/lib/python3.7/dist-packages (from alembic->optuna) (5.2.2)\n",
            "Collecting stevedore>=2.0.1\n",
            "  Downloading stevedore-3.5.0-py3-none-any.whl (49 kB)\n",
            "\u001b[K     |████████████████████████████████| 49 kB 6.7 MB/s \n",
            "\u001b[?25hCollecting cmd2>=1.0.0\n",
            "  Downloading cmd2-2.2.0-py3-none-any.whl (144 kB)\n",
            "\u001b[K     |████████████████████████████████| 144 kB 68.3 MB/s \n",
            "\u001b[?25hCollecting autopage>=0.4.0\n",
            "  Downloading autopage-0.4.0-py3-none-any.whl (20 kB)\n",
            "Collecting pbr!=2.1.0,>=2.0.0\n",
            "  Downloading pbr-5.6.0-py2.py3-none-any.whl (111 kB)\n",
            "\u001b[K     |████████████████████████████████| 111 kB 70.3 MB/s \n",
            "\u001b[?25hRequirement already satisfied: PrettyTable>=0.7.2 in /usr/local/lib/python3.7/dist-packages (from cliff->optuna) (2.2.1)\n",
            "Requirement already satisfied: attrs>=16.3.0 in /usr/local/lib/python3.7/dist-packages (from cmd2>=1.0.0->cliff->optuna) (21.2.0)\n",
            "Requirement already satisfied: wcwidth>=0.1.7 in /usr/local/lib/python3.7/dist-packages (from cmd2>=1.0.0->cliff->optuna) (0.2.5)\n",
            "Collecting pyperclip>=1.6\n",
            "  Downloading pyperclip-1.8.2.tar.gz (20 kB)\n",
            "Requirement already satisfied: typing-extensions in /usr/local/lib/python3.7/dist-packages (from cmd2>=1.0.0->cliff->optuna) (3.7.4.3)\n",
            "Collecting colorama>=0.3.7\n",
            "  Downloading colorama-0.4.4-py2.py3-none-any.whl (16 kB)\n",
            "Requirement already satisfied: zipp>=0.5 in /usr/local/lib/python3.7/dist-packages (from importlib-metadata->sqlalchemy>=1.1.0->optuna) (3.6.0)\n",
            "Requirement already satisfied: MarkupSafe>=0.9.2 in /usr/local/lib/python3.7/dist-packages (from Mako->alembic->optuna) (2.0.1)\n",
            "Building wheels for collected packages: pyperclip\n",
            "  Building wheel for pyperclip (setup.py) ... \u001b[?25l\u001b[?25hdone\n",
            "  Created wheel for pyperclip: filename=pyperclip-1.8.2-py3-none-any.whl size=11136 sha256=34ad026f1c064bd35a7c460667719f6e2ddcfee6d851804af78f154c4631af5b\n",
            "  Stored in directory: /root/.cache/pip/wheels/9f/18/84/8f69f8b08169c7bae2dde6bd7daf0c19fca8c8e500ee620a28\n",
            "Successfully built pyperclip\n",
            "Installing collected packages: pyperclip, pbr, colorama, stevedore, Mako, cmd2, autopage, colorlog, cmaes, cliff, alembic, optuna\n",
            "Successfully installed Mako-1.1.5 alembic-1.7.4 autopage-0.4.0 cliff-3.9.0 cmaes-0.8.2 cmd2-2.2.0 colorama-0.4.4 colorlog-6.5.0 optuna-2.10.0 pbr-5.6.0 pyperclip-1.8.2 stevedore-3.5.0\n"
          ]
        }
      ]
    },
    {
      "cell_type": "code",
      "metadata": {
        "id": "ajBJwNxcXBAs"
      },
      "source": [
        "import pandas as pd\n",
        "import numpy as np\n",
        "\n",
        "import matplotlib.pyplot as plt\n",
        "import seaborn as sns\n",
        "import plotly\n",
        "\n",
        "import xgboost as xgb\n",
        "import lightgbm as lgb\n",
        "from sklearn.ensemble import GradientBoostingRegressor\n",
        "\n",
        "from sklearn.model_selection import train_test_split, RandomizedSearchCV, GridSearchCV, KFold, cross_val_score, cross_validate\n",
        "from sklearn.preprocessing import StandardScaler, MinMaxScaler, PolynomialFeatures\n",
        "from sklearn.linear_model import LinearRegression, Lasso, LassoCV, Ridge, RidgeCV, ElasticNet, ElasticNetCV\n",
        "from sklearn.svm import SVR\n",
        "from sklearn.metrics import r2_score, mean_absolute_error, mean_squared_error\n",
        "from sklearn.pipeline import Pipeline, make_pipeline\n",
        "\n",
        "import skopt\n",
        "from skopt.space import Real, Categorical, Integer\n",
        "\n",
        "import optuna\n",
        "from optuna.visualization import plot_intermediate_values\n",
        "\n",
        "import warnings\n",
        "warnings.filterwarnings('ignore')\n",
        "\n",
        "import time\n",
        "%matplotlib inline"
      ],
      "execution_count": 1,
      "outputs": []
    },
    {
      "cell_type": "code",
      "metadata": {
        "id": "JhV3kkI6XGzq"
      },
      "source": [
        "optuna.logging.set_verbosity(optuna.logging.CRITICAL)"
      ],
      "execution_count": 2,
      "outputs": []
    },
    {
      "cell_type": "code",
      "metadata": {
        "colab": {
          "base_uri": "https://localhost:8080/",
          "height": 560
        },
        "id": "r9J6je-GX-PC",
        "outputId": "146927ef-248f-4b2e-f24e-ed28a3c3e7a4"
      },
      "source": [
        "df_ = pd.read_csv('/content/train_df_step1.csv', index_col='Id')\n",
        "df_t_= pd.read_csv('/content/test_df_step1.csv', index_col='Id')\n",
        "df_"
      ],
      "execution_count": 3,
      "outputs": [
        {
          "output_type": "execute_result",
          "data": {
            "text/html": [
              "<div>\n",
              "<style scoped>\n",
              "    .dataframe tbody tr th:only-of-type {\n",
              "        vertical-align: middle;\n",
              "    }\n",
              "\n",
              "    .dataframe tbody tr th {\n",
              "        vertical-align: top;\n",
              "    }\n",
              "\n",
              "    .dataframe thead th {\n",
              "        text-align: right;\n",
              "    }\n",
              "</style>\n",
              "<table border=\"1\" class=\"dataframe\">\n",
              "  <thead>\n",
              "    <tr style=\"text-align: right;\">\n",
              "      <th></th>\n",
              "      <th>MSSubClass</th>\n",
              "      <th>MSZoning</th>\n",
              "      <th>Street</th>\n",
              "      <th>LotShape</th>\n",
              "      <th>LandContour</th>\n",
              "      <th>LotConfig</th>\n",
              "      <th>LandSlope</th>\n",
              "      <th>Neighborhood</th>\n",
              "      <th>Condition1</th>\n",
              "      <th>Condition2</th>\n",
              "      <th>BldgType</th>\n",
              "      <th>HouseStyle</th>\n",
              "      <th>OverallQual</th>\n",
              "      <th>OverallCond</th>\n",
              "      <th>YearBuilt</th>\n",
              "      <th>YearRemodAdd</th>\n",
              "      <th>RoofStyle</th>\n",
              "      <th>RoofMatl</th>\n",
              "      <th>Exterior1st</th>\n",
              "      <th>Exterior2nd</th>\n",
              "      <th>MasVnrType</th>\n",
              "      <th>MasVnrArea</th>\n",
              "      <th>ExterQual</th>\n",
              "      <th>ExterCond</th>\n",
              "      <th>Foundation</th>\n",
              "      <th>BsmtQual</th>\n",
              "      <th>BsmtCond</th>\n",
              "      <th>BsmtExposure</th>\n",
              "      <th>BsmtFinType1</th>\n",
              "      <th>BsmtFinSF1</th>\n",
              "      <th>BsmtFinType2</th>\n",
              "      <th>BsmtUnfSF</th>\n",
              "      <th>TotalBsmtSF</th>\n",
              "      <th>Heating</th>\n",
              "      <th>HeatingQC</th>\n",
              "      <th>CentralAir</th>\n",
              "      <th>Electrical</th>\n",
              "      <th>2ndFlrSF</th>\n",
              "      <th>BsmtFullBath</th>\n",
              "      <th>BsmtHalfBath</th>\n",
              "      <th>...</th>\n",
              "      <th>Fireplaces</th>\n",
              "      <th>GarageType</th>\n",
              "      <th>GarageYrBlt</th>\n",
              "      <th>GarageFinish</th>\n",
              "      <th>GarageCars</th>\n",
              "      <th>GarageArea</th>\n",
              "      <th>GarageQual</th>\n",
              "      <th>GarageCond</th>\n",
              "      <th>PavedDrive</th>\n",
              "      <th>WoodDeckSF</th>\n",
              "      <th>OpenPorchSF</th>\n",
              "      <th>YrSold</th>\n",
              "      <th>SaleType</th>\n",
              "      <th>SaleCondition</th>\n",
              "      <th>MoSold_sin</th>\n",
              "      <th>MoSold_cos</th>\n",
              "      <th>RenovatedY/N</th>\n",
              "      <th>AgeWhenSold</th>\n",
              "      <th>totBath</th>\n",
              "      <th>TotalBsmtFinSF</th>\n",
              "      <th>BsmtFinSF</th>\n",
              "      <th>2ndFloorY/N</th>\n",
              "      <th>OtherRooms</th>\n",
              "      <th>GarageSpaceForCar</th>\n",
              "      <th>WoodDeckOpenPorch</th>\n",
              "      <th>TotalPorchSF</th>\n",
              "      <th>PorchY/N</th>\n",
              "      <th>BsmtFinSF2_cat</th>\n",
              "      <th>LowQualFinSF_cat</th>\n",
              "      <th>EnclosedPorch_cat</th>\n",
              "      <th>3SsnPorch_cat</th>\n",
              "      <th>ScreenPorch_cat</th>\n",
              "      <th>MiscVal_cat</th>\n",
              "      <th>PoolArea_cat</th>\n",
              "      <th>1stFlrSF_log</th>\n",
              "      <th>AverageRoomSF_log</th>\n",
              "      <th>GrLivArea_log</th>\n",
              "      <th>LotArea_log</th>\n",
              "      <th>SalePrice_log</th>\n",
              "      <th>totSqFt_log</th>\n",
              "    </tr>\n",
              "    <tr>\n",
              "      <th>Id</th>\n",
              "      <th></th>\n",
              "      <th></th>\n",
              "      <th></th>\n",
              "      <th></th>\n",
              "      <th></th>\n",
              "      <th></th>\n",
              "      <th></th>\n",
              "      <th></th>\n",
              "      <th></th>\n",
              "      <th></th>\n",
              "      <th></th>\n",
              "      <th></th>\n",
              "      <th></th>\n",
              "      <th></th>\n",
              "      <th></th>\n",
              "      <th></th>\n",
              "      <th></th>\n",
              "      <th></th>\n",
              "      <th></th>\n",
              "      <th></th>\n",
              "      <th></th>\n",
              "      <th></th>\n",
              "      <th></th>\n",
              "      <th></th>\n",
              "      <th></th>\n",
              "      <th></th>\n",
              "      <th></th>\n",
              "      <th></th>\n",
              "      <th></th>\n",
              "      <th></th>\n",
              "      <th></th>\n",
              "      <th></th>\n",
              "      <th></th>\n",
              "      <th></th>\n",
              "      <th></th>\n",
              "      <th></th>\n",
              "      <th></th>\n",
              "      <th></th>\n",
              "      <th></th>\n",
              "      <th></th>\n",
              "      <th></th>\n",
              "      <th></th>\n",
              "      <th></th>\n",
              "      <th></th>\n",
              "      <th></th>\n",
              "      <th></th>\n",
              "      <th></th>\n",
              "      <th></th>\n",
              "      <th></th>\n",
              "      <th></th>\n",
              "      <th></th>\n",
              "      <th></th>\n",
              "      <th></th>\n",
              "      <th></th>\n",
              "      <th></th>\n",
              "      <th></th>\n",
              "      <th></th>\n",
              "      <th></th>\n",
              "      <th></th>\n",
              "      <th></th>\n",
              "      <th></th>\n",
              "      <th></th>\n",
              "      <th></th>\n",
              "      <th></th>\n",
              "      <th></th>\n",
              "      <th></th>\n",
              "      <th></th>\n",
              "      <th></th>\n",
              "      <th></th>\n",
              "      <th></th>\n",
              "      <th></th>\n",
              "      <th></th>\n",
              "      <th></th>\n",
              "      <th></th>\n",
              "      <th></th>\n",
              "      <th></th>\n",
              "      <th></th>\n",
              "      <th></th>\n",
              "      <th></th>\n",
              "      <th></th>\n",
              "      <th></th>\n",
              "    </tr>\n",
              "  </thead>\n",
              "  <tbody>\n",
              "    <tr>\n",
              "      <th>1</th>\n",
              "      <td>60</td>\n",
              "      <td>RL</td>\n",
              "      <td>Pave</td>\n",
              "      <td>3.0</td>\n",
              "      <td>Lvl</td>\n",
              "      <td>Inside</td>\n",
              "      <td>0.0</td>\n",
              "      <td>CollgCr</td>\n",
              "      <td>Norm</td>\n",
              "      <td>Norm</td>\n",
              "      <td>1Fam</td>\n",
              "      <td>2Story</td>\n",
              "      <td>7</td>\n",
              "      <td>5</td>\n",
              "      <td>2003</td>\n",
              "      <td>2003</td>\n",
              "      <td>Gable</td>\n",
              "      <td>CompShg</td>\n",
              "      <td>VinylSd</td>\n",
              "      <td>VinylSd</td>\n",
              "      <td>BrkFace</td>\n",
              "      <td>196.0</td>\n",
              "      <td>4.0</td>\n",
              "      <td>3.0</td>\n",
              "      <td>PConc</td>\n",
              "      <td>4.0</td>\n",
              "      <td>3.0</td>\n",
              "      <td>1.0</td>\n",
              "      <td>6.0</td>\n",
              "      <td>706</td>\n",
              "      <td>1.0</td>\n",
              "      <td>150</td>\n",
              "      <td>856</td>\n",
              "      <td>GasA</td>\n",
              "      <td>5.0</td>\n",
              "      <td>Y</td>\n",
              "      <td>SBrkr</td>\n",
              "      <td>854</td>\n",
              "      <td>1</td>\n",
              "      <td>0</td>\n",
              "      <td>...</td>\n",
              "      <td>0</td>\n",
              "      <td>Attchd</td>\n",
              "      <td>2003.0</td>\n",
              "      <td>2.0</td>\n",
              "      <td>2</td>\n",
              "      <td>548</td>\n",
              "      <td>3.0</td>\n",
              "      <td>3.0</td>\n",
              "      <td>2.0</td>\n",
              "      <td>0</td>\n",
              "      <td>61</td>\n",
              "      <td>2008</td>\n",
              "      <td>WD</td>\n",
              "      <td>Normal</td>\n",
              "      <td>8.660254e-01</td>\n",
              "      <td>5.000000e-01</td>\n",
              "      <td>no</td>\n",
              "      <td>5</td>\n",
              "      <td>3.5</td>\n",
              "      <td>706</td>\n",
              "      <td>706</td>\n",
              "      <td>1</td>\n",
              "      <td>4</td>\n",
              "      <td>274.000000</td>\n",
              "      <td>61</td>\n",
              "      <td>61</td>\n",
              "      <td>1</td>\n",
              "      <td>0</td>\n",
              "      <td>0</td>\n",
              "      <td>0</td>\n",
              "      <td>0</td>\n",
              "      <td>0</td>\n",
              "      <td>0</td>\n",
              "      <td>0</td>\n",
              "      <td>6.752270</td>\n",
              "      <td>5.364807</td>\n",
              "      <td>7.444249</td>\n",
              "      <td>9.041922</td>\n",
              "      <td>12.247694</td>\n",
              "      <td>8.360773</td>\n",
              "    </tr>\n",
              "    <tr>\n",
              "      <th>2</th>\n",
              "      <td>20</td>\n",
              "      <td>RL</td>\n",
              "      <td>Pave</td>\n",
              "      <td>3.0</td>\n",
              "      <td>Lvl</td>\n",
              "      <td>FR2</td>\n",
              "      <td>0.0</td>\n",
              "      <td>Veenker</td>\n",
              "      <td>Feedr</td>\n",
              "      <td>Norm</td>\n",
              "      <td>1Fam</td>\n",
              "      <td>1Story</td>\n",
              "      <td>6</td>\n",
              "      <td>8</td>\n",
              "      <td>1976</td>\n",
              "      <td>1976</td>\n",
              "      <td>Gable</td>\n",
              "      <td>CompShg</td>\n",
              "      <td>MetalSd</td>\n",
              "      <td>MetalSd</td>\n",
              "      <td>None</td>\n",
              "      <td>0.0</td>\n",
              "      <td>3.0</td>\n",
              "      <td>3.0</td>\n",
              "      <td>CBlock</td>\n",
              "      <td>4.0</td>\n",
              "      <td>3.0</td>\n",
              "      <td>4.0</td>\n",
              "      <td>5.0</td>\n",
              "      <td>978</td>\n",
              "      <td>1.0</td>\n",
              "      <td>284</td>\n",
              "      <td>1262</td>\n",
              "      <td>GasA</td>\n",
              "      <td>5.0</td>\n",
              "      <td>Y</td>\n",
              "      <td>SBrkr</td>\n",
              "      <td>0</td>\n",
              "      <td>0</td>\n",
              "      <td>1</td>\n",
              "      <td>...</td>\n",
              "      <td>1</td>\n",
              "      <td>Attchd</td>\n",
              "      <td>1976.0</td>\n",
              "      <td>2.0</td>\n",
              "      <td>2</td>\n",
              "      <td>460</td>\n",
              "      <td>3.0</td>\n",
              "      <td>3.0</td>\n",
              "      <td>2.0</td>\n",
              "      <td>298</td>\n",
              "      <td>0</td>\n",
              "      <td>2007</td>\n",
              "      <td>WD</td>\n",
              "      <td>Normal</td>\n",
              "      <td>5.000000e-01</td>\n",
              "      <td>-8.660254e-01</td>\n",
              "      <td>no</td>\n",
              "      <td>31</td>\n",
              "      <td>2.5</td>\n",
              "      <td>978</td>\n",
              "      <td>978</td>\n",
              "      <td>0</td>\n",
              "      <td>2</td>\n",
              "      <td>230.000000</td>\n",
              "      <td>298</td>\n",
              "      <td>0</td>\n",
              "      <td>0</td>\n",
              "      <td>0</td>\n",
              "      <td>0</td>\n",
              "      <td>0</td>\n",
              "      <td>0</td>\n",
              "      <td>0</td>\n",
              "      <td>0</td>\n",
              "      <td>0</td>\n",
              "      <td>7.140453</td>\n",
              "      <td>5.348694</td>\n",
              "      <td>7.140453</td>\n",
              "      <td>9.169518</td>\n",
              "      <td>12.109011</td>\n",
              "      <td>8.239065</td>\n",
              "    </tr>\n",
              "    <tr>\n",
              "      <th>3</th>\n",
              "      <td>60</td>\n",
              "      <td>RL</td>\n",
              "      <td>Pave</td>\n",
              "      <td>2.0</td>\n",
              "      <td>Lvl</td>\n",
              "      <td>Inside</td>\n",
              "      <td>0.0</td>\n",
              "      <td>CollgCr</td>\n",
              "      <td>Norm</td>\n",
              "      <td>Norm</td>\n",
              "      <td>1Fam</td>\n",
              "      <td>2Story</td>\n",
              "      <td>7</td>\n",
              "      <td>5</td>\n",
              "      <td>2001</td>\n",
              "      <td>2002</td>\n",
              "      <td>Gable</td>\n",
              "      <td>CompShg</td>\n",
              "      <td>VinylSd</td>\n",
              "      <td>VinylSd</td>\n",
              "      <td>BrkFace</td>\n",
              "      <td>162.0</td>\n",
              "      <td>4.0</td>\n",
              "      <td>3.0</td>\n",
              "      <td>PConc</td>\n",
              "      <td>4.0</td>\n",
              "      <td>3.0</td>\n",
              "      <td>2.0</td>\n",
              "      <td>6.0</td>\n",
              "      <td>486</td>\n",
              "      <td>1.0</td>\n",
              "      <td>434</td>\n",
              "      <td>920</td>\n",
              "      <td>GasA</td>\n",
              "      <td>5.0</td>\n",
              "      <td>Y</td>\n",
              "      <td>SBrkr</td>\n",
              "      <td>866</td>\n",
              "      <td>1</td>\n",
              "      <td>0</td>\n",
              "      <td>...</td>\n",
              "      <td>1</td>\n",
              "      <td>Attchd</td>\n",
              "      <td>2001.0</td>\n",
              "      <td>2.0</td>\n",
              "      <td>2</td>\n",
              "      <td>608</td>\n",
              "      <td>3.0</td>\n",
              "      <td>3.0</td>\n",
              "      <td>2.0</td>\n",
              "      <td>0</td>\n",
              "      <td>42</td>\n",
              "      <td>2008</td>\n",
              "      <td>WD</td>\n",
              "      <td>Normal</td>\n",
              "      <td>-1.000000e+00</td>\n",
              "      <td>-1.836970e-16</td>\n",
              "      <td>yes</td>\n",
              "      <td>7</td>\n",
              "      <td>3.5</td>\n",
              "      <td>486</td>\n",
              "      <td>486</td>\n",
              "      <td>1</td>\n",
              "      <td>2</td>\n",
              "      <td>304.000000</td>\n",
              "      <td>42</td>\n",
              "      <td>42</td>\n",
              "      <td>1</td>\n",
              "      <td>0</td>\n",
              "      <td>0</td>\n",
              "      <td>0</td>\n",
              "      <td>0</td>\n",
              "      <td>0</td>\n",
              "      <td>0</td>\n",
              "      <td>0</td>\n",
              "      <td>6.824374</td>\n",
              "      <td>5.695974</td>\n",
              "      <td>7.487734</td>\n",
              "      <td>9.328123</td>\n",
              "      <td>12.317167</td>\n",
              "      <td>8.410053</td>\n",
              "    </tr>\n",
              "    <tr>\n",
              "      <th>4</th>\n",
              "      <td>70</td>\n",
              "      <td>RL</td>\n",
              "      <td>Pave</td>\n",
              "      <td>2.0</td>\n",
              "      <td>Lvl</td>\n",
              "      <td>Corner</td>\n",
              "      <td>0.0</td>\n",
              "      <td>Crawfor</td>\n",
              "      <td>Norm</td>\n",
              "      <td>Norm</td>\n",
              "      <td>1Fam</td>\n",
              "      <td>2Story</td>\n",
              "      <td>7</td>\n",
              "      <td>5</td>\n",
              "      <td>1915</td>\n",
              "      <td>1970</td>\n",
              "      <td>Gable</td>\n",
              "      <td>CompShg</td>\n",
              "      <td>Wd Sdng</td>\n",
              "      <td>Wd Shng</td>\n",
              "      <td>None</td>\n",
              "      <td>0.0</td>\n",
              "      <td>3.0</td>\n",
              "      <td>3.0</td>\n",
              "      <td>BrkTil</td>\n",
              "      <td>3.0</td>\n",
              "      <td>4.0</td>\n",
              "      <td>1.0</td>\n",
              "      <td>5.0</td>\n",
              "      <td>216</td>\n",
              "      <td>1.0</td>\n",
              "      <td>540</td>\n",
              "      <td>756</td>\n",
              "      <td>GasA</td>\n",
              "      <td>4.0</td>\n",
              "      <td>Y</td>\n",
              "      <td>SBrkr</td>\n",
              "      <td>756</td>\n",
              "      <td>1</td>\n",
              "      <td>0</td>\n",
              "      <td>...</td>\n",
              "      <td>1</td>\n",
              "      <td>Detchd</td>\n",
              "      <td>1998.0</td>\n",
              "      <td>1.0</td>\n",
              "      <td>3</td>\n",
              "      <td>642</td>\n",
              "      <td>3.0</td>\n",
              "      <td>3.0</td>\n",
              "      <td>2.0</td>\n",
              "      <td>0</td>\n",
              "      <td>35</td>\n",
              "      <td>2006</td>\n",
              "      <td>WD</td>\n",
              "      <td>Abnorml</td>\n",
              "      <td>8.660254e-01</td>\n",
              "      <td>5.000000e-01</td>\n",
              "      <td>yes</td>\n",
              "      <td>91</td>\n",
              "      <td>2.0</td>\n",
              "      <td>216</td>\n",
              "      <td>216</td>\n",
              "      <td>1</td>\n",
              "      <td>3</td>\n",
              "      <td>214.000000</td>\n",
              "      <td>35</td>\n",
              "      <td>307</td>\n",
              "      <td>1</td>\n",
              "      <td>0</td>\n",
              "      <td>0</td>\n",
              "      <td>1</td>\n",
              "      <td>0</td>\n",
              "      <td>0</td>\n",
              "      <td>0</td>\n",
              "      <td>0</td>\n",
              "      <td>6.867974</td>\n",
              "      <td>5.502424</td>\n",
              "      <td>7.448334</td>\n",
              "      <td>9.164296</td>\n",
              "      <td>11.849398</td>\n",
              "      <td>8.340456</td>\n",
              "    </tr>\n",
              "    <tr>\n",
              "      <th>5</th>\n",
              "      <td>60</td>\n",
              "      <td>RL</td>\n",
              "      <td>Pave</td>\n",
              "      <td>2.0</td>\n",
              "      <td>Lvl</td>\n",
              "      <td>FR2</td>\n",
              "      <td>0.0</td>\n",
              "      <td>NoRidge</td>\n",
              "      <td>Norm</td>\n",
              "      <td>Norm</td>\n",
              "      <td>1Fam</td>\n",
              "      <td>2Story</td>\n",
              "      <td>8</td>\n",
              "      <td>5</td>\n",
              "      <td>2000</td>\n",
              "      <td>2000</td>\n",
              "      <td>Gable</td>\n",
              "      <td>CompShg</td>\n",
              "      <td>VinylSd</td>\n",
              "      <td>VinylSd</td>\n",
              "      <td>BrkFace</td>\n",
              "      <td>350.0</td>\n",
              "      <td>4.0</td>\n",
              "      <td>3.0</td>\n",
              "      <td>PConc</td>\n",
              "      <td>4.0</td>\n",
              "      <td>3.0</td>\n",
              "      <td>3.0</td>\n",
              "      <td>6.0</td>\n",
              "      <td>655</td>\n",
              "      <td>1.0</td>\n",
              "      <td>490</td>\n",
              "      <td>1145</td>\n",
              "      <td>GasA</td>\n",
              "      <td>5.0</td>\n",
              "      <td>Y</td>\n",
              "      <td>SBrkr</td>\n",
              "      <td>1053</td>\n",
              "      <td>1</td>\n",
              "      <td>0</td>\n",
              "      <td>...</td>\n",
              "      <td>1</td>\n",
              "      <td>Attchd</td>\n",
              "      <td>2000.0</td>\n",
              "      <td>2.0</td>\n",
              "      <td>3</td>\n",
              "      <td>836</td>\n",
              "      <td>3.0</td>\n",
              "      <td>3.0</td>\n",
              "      <td>2.0</td>\n",
              "      <td>192</td>\n",
              "      <td>84</td>\n",
              "      <td>2008</td>\n",
              "      <td>WD</td>\n",
              "      <td>Normal</td>\n",
              "      <td>-2.449294e-16</td>\n",
              "      <td>1.000000e+00</td>\n",
              "      <td>no</td>\n",
              "      <td>8</td>\n",
              "      <td>3.5</td>\n",
              "      <td>655</td>\n",
              "      <td>655</td>\n",
              "      <td>1</td>\n",
              "      <td>4</td>\n",
              "      <td>278.666667</td>\n",
              "      <td>276</td>\n",
              "      <td>84</td>\n",
              "      <td>1</td>\n",
              "      <td>0</td>\n",
              "      <td>0</td>\n",
              "      <td>0</td>\n",
              "      <td>0</td>\n",
              "      <td>0</td>\n",
              "      <td>0</td>\n",
              "      <td>0</td>\n",
              "      <td>7.043160</td>\n",
              "      <td>5.498079</td>\n",
              "      <td>7.695303</td>\n",
              "      <td>9.565214</td>\n",
              "      <td>12.429216</td>\n",
              "      <td>8.619930</td>\n",
              "    </tr>\n",
              "    <tr>\n",
              "      <th>...</th>\n",
              "      <td>...</td>\n",
              "      <td>...</td>\n",
              "      <td>...</td>\n",
              "      <td>...</td>\n",
              "      <td>...</td>\n",
              "      <td>...</td>\n",
              "      <td>...</td>\n",
              "      <td>...</td>\n",
              "      <td>...</td>\n",
              "      <td>...</td>\n",
              "      <td>...</td>\n",
              "      <td>...</td>\n",
              "      <td>...</td>\n",
              "      <td>...</td>\n",
              "      <td>...</td>\n",
              "      <td>...</td>\n",
              "      <td>...</td>\n",
              "      <td>...</td>\n",
              "      <td>...</td>\n",
              "      <td>...</td>\n",
              "      <td>...</td>\n",
              "      <td>...</td>\n",
              "      <td>...</td>\n",
              "      <td>...</td>\n",
              "      <td>...</td>\n",
              "      <td>...</td>\n",
              "      <td>...</td>\n",
              "      <td>...</td>\n",
              "      <td>...</td>\n",
              "      <td>...</td>\n",
              "      <td>...</td>\n",
              "      <td>...</td>\n",
              "      <td>...</td>\n",
              "      <td>...</td>\n",
              "      <td>...</td>\n",
              "      <td>...</td>\n",
              "      <td>...</td>\n",
              "      <td>...</td>\n",
              "      <td>...</td>\n",
              "      <td>...</td>\n",
              "      <td>...</td>\n",
              "      <td>...</td>\n",
              "      <td>...</td>\n",
              "      <td>...</td>\n",
              "      <td>...</td>\n",
              "      <td>...</td>\n",
              "      <td>...</td>\n",
              "      <td>...</td>\n",
              "      <td>...</td>\n",
              "      <td>...</td>\n",
              "      <td>...</td>\n",
              "      <td>...</td>\n",
              "      <td>...</td>\n",
              "      <td>...</td>\n",
              "      <td>...</td>\n",
              "      <td>...</td>\n",
              "      <td>...</td>\n",
              "      <td>...</td>\n",
              "      <td>...</td>\n",
              "      <td>...</td>\n",
              "      <td>...</td>\n",
              "      <td>...</td>\n",
              "      <td>...</td>\n",
              "      <td>...</td>\n",
              "      <td>...</td>\n",
              "      <td>...</td>\n",
              "      <td>...</td>\n",
              "      <td>...</td>\n",
              "      <td>...</td>\n",
              "      <td>...</td>\n",
              "      <td>...</td>\n",
              "      <td>...</td>\n",
              "      <td>...</td>\n",
              "      <td>...</td>\n",
              "      <td>...</td>\n",
              "      <td>...</td>\n",
              "      <td>...</td>\n",
              "      <td>...</td>\n",
              "      <td>...</td>\n",
              "      <td>...</td>\n",
              "      <td>...</td>\n",
              "    </tr>\n",
              "    <tr>\n",
              "      <th>1455</th>\n",
              "      <td>20</td>\n",
              "      <td>FV</td>\n",
              "      <td>Pave</td>\n",
              "      <td>3.0</td>\n",
              "      <td>Lvl</td>\n",
              "      <td>Inside</td>\n",
              "      <td>0.0</td>\n",
              "      <td>Somerst</td>\n",
              "      <td>Norm</td>\n",
              "      <td>Norm</td>\n",
              "      <td>1Fam</td>\n",
              "      <td>1Story</td>\n",
              "      <td>7</td>\n",
              "      <td>5</td>\n",
              "      <td>2004</td>\n",
              "      <td>2005</td>\n",
              "      <td>Gable</td>\n",
              "      <td>CompShg</td>\n",
              "      <td>VinylSd</td>\n",
              "      <td>VinylSd</td>\n",
              "      <td>None</td>\n",
              "      <td>0.0</td>\n",
              "      <td>4.0</td>\n",
              "      <td>3.0</td>\n",
              "      <td>PConc</td>\n",
              "      <td>4.0</td>\n",
              "      <td>3.0</td>\n",
              "      <td>1.0</td>\n",
              "      <td>6.0</td>\n",
              "      <td>410</td>\n",
              "      <td>1.0</td>\n",
              "      <td>811</td>\n",
              "      <td>1221</td>\n",
              "      <td>GasA</td>\n",
              "      <td>5.0</td>\n",
              "      <td>Y</td>\n",
              "      <td>SBrkr</td>\n",
              "      <td>0</td>\n",
              "      <td>1</td>\n",
              "      <td>0</td>\n",
              "      <td>...</td>\n",
              "      <td>0</td>\n",
              "      <td>Attchd</td>\n",
              "      <td>2004.0</td>\n",
              "      <td>2.0</td>\n",
              "      <td>2</td>\n",
              "      <td>400</td>\n",
              "      <td>3.0</td>\n",
              "      <td>3.0</td>\n",
              "      <td>2.0</td>\n",
              "      <td>0</td>\n",
              "      <td>113</td>\n",
              "      <td>2009</td>\n",
              "      <td>WD</td>\n",
              "      <td>Normal</td>\n",
              "      <td>-8.660254e-01</td>\n",
              "      <td>5.000000e-01</td>\n",
              "      <td>yes</td>\n",
              "      <td>5</td>\n",
              "      <td>3.0</td>\n",
              "      <td>410</td>\n",
              "      <td>410</td>\n",
              "      <td>0</td>\n",
              "      <td>3</td>\n",
              "      <td>200.000000</td>\n",
              "      <td>113</td>\n",
              "      <td>113</td>\n",
              "      <td>1</td>\n",
              "      <td>0</td>\n",
              "      <td>0</td>\n",
              "      <td>0</td>\n",
              "      <td>0</td>\n",
              "      <td>0</td>\n",
              "      <td>0</td>\n",
              "      <td>0</td>\n",
              "      <td>7.107425</td>\n",
              "      <td>5.315666</td>\n",
              "      <td>7.107425</td>\n",
              "      <td>8.922658</td>\n",
              "      <td>12.128111</td>\n",
              "      <td>8.206038</td>\n",
              "    </tr>\n",
              "    <tr>\n",
              "      <th>1456</th>\n",
              "      <td>60</td>\n",
              "      <td>RL</td>\n",
              "      <td>Pave</td>\n",
              "      <td>3.0</td>\n",
              "      <td>Lvl</td>\n",
              "      <td>Inside</td>\n",
              "      <td>0.0</td>\n",
              "      <td>Gilbert</td>\n",
              "      <td>Norm</td>\n",
              "      <td>Norm</td>\n",
              "      <td>1Fam</td>\n",
              "      <td>2Story</td>\n",
              "      <td>6</td>\n",
              "      <td>5</td>\n",
              "      <td>1999</td>\n",
              "      <td>2000</td>\n",
              "      <td>Gable</td>\n",
              "      <td>CompShg</td>\n",
              "      <td>VinylSd</td>\n",
              "      <td>VinylSd</td>\n",
              "      <td>None</td>\n",
              "      <td>0.0</td>\n",
              "      <td>3.0</td>\n",
              "      <td>3.0</td>\n",
              "      <td>PConc</td>\n",
              "      <td>4.0</td>\n",
              "      <td>3.0</td>\n",
              "      <td>1.0</td>\n",
              "      <td>1.0</td>\n",
              "      <td>0</td>\n",
              "      <td>1.0</td>\n",
              "      <td>953</td>\n",
              "      <td>953</td>\n",
              "      <td>GasA</td>\n",
              "      <td>5.0</td>\n",
              "      <td>Y</td>\n",
              "      <td>SBrkr</td>\n",
              "      <td>694</td>\n",
              "      <td>0</td>\n",
              "      <td>0</td>\n",
              "      <td>...</td>\n",
              "      <td>1</td>\n",
              "      <td>Attchd</td>\n",
              "      <td>1999.0</td>\n",
              "      <td>2.0</td>\n",
              "      <td>2</td>\n",
              "      <td>460</td>\n",
              "      <td>3.0</td>\n",
              "      <td>3.0</td>\n",
              "      <td>2.0</td>\n",
              "      <td>0</td>\n",
              "      <td>40</td>\n",
              "      <td>2007</td>\n",
              "      <td>WD</td>\n",
              "      <td>Normal</td>\n",
              "      <td>-8.660254e-01</td>\n",
              "      <td>-5.000000e-01</td>\n",
              "      <td>yes</td>\n",
              "      <td>8</td>\n",
              "      <td>2.5</td>\n",
              "      <td>0</td>\n",
              "      <td>0</td>\n",
              "      <td>1</td>\n",
              "      <td>3</td>\n",
              "      <td>230.000000</td>\n",
              "      <td>40</td>\n",
              "      <td>40</td>\n",
              "      <td>1</td>\n",
              "      <td>0</td>\n",
              "      <td>0</td>\n",
              "      <td>0</td>\n",
              "      <td>0</td>\n",
              "      <td>0</td>\n",
              "      <td>0</td>\n",
              "      <td>0</td>\n",
              "      <td>6.859615</td>\n",
              "      <td>5.460801</td>\n",
              "      <td>7.406711</td>\n",
              "      <td>8.976768</td>\n",
              "      <td>12.072541</td>\n",
              "      <td>8.353968</td>\n",
              "    </tr>\n",
              "    <tr>\n",
              "      <th>1457</th>\n",
              "      <td>20</td>\n",
              "      <td>RL</td>\n",
              "      <td>Pave</td>\n",
              "      <td>3.0</td>\n",
              "      <td>Lvl</td>\n",
              "      <td>Inside</td>\n",
              "      <td>0.0</td>\n",
              "      <td>NWAmes</td>\n",
              "      <td>Norm</td>\n",
              "      <td>Norm</td>\n",
              "      <td>1Fam</td>\n",
              "      <td>1Story</td>\n",
              "      <td>6</td>\n",
              "      <td>6</td>\n",
              "      <td>1978</td>\n",
              "      <td>1988</td>\n",
              "      <td>Gable</td>\n",
              "      <td>CompShg</td>\n",
              "      <td>Plywood</td>\n",
              "      <td>Plywood</td>\n",
              "      <td>Stone</td>\n",
              "      <td>119.0</td>\n",
              "      <td>3.0</td>\n",
              "      <td>3.0</td>\n",
              "      <td>CBlock</td>\n",
              "      <td>4.0</td>\n",
              "      <td>3.0</td>\n",
              "      <td>1.0</td>\n",
              "      <td>5.0</td>\n",
              "      <td>790</td>\n",
              "      <td>3.0</td>\n",
              "      <td>589</td>\n",
              "      <td>1542</td>\n",
              "      <td>GasA</td>\n",
              "      <td>3.0</td>\n",
              "      <td>Y</td>\n",
              "      <td>SBrkr</td>\n",
              "      <td>0</td>\n",
              "      <td>1</td>\n",
              "      <td>0</td>\n",
              "      <td>...</td>\n",
              "      <td>2</td>\n",
              "      <td>Attchd</td>\n",
              "      <td>1978.0</td>\n",
              "      <td>1.0</td>\n",
              "      <td>2</td>\n",
              "      <td>500</td>\n",
              "      <td>3.0</td>\n",
              "      <td>3.0</td>\n",
              "      <td>2.0</td>\n",
              "      <td>349</td>\n",
              "      <td>0</td>\n",
              "      <td>2010</td>\n",
              "      <td>WD</td>\n",
              "      <td>Normal</td>\n",
              "      <td>8.660254e-01</td>\n",
              "      <td>5.000000e-01</td>\n",
              "      <td>yes</td>\n",
              "      <td>32</td>\n",
              "      <td>3.0</td>\n",
              "      <td>953</td>\n",
              "      <td>953</td>\n",
              "      <td>0</td>\n",
              "      <td>3</td>\n",
              "      <td>250.000000</td>\n",
              "      <td>349</td>\n",
              "      <td>0</td>\n",
              "      <td>0</td>\n",
              "      <td>1</td>\n",
              "      <td>0</td>\n",
              "      <td>0</td>\n",
              "      <td>0</td>\n",
              "      <td>0</td>\n",
              "      <td>0</td>\n",
              "      <td>0</td>\n",
              "      <td>7.636752</td>\n",
              "      <td>5.690842</td>\n",
              "      <td>7.636752</td>\n",
              "      <td>9.486076</td>\n",
              "      <td>12.254863</td>\n",
              "      <td>8.646114</td>\n",
              "    </tr>\n",
              "    <tr>\n",
              "      <th>1458</th>\n",
              "      <td>70</td>\n",
              "      <td>RL</td>\n",
              "      <td>Pave</td>\n",
              "      <td>3.0</td>\n",
              "      <td>Lvl</td>\n",
              "      <td>Inside</td>\n",
              "      <td>0.0</td>\n",
              "      <td>Crawfor</td>\n",
              "      <td>Norm</td>\n",
              "      <td>Norm</td>\n",
              "      <td>1Fam</td>\n",
              "      <td>2Story</td>\n",
              "      <td>7</td>\n",
              "      <td>9</td>\n",
              "      <td>1941</td>\n",
              "      <td>2006</td>\n",
              "      <td>Gable</td>\n",
              "      <td>CompShg</td>\n",
              "      <td>CemntBd</td>\n",
              "      <td>CmentBd</td>\n",
              "      <td>None</td>\n",
              "      <td>0.0</td>\n",
              "      <td>5.0</td>\n",
              "      <td>4.0</td>\n",
              "      <td>Stone</td>\n",
              "      <td>3.0</td>\n",
              "      <td>4.0</td>\n",
              "      <td>1.0</td>\n",
              "      <td>6.0</td>\n",
              "      <td>275</td>\n",
              "      <td>1.0</td>\n",
              "      <td>877</td>\n",
              "      <td>1152</td>\n",
              "      <td>GasA</td>\n",
              "      <td>5.0</td>\n",
              "      <td>Y</td>\n",
              "      <td>SBrkr</td>\n",
              "      <td>1152</td>\n",
              "      <td>0</td>\n",
              "      <td>0</td>\n",
              "      <td>...</td>\n",
              "      <td>2</td>\n",
              "      <td>Attchd</td>\n",
              "      <td>1941.0</td>\n",
              "      <td>2.0</td>\n",
              "      <td>1</td>\n",
              "      <td>252</td>\n",
              "      <td>3.0</td>\n",
              "      <td>3.0</td>\n",
              "      <td>2.0</td>\n",
              "      <td>0</td>\n",
              "      <td>60</td>\n",
              "      <td>2010</td>\n",
              "      <td>WD</td>\n",
              "      <td>Normal</td>\n",
              "      <td>5.000000e-01</td>\n",
              "      <td>-8.660254e-01</td>\n",
              "      <td>yes</td>\n",
              "      <td>69</td>\n",
              "      <td>2.0</td>\n",
              "      <td>275</td>\n",
              "      <td>275</td>\n",
              "      <td>1</td>\n",
              "      <td>4</td>\n",
              "      <td>252.000000</td>\n",
              "      <td>60</td>\n",
              "      <td>60</td>\n",
              "      <td>1</td>\n",
              "      <td>0</td>\n",
              "      <td>0</td>\n",
              "      <td>0</td>\n",
              "      <td>0</td>\n",
              "      <td>0</td>\n",
              "      <td>1</td>\n",
              "      <td>0</td>\n",
              "      <td>7.080026</td>\n",
              "      <td>5.560682</td>\n",
              "      <td>7.757906</td>\n",
              "      <td>9.109636</td>\n",
              "      <td>12.493130</td>\n",
              "      <td>8.671115</td>\n",
              "    </tr>\n",
              "    <tr>\n",
              "      <th>1459</th>\n",
              "      <td>20</td>\n",
              "      <td>RL</td>\n",
              "      <td>Pave</td>\n",
              "      <td>3.0</td>\n",
              "      <td>Lvl</td>\n",
              "      <td>Inside</td>\n",
              "      <td>0.0</td>\n",
              "      <td>NAmes</td>\n",
              "      <td>Norm</td>\n",
              "      <td>Norm</td>\n",
              "      <td>1Fam</td>\n",
              "      <td>1Story</td>\n",
              "      <td>5</td>\n",
              "      <td>6</td>\n",
              "      <td>1950</td>\n",
              "      <td>1996</td>\n",
              "      <td>Hip</td>\n",
              "      <td>CompShg</td>\n",
              "      <td>MetalSd</td>\n",
              "      <td>MetalSd</td>\n",
              "      <td>None</td>\n",
              "      <td>0.0</td>\n",
              "      <td>3.0</td>\n",
              "      <td>3.0</td>\n",
              "      <td>CBlock</td>\n",
              "      <td>3.0</td>\n",
              "      <td>3.0</td>\n",
              "      <td>2.0</td>\n",
              "      <td>6.0</td>\n",
              "      <td>49</td>\n",
              "      <td>3.0</td>\n",
              "      <td>0</td>\n",
              "      <td>1078</td>\n",
              "      <td>GasA</td>\n",
              "      <td>4.0</td>\n",
              "      <td>Y</td>\n",
              "      <td>FuseA</td>\n",
              "      <td>0</td>\n",
              "      <td>1</td>\n",
              "      <td>0</td>\n",
              "      <td>...</td>\n",
              "      <td>0</td>\n",
              "      <td>Attchd</td>\n",
              "      <td>1950.0</td>\n",
              "      <td>1.0</td>\n",
              "      <td>1</td>\n",
              "      <td>240</td>\n",
              "      <td>3.0</td>\n",
              "      <td>3.0</td>\n",
              "      <td>2.0</td>\n",
              "      <td>366</td>\n",
              "      <td>0</td>\n",
              "      <td>2010</td>\n",
              "      <td>WD</td>\n",
              "      <td>Normal</td>\n",
              "      <td>8.660254e-01</td>\n",
              "      <td>-5.000000e-01</td>\n",
              "      <td>yes</td>\n",
              "      <td>60</td>\n",
              "      <td>2.0</td>\n",
              "      <td>1078</td>\n",
              "      <td>1078</td>\n",
              "      <td>0</td>\n",
              "      <td>2</td>\n",
              "      <td>240.000000</td>\n",
              "      <td>366</td>\n",
              "      <td>112</td>\n",
              "      <td>1</td>\n",
              "      <td>1</td>\n",
              "      <td>0</td>\n",
              "      <td>1</td>\n",
              "      <td>0</td>\n",
              "      <td>0</td>\n",
              "      <td>0</td>\n",
              "      <td>0</td>\n",
              "      <td>6.982863</td>\n",
              "      <td>5.373425</td>\n",
              "      <td>6.982863</td>\n",
              "      <td>9.181632</td>\n",
              "      <td>11.864462</td>\n",
              "      <td>8.081475</td>\n",
              "    </tr>\n",
              "  </tbody>\n",
              "</table>\n",
              "<p>1252 rows × 87 columns</p>\n",
              "</div>"
            ],
            "text/plain": [
              "      MSSubClass MSZoning Street  ...  LotArea_log SalePrice_log totSqFt_log\n",
              "Id                                ...                                       \n",
              "1             60       RL   Pave  ...     9.041922     12.247694    8.360773\n",
              "2             20       RL   Pave  ...     9.169518     12.109011    8.239065\n",
              "3             60       RL   Pave  ...     9.328123     12.317167    8.410053\n",
              "4             70       RL   Pave  ...     9.164296     11.849398    8.340456\n",
              "5             60       RL   Pave  ...     9.565214     12.429216    8.619930\n",
              "...          ...      ...    ...  ...          ...           ...         ...\n",
              "1455          20       FV   Pave  ...     8.922658     12.128111    8.206038\n",
              "1456          60       RL   Pave  ...     8.976768     12.072541    8.353968\n",
              "1457          20       RL   Pave  ...     9.486076     12.254863    8.646114\n",
              "1458          70       RL   Pave  ...     9.109636     12.493130    8.671115\n",
              "1459          20       RL   Pave  ...     9.181632     11.864462    8.081475\n",
              "\n",
              "[1252 rows x 87 columns]"
            ]
          },
          "metadata": {},
          "execution_count": 3
        }
      ]
    },
    {
      "cell_type": "code",
      "metadata": {
        "id": "PpU7r_DIX-MU"
      },
      "source": [
        "nominal = ['MSZoning', 'LandContour', 'LotConfig', 'Neighborhood',\n",
        "       'Condition1', 'Condition2', 'BldgType', 'HouseStyle', 'RoofStyle',\n",
        "       'RoofMatl', 'Exterior1st', 'Exterior2nd', 'MasVnrType',\n",
        "       'Foundation', 'Heating', 'Electrical', 'Functional',\n",
        "       'GarageType', 'SaleType', 'SaleCondition',\n",
        "       'Street', 'CentralAir', 'RenovatedY/N', '2ndFloorY/N', 'PorchY/N',\n",
        "       'BsmtFinSF2_cat', 'LowQualFinSF_cat', 'EnclosedPorch_cat',\n",
        "       '3SsnPorch_cat', 'ScreenPorch_cat', 'MiscVal_cat', 'PoolArea_cat']\n",
        "\n",
        "ordinal = ['MSSubClass', 'LotShape', 'LandSlope', 'OverallQual',\n",
        "       'OverallCond', 'ExterQual', 'ExterCond', 'BsmtQual', 'BsmtCond',\n",
        "       'BsmtExposure', 'BsmtFinType1', 'BsmtFinType2', 'HeatingQC',\n",
        "       'BsmtFullBath', 'BsmtHalfBath', 'FullBath', 'HalfBath',\n",
        "       'BedroomAbvGr', 'KitchenAbvGr', 'KitchenQual', 'TotRmsAbvGrd',\n",
        "       'Fireplaces', 'GarageFinish', 'GarageCars', 'GarageQual',\n",
        "       'GarageCond', 'PavedDrive', 'YearBuilt', 'YearRemodAdd',\n",
        "       'GarageYrBlt', 'YrSold', 'AgeWhenSold', 'totBath', 'OtherRooms']\n",
        "\n",
        "continuous = ['2ndFlrSF', 'BsmtFinSF', 'BsmtFinSF1', 'BsmtUnfSF', 'GarageArea',\n",
        "       'GarageSpaceForCar', 'MasVnrArea', 'MoSold_cos', 'MoSold_sin',\n",
        "       'OpenPorchSF', 'TotalBsmtFinSF', 'TotalBsmtSF', 'TotalPorchSF',\n",
        "       'WoodDeckOpenPorch', 'WoodDeckSF', '1stFlrSF_log',\n",
        "       'AverageRoomSF_log', 'GrLivArea_log', 'LotArea_log',\n",
        "       'SalePrice_log', 'totSqFt_log']"
      ],
      "execution_count": 4,
      "outputs": []
    },
    {
      "cell_type": "code",
      "metadata": {
        "id": "t6ZKTmyhYK9h"
      },
      "source": [
        ""
      ],
      "execution_count": 4,
      "outputs": []
    },
    {
      "cell_type": "code",
      "metadata": {
        "id": "EJO1Vb0mYK6g"
      },
      "source": [
        "# def standartize(df, columns):\n",
        "#     st_df = df.copy()\n",
        "    \n",
        "#     scaler = StandardScaler()\n",
        "    \n",
        "#     st_df[columns] = scaler.fit_transform(df[columns])\n",
        "#     print(df.shape, st_df.shape)\n",
        "    \n",
        "#     return st_df\n",
        "\n",
        "\n",
        "# st_train_df = standartize(df_, ordinal + continuous)\n",
        "\n",
        "# arr_to_standartize_test = ordinal + continuous\n",
        "# arr_to_standartize_test.remove('SalePrice_log')\n",
        "# st_test_df = standartize(df_t_, arr_to_standartize_test)"
      ],
      "execution_count": 5,
      "outputs": []
    },
    {
      "cell_type": "code",
      "metadata": {
        "id": "VYASuRGgYK3h"
      },
      "source": [
        ""
      ],
      "execution_count": 5,
      "outputs": []
    },
    {
      "cell_type": "code",
      "metadata": {
        "colab": {
          "base_uri": "https://localhost:8080/"
        },
        "id": "QR6PAHFgYK0o",
        "outputId": "afce3c15-17e0-4ae2-fbd2-bc2148758760"
      },
      "source": [
        "def one_hot_enc(train_df, test_df, columns):\n",
        "    train_df['Status'] = 'Train'\n",
        "    test_df['Status'] = 'Test'\n",
        "    \n",
        "    app_df = train_df.append(test_df)\n",
        "    \n",
        "    merded_app_df = pd.concat([pd.get_dummies(app_df[columns], drop_first=True), \n",
        "                           app_df.loc[:, app_df.columns[~app_df.columns.isin(columns)]]], axis=1)\n",
        "    \n",
        "    train_df_enc = merded_app_df.loc[merded_app_df['Status'] == 'Train']\n",
        "    train_df_enc.drop('Status', axis=1, inplace=True)\n",
        "\n",
        "    test_df_enc = merded_app_df.loc[merded_app_df['Status'] == 'Test']\n",
        "    test_df_enc.drop(['Status', 'SalePrice_log'], axis=1, inplace=True)\n",
        "\n",
        "\n",
        "    print(train_df_enc.shape, test_df_enc.shape)\n",
        "    \n",
        "    return train_df_enc, test_df_enc\n",
        "\n",
        "\n",
        "train_df, test_df = one_hot_enc(df_, df_t_, nominal)"
      ],
      "execution_count": 6,
      "outputs": [
        {
          "output_type": "stream",
          "name": "stdout",
          "text": [
            "(1252, 207) (1459, 206)\n"
          ]
        }
      ]
    },
    {
      "cell_type": "code",
      "metadata": {
        "id": "UtOu9jUCYKxY"
      },
      "source": [
        ""
      ],
      "execution_count": 6,
      "outputs": []
    },
    {
      "cell_type": "code",
      "metadata": {
        "id": "AVOJYDx_YKuo"
      },
      "source": [
        "# serial_corr_cols_to_drop = ['YrSold', 'YearBuilt', 'TotalBsmtSF', 'GrLivArea_log', 'BsmtFinSF2_cat',\n",
        "#         '1stFlrSF_log', '2ndFlrSF', 'BsmtFullBath', 'BsmtHalfBath', 'FullBath', 'HalfBath',\n",
        "#         'BsmtFinSF1', 'BsmtFinSF2_cat', 'BsmtFinSF', 'TotRmsAbvGrd', 'BedroomAbvGr', 'KitchenAbvGr',\n",
        "#         'TotRmsAbvGrd', 'GarageArea', 'GarageCars', 'WoodDeckSF', 'OpenPorchSF', 'EnclosedPorch_cat',\n",
        "#         '3SsnPorch_cat', 'PoolArea_cat', 'RoofStyle', 'RoofMatl', 'Condition2', 'BsmtFinType1', 'LandSlope', 'Exterior2nd']\n",
        "\n",
        "# train_df1 = df_.copy()\n",
        "# test_df1 = df_t_.copy()\n",
        "\n",
        "\n",
        "# train_df1.drop(serial_corr_cols_to_drop, axis=1, inplace=True)\n",
        "# test_df1.drop(serial_corr_cols_to_drop, axis=1, inplace=True)\n",
        "\n",
        "# nominal1 = list(set(nominal) - set(serial_corr_cols_to_drop))\n",
        "# ordinal1 = list(set(ordinal) - set(serial_corr_cols_to_drop))\n",
        "# continuous1 = list(set(continuous) - set(serial_corr_cols_to_drop))\n",
        "\n",
        "\n",
        "# st_train_df1 = standartize(train_df1, ordinal1 + continuous1)\n",
        "\n",
        "# arr_to_standartize_test1 = ordinal1 + continuous1\n",
        "# arr_to_standartize_test1.remove('SalePrice_log')\n",
        "# st_test_df1 = standartize(test_df1, arr_to_standartize_test1)"
      ],
      "execution_count": 7,
      "outputs": []
    },
    {
      "cell_type": "code",
      "metadata": {
        "id": "cXs0bGn5YKrO"
      },
      "source": [
        "# train_df1, test_df1 = one_hot_enc(st_train_df1, st_test_df1, nominal1)"
      ],
      "execution_count": 8,
      "outputs": []
    },
    {
      "cell_type": "code",
      "metadata": {
        "id": "Drrh17yyYKoe"
      },
      "source": [
        ""
      ],
      "execution_count": 8,
      "outputs": []
    },
    {
      "cell_type": "code",
      "metadata": {
        "id": "u67096j3YKle"
      },
      "source": [
        "X = train_df.drop('SalePrice_log', axis=1)\n",
        "y = train_df['SalePrice_log']\n",
        "x_train, x_test, y_train, y_test = train_test_split(X, y, random_state=42, shuffle=True, test_size=0.2)\n",
        "\n",
        "# X1 = train_df.drop('SalePrice_log', axis=1)\n",
        "# y1 = train_df['SalePrice_log']\n",
        "# x_train1, x_test1, y_train1, y_test1 = train_test_split(X1, y1, random_state=42, shuffle=True, test_size=0.2)\n",
        "\n",
        "kfolds = KFold(n_splits=6, shuffle=True, random_state=42)\n",
        "\n",
        "def rmse(y, y_pred):\n",
        "    return np.sqrt(mean_squared_error(y, y_pred))\n",
        "\n",
        "def cv_rmse(model, X, y, kfolds=kfolds):\n",
        "    rmse = np.sqrt(-cross_val_score(model, X, y, scoring=\"neg_mean_squared_error\", cv=kfolds, n_jobs=2))\n",
        "    mae = -cross_val_score(model, X, y, scoring=\"neg_mean_absolute_error\", cv=kfolds, n_jobs=2)\n",
        "    r2 = cross_val_score(model, X, y, scoring=\"r2\", cv=kfolds, n_jobs=2)\n",
        "    return rmse, mae, r2\n",
        "\n",
        "def display_cv_scores(rmse_, mae_, r2_):\n",
        "    print(f'RMSE CV: {rmse_}  Mean RMSE: {round(rmse_.mean(),7)} Std RMSE: {round(rmse_.std(),7)}')\n",
        "    print(f'MAE CV: {mae_}  Mean MAE: {round(mae_.mean(),7)} Std MAE: {round(mae_.std(),7)}')\n",
        "    print(f'R2 CV: {r2_}  Mean R2: {round(r2_.mean(),7)} Std R2: {round(r2_.std(),7)}')"
      ],
      "execution_count": 9,
      "outputs": []
    },
    {
      "cell_type": "code",
      "metadata": {
        "id": "nNi06AfxYKiO"
      },
      "source": [
        ""
      ],
      "execution_count": null,
      "outputs": []
    },
    {
      "cell_type": "code",
      "metadata": {
        "id": "9uYzshn79x84"
      },
      "source": [
        ""
      ],
      "execution_count": null,
      "outputs": []
    },
    {
      "cell_type": "markdown",
      "metadata": {
        "id": "fRK2uqcM9zmi"
      },
      "source": [
        "### XGB Regressor"
      ]
    },
    {
      "cell_type": "markdown",
      "metadata": {
        "id": "nNU1eXBa996a"
      },
      "source": [
        "#### Bayes"
      ]
    },
    {
      "cell_type": "code",
      "metadata": {
        "colab": {
          "base_uri": "https://localhost:8080/"
        },
        "id": "koEpeIAX9yAF",
        "outputId": "d30bb12b-023e-4f5a-b418-aefe4a283c01"
      },
      "source": [
        "%%time\n",
        "\n",
        "xgbr_params = {\n",
        "    \n",
        "    'learning_rate': Real(0.0001, 0.3, prior='log-uniform'),        \n",
        "    'n_estimators': Integer(25, 1500, prior='uniform'),\n",
        "    'subsample':  Real(0.5, 1., prior='uniform'),   \n",
        "    'max_depth': Integer(1, 23, prior='uniform'),\n",
        "    'min_child_weight': Integer(1, 9, prior='uniform'),\n",
        "    # 'gamma': Real(0., 5,  prior='uniform'),\n",
        "    # 'max_delta_step': Integer(0, 5, prior='uniform'),\n",
        "    # 'colsample_bytree': Real(0., 1.,  prior='uniform'),\n",
        "    'reg_alpha': Real(0., 6., prior='uniform'),\n",
        "    'reg_lambda': Real(0., 6.)\n",
        "\n",
        "}\n",
        "\n",
        "search_xgbr = skopt.BayesSearchCV(estimator=xgb.XGBRegressor(),\n",
        "                                search_spaces=xgbr_params,\n",
        "                                scoring='neg_mean_squared_error',\n",
        "                                n_iter=6,\n",
        "                                cv=kfolds,\n",
        "                                random_state=11,\n",
        "                                n_jobs=2,\n",
        "                                 verbose=10\n",
        "                                )\n",
        "\n",
        "search_xgbr_ = search_xgbr.fit(X, y)"
      ],
      "execution_count": 16,
      "outputs": [
        {
          "output_type": "stream",
          "name": "stdout",
          "text": [
            "Fitting 6 folds for each of 1 candidates, totalling 6 fits\n"
          ]
        },
        {
          "output_type": "stream",
          "name": "stderr",
          "text": [
            "[Parallel(n_jobs=2)]: Using backend LokyBackend with 2 concurrent workers.\n",
            "[Parallel(n_jobs=2)]: Done   1 tasks      | elapsed:    1.3s\n",
            "[Parallel(n_jobs=2)]: Done   4 out of   6 | elapsed:    1.7s remaining:    0.8s\n",
            "[Parallel(n_jobs=2)]: Done   6 out of   6 | elapsed:    1.9s remaining:    0.0s\n",
            "[Parallel(n_jobs=2)]: Done   6 out of   6 | elapsed:    1.9s finished\n",
            "[Parallel(n_jobs=2)]: Using backend LokyBackend with 2 concurrent workers.\n"
          ]
        },
        {
          "output_type": "stream",
          "name": "stdout",
          "text": [
            "Fitting 6 folds for each of 1 candidates, totalling 6 fits\n"
          ]
        },
        {
          "output_type": "stream",
          "name": "stderr",
          "text": [
            "[Parallel(n_jobs=2)]: Done   1 tasks      | elapsed:   29.5s\n",
            "[Parallel(n_jobs=2)]: Done   4 out of   6 | elapsed:   58.9s remaining:   29.4s\n",
            "[Parallel(n_jobs=2)]: Done   6 out of   6 | elapsed:  1.5min remaining:    0.0s\n",
            "[Parallel(n_jobs=2)]: Done   6 out of   6 | elapsed:  1.5min finished\n",
            "[Parallel(n_jobs=2)]: Using backend LokyBackend with 2 concurrent workers.\n"
          ]
        },
        {
          "output_type": "stream",
          "name": "stdout",
          "text": [
            "Fitting 6 folds for each of 1 candidates, totalling 6 fits\n"
          ]
        },
        {
          "output_type": "stream",
          "name": "stderr",
          "text": [
            "[Parallel(n_jobs=2)]: Done   1 tasks      | elapsed:    8.3s\n",
            "[Parallel(n_jobs=2)]: Done   4 out of   6 | elapsed:   16.6s remaining:    8.3s\n",
            "[Parallel(n_jobs=2)]: Done   6 out of   6 | elapsed:   24.9s remaining:    0.0s\n",
            "[Parallel(n_jobs=2)]: Done   6 out of   6 | elapsed:   24.9s finished\n",
            "[Parallel(n_jobs=2)]: Using backend LokyBackend with 2 concurrent workers.\n"
          ]
        },
        {
          "output_type": "stream",
          "name": "stdout",
          "text": [
            "Fitting 6 folds for each of 1 candidates, totalling 6 fits\n"
          ]
        },
        {
          "output_type": "stream",
          "name": "stderr",
          "text": [
            "[Parallel(n_jobs=2)]: Done   1 tasks      | elapsed:    4.8s\n",
            "[Parallel(n_jobs=2)]: Done   4 out of   6 | elapsed:    9.7s remaining:    4.8s\n",
            "[Parallel(n_jobs=2)]: Done   6 out of   6 | elapsed:   14.5s remaining:    0.0s\n",
            "[Parallel(n_jobs=2)]: Done   6 out of   6 | elapsed:   14.5s finished\n",
            "[Parallel(n_jobs=2)]: Using backend LokyBackend with 2 concurrent workers.\n"
          ]
        },
        {
          "output_type": "stream",
          "name": "stdout",
          "text": [
            "Fitting 6 folds for each of 1 candidates, totalling 6 fits\n"
          ]
        },
        {
          "output_type": "stream",
          "name": "stderr",
          "text": [
            "[Parallel(n_jobs=2)]: Done   1 tasks      | elapsed:   13.0s\n",
            "[Parallel(n_jobs=2)]: Done   4 out of   6 | elapsed:   26.2s remaining:   13.1s\n",
            "[Parallel(n_jobs=2)]: Done   6 out of   6 | elapsed:   39.1s remaining:    0.0s\n",
            "[Parallel(n_jobs=2)]: Done   6 out of   6 | elapsed:   39.1s finished\n",
            "[Parallel(n_jobs=2)]: Using backend LokyBackend with 2 concurrent workers.\n"
          ]
        },
        {
          "output_type": "stream",
          "name": "stdout",
          "text": [
            "Fitting 6 folds for each of 1 candidates, totalling 6 fits\n"
          ]
        },
        {
          "output_type": "stream",
          "name": "stderr",
          "text": [
            "[Parallel(n_jobs=2)]: Done   1 tasks      | elapsed:   21.1s\n",
            "[Parallel(n_jobs=2)]: Done   4 out of   6 | elapsed:   42.9s remaining:   21.4s\n",
            "[Parallel(n_jobs=2)]: Done   6 out of   6 | elapsed:  1.1min remaining:    0.0s\n",
            "[Parallel(n_jobs=2)]: Done   6 out of   6 | elapsed:  1.1min finished\n"
          ]
        },
        {
          "output_type": "stream",
          "name": "stdout",
          "text": [
            "[00:26:39] WARNING: /workspace/src/objective/regression_obj.cu:152: reg:linear is now deprecated in favor of reg:squarederror.\n",
            "CPU times: user 25.1 s, sys: 240 ms, total: 25.4 s\n",
            "Wall time: 4min 15s\n"
          ]
        }
      ]
    },
    {
      "cell_type": "code",
      "metadata": {
        "colab": {
          "base_uri": "https://localhost:8080/"
        },
        "id": "EHpK_2Zo9yC4",
        "outputId": "628a6250-ae25-4ef2-fc6e-f7dd95bd103b"
      },
      "source": [
        "-search_xgbr.best_score_, np.sqrt(-search_xgbr.best_score_)"
      ],
      "execution_count": 17,
      "outputs": [
        {
          "output_type": "execute_result",
          "data": {
            "text/plain": [
              "(0.01293442655762648, 0.1137296204057082)"
            ]
          },
          "metadata": {},
          "execution_count": 17
        }
      ]
    },
    {
      "cell_type": "code",
      "metadata": {
        "colab": {
          "base_uri": "https://localhost:8080/"
        },
        "id": "XRKc8nKS9yGD",
        "outputId": "71c88929-6c6b-4386-d235-069c795599f3"
      },
      "source": [
        "dict(search_xgbr.best_params_)"
      ],
      "execution_count": 18,
      "outputs": [
        {
          "output_type": "execute_result",
          "data": {
            "text/plain": [
              "{'learning_rate': 0.01915381554250815,\n",
              " 'max_depth': 9,\n",
              " 'min_child_weight': 4,\n",
              " 'n_estimators': 1249,\n",
              " 'reg_alpha': 0.40622655343810965,\n",
              " 'reg_lambda': 5.747304493474968,\n",
              " 'subsample': 0.6582147957202108}"
            ]
          },
          "metadata": {},
          "execution_count": 18
        }
      ]
    },
    {
      "cell_type": "code",
      "metadata": {
        "id": "p8sZu6r89yI4"
      },
      "source": [
        ""
      ],
      "execution_count": null,
      "outputs": []
    },
    {
      "cell_type": "markdown",
      "metadata": {
        "id": "bh3s4Q8eAVNy"
      },
      "source": [
        "#### Optuna"
      ]
    },
    {
      "cell_type": "code",
      "metadata": {
        "id": "ys5giF129yLo"
      },
      "source": [
        "def objective_xgbr(trial, X, y, cv, scoring):\n",
        "    \n",
        "    params = {\n",
        "        \"max_depth\": trial.suggest_int(\"max_depth\", 1, 23),\n",
        "        'min_child_weight': trial.suggest_int(\"min_child_weight\", 1, 9),\n",
        "        'colsample_bytree': trial.suggest_float(\"colsample_bytree\", 0., 1., step=0.05),\n",
        "        'subsample': trial.suggest_float(\"subsample\", 0.5, 1., step=0.05),\n",
        "        'reg_alpha':  trial.suggest_float(\"reg_alpha\", 0., 6., step=0.001),\n",
        "        'reg_lambda': trial.suggest_float(\"reg_lambda\", 0., 6., step=0.001),\n",
        "        'learning_rate': trial.suggest_loguniform('learning_rate', 0.0001, 0.1),\n",
        "        'n_estimators': trial.suggest_int(\"n_estimators\", 25, 1500, step=25),\n",
        "        \n",
        "    }\n",
        "    \n",
        "    \n",
        "    gr_reg = xgb.XGBRegressor(**params)\n",
        "    scores = cross_validate(gr_reg, X, y, cv=cv, scoring=scoring, n_jobs=2)\n",
        "    \n",
        "    rmse = np.sqrt(-scores[\"test_score\"].mean())\n",
        "\n",
        "    return rmse\n"
      ],
      "execution_count": 10,
      "outputs": []
    },
    {
      "cell_type": "code",
      "metadata": {
        "colab": {
          "base_uri": "https://localhost:8080/",
          "height": 104,
          "referenced_widgets": [
            "ecfe8c0a841f412eba7526c35027a296",
            "1ea6f4e3fc4e4a6f8da62e94d6dd8da7",
            "b0c6bb4a83694daaa5cc98aa0e8bdd06",
            "a28503d75db744f4a3c11fce77642b6e",
            "8211776589024b4e8a05f07e0ff1d97b",
            "7920fd946e7d4259a44cbcd102489383",
            "4e74d79a7dc5480a979d2a4ecedac99f",
            "b9aefadc2d6b42efb78e3dce744c4f5a",
            "2ae185ca8c544a9480c535740cf25641",
            "9f021ccc76654efd89bbc197edafe33e",
            "8e860b74658540df82850fa495c0762f"
          ]
        },
        "id": "43RG7-259yOW",
        "outputId": "9696de06-266d-4d81-de15-e0962c454e1c"
      },
      "source": [
        "%%time\n",
        "\n",
        "sampler_xgbr = optuna.samplers.TPESampler(seed=7)\n",
        "\n",
        "# Create study that minimizes\n",
        "study_xgbr = optuna.create_study(direction=\"minimize\", sampler=sampler_xgbr)\n",
        "\n",
        "# Pass additional arguments inside another function\n",
        "func_xgbr = lambda trial: objective_xgbr(trial, X, y, cv=kfolds, scoring=\"neg_mean_squared_error\")\n",
        "\n",
        "\n",
        "study_xgbr.optimize(func_xgbr, timeout=60*110, show_progress_bar =True)\n",
        "\n",
        "\n",
        "print(f\"Optimized RMSE: {study_xgbr.best_value:.5f}\")"
      ],
      "execution_count": 11,
      "outputs": [
        {
          "data": {
            "application/vnd.jupyter.widget-view+json": {
              "model_id": "ecfe8c0a841f412eba7526c35027a296",
              "version_major": 2,
              "version_minor": 0
            },
            "text/plain": [
              "0it [00:00, ?it/s]"
            ]
          },
          "metadata": {},
          "output_type": "display_data"
        },
        {
          "output_type": "stream",
          "name": "stdout",
          "text": [
            "Optimized RMSE: 0.10958\n",
            "CPU times: user 34 s, sys: 2.69 s, total: 36.7 s\n",
            "Wall time: 1h 50min 41s\n"
          ]
        }
      ]
    },
    {
      "cell_type": "code",
      "metadata": {
        "colab": {
          "base_uri": "https://localhost:8080/",
          "height": 299
        },
        "id": "MZnSOgEH9yRc",
        "outputId": "0a68d295-4f3e-46d8-ac8e-42918d39f6f3"
      },
      "source": [
        "optuna.visualization.matplotlib.plot_optimization_history(study_xgbr);"
      ],
      "execution_count": 12,
      "outputs": [
        {
          "output_type": "display_data",
          "data": {
            "image/png": "[encoded data removed]",
            "text/plain": [
              "<Figure size 432x288 with 1 Axes>"
            ]
          },
          "metadata": {}
        }
      ]
    },
    {
      "cell_type": "code",
      "metadata": {
        "colab": {
          "base_uri": "https://localhost:8080/"
        },
        "id": "eH4AK9QrA7hc",
        "outputId": "b4b429c7-67bd-45af-8383-6356de463856"
      },
      "source": [
        "study_xgbr.best_value, study_xgbr.best_params"
      ],
      "execution_count": 13,
      "outputs": [
        {
          "output_type": "execute_result",
          "data": {
            "text/plain": [
              "(0.10957700210630263,\n",
              " {'colsample_bytree': 0.9,\n",
              "  'learning_rate': 0.026354267881767892,\n",
              "  'max_depth': 2,\n",
              "  'min_child_weight': 7,\n",
              "  'n_estimators': 1375,\n",
              "  'reg_alpha': 0.379,\n",
              "  'reg_lambda': 1.188,\n",
              "  'subsample': 0.6})"
            ]
          },
          "metadata": {},
          "execution_count": 13
        }
      ]
    },
    {
      "cell_type": "code",
      "metadata": {
        "id": "DTWQUsF7A7oY"
      },
      "source": [
        ""
      ],
      "execution_count": null,
      "outputs": []
    },
    {
      "cell_type": "code",
      "metadata": {
        "id": "GUKpvW-rA7vf"
      },
      "source": [
        ""
      ],
      "execution_count": null,
      "outputs": []
    },
    {
      "cell_type": "code",
      "metadata": {
        "id": "xR7MKp2cA71J"
      },
      "source": [
        ""
      ],
      "execution_count": null,
      "outputs": []
    },
    {
      "cell_type": "code",
      "metadata": {
        "id": "_732Xq0UYKfG"
      },
      "source": [
        ""
      ],
      "execution_count": null,
      "outputs": []
    },
    {
      "cell_type": "code",
      "metadata": {
        "id": "NrG5u2eRYKch"
      },
      "source": [
        ""
      ],
      "execution_count": null,
      "outputs": []
    },
    {
      "cell_type": "code",
      "metadata": {
        "id": "UiGPcEfeYKZe"
      },
      "source": [
        "def objective(trial, X, y, cv, scoring):\n",
        "    params = {\n",
        "        \"max_depth\": trial.suggest_int(\"max_depth\", 3, 9),\n",
        "        'min_child_weight': trial.suggest_int(\"min_child_weight\", 1, 9),\n",
        "        'gamma': trial.suggest_float(\"gamma\", 0., 5, step=0.001),\n",
        "        'max_delta_step': trial.suggest_int(\"max_delta_step\", -5, 5),\n",
        "        'colsample_bytree': trial.suggest_float(\"colsample_bytree\", 0., 1., step=0.05),\n",
        "        'subsample': trial.suggest_float(\"subsample\", 0.5, 1., step=0.05),\n",
        "        'reg_alpha':  trial.suggest_float(\"reg_alpha\", 0., 6., step=0.001),\n",
        "        'reg_lambda': trial.suggest_float(\"reg_lambda\", 0., 6., step=0.001),\n",
        "        'learning_rate': trial.suggest_loguniform('learning_rate', 0.0001, 0.1),\n",
        "        'n_estimators': trial.suggest_int(\"n_estimators\", 50, 900, step=25),\n",
        "        \n",
        "    }\n",
        "    \n",
        "    \n",
        "    gr_reg = xgb.XGBRegressor(**params)\n",
        "    scores = cross_validate(gr_reg, X, y, cv=cv, scoring=scoring, n_jobs=2)\n",
        "    \n",
        "    rmse = np.sqrt(-scores[\"test_score\"].mean())\n",
        "\n",
        "    return rmse\n",
        "\n",
        "\n"
      ],
      "execution_count": null,
      "outputs": []
    },
    {
      "cell_type": "code",
      "metadata": {
        "colab": {
          "base_uri": "https://localhost:8080/",
          "height": 104,
          "referenced_widgets": [
            "755d85df196b40bcba09f7783ad48321",
            "23e973dfbb6340b28cb54d372f4d9f24",
            "e1d7413a311e4163a5114839fd40accc",
            "e14f7e9a80264444abdee4671a3bfab3",
            "38b9b870a12249b68cc5ea9d28fa9117",
            "b6c88e09c4d54d7dbf6f4596c1ce8bf4",
            "19968a3a53194e688b988aa2aee47190",
            "fd19f2a089cd48c189fb841a739a4d63",
            "2c7150772c8e4dc29bd822c41aae426b",
            "4b47a18dd203408ca342a3662baa29bb",
            "5e751199308f4767af721909893c841a"
          ]
        },
        "id": "SW7dh-jIYKWl",
        "outputId": "6c4c5cfa-fc22-40ef-99b5-58aa91f5b037"
      },
      "source": [
        "%%time\n",
        "\n",
        "sampler = optuna.samplers.TPESampler(seed=7)\n",
        "\n",
        "# Create study that minimizes\n",
        "study = optuna.create_study(direction=\"minimize\", sampler=sampler)\n",
        "\n",
        "# Pass additional arguments inside another function\n",
        "func = lambda trial: objective(trial, X, y, cv=kfolds, scoring=\"neg_mean_squared_error\")\n",
        "\n",
        "\n",
        "study.optimize(func, timeout=60*1, show_progress_bar =True)\n",
        "\n",
        "# print(f\"Base RMSE     : {rmse:.5f}\")\n",
        "print(f\"Optimized RMSE: {study.best_value:.5f}\")"
      ],
      "execution_count": null,
      "outputs": [
        {
          "output_type": "display_data",
          "data": {
            "application/vnd.jupyter.widget-view+json": {
              "model_id": "755d85df196b40bcba09f7783ad48321",
              "version_minor": 0,
              "version_major": 2
            },
            "text/plain": [
              "0it [00:00, ?it/s]"
            ]
          },
          "metadata": {}
        },
        {
          "output_type": "stream",
          "name": "stdout",
          "text": [
            "Optimized RMSE: 0.37440\n",
            "CPU times: user 720 ms, sys: 136 ms, total: 856 ms\n",
            "Wall time: 1min 4s\n"
          ]
        }
      ]
    },
    {
      "cell_type": "code",
      "metadata": {
        "colab": {
          "base_uri": "https://localhost:8080/",
          "height": 299
        },
        "id": "xYXsworPYKTj",
        "outputId": "4e9ae3ff-9b67-4147-fcc0-24a3b51bbc38"
      },
      "source": [
        "optuna.visualization.matplotlib.plot_optimization_history(study);"
      ],
      "execution_count": null,
      "outputs": [
        {
          "output_type": "display_data",
          "data": {
            "image/png": "[encoded data removed]",
            "text/plain": [
              "<Figure size 432x288 with 1 Axes>"
            ]
          },
          "metadata": {}
        }
      ]
    },
    {
      "cell_type": "code",
      "metadata": {
        "id": "OVnnSGprYKQb"
      },
      "source": [
        ""
      ],
      "execution_count": null,
      "outputs": []
    },
    {
      "cell_type": "code",
      "metadata": {
        "id": "VywFtvQkYKNd"
      },
      "source": [
        ""
      ],
      "execution_count": null,
      "outputs": []
    },
    {
      "cell_type": "code",
      "metadata": {
        "colab": {
          "base_uri": "https://localhost:8080/"
        },
        "id": "e-RFX99PYKKt",
        "outputId": "18961677-fe84-41bc-92e8-908e220bf26e"
      },
      "source": [
        "%%time\n",
        "\n",
        "gbr_params = {\n",
        "    'loss': ['huber'],\n",
        "    'learning_rate': Real(0.0001, 0.3, prior='log-uniform'),        \n",
        "    'n_estimators': Integer(25, 1500, prior='uniform'),\n",
        "    'subsample':  Real(0.6, 1., prior='uniform'),   \n",
        "    'max_depth': Integer(1, 23, prior='uniform'),\n",
        "    'min_samples_split': Real(0.00015, 0.4, prior='uniform'),\n",
        "    'min_samples_leaf': Real(0.0007, 0.03, prior='uniform'),\n",
        "    'max_features': Real(0.01, 1., prior='uniform')\n",
        "}\n",
        "\n",
        "search_gbr = skopt.BayesSearchCV(estimator=GradientBoostingRegressor(),\n",
        "                                search_spaces=gbr_params,\n",
        "                                scoring='neg_mean_squared_error',\n",
        "                                n_iter=50,\n",
        "                                cv=kfolds,\n",
        "                                random_state=11,\n",
        "                                n_jobs=2,\n",
        "                                 verbose=10\n",
        "                                )\n",
        "\n",
        "search_gbr_ = search_gbr.fit(X, y)"
      ],
      "execution_count": null,
      "outputs": [
        {
          "output_type": "stream",
          "name": "stdout",
          "text": [
            "Fitting 6 folds for each of 1 candidates, totalling 6 fits\n"
          ]
        },
        {
          "output_type": "stream",
          "name": "stderr",
          "text": [
            "[Parallel(n_jobs=2)]: Using backend LokyBackend with 2 concurrent workers.\n",
            "[Parallel(n_jobs=2)]: Done   1 tasks      | elapsed:    4.7s\n",
            "[Parallel(n_jobs=2)]: Done   4 out of   6 | elapsed:    9.5s remaining:    4.8s\n",
            "[Parallel(n_jobs=2)]: Done   6 out of   6 | elapsed:   14.2s remaining:    0.0s\n",
            "[Parallel(n_jobs=2)]: Done   6 out of   6 | elapsed:   14.2s finished\n",
            "[Parallel(n_jobs=2)]: Using backend LokyBackend with 2 concurrent workers.\n"
          ]
        },
        {
          "output_type": "stream",
          "name": "stdout",
          "text": [
            "Fitting 6 folds for each of 1 candidates, totalling 6 fits\n"
          ]
        },
        {
          "output_type": "stream",
          "name": "stderr",
          "text": [
            "[Parallel(n_jobs=2)]: Done   1 tasks      | elapsed:    6.3s\n",
            "[Parallel(n_jobs=2)]: Done   4 out of   6 | elapsed:   12.7s remaining:    6.4s\n",
            "[Parallel(n_jobs=2)]: Done   6 out of   6 | elapsed:   18.8s remaining:    0.0s\n",
            "[Parallel(n_jobs=2)]: Done   6 out of   6 | elapsed:   18.8s finished\n",
            "[Parallel(n_jobs=2)]: Using backend LokyBackend with 2 concurrent workers.\n"
          ]
        },
        {
          "output_type": "stream",
          "name": "stdout",
          "text": [
            "Fitting 6 folds for each of 1 candidates, totalling 6 fits\n"
          ]
        },
        {
          "output_type": "stream",
          "name": "stderr",
          "text": [
            "[Parallel(n_jobs=2)]: Done   1 tasks      | elapsed:    6.1s\n",
            "[Parallel(n_jobs=2)]: Done   4 out of   6 | elapsed:   12.2s remaining:    6.1s\n",
            "[Parallel(n_jobs=2)]: Done   6 out of   6 | elapsed:   18.3s remaining:    0.0s\n",
            "[Parallel(n_jobs=2)]: Done   6 out of   6 | elapsed:   18.3s finished\n",
            "[Parallel(n_jobs=2)]: Using backend LokyBackend with 2 concurrent workers.\n"
          ]
        },
        {
          "output_type": "stream",
          "name": "stdout",
          "text": [
            "Fitting 6 folds for each of 1 candidates, totalling 6 fits\n"
          ]
        },
        {
          "output_type": "stream",
          "name": "stderr",
          "text": [
            "[Parallel(n_jobs=2)]: Done   1 tasks      | elapsed:   11.9s\n",
            "[Parallel(n_jobs=2)]: Done   4 out of   6 | elapsed:   24.5s remaining:   12.3s\n",
            "[Parallel(n_jobs=2)]: Done   6 out of   6 | elapsed:   36.6s remaining:    0.0s\n",
            "[Parallel(n_jobs=2)]: Done   6 out of   6 | elapsed:   36.6s finished\n",
            "[Parallel(n_jobs=2)]: Using backend LokyBackend with 2 concurrent workers.\n"
          ]
        },
        {
          "output_type": "stream",
          "name": "stdout",
          "text": [
            "Fitting 6 folds for each of 1 candidates, totalling 6 fits\n"
          ]
        },
        {
          "output_type": "stream",
          "name": "stderr",
          "text": [
            "[Parallel(n_jobs=2)]: Done   1 tasks      | elapsed:    9.7s\n",
            "[Parallel(n_jobs=2)]: Done   4 out of   6 | elapsed:   19.9s remaining:   10.0s\n",
            "[Parallel(n_jobs=2)]: Done   6 out of   6 | elapsed:   29.6s remaining:    0.0s\n",
            "[Parallel(n_jobs=2)]: Done   6 out of   6 | elapsed:   29.6s finished\n",
            "[Parallel(n_jobs=2)]: Using backend LokyBackend with 2 concurrent workers.\n"
          ]
        },
        {
          "output_type": "stream",
          "name": "stdout",
          "text": [
            "Fitting 6 folds for each of 1 candidates, totalling 6 fits\n"
          ]
        },
        {
          "output_type": "stream",
          "name": "stderr",
          "text": [
            "[Parallel(n_jobs=2)]: Done   1 tasks      | elapsed:    6.9s\n",
            "[Parallel(n_jobs=2)]: Done   4 out of   6 | elapsed:   14.0s remaining:    7.0s\n",
            "[Parallel(n_jobs=2)]: Done   6 out of   6 | elapsed:   20.9s remaining:    0.0s\n",
            "[Parallel(n_jobs=2)]: Done   6 out of   6 | elapsed:   20.9s finished\n",
            "[Parallel(n_jobs=2)]: Using backend LokyBackend with 2 concurrent workers.\n"
          ]
        },
        {
          "output_type": "stream",
          "name": "stdout",
          "text": [
            "Fitting 6 folds for each of 1 candidates, totalling 6 fits\n"
          ]
        },
        {
          "output_type": "stream",
          "name": "stderr",
          "text": [
            "[Parallel(n_jobs=2)]: Done   1 tasks      | elapsed:   19.6s\n",
            "[Parallel(n_jobs=2)]: Done   4 out of   6 | elapsed:   39.4s remaining:   19.7s\n",
            "[Parallel(n_jobs=2)]: Done   6 out of   6 | elapsed:   59.0s remaining:    0.0s\n",
            "[Parallel(n_jobs=2)]: Done   6 out of   6 | elapsed:   59.0s finished\n",
            "[Parallel(n_jobs=2)]: Using backend LokyBackend with 2 concurrent workers.\n"
          ]
        },
        {
          "output_type": "stream",
          "name": "stdout",
          "text": [
            "Fitting 6 folds for each of 1 candidates, totalling 6 fits\n"
          ]
        },
        {
          "output_type": "stream",
          "name": "stderr",
          "text": [
            "[Parallel(n_jobs=2)]: Done   1 tasks      | elapsed:    2.9s\n",
            "[Parallel(n_jobs=2)]: Done   4 out of   6 | elapsed:    6.0s remaining:    3.0s\n",
            "[Parallel(n_jobs=2)]: Done   6 out of   6 | elapsed:    8.9s remaining:    0.0s\n",
            "[Parallel(n_jobs=2)]: Done   6 out of   6 | elapsed:    8.9s finished\n",
            "[Parallel(n_jobs=2)]: Using backend LokyBackend with 2 concurrent workers.\n"
          ]
        },
        {
          "output_type": "stream",
          "name": "stdout",
          "text": [
            "Fitting 6 folds for each of 1 candidates, totalling 6 fits\n"
          ]
        },
        {
          "output_type": "stream",
          "name": "stderr",
          "text": [
            "[Parallel(n_jobs=2)]: Done   1 tasks      | elapsed:    5.8s\n",
            "[Parallel(n_jobs=2)]: Done   4 out of   6 | elapsed:   11.5s remaining:    5.8s\n",
            "[Parallel(n_jobs=2)]: Done   6 out of   6 | elapsed:   17.3s remaining:    0.0s\n",
            "[Parallel(n_jobs=2)]: Done   6 out of   6 | elapsed:   17.3s finished\n"
          ]
        },
        {
          "output_type": "stream",
          "name": "stdout",
          "text": [
            "Fitting 6 folds for each of 1 candidates, totalling 6 fits\n"
          ]
        },
        {
          "output_type": "stream",
          "name": "stderr",
          "text": [
            "[Parallel(n_jobs=2)]: Using backend LokyBackend with 2 concurrent workers.\n",
            "[Parallel(n_jobs=2)]: Done   1 tasks      | elapsed:    2.1s\n",
            "[Parallel(n_jobs=2)]: Done   4 out of   6 | elapsed:    4.3s remaining:    2.1s\n",
            "[Parallel(n_jobs=2)]: Done   6 out of   6 | elapsed:    6.3s remaining:    0.0s\n",
            "[Parallel(n_jobs=2)]: Done   6 out of   6 | elapsed:    6.3s finished\n"
          ]
        },
        {
          "output_type": "stream",
          "name": "stdout",
          "text": [
            "Fitting 6 folds for each of 1 candidates, totalling 6 fits\n"
          ]
        },
        {
          "output_type": "stream",
          "name": "stderr",
          "text": [
            "[Parallel(n_jobs=2)]: Using backend LokyBackend with 2 concurrent workers.\n",
            "[Parallel(n_jobs=2)]: Done   1 tasks      | elapsed:   15.8s\n",
            "[Parallel(n_jobs=2)]: Done   4 out of   6 | elapsed:   31.4s remaining:   15.7s\n",
            "[Parallel(n_jobs=2)]: Done   6 out of   6 | elapsed:   47.6s remaining:    0.0s\n",
            "[Parallel(n_jobs=2)]: Done   6 out of   6 | elapsed:   47.6s finished\n"
          ]
        },
        {
          "output_type": "stream",
          "name": "stdout",
          "text": [
            "Fitting 6 folds for each of 1 candidates, totalling 6 fits\n"
          ]
        },
        {
          "output_type": "stream",
          "name": "stderr",
          "text": [
            "[Parallel(n_jobs=2)]: Using backend LokyBackend with 2 concurrent workers.\n",
            "[Parallel(n_jobs=2)]: Done   1 tasks      | elapsed:    4.5s\n",
            "[Parallel(n_jobs=2)]: Done   4 out of   6 | elapsed:    9.1s remaining:    4.5s\n",
            "[Parallel(n_jobs=2)]: Done   6 out of   6 | elapsed:   13.6s remaining:    0.0s\n",
            "[Parallel(n_jobs=2)]: Done   6 out of   6 | elapsed:   13.6s finished\n"
          ]
        },
        {
          "output_type": "stream",
          "name": "stdout",
          "text": [
            "Fitting 6 folds for each of 1 candidates, totalling 6 fits\n"
          ]
        },
        {
          "output_type": "stream",
          "name": "stderr",
          "text": [
            "[Parallel(n_jobs=2)]: Using backend LokyBackend with 2 concurrent workers.\n",
            "[Parallel(n_jobs=2)]: Done   1 tasks      | elapsed:    2.8s\n",
            "[Parallel(n_jobs=2)]: Done   4 out of   6 | elapsed:    5.6s remaining:    2.8s\n",
            "[Parallel(n_jobs=2)]: Done   6 out of   6 | elapsed:    8.4s remaining:    0.0s\n",
            "[Parallel(n_jobs=2)]: Done   6 out of   6 | elapsed:    8.4s finished\n"
          ]
        },
        {
          "output_type": "stream",
          "name": "stdout",
          "text": [
            "Fitting 6 folds for each of 1 candidates, totalling 6 fits\n"
          ]
        },
        {
          "output_type": "stream",
          "name": "stderr",
          "text": [
            "[Parallel(n_jobs=2)]: Using backend LokyBackend with 2 concurrent workers.\n",
            "[Parallel(n_jobs=2)]: Done   1 tasks      | elapsed:    0.1s\n",
            "[Parallel(n_jobs=2)]: Done   4 out of   6 | elapsed:    0.3s remaining:    0.2s\n",
            "[Parallel(n_jobs=2)]: Done   6 out of   6 | elapsed:    0.5s remaining:    0.0s\n",
            "[Parallel(n_jobs=2)]: Done   6 out of   6 | elapsed:    0.5s finished\n"
          ]
        },
        {
          "output_type": "stream",
          "name": "stdout",
          "text": [
            "Fitting 6 folds for each of 1 candidates, totalling 6 fits\n"
          ]
        },
        {
          "output_type": "stream",
          "name": "stderr",
          "text": [
            "[Parallel(n_jobs=2)]: Using backend LokyBackend with 2 concurrent workers.\n",
            "[Parallel(n_jobs=2)]: Done   1 tasks      | elapsed:    1.7s\n",
            "[Parallel(n_jobs=2)]: Done   4 out of   6 | elapsed:    3.4s remaining:    1.7s\n",
            "[Parallel(n_jobs=2)]: Done   6 out of   6 | elapsed:    5.2s remaining:    0.0s\n",
            "[Parallel(n_jobs=2)]: Done   6 out of   6 | elapsed:    5.2s finished\n"
          ]
        },
        {
          "output_type": "stream",
          "name": "stdout",
          "text": [
            "Fitting 6 folds for each of 1 candidates, totalling 6 fits\n"
          ]
        },
        {
          "output_type": "stream",
          "name": "stderr",
          "text": [
            "[Parallel(n_jobs=2)]: Using backend LokyBackend with 2 concurrent workers.\n",
            "[Parallel(n_jobs=2)]: Done   1 tasks      | elapsed:    7.5s\n",
            "[Parallel(n_jobs=2)]: Done   4 out of   6 | elapsed:   14.8s remaining:    7.4s\n",
            "[Parallel(n_jobs=2)]: Done   6 out of   6 | elapsed:   22.1s remaining:    0.0s\n",
            "[Parallel(n_jobs=2)]: Done   6 out of   6 | elapsed:   22.1s finished\n"
          ]
        },
        {
          "output_type": "stream",
          "name": "stdout",
          "text": [
            "Fitting 6 folds for each of 1 candidates, totalling 6 fits\n"
          ]
        },
        {
          "output_type": "stream",
          "name": "stderr",
          "text": [
            "[Parallel(n_jobs=2)]: Using backend LokyBackend with 2 concurrent workers.\n",
            "[Parallel(n_jobs=2)]: Done   1 tasks      | elapsed:    2.0s\n",
            "[Parallel(n_jobs=2)]: Done   4 out of   6 | elapsed:    4.1s remaining:    2.1s\n",
            "[Parallel(n_jobs=2)]: Done   6 out of   6 | elapsed:    6.2s remaining:    0.0s\n",
            "[Parallel(n_jobs=2)]: Done   6 out of   6 | elapsed:    6.2s finished\n"
          ]
        },
        {
          "output_type": "stream",
          "name": "stdout",
          "text": [
            "Fitting 6 folds for each of 1 candidates, totalling 6 fits\n"
          ]
        },
        {
          "output_type": "stream",
          "name": "stderr",
          "text": [
            "[Parallel(n_jobs=2)]: Using backend LokyBackend with 2 concurrent workers.\n",
            "[Parallel(n_jobs=2)]: Done   1 tasks      | elapsed:   20.1s\n",
            "[Parallel(n_jobs=2)]: Done   4 out of   6 | elapsed:   40.9s remaining:   20.5s\n",
            "[Parallel(n_jobs=2)]: Done   6 out of   6 | elapsed:  1.0min remaining:    0.0s\n",
            "[Parallel(n_jobs=2)]: Done   6 out of   6 | elapsed:  1.0min finished\n"
          ]
        },
        {
          "output_type": "stream",
          "name": "stdout",
          "text": [
            "Fitting 6 folds for each of 1 candidates, totalling 6 fits\n"
          ]
        },
        {
          "output_type": "stream",
          "name": "stderr",
          "text": [
            "[Parallel(n_jobs=2)]: Using backend LokyBackend with 2 concurrent workers.\n",
            "[Parallel(n_jobs=2)]: Done   1 tasks      | elapsed:    3.7s\n",
            "[Parallel(n_jobs=2)]: Done   4 out of   6 | elapsed:    7.4s remaining:    3.7s\n",
            "[Parallel(n_jobs=2)]: Done   6 out of   6 | elapsed:   11.0s remaining:    0.0s\n",
            "[Parallel(n_jobs=2)]: Done   6 out of   6 | elapsed:   11.0s finished\n"
          ]
        },
        {
          "output_type": "stream",
          "name": "stdout",
          "text": [
            "Fitting 6 folds for each of 1 candidates, totalling 6 fits\n"
          ]
        },
        {
          "output_type": "stream",
          "name": "stderr",
          "text": [
            "[Parallel(n_jobs=2)]: Using backend LokyBackend with 2 concurrent workers.\n",
            "[Parallel(n_jobs=2)]: Done   1 tasks      | elapsed:    5.5s\n",
            "[Parallel(n_jobs=2)]: Done   4 out of   6 | elapsed:   11.1s remaining:    5.6s\n",
            "[Parallel(n_jobs=2)]: Done   6 out of   6 | elapsed:   16.5s remaining:    0.0s\n",
            "[Parallel(n_jobs=2)]: Done   6 out of   6 | elapsed:   16.5s finished\n"
          ]
        },
        {
          "output_type": "stream",
          "name": "stdout",
          "text": [
            "Fitting 6 folds for each of 1 candidates, totalling 6 fits\n"
          ]
        },
        {
          "output_type": "stream",
          "name": "stderr",
          "text": [
            "[Parallel(n_jobs=2)]: Using backend LokyBackend with 2 concurrent workers.\n",
            "[Parallel(n_jobs=2)]: Done   1 tasks      | elapsed:    2.6s\n",
            "[Parallel(n_jobs=2)]: Done   4 out of   6 | elapsed:    5.2s remaining:    2.6s\n",
            "[Parallel(n_jobs=2)]: Done   6 out of   6 | elapsed:    7.7s remaining:    0.0s\n",
            "[Parallel(n_jobs=2)]: Done   6 out of   6 | elapsed:    7.7s finished\n"
          ]
        },
        {
          "output_type": "stream",
          "name": "stdout",
          "text": [
            "Fitting 6 folds for each of 1 candidates, totalling 6 fits\n"
          ]
        },
        {
          "output_type": "stream",
          "name": "stderr",
          "text": [
            "[Parallel(n_jobs=2)]: Using backend LokyBackend with 2 concurrent workers.\n",
            "[Parallel(n_jobs=2)]: Done   1 tasks      | elapsed:   11.0s\n",
            "[Parallel(n_jobs=2)]: Done   4 out of   6 | elapsed:   22.2s remaining:   11.1s\n",
            "[Parallel(n_jobs=2)]: Done   6 out of   6 | elapsed:   33.1s remaining:    0.0s\n",
            "[Parallel(n_jobs=2)]: Done   6 out of   6 | elapsed:   33.1s finished\n"
          ]
        },
        {
          "output_type": "stream",
          "name": "stdout",
          "text": [
            "Fitting 6 folds for each of 1 candidates, totalling 6 fits\n"
          ]
        },
        {
          "output_type": "stream",
          "name": "stderr",
          "text": [
            "[Parallel(n_jobs=2)]: Using backend LokyBackend with 2 concurrent workers.\n",
            "[Parallel(n_jobs=2)]: Done   1 tasks      | elapsed:    2.7s\n",
            "[Parallel(n_jobs=2)]: Done   4 out of   6 | elapsed:    5.5s remaining:    2.7s\n",
            "[Parallel(n_jobs=2)]: Done   6 out of   6 | elapsed:    8.1s remaining:    0.0s\n",
            "[Parallel(n_jobs=2)]: Done   6 out of   6 | elapsed:    8.1s finished\n"
          ]
        },
        {
          "output_type": "stream",
          "name": "stdout",
          "text": [
            "Fitting 6 folds for each of 1 candidates, totalling 6 fits\n"
          ]
        },
        {
          "output_type": "stream",
          "name": "stderr",
          "text": [
            "[Parallel(n_jobs=2)]: Using backend LokyBackend with 2 concurrent workers.\n",
            "[Parallel(n_jobs=2)]: Done   1 tasks      | elapsed:    4.0s\n",
            "[Parallel(n_jobs=2)]: Done   4 out of   6 | elapsed:    8.0s remaining:    4.0s\n",
            "[Parallel(n_jobs=2)]: Done   6 out of   6 | elapsed:   12.1s remaining:    0.0s\n",
            "[Parallel(n_jobs=2)]: Done   6 out of   6 | elapsed:   12.1s finished\n"
          ]
        },
        {
          "output_type": "stream",
          "name": "stdout",
          "text": [
            "Fitting 6 folds for each of 1 candidates, totalling 6 fits\n"
          ]
        },
        {
          "output_type": "stream",
          "name": "stderr",
          "text": [
            "[Parallel(n_jobs=2)]: Using backend LokyBackend with 2 concurrent workers.\n",
            "[Parallel(n_jobs=2)]: Done   1 tasks      | elapsed:    0.4s\n",
            "[Parallel(n_jobs=2)]: Done   4 out of   6 | elapsed:    1.0s remaining:    0.5s\n",
            "[Parallel(n_jobs=2)]: Done   6 out of   6 | elapsed:    1.4s remaining:    0.0s\n",
            "[Parallel(n_jobs=2)]: Done   6 out of   6 | elapsed:    1.4s finished\n"
          ]
        },
        {
          "output_type": "stream",
          "name": "stdout",
          "text": [
            "Fitting 6 folds for each of 1 candidates, totalling 6 fits\n"
          ]
        },
        {
          "output_type": "stream",
          "name": "stderr",
          "text": [
            "[Parallel(n_jobs=2)]: Using backend LokyBackend with 2 concurrent workers.\n",
            "[Parallel(n_jobs=2)]: Done   1 tasks      | elapsed:    6.8s\n",
            "[Parallel(n_jobs=2)]: Done   4 out of   6 | elapsed:   13.6s remaining:    6.8s\n",
            "[Parallel(n_jobs=2)]: Done   6 out of   6 | elapsed:   20.3s remaining:    0.0s\n",
            "[Parallel(n_jobs=2)]: Done   6 out of   6 | elapsed:   20.3s finished\n"
          ]
        },
        {
          "output_type": "stream",
          "name": "stdout",
          "text": [
            "Fitting 6 folds for each of 1 candidates, totalling 6 fits\n"
          ]
        },
        {
          "output_type": "stream",
          "name": "stderr",
          "text": [
            "[Parallel(n_jobs=2)]: Using backend LokyBackend with 2 concurrent workers.\n",
            "[Parallel(n_jobs=2)]: Done   1 tasks      | elapsed:    2.5s\n",
            "[Parallel(n_jobs=2)]: Done   4 out of   6 | elapsed:    5.2s remaining:    2.6s\n",
            "[Parallel(n_jobs=2)]: Done   6 out of   6 | elapsed:    7.6s remaining:    0.0s\n",
            "[Parallel(n_jobs=2)]: Done   6 out of   6 | elapsed:    7.6s finished\n"
          ]
        },
        {
          "output_type": "stream",
          "name": "stdout",
          "text": [
            "Fitting 6 folds for each of 1 candidates, totalling 6 fits\n"
          ]
        },
        {
          "output_type": "stream",
          "name": "stderr",
          "text": [
            "[Parallel(n_jobs=2)]: Using backend LokyBackend with 2 concurrent workers.\n",
            "[Parallel(n_jobs=2)]: Done   1 tasks      | elapsed:    1.6s\n",
            "[Parallel(n_jobs=2)]: Done   4 out of   6 | elapsed:    3.3s remaining:    1.6s\n",
            "[Parallel(n_jobs=2)]: Done   6 out of   6 | elapsed:    4.8s remaining:    0.0s\n",
            "[Parallel(n_jobs=2)]: Done   6 out of   6 | elapsed:    4.8s finished\n"
          ]
        },
        {
          "output_type": "stream",
          "name": "stdout",
          "text": [
            "Fitting 6 folds for each of 1 candidates, totalling 6 fits\n"
          ]
        },
        {
          "output_type": "stream",
          "name": "stderr",
          "text": [
            "[Parallel(n_jobs=2)]: Using backend LokyBackend with 2 concurrent workers.\n",
            "[Parallel(n_jobs=2)]: Done   1 tasks      | elapsed:    5.4s\n",
            "[Parallel(n_jobs=2)]: Done   4 out of   6 | elapsed:   11.0s remaining:    5.5s\n",
            "[Parallel(n_jobs=2)]: Done   6 out of   6 | elapsed:   16.5s remaining:    0.0s\n",
            "[Parallel(n_jobs=2)]: Done   6 out of   6 | elapsed:   16.5s finished\n"
          ]
        },
        {
          "output_type": "stream",
          "name": "stdout",
          "text": [
            "Fitting 6 folds for each of 1 candidates, totalling 6 fits\n"
          ]
        },
        {
          "output_type": "stream",
          "name": "stderr",
          "text": [
            "[Parallel(n_jobs=2)]: Using backend LokyBackend with 2 concurrent workers.\n",
            "[Parallel(n_jobs=2)]: Done   1 tasks      | elapsed:    8.5s\n",
            "[Parallel(n_jobs=2)]: Done   4 out of   6 | elapsed:   16.8s remaining:    8.4s\n",
            "[Parallel(n_jobs=2)]: Done   6 out of   6 | elapsed:   25.1s remaining:    0.0s\n",
            "[Parallel(n_jobs=2)]: Done   6 out of   6 | elapsed:   25.1s finished\n"
          ]
        },
        {
          "output_type": "stream",
          "name": "stdout",
          "text": [
            "Fitting 6 folds for each of 1 candidates, totalling 6 fits\n"
          ]
        },
        {
          "output_type": "stream",
          "name": "stderr",
          "text": [
            "[Parallel(n_jobs=2)]: Using backend LokyBackend with 2 concurrent workers.\n",
            "[Parallel(n_jobs=2)]: Done   1 tasks      | elapsed:    4.5s\n",
            "[Parallel(n_jobs=2)]: Done   4 out of   6 | elapsed:    9.1s remaining:    4.5s\n",
            "[Parallel(n_jobs=2)]: Done   6 out of   6 | elapsed:   13.6s remaining:    0.0s\n",
            "[Parallel(n_jobs=2)]: Done   6 out of   6 | elapsed:   13.6s finished\n"
          ]
        },
        {
          "output_type": "stream",
          "name": "stdout",
          "text": [
            "Fitting 6 folds for each of 1 candidates, totalling 6 fits\n"
          ]
        },
        {
          "output_type": "stream",
          "name": "stderr",
          "text": [
            "[Parallel(n_jobs=2)]: Using backend LokyBackend with 2 concurrent workers.\n",
            "[Parallel(n_jobs=2)]: Done   1 tasks      | elapsed:    5.1s\n",
            "[Parallel(n_jobs=2)]: Done   4 out of   6 | elapsed:   10.1s remaining:    5.0s\n",
            "[Parallel(n_jobs=2)]: Done   6 out of   6 | elapsed:   15.0s remaining:    0.0s\n",
            "[Parallel(n_jobs=2)]: Done   6 out of   6 | elapsed:   15.0s finished\n"
          ]
        },
        {
          "output_type": "stream",
          "name": "stdout",
          "text": [
            "Fitting 6 folds for each of 1 candidates, totalling 6 fits\n"
          ]
        },
        {
          "output_type": "stream",
          "name": "stderr",
          "text": [
            "[Parallel(n_jobs=2)]: Using backend LokyBackend with 2 concurrent workers.\n",
            "[Parallel(n_jobs=2)]: Done   1 tasks      | elapsed:   18.9s\n",
            "[Parallel(n_jobs=2)]: Done   4 out of   6 | elapsed:   38.0s remaining:   19.0s\n",
            "[Parallel(n_jobs=2)]: Done   6 out of   6 | elapsed:   56.4s remaining:    0.0s\n",
            "[Parallel(n_jobs=2)]: Done   6 out of   6 | elapsed:   56.4s finished\n"
          ]
        },
        {
          "output_type": "stream",
          "name": "stdout",
          "text": [
            "Fitting 6 folds for each of 1 candidates, totalling 6 fits\n"
          ]
        },
        {
          "output_type": "stream",
          "name": "stderr",
          "text": [
            "[Parallel(n_jobs=2)]: Using backend LokyBackend with 2 concurrent workers.\n",
            "[Parallel(n_jobs=2)]: Done   1 tasks      | elapsed:   10.3s\n",
            "[Parallel(n_jobs=2)]: Done   4 out of   6 | elapsed:   20.6s remaining:   10.3s\n",
            "[Parallel(n_jobs=2)]: Done   6 out of   6 | elapsed:   30.8s remaining:    0.0s\n",
            "[Parallel(n_jobs=2)]: Done   6 out of   6 | elapsed:   30.8s finished\n"
          ]
        },
        {
          "output_type": "stream",
          "name": "stdout",
          "text": [
            "Fitting 6 folds for each of 1 candidates, totalling 6 fits\n"
          ]
        },
        {
          "output_type": "stream",
          "name": "stderr",
          "text": [
            "[Parallel(n_jobs=2)]: Using backend LokyBackend with 2 concurrent workers.\n",
            "[Parallel(n_jobs=2)]: Done   1 tasks      | elapsed:    0.1s\n",
            "[Parallel(n_jobs=2)]: Done   4 out of   6 | elapsed:    0.3s remaining:    0.2s\n",
            "[Parallel(n_jobs=2)]: Done   6 out of   6 | elapsed:    0.5s remaining:    0.0s\n",
            "[Parallel(n_jobs=2)]: Done   6 out of   6 | elapsed:    0.5s finished\n"
          ]
        },
        {
          "output_type": "stream",
          "name": "stdout",
          "text": [
            "Fitting 6 folds for each of 1 candidates, totalling 6 fits\n"
          ]
        },
        {
          "output_type": "stream",
          "name": "stderr",
          "text": [
            "[Parallel(n_jobs=2)]: Using backend LokyBackend with 2 concurrent workers.\n",
            "[Parallel(n_jobs=2)]: Done   1 tasks      | elapsed:    7.5s\n",
            "[Parallel(n_jobs=2)]: Done   4 out of   6 | elapsed:   14.9s remaining:    7.4s\n",
            "[Parallel(n_jobs=2)]: Done   6 out of   6 | elapsed:   22.3s remaining:    0.0s\n",
            "[Parallel(n_jobs=2)]: Done   6 out of   6 | elapsed:   22.3s finished\n"
          ]
        },
        {
          "output_type": "stream",
          "name": "stdout",
          "text": [
            "Fitting 6 folds for each of 1 candidates, totalling 6 fits\n"
          ]
        },
        {
          "output_type": "stream",
          "name": "stderr",
          "text": [
            "[Parallel(n_jobs=2)]: Using backend LokyBackend with 2 concurrent workers.\n",
            "[Parallel(n_jobs=2)]: Done   1 tasks      | elapsed:    4.2s\n",
            "[Parallel(n_jobs=2)]: Done   4 out of   6 | elapsed:    8.5s remaining:    4.2s\n",
            "[Parallel(n_jobs=2)]: Done   6 out of   6 | elapsed:   12.7s remaining:    0.0s\n",
            "[Parallel(n_jobs=2)]: Done   6 out of   6 | elapsed:   12.7s finished\n"
          ]
        },
        {
          "output_type": "stream",
          "name": "stdout",
          "text": [
            "Fitting 6 folds for each of 1 candidates, totalling 6 fits\n"
          ]
        },
        {
          "output_type": "stream",
          "name": "stderr",
          "text": [
            "[Parallel(n_jobs=2)]: Using backend LokyBackend with 2 concurrent workers.\n",
            "[Parallel(n_jobs=2)]: Done   1 tasks      | elapsed:   38.3s\n",
            "[Parallel(n_jobs=2)]: Done   4 out of   6 | elapsed:  1.3min remaining:   38.3s\n",
            "[Parallel(n_jobs=2)]: Done   6 out of   6 | elapsed:  1.9min remaining:    0.0s\n",
            "[Parallel(n_jobs=2)]: Done   6 out of   6 | elapsed:  1.9min finished\n"
          ]
        },
        {
          "output_type": "stream",
          "name": "stdout",
          "text": [
            "Fitting 6 folds for each of 1 candidates, totalling 6 fits\n"
          ]
        },
        {
          "output_type": "stream",
          "name": "stderr",
          "text": [
            "[Parallel(n_jobs=2)]: Using backend LokyBackend with 2 concurrent workers.\n",
            "[Parallel(n_jobs=2)]: Done   1 tasks      | elapsed:    3.8s\n",
            "[Parallel(n_jobs=2)]: Done   4 out of   6 | elapsed:    7.6s remaining:    3.8s\n",
            "[Parallel(n_jobs=2)]: Done   6 out of   6 | elapsed:   11.4s remaining:    0.0s\n",
            "[Parallel(n_jobs=2)]: Done   6 out of   6 | elapsed:   11.4s finished\n"
          ]
        },
        {
          "output_type": "stream",
          "name": "stdout",
          "text": [
            "Fitting 6 folds for each of 1 candidates, totalling 6 fits\n"
          ]
        },
        {
          "output_type": "stream",
          "name": "stderr",
          "text": [
            "[Parallel(n_jobs=2)]: Using backend LokyBackend with 2 concurrent workers.\n",
            "[Parallel(n_jobs=2)]: Done   1 tasks      | elapsed:    2.4s\n",
            "[Parallel(n_jobs=2)]: Done   4 out of   6 | elapsed:    4.8s remaining:    2.4s\n",
            "[Parallel(n_jobs=2)]: Done   6 out of   6 | elapsed:    7.2s remaining:    0.0s\n",
            "[Parallel(n_jobs=2)]: Done   6 out of   6 | elapsed:    7.2s finished\n"
          ]
        },
        {
          "output_type": "stream",
          "name": "stdout",
          "text": [
            "Fitting 6 folds for each of 1 candidates, totalling 6 fits\n"
          ]
        },
        {
          "output_type": "stream",
          "name": "stderr",
          "text": [
            "[Parallel(n_jobs=2)]: Using backend LokyBackend with 2 concurrent workers.\n",
            "[Parallel(n_jobs=2)]: Done   1 tasks      | elapsed:   35.4s\n",
            "[Parallel(n_jobs=2)]: Done   4 out of   6 | elapsed:  1.2min remaining:   36.3s\n",
            "[Parallel(n_jobs=2)]: Done   6 out of   6 | elapsed:  1.8min remaining:    0.0s\n",
            "[Parallel(n_jobs=2)]: Done   6 out of   6 | elapsed:  1.8min finished\n"
          ]
        },
        {
          "output_type": "stream",
          "name": "stdout",
          "text": [
            "Fitting 6 folds for each of 1 candidates, totalling 6 fits\n"
          ]
        },
        {
          "output_type": "stream",
          "name": "stderr",
          "text": [
            "[Parallel(n_jobs=2)]: Using backend LokyBackend with 2 concurrent workers.\n",
            "[Parallel(n_jobs=2)]: Done   1 tasks      | elapsed:    8.5s\n",
            "[Parallel(n_jobs=2)]: Done   4 out of   6 | elapsed:   17.1s remaining:    8.6s\n",
            "[Parallel(n_jobs=2)]: Done   6 out of   6 | elapsed:   25.6s remaining:    0.0s\n",
            "[Parallel(n_jobs=2)]: Done   6 out of   6 | elapsed:   25.6s finished\n"
          ]
        },
        {
          "output_type": "stream",
          "name": "stdout",
          "text": [
            "Fitting 6 folds for each of 1 candidates, totalling 6 fits\n"
          ]
        },
        {
          "output_type": "stream",
          "name": "stderr",
          "text": [
            "[Parallel(n_jobs=2)]: Using backend LokyBackend with 2 concurrent workers.\n",
            "[Parallel(n_jobs=2)]: Done   1 tasks      | elapsed:    2.9s\n",
            "[Parallel(n_jobs=2)]: Done   4 out of   6 | elapsed:    5.9s remaining:    2.9s\n",
            "[Parallel(n_jobs=2)]: Done   6 out of   6 | elapsed:    8.8s remaining:    0.0s\n",
            "[Parallel(n_jobs=2)]: Done   6 out of   6 | elapsed:    8.8s finished\n"
          ]
        },
        {
          "output_type": "stream",
          "name": "stdout",
          "text": [
            "Fitting 6 folds for each of 1 candidates, totalling 6 fits\n"
          ]
        },
        {
          "output_type": "stream",
          "name": "stderr",
          "text": [
            "[Parallel(n_jobs=2)]: Using backend LokyBackend with 2 concurrent workers.\n",
            "[Parallel(n_jobs=2)]: Done   1 tasks      | elapsed:  1.9min\n",
            "[Parallel(n_jobs=2)]: Done   4 out of   6 | elapsed:  3.8min remaining:  1.9min\n",
            "[Parallel(n_jobs=2)]: Done   6 out of   6 | elapsed:  5.7min remaining:    0.0s\n",
            "[Parallel(n_jobs=2)]: Done   6 out of   6 | elapsed:  5.7min finished\n"
          ]
        },
        {
          "output_type": "stream",
          "name": "stdout",
          "text": [
            "Fitting 6 folds for each of 1 candidates, totalling 6 fits\n"
          ]
        },
        {
          "output_type": "stream",
          "name": "stderr",
          "text": [
            "[Parallel(n_jobs=2)]: Using backend LokyBackend with 2 concurrent workers.\n",
            "[Parallel(n_jobs=2)]: Done   1 tasks      | elapsed:    3.2s\n",
            "[Parallel(n_jobs=2)]: Done   4 out of   6 | elapsed:    6.5s remaining:    3.2s\n",
            "[Parallel(n_jobs=2)]: Done   6 out of   6 | elapsed:    9.6s remaining:    0.0s\n",
            "[Parallel(n_jobs=2)]: Done   6 out of   6 | elapsed:    9.6s finished\n"
          ]
        },
        {
          "output_type": "stream",
          "name": "stdout",
          "text": [
            "Fitting 6 folds for each of 1 candidates, totalling 6 fits\n"
          ]
        },
        {
          "output_type": "stream",
          "name": "stderr",
          "text": [
            "[Parallel(n_jobs=2)]: Using backend LokyBackend with 2 concurrent workers.\n",
            "[Parallel(n_jobs=2)]: Done   1 tasks      | elapsed:    3.6s\n",
            "[Parallel(n_jobs=2)]: Done   4 out of   6 | elapsed:    7.3s remaining:    3.7s\n",
            "[Parallel(n_jobs=2)]: Done   6 out of   6 | elapsed:   10.9s remaining:    0.0s\n",
            "[Parallel(n_jobs=2)]: Done   6 out of   6 | elapsed:   10.9s finished\n"
          ]
        },
        {
          "output_type": "stream",
          "name": "stdout",
          "text": [
            "Fitting 6 folds for each of 1 candidates, totalling 6 fits\n"
          ]
        },
        {
          "output_type": "stream",
          "name": "stderr",
          "text": [
            "[Parallel(n_jobs=2)]: Using backend LokyBackend with 2 concurrent workers.\n",
            "[Parallel(n_jobs=2)]: Done   1 tasks      | elapsed:    3.9s\n",
            "[Parallel(n_jobs=2)]: Done   4 out of   6 | elapsed:    7.7s remaining:    3.8s\n",
            "[Parallel(n_jobs=2)]: Done   6 out of   6 | elapsed:   11.5s remaining:    0.0s\n",
            "[Parallel(n_jobs=2)]: Done   6 out of   6 | elapsed:   11.5s finished\n"
          ]
        },
        {
          "output_type": "stream",
          "name": "stdout",
          "text": [
            "Fitting 6 folds for each of 1 candidates, totalling 6 fits\n"
          ]
        },
        {
          "output_type": "stream",
          "name": "stderr",
          "text": [
            "[Parallel(n_jobs=2)]: Using backend LokyBackend with 2 concurrent workers.\n",
            "[Parallel(n_jobs=2)]: Done   1 tasks      | elapsed:    4.4s\n",
            "[Parallel(n_jobs=2)]: Done   4 out of   6 | elapsed:    8.8s remaining:    4.4s\n",
            "[Parallel(n_jobs=2)]: Done   6 out of   6 | elapsed:   13.2s remaining:    0.0s\n",
            "[Parallel(n_jobs=2)]: Done   6 out of   6 | elapsed:   13.2s finished\n"
          ]
        },
        {
          "output_type": "stream",
          "name": "stdout",
          "text": [
            "Fitting 6 folds for each of 1 candidates, totalling 6 fits\n"
          ]
        },
        {
          "output_type": "stream",
          "name": "stderr",
          "text": [
            "[Parallel(n_jobs=2)]: Using backend LokyBackend with 2 concurrent workers.\n",
            "[Parallel(n_jobs=2)]: Done   1 tasks      | elapsed:    7.9s\n",
            "[Parallel(n_jobs=2)]: Done   4 out of   6 | elapsed:   15.7s remaining:    7.8s\n",
            "[Parallel(n_jobs=2)]: Done   6 out of   6 | elapsed:   23.4s remaining:    0.0s\n",
            "[Parallel(n_jobs=2)]: Done   6 out of   6 | elapsed:   23.4s finished\n"
          ]
        },
        {
          "output_type": "stream",
          "name": "stdout",
          "text": [
            "Fitting 6 folds for each of 1 candidates, totalling 6 fits\n"
          ]
        },
        {
          "output_type": "stream",
          "name": "stderr",
          "text": [
            "[Parallel(n_jobs=2)]: Using backend LokyBackend with 2 concurrent workers.\n",
            "[Parallel(n_jobs=2)]: Done   1 tasks      | elapsed:    3.1s\n",
            "[Parallel(n_jobs=2)]: Done   4 out of   6 | elapsed:    6.3s remaining:    3.1s\n",
            "[Parallel(n_jobs=2)]: Done   6 out of   6 | elapsed:    9.4s remaining:    0.0s\n",
            "[Parallel(n_jobs=2)]: Done   6 out of   6 | elapsed:    9.4s finished\n"
          ]
        },
        {
          "output_type": "stream",
          "name": "stdout",
          "text": [
            "CPU times: user 2min 44s, sys: 1min 20s, total: 4min 4s\n",
            "Wall time: 25min 55s\n"
          ]
        }
      ]
    },
    {
      "cell_type": "code",
      "metadata": {
        "colab": {
          "base_uri": "https://localhost:8080/"
        },
        "id": "JTbFlFlJbKt8",
        "outputId": "9226d016-be41-40a9-f4ec-752a9c4ec0f2"
      },
      "source": [
        "-search_gbr.best_score_, np.sqrt(-search_gbr.best_score_)"
      ],
      "execution_count": null,
      "outputs": [
        {
          "output_type": "execute_result",
          "data": {
            "text/plain": [
              "(0.09234960135226733, 0.3038907720748811)"
            ]
          },
          "metadata": {},
          "execution_count": 35
        }
      ]
    },
    {
      "cell_type": "code",
      "metadata": {
        "colab": {
          "base_uri": "https://localhost:8080/"
        },
        "id": "sAjDoHNGbKp4",
        "outputId": "94c6d92d-e1da-496c-c3f8-f5f491f62be6"
      },
      "source": [
        "dict(search_gbr.best_params_)"
      ],
      "execution_count": null,
      "outputs": [
        {
          "output_type": "execute_result",
          "data": {
            "text/plain": [
              "{'learning_rate': 0.0237561655340257,\n",
              " 'loss': 'huber',\n",
              " 'max_depth': 4,\n",
              " 'max_features': 0.2961866687064254,\n",
              " 'min_samples_leaf': 0.025738496329078393,\n",
              " 'min_samples_split': 0.316902177562381,\n",
              " 'n_estimators': 1031,\n",
              " 'subsample': 0.7488889453990157}"
            ]
          },
          "metadata": {},
          "execution_count": 36
        }
      ]
    },
    {
      "cell_type": "code",
      "metadata": {
        "colab": {
          "base_uri": "https://localhost:8080/"
        },
        "id": "73jrhJSebKnN",
        "outputId": "8c966f4c-9ff7-42d3-e8f9-698df11635fb"
      },
      "source": [
        "params_gbr = {\n",
        "  'learning_rate': 0.0237561655340257,\n",
        " 'loss': 'huber',\n",
        " 'max_depth': 4,\n",
        " 'max_features': 0.2961866687064254,\n",
        " 'min_samples_leaf': 0.025738496329078393,\n",
        " 'min_samples_split': 0.316902177562381,\n",
        " 'n_estimators': 1031,\n",
        " 'subsample': 0.7488889453990157\n",
        "}\n",
        "\n",
        "tuned_gbr_booster = GradientBoostingRegressor(**params_gbr)\n",
        "\n",
        "rmse_tuned_gbr_booster, mae_tuned_gbr_booster, r2_tuned_gbr_booster = cv_rmse(tuned_gbr_booster, X, y)\n",
        "display_cv_scores(rmse_tuned_gbr_booster, mae_tuned_gbr_booster, r2_tuned_gbr_booster)"
      ],
      "execution_count": null,
      "outputs": [
        {
          "output_type": "stream",
          "name": "stdout",
          "text": [
            "RMSE CV: [0.29899641 0.27864847 0.32711591 0.30742636 0.32340863 0.30256528]  Mean RMSE: 0.3063602 Std RMSE: 0.0161201\n",
            "MAE CV: [0.21546347 0.20274966 0.21724545 0.21115508 0.21616147 0.20457792]  Mean MAE: 0.2112255 Std MAE: 0.005695\n",
            "R2 CV: [0.89589935 0.92896019 0.89088054 0.90414136 0.90467087 0.90231536]  Mean R2: 0.9044779 Std R2: 0.0119909\n"
          ]
        }
      ]
    },
    {
      "cell_type": "code",
      "metadata": {
        "id": "aVRH2wi-bKj_"
      },
      "source": [
        ""
      ],
      "execution_count": null,
      "outputs": []
    },
    {
      "cell_type": "code",
      "metadata": {
        "id": "rHV5KcSEbKgF"
      },
      "source": [
        ""
      ],
      "execution_count": null,
      "outputs": []
    },
    {
      "cell_type": "code",
      "metadata": {
        "id": "wtrv75UpbKc7"
      },
      "source": [
        ""
      ],
      "execution_count": null,
      "outputs": []
    },
    {
      "cell_type": "code",
      "metadata": {
        "colab": {
          "base_uri": "https://localhost:8080/"
        },
        "id": "C6W4Wz8CYKEn",
        "outputId": "5b850f9f-7c02-4e1b-ea4b-26c16a5e4abf"
      },
      "source": [
        "import multiprocessing\n",
        "\n",
        "cores = multiprocessing.cpu_count() # Count the number of cores in a computer\n",
        "cores"
      ],
      "execution_count": null,
      "outputs": [
        {
          "output_type": "execute_result",
          "data": {
            "text/plain": [
              "2"
            ]
          },
          "metadata": {},
          "execution_count": 21
        }
      ]
    },
    {
      "cell_type": "code",
      "metadata": {
        "id": "4Unq_jwtYKBf"
      },
      "source": [
        ""
      ],
      "execution_count": null,
      "outputs": []
    },
    {
      "cell_type": "code",
      "metadata": {
        "id": "bd4HNsAyYJ-o"
      },
      "source": [
        ""
      ],
      "execution_count": null,
      "outputs": []
    },
    {
      "cell_type": "code",
      "metadata": {
        "id": "GEBaGXBBYJ7n"
      },
      "source": [
        ""
      ],
      "execution_count": null,
      "outputs": []
    },
    {
      "cell_type": "code",
      "metadata": {
        "id": "mR_I1G_MYJ4y"
      },
      "source": [
        ""
      ],
      "execution_count": null,
      "outputs": []
    },
    {
      "cell_type": "code",
      "metadata": {
        "id": "Trm9H2QCX-KG"
      },
      "source": [
        ""
      ],
      "execution_count": null,
      "outputs": []
    },
    {
      "cell_type": "code",
      "metadata": {
        "id": "g717_XJzX-Ho"
      },
      "source": [
        ""
      ],
      "execution_count": null,
      "outputs": []
    },
    {
      "cell_type": "code",
      "metadata": {
        "id": "-ylKMxL_X-Fk"
      },
      "source": [
        ""
      ],
      "execution_count": null,
      "outputs": []
    },
    {
      "cell_type": "code",
      "metadata": {
        "id": "jKY4z2ETX-De"
      },
      "source": [
        ""
      ],
      "execution_count": null,
      "outputs": []
    },
    {
      "cell_type": "code",
      "metadata": {
        "id": "hHhVwVKqX-BH"
      },
      "source": [
        ""
      ],
      "execution_count": null,
      "outputs": []
    },
    {
      "cell_type": "code",
      "metadata": {
        "id": "mXJ6KF6mX9-s"
      },
      "source": [
        ""
      ],
      "execution_count": null,
      "outputs": []
    },
    {
      "cell_type": "code",
      "metadata": {
        "id": "dKKPzRq4X98k"
      },
      "source": [
        ""
      ],
      "execution_count": null,
      "outputs": []
    },
    {
      "cell_type": "code",
      "metadata": {
        "id": "9FgTXKicX96e"
      },
      "source": [
        ""
      ],
      "execution_count": null,
      "outputs": []
    },
    {
      "cell_type": "code",
      "metadata": {
        "id": "qzk7DXFqX93n"
      },
      "source": [
        ""
      ],
      "execution_count": null,
      "outputs": []
    },
    {
      "cell_type": "code",
      "metadata": {
        "id": "9on_P3UtX90B"
      },
      "source": [
        ""
      ],
      "execution_count": null,
      "outputs": []
    },
    {
      "cell_type": "code",
      "metadata": {
        "id": "cPNmw-09X9xO"
      },
      "source": [
        ""
      ],
      "execution_count": null,
      "outputs": []
    },
    {
      "cell_type": "code",
      "metadata": {
        "id": "Y05WjaD9X9uQ"
      },
      "source": [
        ""
      ],
      "execution_count": null,
      "outputs": []
    },
    {
      "cell_type": "code",
      "metadata": {
        "id": "AQVwR47XX9qI"
      },
      "source": [
        ""
      ],
      "execution_count": null,
      "outputs": []
    },
    {
      "cell_type": "code",
      "metadata": {
        "id": "ne8yULk3X8fH"
      },
      "source": [
        ""
      ],
      "execution_count": null,
      "outputs": []
    }
  ]
}