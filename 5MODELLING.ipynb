{
 "cells": [
  {
   "cell_type": "code",
   "execution_count": 1,
   "id": "54c384f8",
   "metadata": {},
   "outputs": [],
   "source": [
    "import pandas as pd\n",
    "import numpy as np\n",
    "\n",
    "import matplotlib.pyplot as plt\n",
    "import seaborn as sns\n",
    "# import plotly\n",
    "\n",
    "import xgboost as xgb\n",
    "import lightgbm as lgb\n",
    "from sklearn.ensemble import GradientBoostingRegressor, VotingRegressor\n",
    "\n",
    "from sklearn.model_selection import train_test_split, RandomizedSearchCV, GridSearchCV, KFold, cross_val_score, cross_validate\n",
    "from sklearn.preprocessing import RobustScaler, StandardScaler, MinMaxScaler, PolynomialFeatures\n",
    "from sklearn.linear_model import LinearRegression, Lasso, LassoCV, Ridge, RidgeCV, ElasticNet, ElasticNetCV\n",
    "from sklearn.svm import SVR\n",
    "from sklearn.metrics import r2_score, mean_absolute_error, mean_squared_error\n",
    "from sklearn.pipeline import Pipeline, make_pipeline\n",
    "\n",
    "from mlxtend.regressor import StackingCVRegressor\n",
    "\n",
    "import skopt\n",
    "from skopt.space import Real, Categorical, Integer\n",
    "from skopt.callbacks import EarlyStopper, DeltaYStopper\n",
    "\n",
    "import optuna\n",
    "from optuna.visualization import plot_intermediate_values\n",
    "\n",
    "\n",
    "import warnings\n",
    "warnings.filterwarnings('ignore')\n",
    "\n",
    "import time\n",
    "%matplotlib inline"
   ]
  },
  {
   "cell_type": "code",
   "execution_count": null,
   "id": "f6d310d4",
   "metadata": {},
   "outputs": [],
   "source": []
  },
  {
   "cell_type": "code",
   "execution_count": 2,
   "id": "f3441fe8",
   "metadata": {},
   "outputs": [],
   "source": [
    "df_ = pd.read_csv('./data/train_df_step1.csv', index_col='Id')\n",
    "df_t_= pd.read_csv('./data/test_df_step1.csv', index_col='Id')\n"
   ]
  },
  {
   "cell_type": "code",
   "execution_count": 3,
   "id": "1abd5a21",
   "metadata": {},
   "outputs": [],
   "source": [
    "# np.exp(df_['SalePrice_log'])"
   ]
  },
  {
   "cell_type": "code",
   "execution_count": 4,
   "id": "d05124d1",
   "metadata": {},
   "outputs": [
    {
     "data": {
      "text/plain": [
       "((1252, 87), (1459, 86))"
      ]
     },
     "execution_count": 4,
     "metadata": {},
     "output_type": "execute_result"
    }
   ],
   "source": [
    "df_.shape, df_t_.shape"
   ]
  },
  {
   "cell_type": "code",
   "execution_count": 5,
   "id": "3b4b6a12",
   "metadata": {},
   "outputs": [
    {
     "data": {
      "text/plain": [
       "0"
      ]
     },
     "execution_count": 5,
     "metadata": {},
     "output_type": "execute_result"
    }
   ],
   "source": [
    "df_t_.isna().sum().sum()"
   ]
  },
  {
   "cell_type": "code",
   "execution_count": null,
   "id": "91b89d49",
   "metadata": {},
   "outputs": [],
   "source": []
  },
  {
   "cell_type": "code",
   "execution_count": null,
   "id": "2a228c9f",
   "metadata": {},
   "outputs": [],
   "source": []
  },
  {
   "cell_type": "code",
   "execution_count": null,
   "id": "89ae77c6",
   "metadata": {},
   "outputs": [],
   "source": []
  },
  {
   "cell_type": "code",
   "execution_count": 6,
   "id": "a6a3038d",
   "metadata": {},
   "outputs": [],
   "source": [
    "nominal = ['MSZoning', 'LandContour', 'LotConfig', 'Neighborhood',\n",
    "       'Condition1', 'Condition2', 'BldgType', 'HouseStyle', 'RoofStyle',\n",
    "       'RoofMatl', 'Exterior1st', 'Exterior2nd', 'MasVnrType',\n",
    "       'Foundation', 'Heating', 'Electrical', 'Functional',\n",
    "       'GarageType', 'SaleType', 'SaleCondition',\n",
    "       'Street', 'CentralAir', 'RenovatedY/N', '2ndFloorY/N', 'PorchY/N',\n",
    "       'BsmtFinSF2_cat', 'LowQualFinSF_cat', 'EnclosedPorch_cat',\n",
    "       '3SsnPorch_cat', 'ScreenPorch_cat', 'MiscVal_cat', 'PoolArea_cat']\n",
    "\n",
    "ordinal = ['MSSubClass', 'LotShape', 'LandSlope', 'OverallQual',\n",
    "       'OverallCond', 'ExterQual', 'ExterCond', 'BsmtQual', 'BsmtCond',\n",
    "       'BsmtExposure', 'BsmtFinType1', 'BsmtFinType2', 'HeatingQC',\n",
    "       'BsmtFullBath', 'BsmtHalfBath', 'FullBath', 'HalfBath',\n",
    "       'BedroomAbvGr', 'KitchenAbvGr', 'KitchenQual', 'TotRmsAbvGrd',\n",
    "       'Fireplaces', 'GarageFinish', 'GarageCars', 'GarageQual',\n",
    "       'GarageCond', 'PavedDrive', 'YearBuilt', 'YearRemodAdd',\n",
    "       'GarageYrBlt', 'YrSold', 'AgeWhenSold', 'totBath', 'OtherRooms']\n",
    "\n",
    "continuous = ['2ndFlrSF', 'BsmtFinSF', 'BsmtFinSF1', 'BsmtUnfSF', 'GarageArea',\n",
    "       'GarageSpaceForCar', 'MasVnrArea', 'MoSold_cos', 'MoSold_sin',\n",
    "       'OpenPorchSF', 'TotalBsmtFinSF', 'TotalBsmtSF', 'TotalPorchSF',\n",
    "       'WoodDeckOpenPorch', 'WoodDeckSF', '1stFlrSF_log',\n",
    "       'AverageRoomSF_log', 'GrLivArea_log', 'LotArea_log',\n",
    "       'SalePrice_log', 'totSqFt_log']"
   ]
  },
  {
   "cell_type": "code",
   "execution_count": null,
   "id": "b37c0e23",
   "metadata": {},
   "outputs": [],
   "source": []
  },
  {
   "cell_type": "markdown",
   "id": "29df6cc1",
   "metadata": {},
   "source": [
    "## Standartization"
   ]
  },
  {
   "cell_type": "code",
   "execution_count": 7,
   "id": "3af91e1d",
   "metadata": {},
   "outputs": [],
   "source": [
    "# def standartize(df, columns):\n",
    "#     st_df = df.copy()\n",
    "    \n",
    "#     scaler = StandardScaler()\n",
    "    \n",
    "#     st_df[columns] = scaler.fit_transform(df[columns])\n",
    "#     print(df.shape, st_df.shape)\n",
    "    \n",
    "#     return st_df"
   ]
  },
  {
   "cell_type": "code",
   "execution_count": 8,
   "id": "24e32b69",
   "metadata": {},
   "outputs": [],
   "source": [
    "# st_train_df = standartize(df_, ordinal + continuous)\n",
    "\n",
    "# arr_to_standartize_test = ordinal + continuous\n",
    "# arr_to_standartize_test.remove('SalePrice_log')\n",
    "# st_test_df = standartize(df_t_, arr_to_standartize_test)"
   ]
  },
  {
   "cell_type": "code",
   "execution_count": null,
   "id": "b89c199e",
   "metadata": {},
   "outputs": [],
   "source": []
  },
  {
   "cell_type": "markdown",
   "id": "0708628d",
   "metadata": {},
   "source": [
    "## OHE"
   ]
  },
  {
   "cell_type": "code",
   "execution_count": 9,
   "id": "eb5f0db4",
   "metadata": {},
   "outputs": [],
   "source": [
    "def one_hot_enc(train_df, test_df, columns):\n",
    "    train_df['Status'] = 'Train'\n",
    "    test_df['Status'] = 'Test'\n",
    "    \n",
    "    app_df = train_df.append(test_df)\n",
    "    \n",
    "    merded_app_df = pd.concat([pd.get_dummies(app_df[columns], drop_first=True), \n",
    "                           app_df.loc[:, app_df.columns[~app_df.columns.isin(columns)]]], axis=1)\n",
    "    \n",
    "    train_df_enc = merded_app_df.loc[merded_app_df['Status'] == 'Train']\n",
    "    train_df_enc.drop('Status', axis=1, inplace=True)\n",
    "\n",
    "    test_df_enc = merded_app_df.loc[merded_app_df['Status'] == 'Test']\n",
    "    test_df_enc.drop(['Status', 'SalePrice_log'], axis=1, inplace=True)\n",
    "\n",
    "\n",
    "    print(train_df_enc.shape, test_df_enc.shape)\n",
    "    \n",
    "    return train_df_enc, test_df_enc"
   ]
  },
  {
   "cell_type": "code",
   "execution_count": 10,
   "id": "e5afc2dd",
   "metadata": {},
   "outputs": [
    {
     "name": "stdout",
     "output_type": "stream",
     "text": [
      "(1252, 207) (1459, 206)\n"
     ]
    }
   ],
   "source": [
    "train_df, test_df = one_hot_enc(df_, df_t_, nominal)"
   ]
  },
  {
   "cell_type": "code",
   "execution_count": 11,
   "id": "351c3028",
   "metadata": {},
   "outputs": [],
   "source": [
    "# len(ordinal + continuous), len(train_df.columns[~train_df.columns.isin(nominal)]) - 1 # minus Status"
   ]
  },
  {
   "cell_type": "code",
   "execution_count": null,
   "id": "49bf7e67",
   "metadata": {},
   "outputs": [],
   "source": []
  },
  {
   "cell_type": "code",
   "execution_count": null,
   "id": "2c85a0dd",
   "metadata": {},
   "outputs": [],
   "source": []
  },
  {
   "cell_type": "code",
   "execution_count": null,
   "id": "e62819ee",
   "metadata": {},
   "outputs": [],
   "source": []
  },
  {
   "cell_type": "markdown",
   "id": "a9e39ddb",
   "metadata": {},
   "source": [
    "## Drop highly correlated features (from initial df)"
   ]
  },
  {
   "cell_type": "code",
   "execution_count": 12,
   "id": "56633cc8",
   "metadata": {},
   "outputs": [],
   "source": [
    "serial_corr_cols_to_drop = ['YrSold', 'YearBuilt', 'TotalBsmtSF', 'GrLivArea_log', 'BsmtFinSF2_cat',\n",
    "        '1stFlrSF_log', '2ndFlrSF', 'BsmtFullBath', 'BsmtHalfBath', 'FullBath', 'HalfBath',\n",
    "        'BsmtFinSF1', 'BsmtFinSF2_cat', 'BsmtFinSF', 'TotRmsAbvGrd', 'BedroomAbvGr', 'KitchenAbvGr',\n",
    "        'TotRmsAbvGrd', 'GarageArea', 'GarageCars', 'WoodDeckSF', 'OpenPorchSF', 'EnclosedPorch_cat',\n",
    "        '3SsnPorch_cat', 'PoolArea_cat', 'RoofStyle', 'RoofMatl', 'Condition2', 'BsmtFinType1', 'LandSlope', 'Exterior2nd']"
   ]
  },
  {
   "cell_type": "code",
   "execution_count": 13,
   "id": "bf7d41b3",
   "metadata": {},
   "outputs": [],
   "source": [
    "train_df1 = df_.copy()\n",
    "test_df1 = df_t_.copy()\n",
    "\n",
    "\n",
    "train_df1.drop(serial_corr_cols_to_drop, axis=1, inplace=True)\n",
    "test_df1.drop(serial_corr_cols_to_drop, axis=1, inplace=True)\n",
    "\n",
    "nominal1 = list(set(nominal) - set(serial_corr_cols_to_drop))\n",
    "ordinal1 = list(set(ordinal) - set(serial_corr_cols_to_drop))\n",
    "continuous1 = list(set(continuous) - set(serial_corr_cols_to_drop))\n"
   ]
  },
  {
   "cell_type": "code",
   "execution_count": 14,
   "id": "d904cd3d",
   "metadata": {},
   "outputs": [],
   "source": [
    "# st_train_df1 = standartize(train_df1, ordinal1 + continuous1)\n",
    "\n",
    "# arr_to_standartize_test1 = ordinal1 + continuous1\n",
    "# arr_to_standartize_test1.remove('SalePrice_log')\n",
    "# st_test_df1 = standartize(test_df1, arr_to_standartize_test1)"
   ]
  },
  {
   "cell_type": "code",
   "execution_count": 15,
   "id": "082d79fb",
   "metadata": {},
   "outputs": [],
   "source": [
    "# train_df1, test_df1 = one_hot_enc(st_train_df1, st_test_df1, nominal1)"
   ]
  },
  {
   "cell_type": "code",
   "execution_count": null,
   "id": "e146e40c",
   "metadata": {},
   "outputs": [],
   "source": []
  },
  {
   "cell_type": "markdown",
   "id": "de46ba56",
   "metadata": {},
   "source": [
    "## Modelling"
   ]
  },
  {
   "cell_type": "code",
   "execution_count": 16,
   "id": "1225cf60",
   "metadata": {},
   "outputs": [],
   "source": [
    "X = train_df.drop('SalePrice_log', axis=1)\n",
    "y = train_df['SalePrice_log']\n",
    "x_train, x_test, y_train, y_test = train_test_split(X, y, random_state=42, shuffle=True, test_size=0.2)\n",
    "\n",
    "X1 = train_df1.drop('SalePrice_log', axis=1)\n",
    "y1 = train_df1['SalePrice_log']\n",
    "x_train1, x_test1, y_train1, y_test1 = train_test_split(X1, y1, random_state=42, shuffle=True, test_size=0.2)\n",
    "\n",
    "kfolds = KFold(n_splits=6, shuffle=True, random_state=42)\n",
    "\n",
    "def rmse(y, y_pred):\n",
    "    return np.sqrt(mean_squared_error(y, y_pred))\n",
    "\n",
    "def cv_rmse(model, X, y, kfolds=kfolds, verb=0):\n",
    "    rmse = np.sqrt(-cross_val_score(model, X, y, scoring=\"neg_mean_squared_error\", cv=kfolds, n_jobs=3, verbose=verb))\n",
    "    mae = -cross_val_score(model, X, y, scoring=\"neg_mean_absolute_error\", cv=kfolds, n_jobs=3, verbose=verb)\n",
    "    r2 = cross_val_score(model, X, y, scoring=\"r2\", cv=kfolds, n_jobs=3, verbose=verb)\n",
    "    return rmse, mae, r2\n",
    "\n",
    "def display_cv_scores(rmse_, mae_, r2_):\n",
    "    print(f'RMSE CV: {rmse_}  Mean RMSE: {round(rmse_.mean(),7)} Std RMSE: {round(rmse_.std(),7)}')\n",
    "    print(f'MAE CV: {mae_}  Mean MAE: {round(mae_.mean(),7)} Std MAE: {round(mae_.std(),7)}')\n",
    "    print(f'R2 CV: {r2_}  Mean R2: {round(r2_.mean(),7)} Std R2: {round(r2_.std(),7)}')"
   ]
  },
  {
   "cell_type": "code",
   "execution_count": null,
   "id": "ca16a13d",
   "metadata": {},
   "outputs": [],
   "source": []
  },
  {
   "cell_type": "code",
   "execution_count": null,
   "id": "9d689e59",
   "metadata": {},
   "outputs": [],
   "source": []
  },
  {
   "cell_type": "code",
   "execution_count": null,
   "id": "5c80a2d1",
   "metadata": {},
   "outputs": [],
   "source": []
  },
  {
   "cell_type": "markdown",
   "id": "092496c3",
   "metadata": {},
   "source": [
    "## Tune hyperparameters"
   ]
  },
  {
   "cell_type": "markdown",
   "id": "eb764223",
   "metadata": {},
   "source": [
    "### Base models"
   ]
  },
  {
   "cell_type": "markdown",
   "id": "d837b73c",
   "metadata": {},
   "source": [
    "#### Lasso"
   ]
  },
  {
   "cell_type": "code",
   "execution_count": 242,
   "id": "f9328286",
   "metadata": {},
   "outputs": [
    {
     "name": "stdout",
     "output_type": "stream",
     "text": [
      "R2:  0.9236969945996113 ;    Chosen alpha:  0.00425\n"
     ]
    }
   ],
   "source": [
    "alpha_l1_ = np.linspace(5e-5, 0.005, 100)\n",
    "lasso_reg = make_pipeline(StandardScaler(), LassoCV(alphas=alpha_l1_, cv=kfolds)).fit(X, y)\n"
   ]
  },
  {
   "cell_type": "code",
   "execution_count": 245,
   "id": "f3754fe8",
   "metadata": {},
   "outputs": [
    {
     "name": "stdout",
     "output_type": "stream",
     "text": [
      "R2:  0.9236969945996113 ;    Chosen alpha:  0.00425 \n",
      "\n",
      "RMSE CV: [0.10519479 0.10411018 0.11102686 0.11221522 0.11366421 0.10834103]  Mean RMSE: 0.109092 Std RMSE: 0.0035349\n",
      "MAE CV: [0.07194258 0.07674082 0.07418539 0.07513466 0.08036307 0.0726557 ]  Mean MAE: 0.0751704 Std MAE: 0.0028031\n",
      "R2 CV: [0.90198627 0.92426808 0.90084777 0.89919423 0.9045292  0.90230187]  Mean R2: 0.9055212 Std R2: 0.0085358\n"
     ]
    }
   ],
   "source": [
    "print('R2: ', lasso_reg.score(X, y), ';    Chosen alpha: ', lasso_reg['lassocv'].alpha_, '\\n')\n",
    "display_cv_scores(*cv_rmse(lasso_reg, X, y))"
   ]
  },
  {
   "cell_type": "code",
   "execution_count": null,
   "id": "7e188d08",
   "metadata": {},
   "outputs": [],
   "source": []
  },
  {
   "cell_type": "code",
   "execution_count": null,
   "id": "ebf93bc9",
   "metadata": {},
   "outputs": [],
   "source": []
  },
  {
   "cell_type": "code",
   "execution_count": null,
   "id": "748d4986",
   "metadata": {},
   "outputs": [],
   "source": []
  },
  {
   "cell_type": "markdown",
   "id": "a2b4ba6c",
   "metadata": {},
   "source": [
    "#### Ridge"
   ]
  },
  {
   "cell_type": "code",
   "execution_count": 309,
   "id": "7921d7ec",
   "metadata": {},
   "outputs": [],
   "source": [
    "alpha_l2_ = np.linspace(285, 298, 30)\n",
    "ridge_reg = make_pipeline(StandardScaler(), RidgeCV(alphas=alpha_l2_, cv=kfolds)).fit(X, y)\n"
   ]
  },
  {
   "cell_type": "code",
   "execution_count": 310,
   "id": "596081ba",
   "metadata": {},
   "outputs": [
    {
     "name": "stdout",
     "output_type": "stream",
     "text": [
      "R2:  0.9299019266367227 ;    Chosen alpha:  287.2413793103448\n",
      "RMSE CV: [0.10608669 0.10403983 0.11818039 0.1166861  0.11570501 0.11237125]  Mean RMSE: 0.1121782 Std RMSE: 0.0053567\n",
      "MAE CV: [0.07373466 0.07796489 0.07964197 0.07561017 0.08270633 0.07525832]  Mean MAE: 0.0774861 Std MAE: 0.0030189\n",
      "R2 CV: [0.9003172  0.9243704  0.88765927 0.8910016  0.90107013 0.89489806]  Mean R2: 0.8998861 Std R2: 0.011933\n"
     ]
    }
   ],
   "source": [
    "print('R2: ', ridge_reg.score(X, y), ';    Chosen alpha: ', ridge_reg['ridgecv'].alpha_)\n",
    "display_cv_scores(*cv_rmse(ridge_reg, X, y))"
   ]
  },
  {
   "cell_type": "code",
   "execution_count": null,
   "id": "500494aa",
   "metadata": {},
   "outputs": [],
   "source": []
  },
  {
   "cell_type": "code",
   "execution_count": null,
   "id": "2f153820",
   "metadata": {},
   "outputs": [],
   "source": []
  },
  {
   "cell_type": "code",
   "execution_count": null,
   "id": "52b5749d",
   "metadata": {},
   "outputs": [],
   "source": []
  },
  {
   "cell_type": "markdown",
   "id": "60a0750c",
   "metadata": {},
   "source": [
    "#### ElasticNet"
   ]
  },
  {
   "cell_type": "code",
   "execution_count": 327,
   "id": "4d10f870",
   "metadata": {},
   "outputs": [],
   "source": [
    "elastic_alpha = np.linspace(0., 0.5, 20)\n",
    "l1_ratio = np.linspace(0, 0.2, 20)\n",
    "\n",
    "elnet_regr = make_pipeline(StandardScaler(), ElasticNetCV(l1_ratio=l1_ratio, alphas=elastic_alpha, cv=kfolds)).fit(X, y)\n"
   ]
  },
  {
   "cell_type": "code",
   "execution_count": 329,
   "id": "dde03fe8",
   "metadata": {},
   "outputs": [
    {
     "name": "stdout",
     "output_type": "stream",
     "text": [
      "R2: 0.92522;    Chosen alpha: 0.07895;  Chosen l1_ratio: 0.04211\n",
      "RMSE CV: [0.10403714 0.10256335 0.11234602 0.11146286 0.11375133 0.1088138 ]  Mean RMSE: 0.1088291 Std RMSE: 0.0041983\n",
      "MAE CV: [0.07195454 0.07646166 0.07530266 0.07438065 0.0802521  0.07279407]  Mean MAE: 0.0751909 Std MAE: 0.0027117\n",
      "R2 CV: [0.90413166 0.92650175 0.89847762 0.90054142 0.9043828  0.90144737]  Mean R2: 0.9059138 Std R2: 0.0094295\n"
     ]
    }
   ],
   "source": [
    "elnet_name = 'elasticnetcv'\n",
    "print(f'R2: {elnet_regr.score(X, y):.5f};    Chosen alpha: {elnet_regr[elnet_name].alpha_:.5f};  Chosen l1_ratio: {elnet_regr[elnet_name].l1_ratio_:.5f}')\n",
    "display_cv_scores(*cv_rmse(elnet_regr, X, y))"
   ]
  },
  {
   "cell_type": "code",
   "execution_count": null,
   "id": "d4988e1b",
   "metadata": {},
   "outputs": [],
   "source": [
    " "
   ]
  },
  {
   "cell_type": "code",
   "execution_count": null,
   "id": "9e38b554",
   "metadata": {},
   "outputs": [],
   "source": []
  },
  {
   "cell_type": "code",
   "execution_count": 18,
   "id": "9cd353cc",
   "metadata": {},
   "outputs": [],
   "source": [
    "# poly_X1 = PolynomialFeatures(degree=2).fit_transform(X1)\n",
    "# lin_reg = LinearRegression().fit(poly_X1, y1)\n",
    "# print('R2: ', lin_reg.score(poly_X1, y1))"
   ]
  },
  {
   "cell_type": "code",
   "execution_count": 19,
   "id": "820331d9",
   "metadata": {},
   "outputs": [],
   "source": [
    "# lin_reg = make_pipeline(PolynomialFeatures(degree=2), LinearRegression())\n",
    "# # print('R2: ', lin_reg.score(X1, y))\n",
    "# lin_reg.fit(X1, y)"
   ]
  },
  {
   "cell_type": "code",
   "execution_count": 20,
   "id": "2fc2c040",
   "metadata": {},
   "outputs": [],
   "source": [
    "# display_cv_scores(*cv_rmse(lin_reg, X1, y, kfolds=kfolds))"
   ]
  },
  {
   "cell_type": "code",
   "execution_count": null,
   "id": "71c3d6a0",
   "metadata": {},
   "outputs": [],
   "source": []
  },
  {
   "cell_type": "markdown",
   "id": "2940cc66",
   "metadata": {},
   "source": [
    "#### SVR"
   ]
  },
  {
   "cell_type": "code",
   "execution_count": 330,
   "id": "a99ea542",
   "metadata": {},
   "outputs": [
    {
     "data": {
      "text/plain": [
       "dict_keys(['C', 'cache_size', 'coef0', 'degree', 'epsilon', 'gamma', 'kernel', 'max_iter', 'shrinking', 'tol', 'verbose'])"
      ]
     },
     "execution_count": 330,
     "metadata": {},
     "output_type": "execute_result"
    }
   ],
   "source": [
    "SVR().get_params().keys()"
   ]
  },
  {
   "cell_type": "code",
   "execution_count": 337,
   "id": "d30be19f",
   "metadata": {},
   "outputs": [
    {
     "name": "stdout",
     "output_type": "stream",
     "text": [
      "Fitting 6 folds for each of 35 candidates, totalling 210 fits\n"
     ]
    }
   ],
   "source": [
    "param_svr = [{'svr__kernel': ['rbf'], 'svr__gamma': [1e-2, 1e-3, 1e-4],\n",
    "                     'svr__C': np.arange(0, 9, 2)},\n",
    "             {'svr__kernel': ['linear'], 'svr__C': np.arange(0, 9, 2)},\n",
    "             {'svr__kernel': ['poly'], 'svr__degree': [1, 2, 3], 'svr__C': np.arange(0, 9, 2)}\n",
    "            ]\n",
    "\n",
    "svr_reg = make_pipeline(StandardScaler(), SVR())\n",
    "\n",
    "gridsearchsvr = GridSearchCV(estimator=svr_reg,\n",
    "                      param_grid= param_svr,\n",
    "                      scoring='neg_mean_squared_error',\n",
    "                      cv=kfolds,\n",
    "                      n_jobs=3,\n",
    "                            verbose=2)\n",
    "\n",
    "gridsearchsvr = gridsearchsvr.fit(X, y)\n"
   ]
  },
  {
   "cell_type": "code",
   "execution_count": 338,
   "id": "f7193939",
   "metadata": {},
   "outputs": [
    {
     "data": {
      "text/plain": [
       "({'svr__C': 8, 'svr__gamma': 0.0001, 'svr__kernel': 'rbf'},\n",
       " 0.012533148741541489)"
      ]
     },
     "execution_count": 338,
     "metadata": {},
     "output_type": "execute_result"
    }
   ],
   "source": [
    "gridsearchsvr.best_params_, -gridsearchsvr.best_score_"
   ]
  },
  {
   "cell_type": "code",
   "execution_count": 359,
   "id": "880c6b7e",
   "metadata": {},
   "outputs": [],
   "source": [
    "tuned_param_svr = {\n",
    "    'C': 9, \n",
    "    'gamma': 0.0001, \n",
    "    'kernel': 'rbf'\n",
    "}"
   ]
  },
  {
   "cell_type": "code",
   "execution_count": 360,
   "id": "9204600a",
   "metadata": {},
   "outputs": [],
   "source": [
    "svr_reg = make_pipeline(StandardScaler(), SVR(**tuned_param_svr))"
   ]
  },
  {
   "cell_type": "code",
   "execution_count": 361,
   "id": "f16598d6",
   "metadata": {},
   "outputs": [
    {
     "name": "stdout",
     "output_type": "stream",
     "text": [
      "RMSE CV: [0.10738722 0.10242739 0.11726213 0.11869506 0.11455692 0.11047128]  Mean RMSE: 0.1118 Std RMSE: 0.0056871\n",
      "MAE CV: [0.07446898 0.07774235 0.07914101 0.07979823 0.08230895 0.07649253]  Mean MAE: 0.0783253 Std MAE: 0.0024925\n",
      "R2 CV: [0.89785818 0.92669649 0.88939826 0.88721609 0.90302367 0.89842214]  Mean R2: 0.9004358 Std R2: 0.0129332\n"
     ]
    }
   ],
   "source": [
    "display_cv_scores(*cv_rmse(svr_reg, X, y))"
   ]
  },
  {
   "cell_type": "code",
   "execution_count": null,
   "id": "b1e2893a",
   "metadata": {},
   "outputs": [],
   "source": []
  },
  {
   "cell_type": "code",
   "execution_count": null,
   "id": "d799029e",
   "metadata": {},
   "outputs": [],
   "source": []
  },
  {
   "cell_type": "markdown",
   "id": "58d16af6",
   "metadata": {},
   "source": [
    "#### XGB Regressor"
   ]
  },
  {
   "cell_type": "markdown",
   "id": "fe61420d",
   "metadata": {},
   "source": [
    "##### Bayes"
   ]
  },
  {
   "cell_type": "code",
   "execution_count": 27,
   "id": "6b972937",
   "metadata": {
    "collapsed": true
   },
   "outputs": [
    {
     "name": "stdout",
     "output_type": "stream",
     "text": [
      "Fitting 6 folds for each of 1 candidates, totalling 6 fits\n",
      "Fitting 6 folds for each of 1 candidates, totalling 6 fits\n",
      "Fitting 6 folds for each of 1 candidates, totalling 6 fits\n",
      "Fitting 6 folds for each of 1 candidates, totalling 6 fits\n",
      "Fitting 6 folds for each of 1 candidates, totalling 6 fits\n",
      "Fitting 6 folds for each of 1 candidates, totalling 6 fits\n",
      "Fitting 6 folds for each of 1 candidates, totalling 6 fits\n",
      "Fitting 6 folds for each of 1 candidates, totalling 6 fits\n",
      "Fitting 6 folds for each of 1 candidates, totalling 6 fits\n",
      "Fitting 6 folds for each of 1 candidates, totalling 6 fits\n",
      "Fitting 6 folds for each of 1 candidates, totalling 6 fits\n",
      "Fitting 6 folds for each of 1 candidates, totalling 6 fits\n",
      "Fitting 6 folds for each of 1 candidates, totalling 6 fits\n",
      "Fitting 6 folds for each of 1 candidates, totalling 6 fits\n",
      "Fitting 6 folds for each of 1 candidates, totalling 6 fits\n",
      "Fitting 6 folds for each of 1 candidates, totalling 6 fits\n",
      "Fitting 6 folds for each of 1 candidates, totalling 6 fits\n",
      "Fitting 6 folds for each of 1 candidates, totalling 6 fits\n",
      "Fitting 6 folds for each of 1 candidates, totalling 6 fits\n",
      "Fitting 6 folds for each of 1 candidates, totalling 6 fits\n",
      "Fitting 6 folds for each of 1 candidates, totalling 6 fits\n",
      "Fitting 6 folds for each of 1 candidates, totalling 6 fits\n",
      "Fitting 6 folds for each of 1 candidates, totalling 6 fits\n",
      "Fitting 6 folds for each of 1 candidates, totalling 6 fits\n",
      "Fitting 6 folds for each of 1 candidates, totalling 6 fits\n",
      "Fitting 6 folds for each of 1 candidates, totalling 6 fits\n",
      "Fitting 6 folds for each of 1 candidates, totalling 6 fits\n",
      "Fitting 6 folds for each of 1 candidates, totalling 6 fits\n",
      "Fitting 6 folds for each of 1 candidates, totalling 6 fits\n",
      "Fitting 6 folds for each of 1 candidates, totalling 6 fits\n",
      "Fitting 6 folds for each of 1 candidates, totalling 6 fits\n",
      "Fitting 6 folds for each of 1 candidates, totalling 6 fits\n",
      "Fitting 6 folds for each of 1 candidates, totalling 6 fits\n",
      "Fitting 6 folds for each of 1 candidates, totalling 6 fits\n",
      "Fitting 6 folds for each of 1 candidates, totalling 6 fits\n",
      "Fitting 6 folds for each of 1 candidates, totalling 6 fits\n",
      "Fitting 6 folds for each of 1 candidates, totalling 6 fits\n",
      "Fitting 6 folds for each of 1 candidates, totalling 6 fits\n",
      "Fitting 6 folds for each of 1 candidates, totalling 6 fits\n",
      "Fitting 6 folds for each of 1 candidates, totalling 6 fits\n",
      "Fitting 6 folds for each of 1 candidates, totalling 6 fits\n",
      "Fitting 6 folds for each of 1 candidates, totalling 6 fits\n",
      "Fitting 6 folds for each of 1 candidates, totalling 6 fits\n",
      "Fitting 6 folds for each of 1 candidates, totalling 6 fits\n",
      "Fitting 6 folds for each of 1 candidates, totalling 6 fits\n",
      "Fitting 6 folds for each of 1 candidates, totalling 6 fits\n",
      "Fitting 6 folds for each of 1 candidates, totalling 6 fits\n",
      "Fitting 6 folds for each of 1 candidates, totalling 6 fits\n",
      "Fitting 6 folds for each of 1 candidates, totalling 6 fits\n",
      "Fitting 6 folds for each of 1 candidates, totalling 6 fits\n",
      "Fitting 6 folds for each of 1 candidates, totalling 6 fits\n",
      "Fitting 6 folds for each of 1 candidates, totalling 6 fits\n",
      "Fitting 6 folds for each of 1 candidates, totalling 6 fits\n",
      "Fitting 6 folds for each of 1 candidates, totalling 6 fits\n",
      "Fitting 6 folds for each of 1 candidates, totalling 6 fits\n",
      "Fitting 6 folds for each of 1 candidates, totalling 6 fits\n",
      "Fitting 6 folds for each of 1 candidates, totalling 6 fits\n",
      "Fitting 6 folds for each of 1 candidates, totalling 6 fits\n",
      "Fitting 6 folds for each of 1 candidates, totalling 6 fits\n",
      "Fitting 6 folds for each of 1 candidates, totalling 6 fits\n",
      "Fitting 6 folds for each of 1 candidates, totalling 6 fits\n",
      "Fitting 6 folds for each of 1 candidates, totalling 6 fits\n",
      "Fitting 6 folds for each of 1 candidates, totalling 6 fits\n",
      "Fitting 6 folds for each of 1 candidates, totalling 6 fits\n",
      "Fitting 6 folds for each of 1 candidates, totalling 6 fits\n",
      "Fitting 6 folds for each of 1 candidates, totalling 6 fits\n",
      "Fitting 6 folds for each of 1 candidates, totalling 6 fits\n",
      "Fitting 6 folds for each of 1 candidates, totalling 6 fits\n",
      "Fitting 6 folds for each of 1 candidates, totalling 6 fits\n",
      "Fitting 6 folds for each of 1 candidates, totalling 6 fits\n",
      "Fitting 6 folds for each of 1 candidates, totalling 6 fits\n",
      "Fitting 6 folds for each of 1 candidates, totalling 6 fits\n",
      "Fitting 6 folds for each of 1 candidates, totalling 6 fits\n",
      "Fitting 6 folds for each of 1 candidates, totalling 6 fits\n",
      "Fitting 6 folds for each of 1 candidates, totalling 6 fits\n",
      "Fitting 6 folds for each of 1 candidates, totalling 6 fits\n",
      "Fitting 6 folds for each of 1 candidates, totalling 6 fits\n",
      "Fitting 6 folds for each of 1 candidates, totalling 6 fits\n",
      "Fitting 6 folds for each of 1 candidates, totalling 6 fits\n",
      "Fitting 6 folds for each of 1 candidates, totalling 6 fits\n",
      "Fitting 6 folds for each of 1 candidates, totalling 6 fits\n",
      "Fitting 6 folds for each of 1 candidates, totalling 6 fits\n",
      "Fitting 6 folds for each of 1 candidates, totalling 6 fits\n",
      "Fitting 6 folds for each of 1 candidates, totalling 6 fits\n",
      "Fitting 6 folds for each of 1 candidates, totalling 6 fits\n",
      "Fitting 6 folds for each of 1 candidates, totalling 6 fits\n",
      "Fitting 6 folds for each of 1 candidates, totalling 6 fits\n",
      "Fitting 6 folds for each of 1 candidates, totalling 6 fits\n",
      "Fitting 6 folds for each of 1 candidates, totalling 6 fits\n",
      "Fitting 6 folds for each of 1 candidates, totalling 6 fits\n",
      "Fitting 6 folds for each of 1 candidates, totalling 6 fits\n",
      "Fitting 6 folds for each of 1 candidates, totalling 6 fits\n",
      "Fitting 6 folds for each of 1 candidates, totalling 6 fits\n",
      "Fitting 6 folds for each of 1 candidates, totalling 6 fits\n",
      "Fitting 6 folds for each of 1 candidates, totalling 6 fits\n",
      "Fitting 6 folds for each of 1 candidates, totalling 6 fits\n",
      "Fitting 6 folds for each of 1 candidates, totalling 6 fits\n",
      "Fitting 6 folds for each of 1 candidates, totalling 6 fits\n",
      "Fitting 6 folds for each of 1 candidates, totalling 6 fits\n",
      "Fitting 6 folds for each of 1 candidates, totalling 6 fits\n",
      "Fitting 6 folds for each of 1 candidates, totalling 6 fits\n",
      "Fitting 6 folds for each of 1 candidates, totalling 6 fits\n",
      "Fitting 6 folds for each of 1 candidates, totalling 6 fits\n",
      "Fitting 6 folds for each of 1 candidates, totalling 6 fits\n",
      "Fitting 6 folds for each of 1 candidates, totalling 6 fits\n",
      "Fitting 6 folds for each of 1 candidates, totalling 6 fits\n",
      "Fitting 6 folds for each of 1 candidates, totalling 6 fits\n",
      "Fitting 6 folds for each of 1 candidates, totalling 6 fits\n",
      "Fitting 6 folds for each of 1 candidates, totalling 6 fits\n",
      "Fitting 6 folds for each of 1 candidates, totalling 6 fits\n",
      "Fitting 6 folds for each of 1 candidates, totalling 6 fits\n",
      "Fitting 6 folds for each of 1 candidates, totalling 6 fits\n",
      "Fitting 6 folds for each of 1 candidates, totalling 6 fits\n",
      "Fitting 6 folds for each of 1 candidates, totalling 6 fits\n",
      "Fitting 6 folds for each of 1 candidates, totalling 6 fits\n",
      "Fitting 6 folds for each of 1 candidates, totalling 6 fits\n",
      "Fitting 6 folds for each of 1 candidates, totalling 6 fits\n",
      "Fitting 6 folds for each of 1 candidates, totalling 6 fits\n",
      "Fitting 6 folds for each of 1 candidates, totalling 6 fits\n",
      "Fitting 6 folds for each of 1 candidates, totalling 6 fits\n",
      "Fitting 6 folds for each of 1 candidates, totalling 6 fits\n",
      "Fitting 6 folds for each of 1 candidates, totalling 6 fits\n",
      "Fitting 6 folds for each of 1 candidates, totalling 6 fits\n",
      "Fitting 6 folds for each of 1 candidates, totalling 6 fits\n",
      "Fitting 6 folds for each of 1 candidates, totalling 6 fits\n",
      "Fitting 6 folds for each of 1 candidates, totalling 6 fits\n",
      "Fitting 6 folds for each of 1 candidates, totalling 6 fits\n",
      "Fitting 6 folds for each of 1 candidates, totalling 6 fits\n",
      "Fitting 6 folds for each of 1 candidates, totalling 6 fits\n",
      "Fitting 6 folds for each of 1 candidates, totalling 6 fits\n",
      "Fitting 6 folds for each of 1 candidates, totalling 6 fits\n",
      "Fitting 6 folds for each of 1 candidates, totalling 6 fits\n",
      "Fitting 6 folds for each of 1 candidates, totalling 6 fits\n",
      "Fitting 6 folds for each of 1 candidates, totalling 6 fits\n",
      "Fitting 6 folds for each of 1 candidates, totalling 6 fits\n",
      "Fitting 6 folds for each of 1 candidates, totalling 6 fits\n",
      "Fitting 6 folds for each of 1 candidates, totalling 6 fits\n",
      "Fitting 6 folds for each of 1 candidates, totalling 6 fits\n",
      "Fitting 6 folds for each of 1 candidates, totalling 6 fits\n"
     ]
    },
    {
     "name": "stdout",
     "output_type": "stream",
     "text": [
      "Wall time: 55min 29s\n"
     ]
    }
   ],
   "source": [
    "%%time\n",
    "\n",
    "xgbr_params = {\n",
    "    \n",
    "    'learning_rate': Real(0.0001, 0.3, prior='log-uniform'),        \n",
    "    'n_estimators': Integer(300, 1000, prior='uniform'),\n",
    "    'subsample':  Real(0.5, 1., prior='uniform'),   \n",
    "    'max_depth': Integer(3, 10, prior='uniform'),\n",
    "    'min_child_weight': Integer(1, 9, prior='uniform'),\n",
    "    # 'gamma': Real(0., 5,  prior='uniform'),\n",
    "    # 'max_delta_step': Integer(0, 5, prior='uniform'),\n",
    "    'colsample_bytree': Real(0.5, 1.,  prior='uniform'),\n",
    "    'reg_alpha': Real(0., 6., prior='uniform'),\n",
    "    'reg_lambda': Real(0., 6.)\n",
    "\n",
    "}\n",
    "\n",
    "search_xgbr = skopt.BayesSearchCV(estimator=xgb.XGBRegressor(),\n",
    "                                search_spaces=xgbr_params,\n",
    "                                scoring='neg_mean_squared_error',\n",
    "                                n_iter=150,\n",
    "                                cv=kfolds,\n",
    "                                random_state=11,\n",
    "                                n_jobs=3,\n",
    "                                 verbose=10\n",
    "                                )\n",
    "\n",
    "search_xgbr_ = search_xgbr.fit(X, y, callback=DeltaYStopper(delta=1e-3, n_best=20)) #, callback=DeltaYStopper(delta=1e-3, n_best=3))"
   ]
  },
  {
   "cell_type": "code",
   "execution_count": 28,
   "id": "c30a20e0",
   "metadata": {},
   "outputs": [
    {
     "data": {
      "text/plain": [
       "(0.012262348819616293, 0.11073549033447358)"
      ]
     },
     "execution_count": 28,
     "metadata": {},
     "output_type": "execute_result"
    }
   ],
   "source": [
    "-search_xgbr.best_score_, np.sqrt(-search_xgbr.best_score_)"
   ]
  },
  {
   "cell_type": "code",
   "execution_count": 29,
   "id": "27f8e4ac",
   "metadata": {},
   "outputs": [
    {
     "data": {
      "text/plain": [
       "{'colsample_bytree': 0.5,\n",
       " 'learning_rate': 0.01912052605367702,\n",
       " 'max_depth': 3,\n",
       " 'min_child_weight': 9,\n",
       " 'n_estimators': 919,\n",
       " 'reg_alpha': 0.0,\n",
       " 'reg_lambda': 6.0,\n",
       " 'subsample': 0.5}"
      ]
     },
     "execution_count": 29,
     "metadata": {},
     "output_type": "execute_result"
    }
   ],
   "source": [
    "dict(search_xgbr.best_params_)"
   ]
  },
  {
   "cell_type": "code",
   "execution_count": null,
   "id": "bac7365d",
   "metadata": {},
   "outputs": [],
   "source": []
  },
  {
   "cell_type": "code",
   "execution_count": null,
   "id": "075a46c5",
   "metadata": {},
   "outputs": [],
   "source": []
  },
  {
   "cell_type": "code",
   "execution_count": null,
   "id": "80ea40cf",
   "metadata": {},
   "outputs": [],
   "source": []
  },
  {
   "attachments": {
    "image-2.png": {
     "image/png": "[encoded data removed]"
    }
   },
   "cell_type": "markdown",
   "id": "a15e9d19",
   "metadata": {},
   "source": [
    "##### Optuna (from colab)\n",
    "\n",
    "optuna.visualization.matplotlib.plot_optimization_history(study_xgbr);\n",
    "\n",
    "![image-2.png](attachment:image-2.png)\n",
    "\n",
    "study_xgbr.best_value, study_xgbr.best_params"
   ]
  },
  {
   "cell_type": "code",
   "execution_count": 392,
   "id": "51bd26b0",
   "metadata": {},
   "outputs": [],
   "source": [
    "0.10925154931266658,\n",
    " {'colsample_bytree': 0.2,\n",
    "  'learning_rate': 0.07003012284492525,\n",
    "  'max_depth': 2,\n",
    "  'min_child_weight': 9,\n",
    "  'n_estimators': 575,\n",
    "  'reg_alpha': 0.316,\n",
    "  'reg_lambda': 1.213,\n",
    "  'subsample': 0.9}"
   ]
  },
  {
   "cell_type": "code",
   "execution_count": null,
   "id": "804f0977",
   "metadata": {},
   "outputs": [],
   "source": []
  },
  {
   "cell_type": "code",
   "execution_count": 37,
   "id": "76698b5a",
   "metadata": {},
   "outputs": [
    {
     "name": "stdout",
     "output_type": "stream",
     "text": [
      "Tuned by Bayes\n",
      "\n",
      "RMSE CV: [0.10923552 0.10243547 0.11756539 0.11010914 0.1155702  0.10884189]  Mean RMSE: 0.1106263 Std RMSE: 0.0049171\n",
      "MAE CV: [0.07522502 0.0746369  0.07958483 0.07573385 0.08056594 0.07560789]  Mean MAE: 0.0768924 Std MAE: 0.0022951\n",
      "R2 CV: [0.89431188 0.92668492 0.88882546 0.90294262 0.90130054 0.90139648]  Mean R2: 0.902577 Std R2: 0.0118446\n",
      "\n",
      "\n",
      "Tuned by Optuna\n",
      "\n",
      "RMSE CV: [0.10942958 0.10097091 0.1149508  0.11307088 0.11240219 0.10819424]  Mean RMSE: 0.1098364 Std RMSE: 0.0045582\n",
      "MAE CV: [0.07577498 0.0754382  0.07770195 0.07741635 0.07777652 0.07485698]  Mean MAE: 0.0764942 Std MAE: 0.0011738\n",
      "R2 CV: [0.89393604 0.92876637 0.8937154  0.89765105 0.90663747 0.90256645]  Mean R2: 0.9038788 Std R2: 0.0120393\n",
      "Wall time: 55.3 s\n"
     ]
    }
   ],
   "source": [
    "%%time\n",
    "\n",
    "params_xgbr_bayes = {\n",
    "     'colsample_bytree': 0.5,\n",
    "     'learning_rate': 0.01912052605367702,\n",
    "     'max_depth': 3,\n",
    "     'min_child_weight': 9,\n",
    "     'n_estimators': 919,\n",
    "     'reg_alpha': 0.0,\n",
    "     'reg_lambda': 6.0,\n",
    "     'subsample': 0.5\n",
    "}\n",
    "\n",
    "\n",
    "params_xgbr_optuna = {\n",
    "      'colsample_bytree': 0.2,\n",
    "      'learning_rate': 0.07,\n",
    "      'max_depth': 2,\n",
    "      'min_child_weight': 9,\n",
    "      'n_estimators': 575,\n",
    "      'reg_alpha': 0.316,\n",
    "      'reg_lambda': 1.213,\n",
    "      'subsample': 0.9\n",
    "}\n",
    "\n",
    "\n",
    "tuned_xgbr_booster_bayes = xgb.XGBRegressor(**params_xgbr_bayes, eval_metric='rmse', n_jobs=4)\n",
    "\n",
    "tuned_xgbr_booster_optuna = xgb.XGBRegressor(**params_xgbr_optuna, eval_metric='rmse', n_jobs=4)\n",
    "\n",
    "print('Tuned by Bayes\\n')\n",
    "display_cv_scores(*cv_rmse(tuned_xgbr_booster_bayes, X, y))\n",
    "\n",
    "print('\\n\\nTuned by Optuna\\n')\n",
    "display_cv_scores(*cv_rmse(tuned_xgbr_booster_optuna, X, y))"
   ]
  },
  {
   "cell_type": "code",
   "execution_count": null,
   "id": "57831b43",
   "metadata": {},
   "outputs": [],
   "source": []
  },
  {
   "cell_type": "markdown",
   "id": "c5f65ccf",
   "metadata": {},
   "source": [
    "#### LightGBM Regressor"
   ]
  },
  {
   "cell_type": "code",
   "execution_count": 20,
   "id": "bbc55ac6",
   "metadata": {
    "collapsed": true
   },
   "outputs": [
    {
     "name": "stdout",
     "output_type": "stream",
     "text": [
      "Fitting 6 folds for each of 1 candidates, totalling 6 fits\n",
      "Fitting 6 folds for each of 1 candidates, totalling 6 fits\n",
      "Fitting 6 folds for each of 1 candidates, totalling 6 fits\n",
      "Fitting 6 folds for each of 1 candidates, totalling 6 fits\n",
      "Fitting 6 folds for each of 1 candidates, totalling 6 fits\n",
      "Fitting 6 folds for each of 1 candidates, totalling 6 fits\n",
      "Fitting 6 folds for each of 1 candidates, totalling 6 fits\n",
      "Fitting 6 folds for each of 1 candidates, totalling 6 fits\n",
      "Fitting 6 folds for each of 1 candidates, totalling 6 fits\n",
      "Fitting 6 folds for each of 1 candidates, totalling 6 fits\n",
      "Fitting 6 folds for each of 1 candidates, totalling 6 fits\n",
      "Fitting 6 folds for each of 1 candidates, totalling 6 fits\n",
      "Fitting 6 folds for each of 1 candidates, totalling 6 fits\n",
      "Fitting 6 folds for each of 1 candidates, totalling 6 fits\n",
      "Fitting 6 folds for each of 1 candidates, totalling 6 fits\n",
      "Fitting 6 folds for each of 1 candidates, totalling 6 fits\n",
      "Fitting 6 folds for each of 1 candidates, totalling 6 fits\n",
      "Fitting 6 folds for each of 1 candidates, totalling 6 fits\n",
      "Fitting 6 folds for each of 1 candidates, totalling 6 fits\n",
      "Fitting 6 folds for each of 1 candidates, totalling 6 fits\n",
      "Fitting 6 folds for each of 1 candidates, totalling 6 fits\n",
      "Fitting 6 folds for each of 1 candidates, totalling 6 fits\n",
      "Fitting 6 folds for each of 1 candidates, totalling 6 fits\n",
      "Fitting 6 folds for each of 1 candidates, totalling 6 fits\n",
      "Fitting 6 folds for each of 1 candidates, totalling 6 fits\n",
      "Fitting 6 folds for each of 1 candidates, totalling 6 fits\n",
      "Fitting 6 folds for each of 1 candidates, totalling 6 fits\n",
      "Fitting 6 folds for each of 1 candidates, totalling 6 fits\n",
      "Fitting 6 folds for each of 1 candidates, totalling 6 fits\n",
      "Fitting 6 folds for each of 1 candidates, totalling 6 fits\n",
      "Fitting 6 folds for each of 1 candidates, totalling 6 fits\n",
      "Fitting 6 folds for each of 1 candidates, totalling 6 fits\n",
      "Fitting 6 folds for each of 1 candidates, totalling 6 fits\n",
      "Fitting 6 folds for each of 1 candidates, totalling 6 fits\n",
      "Fitting 6 folds for each of 1 candidates, totalling 6 fits\n",
      "Fitting 6 folds for each of 1 candidates, totalling 6 fits\n",
      "Fitting 6 folds for each of 1 candidates, totalling 6 fits\n",
      "Fitting 6 folds for each of 1 candidates, totalling 6 fits\n",
      "Fitting 6 folds for each of 1 candidates, totalling 6 fits\n",
      "Fitting 6 folds for each of 1 candidates, totalling 6 fits\n",
      "Fitting 6 folds for each of 1 candidates, totalling 6 fits\n",
      "Fitting 6 folds for each of 1 candidates, totalling 6 fits\n",
      "Fitting 6 folds for each of 1 candidates, totalling 6 fits\n",
      "Fitting 6 folds for each of 1 candidates, totalling 6 fits\n",
      "Fitting 6 folds for each of 1 candidates, totalling 6 fits\n",
      "Fitting 6 folds for each of 1 candidates, totalling 6 fits\n",
      "Fitting 6 folds for each of 1 candidates, totalling 6 fits\n",
      "Fitting 6 folds for each of 1 candidates, totalling 6 fits\n",
      "Fitting 6 folds for each of 1 candidates, totalling 6 fits\n",
      "Fitting 6 folds for each of 1 candidates, totalling 6 fits\n",
      "Fitting 6 folds for each of 1 candidates, totalling 6 fits\n",
      "Fitting 6 folds for each of 1 candidates, totalling 6 fits\n",
      "Fitting 6 folds for each of 1 candidates, totalling 6 fits\n",
      "Fitting 6 folds for each of 1 candidates, totalling 6 fits\n",
      "Fitting 6 folds for each of 1 candidates, totalling 6 fits\n",
      "Fitting 6 folds for each of 1 candidates, totalling 6 fits\n",
      "Fitting 6 folds for each of 1 candidates, totalling 6 fits\n",
      "Fitting 6 folds for each of 1 candidates, totalling 6 fits\n",
      "Wall time: 11min 40s\n"
     ]
    }
   ],
   "source": [
    "%%time\n",
    "# https://neptune.ai/blog/lightgbm-parameters-guide\n",
    "\n",
    "\n",
    "\n",
    "lgbm_params = {\n",
    "    'n_estimators': Integer(100, 4000),\n",
    "    'learning_rate': Real(0.0001, 0.3, prior='log-uniform'),\n",
    "    'num_leaves': Integer(4, 12),\n",
    "    'max_depth': Integer(2, 10),\n",
    "    'min_split_gain': Real(0., 4.),\n",
    "    # 'min_child_weight': Real(1e-4, 1e-2),\n",
    "    'min_child_samples':  Integer(8, 30),\n",
    "    'reg_alpha': Real(0., 5.),\n",
    "    'reg_lambda': Real(0., 5.),\n",
    "    'subsample': Real(0.5, 1.),\n",
    "    # 'subsample_freq' : Integer(2,12)\n",
    "  \n",
    "    'min_split_gain': Real(0., 1.),\\\n",
    "    # 'max_bin': Integer(5, 50),\n",
    "    # 'bagging_seed': Integer(2,12), \n",
    "    # 'feature_fraction_seed': Integer(2,12), \n",
    "    # 'feature_fraction': Real(0.5, 1.)\n",
    "}\n",
    "\n",
    "\n",
    "search_lgbm = skopt.BayesSearchCV(estimator=lgb.LGBMRegressor(boosting_type='gbdt', \n",
    "                                                              silent=True),\n",
    "                          search_spaces = lgbm_params,\n",
    "                          scoring='neg_mean_squared_error',\n",
    "                          cv=kfolds,\n",
    "                          verbose=10,\n",
    "                          n_jobs=3,\n",
    "                          n_iter=160,\n",
    "                          random_state=42)\n",
    "\n",
    "search_lgbm_ = search_lgbm.fit(X, y, callback=DeltaYStopper(delta=1e-3, n_best=10)) #, callback=DeltaYStopper(delta=1e-3, n_best=3))"
   ]
  },
  {
   "cell_type": "code",
   "execution_count": 386,
   "id": "a1850efd",
   "metadata": {},
   "outputs": [
    {
     "data": {
      "text/plain": [
       "(0.012463100672069785, 0.11163825810209413)"
      ]
     },
     "execution_count": 386,
     "metadata": {},
     "output_type": "execute_result"
    }
   ],
   "source": [
    "-search_lgbm_.best_score_, np.sqrt(-search_lgbm_.best_score_)"
   ]
  },
  {
   "cell_type": "code",
   "execution_count": 387,
   "id": "82b93b0c",
   "metadata": {},
   "outputs": [
    {
     "data": {
      "text/plain": [
       "{'learning_rate': 0.010109911217331076,\n",
       " 'max_depth': 2,\n",
       " 'min_child_samples': 13,\n",
       " 'min_split_gain': 0.0,\n",
       " 'n_estimators': 7139,\n",
       " 'num_leaves': 10,\n",
       " 'reg_alpha': 0.0,\n",
       " 'reg_lambda': 4.249995644001508,\n",
       " 'subsample': 0.7694374973798691}"
      ]
     },
     "execution_count": 387,
     "metadata": {},
     "output_type": "execute_result"
    }
   ],
   "source": [
    "dict(search_lgbm_.best_params_)"
   ]
  },
  {
   "cell_type": "code",
   "execution_count": null,
   "id": "6f6c3a37",
   "metadata": {},
   "outputs": [],
   "source": []
  },
  {
   "cell_type": "code",
   "execution_count": null,
   "id": "1a8eedc0",
   "metadata": {},
   "outputs": [],
   "source": []
  },
  {
   "cell_type": "code",
   "execution_count": 21,
   "id": "69167017",
   "metadata": {},
   "outputs": [
    {
     "data": {
      "text/plain": [
       "(0.012460468326409013, 0.11162646785780249)"
      ]
     },
     "execution_count": 21,
     "metadata": {},
     "output_type": "execute_result"
    }
   ],
   "source": [
    "-search_lgbm_.best_score_, np.sqrt(-search_lgbm_.best_score_)"
   ]
  },
  {
   "cell_type": "code",
   "execution_count": 22,
   "id": "a2d9ddac",
   "metadata": {},
   "outputs": [
    {
     "data": {
      "text/plain": [
       "{'learning_rate': 0.012624673981427513,\n",
       " 'max_depth': 10,\n",
       " 'min_child_samples': 19,\n",
       " 'min_split_gain': 0.0,\n",
       " 'n_estimators': 4000,\n",
       " 'num_leaves': 4,\n",
       " 'reg_alpha': 0.0,\n",
       " 'reg_lambda': 5.0,\n",
       " 'subsample': 0.5}"
      ]
     },
     "execution_count": 22,
     "metadata": {},
     "output_type": "execute_result"
    }
   ],
   "source": [
    "dict(search_lgbm_.best_params_)"
   ]
  },
  {
   "cell_type": "code",
   "execution_count": null,
   "id": "a1ad90c5",
   "metadata": {},
   "outputs": [],
   "source": []
  },
  {
   "cell_type": "code",
   "execution_count": null,
   "id": "6cd78b4e",
   "metadata": {},
   "outputs": [],
   "source": []
  },
  {
   "attachments": {
    "image-2.png": {
     "image/png": "[encoded data removed]"
    }
   },
   "cell_type": "markdown",
   "id": "be8ba73a",
   "metadata": {},
   "source": [
    "##### Optuna (from Colab)\n",
    "\n",
    "optuna.visualization.matplotlib.plot_optimization_history(study_lgbm);\n",
    "\n",
    "![image-2.png](attachment:image-2.png)\n",
    "\n",
    "study_lgbm.best_value, study_lgbm.best_params"
   ]
  },
  {
   "cell_type": "code",
   "execution_count": null,
   "id": "f74ebd59",
   "metadata": {},
   "outputs": [],
   "source": [
    "0.11308438921545258,\n",
    " {'learning_rate': 0.01513309886250848,\n",
    "  'max_depth': 7,\n",
    "  'min_child_samples': 17,\n",
    "  'min_split_gain': 0.0021084855144802364,\n",
    "  'n_estimators': 2400,\n",
    "  'num_leaves': 9,\n",
    "  'reg_alpha': 0.15,\n",
    "  'reg_lambda': 2.674,\n",
    "  'subsample': 0.75}"
   ]
  },
  {
   "cell_type": "code",
   "execution_count": 38,
   "id": "0f74cd8c",
   "metadata": {},
   "outputs": [
    {
     "name": "stdout",
     "output_type": "stream",
     "text": [
      "Tuned by Bayes\n",
      "\n",
      "RMSE CV: [0.11468011 0.1066075  0.11837512 0.11392208 0.11544796 0.11228134]  Mean RMSE: 0.1135524 Std RMSE: 0.003608\n",
      "MAE CV: [0.07899229 0.07497634 0.07848738 0.07963841 0.07975917 0.07953855]  Mean MAE: 0.0785654 Std MAE: 0.001663\n",
      "R2 CV: [0.88351376 0.9205913  0.88728875 0.89610428 0.90150921 0.89506619]  Mean R2: 0.8973456 Std R2: 0.0119506\n",
      "\n",
      "\n",
      "Tuned by Optuna\n",
      "\n",
      "RMSE CV: [0.11430106 0.1065922  0.11721432 0.11299703 0.1147576  0.11236108]  Mean RMSE: 0.1130372 Std RMSE: 0.003266\n",
      "MAE CV: [0.07875523 0.07487827 0.07778408 0.07946696 0.07893424 0.07950739]  Mean MAE: 0.078221 Std MAE: 0.0016003\n",
      "R2 CV: [0.88428254 0.92061409 0.88948844 0.89778469 0.90268361 0.89491708]  Mean R2: 0.8982951 Std R2: 0.0115685\n",
      "Wall time: 53.5 s\n"
     ]
    }
   ],
   "source": [
    "%%time\n",
    "\n",
    "params_lgbm_bayes = {\n",
    "     'learning_rate': 0.01513,\n",
    "      'max_depth': 7,\n",
    "      'min_child_samples': 17,\n",
    "      'min_split_gain': 0.0021,\n",
    "      'n_estimators': 2400,\n",
    "      'num_leaves': 9,\n",
    "      'reg_alpha': 0.15,\n",
    "      'reg_lambda': 2.674,\n",
    "      'subsample': 0.75,\n",
    "     'silent': True,\n",
    "     'verbose': -1\n",
    "}\n",
    "\n",
    "params_lgbm_optuna = {\n",
    "      'learning_rate': 0.01513309886250848,\n",
    "      'max_depth': 7,\n",
    "      'min_child_samples': 17,\n",
    "      'min_split_gain': 0.0021084855144802364,\n",
    "      'n_estimators': 2400,\n",
    "      'num_leaves': 9,\n",
    "      'reg_alpha': 0.15,\n",
    "      'reg_lambda': 2.674,\n",
    "      'subsample': 0.75\n",
    "}\n",
    "\n",
    "\n",
    "tuned_lgbm_booster_bayes = lgb.LGBMRegressor(**params_lgbm_bayes, n_jobs=4)\n",
    "\n",
    "tuned_lgbm_booster_optuna = lgb.LGBMRegressor(**params_lgbm_optuna, n_jobs=4)\n",
    "\n",
    "print('Tuned by Bayes\\n')\n",
    "display_cv_scores(*cv_rmse(tuned_lgbm_booster_bayes, X, y))\n",
    "\n",
    "print('\\n\\nTuned by Optuna\\n')\n",
    "display_cv_scores(*cv_rmse(tuned_lgbm_booster_optuna, X, y))"
   ]
  },
  {
   "cell_type": "code",
   "execution_count": null,
   "id": "b6fdbde1",
   "metadata": {},
   "outputs": [],
   "source": []
  },
  {
   "cell_type": "code",
   "execution_count": null,
   "id": "fec27211",
   "metadata": {},
   "outputs": [],
   "source": []
  },
  {
   "cell_type": "markdown",
   "id": "9f2e7f05",
   "metadata": {},
   "source": [
    "#### GradientBoostingRegressor"
   ]
  },
  {
   "cell_type": "code",
   "execution_count": 23,
   "id": "ae1d8753",
   "metadata": {
    "collapsed": true
   },
   "outputs": [
    {
     "name": "stdout",
     "output_type": "stream",
     "text": [
      "Fitting 6 folds for each of 1 candidates, totalling 6 fits\n",
      "Fitting 6 folds for each of 1 candidates, totalling 6 fits\n",
      "Fitting 6 folds for each of 1 candidates, totalling 6 fits\n",
      "Fitting 6 folds for each of 1 candidates, totalling 6 fits\n",
      "Fitting 6 folds for each of 1 candidates, totalling 6 fits\n",
      "Fitting 6 folds for each of 1 candidates, totalling 6 fits\n",
      "Fitting 6 folds for each of 1 candidates, totalling 6 fits\n",
      "Fitting 6 folds for each of 1 candidates, totalling 6 fits\n",
      "Fitting 6 folds for each of 1 candidates, totalling 6 fits\n",
      "Fitting 6 folds for each of 1 candidates, totalling 6 fits\n",
      "Fitting 6 folds for each of 1 candidates, totalling 6 fits\n",
      "Fitting 6 folds for each of 1 candidates, totalling 6 fits\n",
      "Fitting 6 folds for each of 1 candidates, totalling 6 fits\n",
      "Fitting 6 folds for each of 1 candidates, totalling 6 fits\n",
      "Fitting 6 folds for each of 1 candidates, totalling 6 fits\n",
      "Fitting 6 folds for each of 1 candidates, totalling 6 fits\n",
      "Fitting 6 folds for each of 1 candidates, totalling 6 fits\n",
      "Fitting 6 folds for each of 1 candidates, totalling 6 fits\n",
      "Fitting 6 folds for each of 1 candidates, totalling 6 fits\n",
      "Fitting 6 folds for each of 1 candidates, totalling 6 fits\n",
      "Fitting 6 folds for each of 1 candidates, totalling 6 fits\n",
      "Fitting 6 folds for each of 1 candidates, totalling 6 fits\n",
      "Fitting 6 folds for each of 1 candidates, totalling 6 fits\n",
      "Fitting 6 folds for each of 1 candidates, totalling 6 fits\n",
      "Fitting 6 folds for each of 1 candidates, totalling 6 fits\n",
      "Fitting 6 folds for each of 1 candidates, totalling 6 fits\n",
      "Fitting 6 folds for each of 1 candidates, totalling 6 fits\n",
      "Fitting 6 folds for each of 1 candidates, totalling 6 fits\n",
      "Fitting 6 folds for each of 1 candidates, totalling 6 fits\n",
      "Fitting 6 folds for each of 1 candidates, totalling 6 fits\n",
      "Fitting 6 folds for each of 1 candidates, totalling 6 fits\n",
      "Fitting 6 folds for each of 1 candidates, totalling 6 fits\n",
      "Fitting 6 folds for each of 1 candidates, totalling 6 fits\n",
      "Fitting 6 folds for each of 1 candidates, totalling 6 fits\n",
      "Fitting 6 folds for each of 1 candidates, totalling 6 fits\n",
      "Fitting 6 folds for each of 1 candidates, totalling 6 fits\n",
      "Fitting 6 folds for each of 1 candidates, totalling 6 fits\n",
      "Fitting 6 folds for each of 1 candidates, totalling 6 fits\n",
      "Fitting 6 folds for each of 1 candidates, totalling 6 fits\n",
      "Fitting 6 folds for each of 1 candidates, totalling 6 fits\n",
      "Fitting 6 folds for each of 1 candidates, totalling 6 fits\n",
      "Fitting 6 folds for each of 1 candidates, totalling 6 fits\n",
      "Fitting 6 folds for each of 1 candidates, totalling 6 fits\n",
      "Wall time: 54min 21s\n"
     ]
    }
   ],
   "source": [
    "%%time\n",
    "\n",
    "gbr_params = {\n",
    "    'loss': ['huber'],\n",
    "    'learning_rate': Real(0.0001, 0.3, prior='log-uniform'),        \n",
    "    'n_estimators': Integer(25, 1500, prior='uniform'),\n",
    "    'subsample':  Real(0.6, 1., prior='uniform'),   \n",
    "    'max_depth': Integer(2, 10, prior='uniform'),\n",
    "    'min_samples_split': Integer(2, 15, prior='uniform'),\n",
    "    'min_samples_leaf': Integer(1, 13, prior='uniform'),\n",
    "    'max_features': Real(0.7, 1., prior='uniform')\n",
    "}\n",
    "\n",
    "search_gbr = skopt.BayesSearchCV(estimator=GradientBoostingRegressor(),\n",
    "                                search_spaces=gbr_params,\n",
    "                                scoring='neg_mean_squared_error',\n",
    "                                n_iter=150,\n",
    "                                cv=kfolds,\n",
    "                                random_state=11,\n",
    "                                n_jobs=3,\n",
    "                                 verbose=10\n",
    "                                )\n",
    "\n",
    "search_gbr_ = search_gbr.fit(X, y, callback=DeltaYStopper(delta=1e-3, n_best=15)) #, callback=DeltaYStopper(delta=1e-3, n_best=3))"
   ]
  },
  {
   "cell_type": "code",
   "execution_count": 42,
   "id": "66248f68",
   "metadata": {},
   "outputs": [
    {
     "data": {
      "text/plain": [
       "(0.011747857945664691, 0.10838753593317219)"
      ]
     },
     "execution_count": 42,
     "metadata": {},
     "output_type": "execute_result"
    }
   ],
   "source": [
    "-search_gbr.best_score_, np.sqrt(-search_gbr.best_score_)"
   ]
  },
  {
   "cell_type": "code",
   "execution_count": 43,
   "id": "90dbcc58",
   "metadata": {},
   "outputs": [
    {
     "data": {
      "text/plain": [
       "{'learning_rate': 0.07876352809484428,\n",
       " 'loss': 'huber',\n",
       " 'max_depth': 2,\n",
       " 'max_features': 1.0,\n",
       " 'min_samples_leaf': 13,\n",
       " 'min_samples_split': 15,\n",
       " 'n_estimators': 611,\n",
       " 'subsample': 0.6}"
      ]
     },
     "execution_count": 43,
     "metadata": {},
     "output_type": "execute_result"
    }
   ],
   "source": [
    "dict(search_gbr.best_params_)"
   ]
  },
  {
   "cell_type": "code",
   "execution_count": null,
   "id": "eaed587e",
   "metadata": {},
   "outputs": [],
   "source": []
  },
  {
   "cell_type": "code",
   "execution_count": null,
   "id": "c7077fea",
   "metadata": {},
   "outputs": [],
   "source": []
  },
  {
   "cell_type": "code",
   "execution_count": 39,
   "id": "d79e0deb",
   "metadata": {},
   "outputs": [
    {
     "data": {
      "text/plain": [
       "(0.011747857945664691, 0.10838753593317219)"
      ]
     },
     "execution_count": 39,
     "metadata": {},
     "output_type": "execute_result"
    }
   ],
   "source": [
    "-search_gbr.best_score_, np.sqrt(-search_gbr.best_score_)"
   ]
  },
  {
   "cell_type": "code",
   "execution_count": 40,
   "id": "1690ecb4",
   "metadata": {},
   "outputs": [
    {
     "data": {
      "text/plain": [
       "{'learning_rate': 0.07876352809484428,\n",
       " 'loss': 'huber',\n",
       " 'max_depth': 2,\n",
       " 'max_features': 1.0,\n",
       " 'min_samples_leaf': 13,\n",
       " 'min_samples_split': 15,\n",
       " 'n_estimators': 611,\n",
       " 'subsample': 0.6}"
      ]
     },
     "execution_count": 40,
     "metadata": {},
     "output_type": "execute_result"
    }
   ],
   "source": [
    "dict(search_gbr.best_params_)"
   ]
  },
  {
   "cell_type": "code",
   "execution_count": null,
   "id": "67018162",
   "metadata": {},
   "outputs": [],
   "source": []
  },
  {
   "cell_type": "code",
   "execution_count": null,
   "id": "1653720e",
   "metadata": {},
   "outputs": [],
   "source": []
  },
  {
   "attachments": {
    "image-2.png": {
     "image/png": "[encoded data removed]"
    }
   },
   "cell_type": "markdown",
   "id": "68a0a6e3",
   "metadata": {},
   "source": [
    "##### Optuna (from Colab)\n",
    "\n",
    "optuna.visualization.matplotlib.plot_optimization_history(study_gbr);\n",
    "\n",
    "![image-2.png](attachment:image-2.png)\n",
    "\n",
    "study_gbr.best_value, study_gbr.best_params"
   ]
  },
  {
   "cell_type": "code",
   "execution_count": null,
   "id": "494b1e7a",
   "metadata": {},
   "outputs": [],
   "source": [
    "0.10963405322004956,\n",
    " {'learning_rate': 0.04790194311532764,\n",
    "  'max_depth': 2,\n",
    "  'max_features': 0.73,\n",
    "  'min_samples_split': 3,\n",
    "  'n_estimators': 750}"
   ]
  },
  {
   "cell_type": "code",
   "execution_count": 57,
   "id": "a502142c",
   "metadata": {},
   "outputs": [
    {
     "name": "stdout",
     "output_type": "stream",
     "text": [
      "RMSE CV: [0.11036952 0.09723074 0.11373958 0.10972034 0.11247325 0.1105112 ]  Mean RMSE: 0.1090074 Std RMSE: 0.0054424\n",
      "MAE CV: [0.07574145 0.0684004  0.07596492 0.07844661 0.07584687 0.07490233]  Mean MAE: 0.0748838 Std MAE: 0.0030973\n",
      "R2 CV: [0.88991657 0.92863535 0.89581927 0.89779129 0.91221184 0.89232545]  Mean R2: 0.9027833 Std R2: 0.0135743\n",
      "Wall time: 43.1 s\n"
     ]
    }
   ],
   "source": [
    "%%time\n",
    "\n",
    "params_gbr_bayes = {\n",
    "     'learning_rate': 0.0788,\n",
    "     'loss': 'huber',\n",
    "     'max_depth': 2,\n",
    "     'max_features': 1.0,\n",
    "     'min_samples_leaf': 13,\n",
    "     'min_samples_split': 15,\n",
    "     'n_estimators': 650,\n",
    "     'subsample': 0.6\n",
    "}\n",
    "\n",
    "params_gbr_optuna = {\n",
    "    \n",
    "}\n",
    "\n",
    "tuned_gbr_booster_bayes = GradientBoostingRegressor(**params_gbr_bayes)\n",
    "\n",
    "tuned_gbr_booster_optuna = GradientBoostingRegressor(**params_gbr_optuna)\n",
    "\n",
    "print('Tuned by Bayes\\n')\n",
    "display_cv_scores(*cv_rmse(tuned_gbr_booster_bayes, X, y))\n",
    "\n",
    "print('\\n\\nTuned by Optuna\\n')\n",
    "display_cv_scores(*cv_rmse(tuned_gbr_booster_optuna, X, y))"
   ]
  },
  {
   "cell_type": "code",
   "execution_count": 61,
   "id": "8b9d758b",
   "metadata": {},
   "outputs": [
    {
     "name": "stdout",
     "output_type": "stream",
     "text": [
      "RMSE CV: [0.10978782 0.09940199 0.11440334 0.11374686 0.11023879 0.10925331]  Mean RMSE: 0.109472 Std RMSE: 0.0049114\n",
      "MAE CV: [0.07394926 0.07495725 0.07650401 0.0785949  0.07531729 0.07328613]  Mean MAE: 0.0754348 Std MAE: 0.0017414\n",
      "R2 CV: [0.89474457 0.93600379 0.89672592 0.89686708 0.91370162 0.89765482]  Mean R2: 0.9059496 Std R2: 0.014862\n",
      "Wall time: 53.3 s\n"
     ]
    }
   ],
   "source": [
    "%%time\n",
    "\n",
    "params_gbr_optuna = {\n",
    "     'learning_rate': 0.0788,\n",
    "     'loss': 'huber',\n",
    "     'max_depth': 2,\n",
    "     'max_features': 1.0,\n",
    "     'min_samples_leaf': 13,\n",
    "     'min_samples_split': 15,\n",
    "     'n_estimators': 650,\n",
    "     'subsample': 0.6\n",
    "}\n",
    "\n",
    "tuned_gbr_booster_optuna = GradientBoostingRegressor(**params_gbr_optuna)\n",
    "\n",
    "display_cv_scores(*cv_rmse(tuned_gbr_booster_optuna, X, y))"
   ]
  },
  {
   "cell_type": "code",
   "execution_count": 54,
   "id": "e0e25bf2",
   "metadata": {},
   "outputs": [
    {
     "name": "stdout",
     "output_type": "stream",
     "text": [
      "RMSE CV: [0.11468941 0.11020292 0.12206815 0.11142015 0.11972659 0.12119072]  Mean RMSE: 0.1165497 Std RMSE: 0.0046929\n",
      "MAE CV: [0.08107021 0.07850192 0.08288239 0.08097291 0.08412312 0.08623481]  Mean MAE: 0.0822976 Std MAE: 0.0024781\n",
      "R2 CV: [0.88181888 0.91524524 0.87999154 0.90069505 0.89350574 0.87850924]  Mean R2: 0.8916276 Std R2: 0.0132114\n"
     ]
    }
   ],
   "source": [
    "tuned_gbr_booster_bayes = GradientBoostingRegressor()\n",
    "\n",
    "display_cv_scores(*cv_rmse(tuned_gbr_booster_bayes, X, y))"
   ]
  },
  {
   "cell_type": "code",
   "execution_count": null,
   "id": "3d77ceaa",
   "metadata": {},
   "outputs": [],
   "source": []
  },
  {
   "cell_type": "markdown",
   "id": "803d2b1a",
   "metadata": {},
   "source": [
    "## Compare models"
   ]
  },
  {
   "cell_type": "code",
   "execution_count": 17,
   "id": "b3e84534",
   "metadata": {},
   "outputs": [],
   "source": [
    "alpha_l1_ = 0.00425\n",
    "\n",
    "lasso_reg = make_pipeline(StandardScaler(), Lasso(alpha=alpha_l1_))"
   ]
  },
  {
   "cell_type": "code",
   "execution_count": 18,
   "id": "7f540451",
   "metadata": {},
   "outputs": [],
   "source": [
    "alpha_l2_ = 287.241\n",
    "\n",
    "ridge_reg = make_pipeline(StandardScaler(), Ridge(alpha=alpha_l2_))"
   ]
  },
  {
   "cell_type": "code",
   "execution_count": 19,
   "id": "8481fcc7",
   "metadata": {},
   "outputs": [],
   "source": [
    "elastic_alpha = 0.07895\n",
    "l1_ratio = 0.04211\n",
    "\n",
    "elnet_reg = make_pipeline(StandardScaler(), ElasticNet(l1_ratio=l1_ratio, alpha=elastic_alpha))"
   ]
  },
  {
   "cell_type": "code",
   "execution_count": 20,
   "id": "5c59336e",
   "metadata": {},
   "outputs": [],
   "source": [
    "tuned_param_svr = {\n",
    "    'C': 9, \n",
    "    'gamma': 0.0001, \n",
    "    'kernel': 'rbf'\n",
    "}\n",
    "\n",
    "sv_reg = make_pipeline(StandardScaler(), SVR(**tuned_param_svr))"
   ]
  },
  {
   "cell_type": "code",
   "execution_count": 21,
   "id": "a59b9298",
   "metadata": {},
   "outputs": [],
   "source": [
    "params_xgbr_optuna = {\n",
    "      'colsample_bytree': 0.2,\n",
    "      'learning_rate': 0.07,\n",
    "      'max_depth': 2,\n",
    "      'min_child_weight': 9,\n",
    "      'n_estimators': 575,\n",
    "      'reg_alpha': 0.316,\n",
    "      'reg_lambda': 1.213,\n",
    "      'subsample': 0.9\n",
    "}\n",
    "\n",
    "tuned_xgbr_booster_optuna = xgb.XGBRegressor(**params_xgbr_optuna, eval_metric='rmse', n_jobs=3)\n"
   ]
  },
  {
   "cell_type": "code",
   "execution_count": 22,
   "id": "f3dfc756",
   "metadata": {},
   "outputs": [],
   "source": [
    "params_lgbm_optuna = {\n",
    "      'learning_rate': 0.01513309886250848,\n",
    "      'max_depth': 7,\n",
    "      'min_child_samples': 17,\n",
    "      'min_split_gain': 0.0021084855144802364,\n",
    "      'n_estimators': 2400,\n",
    "      'num_leaves': 9,\n",
    "      'reg_alpha': 0.15,\n",
    "      'reg_lambda': 2.674,\n",
    "      'subsample': 0.75\n",
    "}\n",
    "\n",
    "\n",
    "\n",
    "tuned_lgbm_booster_bayes = lgb.LGBMRegressor(**params_lgbm_optuna, n_jobs=3)"
   ]
  },
  {
   "cell_type": "code",
   "execution_count": 23,
   "id": "4a196692",
   "metadata": {},
   "outputs": [],
   "source": [
    "params_gbr_bayes = {\n",
    "     'learning_rate': 0.0788,\n",
    "     'loss': 'huber',\n",
    "     'max_depth': 2,\n",
    "     'max_features': 1.0,\n",
    "     'min_samples_leaf': 13,\n",
    "     'min_samples_split': 15,\n",
    "     'n_estimators': 650,\n",
    "     'subsample': 0.6\n",
    "}\n",
    "\n",
    "tuned_gbr_booster_bayes = GradientBoostingRegressor(**params_gbr_bayes)"
   ]
  },
  {
   "cell_type": "code",
   "execution_count": null,
   "id": "6494a9b4",
   "metadata": {},
   "outputs": [],
   "source": []
  },
  {
   "cell_type": "markdown",
   "id": "ac49c311",
   "metadata": {},
   "source": [
    "### Stacking"
   ]
  },
  {
   "cell_type": "markdown",
   "id": "73fa5647",
   "metadata": {},
   "source": [
    "##### Select MetaRegressor"
   ]
  },
  {
   "cell_type": "code",
   "execution_count": 24,
   "id": "3cf90f20",
   "metadata": {},
   "outputs": [],
   "source": [
    "models = {\n",
    "    'lasso': lasso_reg,\n",
    "    'ridge': ridge_reg,\n",
    "    'elnet': elnet_reg,\n",
    "    'svr': sv_reg,\n",
    "    'xgbr': tuned_xgbr_booster_optuna,\n",
    "    'lgbm': tuned_lgbm_booster_bayes,\n",
    "    'gbr': tuned_gbr_booster_bayes   \n",
    "}\n",
    "\n",
    "stack_scores = {}"
   ]
  },
  {
   "cell_type": "code",
   "execution_count": null,
   "id": "573d5905",
   "metadata": {},
   "outputs": [],
   "source": []
  },
  {
   "cell_type": "code",
   "execution_count": 76,
   "id": "f2be9987",
   "metadata": {},
   "outputs": [
    {
     "name": "stdout",
     "output_type": "stream",
     "text": [
      "======== meta_lasso ========\n",
      "RMSE CV: [0.10388228 0.09855781 0.10724893 0.10904395 0.10842015 0.10726236]  Mean RMSE: 0.1057359 Std RMSE: 0.0035993\n",
      "MAE CV: [0.07141611 0.07121682 0.07194094 0.07199803 0.07640183 0.07103677]  Mean MAE: 0.0723351 Std MAE: 0.0018524\n",
      "R2 CV: [0.89968133 0.93347987 0.90252576 0.90374032 0.91229586 0.90271949]  Mean R2: 0.9090738 Std R2: 0.0115899\n",
      "----------------------- \n",
      "\n",
      "======== meta_ridge ========\n",
      "RMSE CV: [0.10658376 0.10199099 0.11535402 0.11681826 0.11309117 0.11137614]  Mean RMSE: 0.1108691 Std RMSE: 0.0051298\n",
      "MAE CV: [0.07247964 0.07428178 0.07650649 0.07485034 0.0804363  0.07342273]  Mean MAE: 0.0753295 Std MAE: 0.0025997\n",
      "R2 CV: [0.89966948 0.92831062 0.89272823 0.89210969 0.90543227 0.89713149]  Mean R2: 0.9025636 Std R2: 0.0123494\n",
      "----------------------- \n",
      "\n",
      "======== meta_elnet ========\n",
      "RMSE CV: [0.10466365 0.09960558 0.10966073 0.10963485 0.10973293 0.10812457]  Mean RMSE: 0.1069037 Std RMSE: 0.0037156\n",
      "MAE CV: [0.06998801 0.07275447 0.0722786  0.07253265 0.0775814  0.07193192]  Mean MAE: 0.0728445 Std MAE: 0.0023042\n",
      "R2 CV: [0.90348353 0.93109585 0.90319774 0.90191249 0.91069835 0.90224749]  Mean R2: 0.9087726 Std R2: 0.0104142\n",
      "----------------------- \n",
      "\n",
      "======== meta_svr ========\n",
      "RMSE CV: [0.10927827 0.10031905 0.11600812 0.11752371 0.11298685 0.10967519]  Mean RMSE: 0.1109652 Std RMSE: 0.005633\n",
      "MAE CV: [0.07431177 0.07528154 0.07734809 0.07948631 0.08120796 0.07472589]  Mean MAE: 0.0770603 Std MAE: 0.0025606\n",
      "R2 CV: [0.89360655 0.92977398 0.89257725 0.88885567 0.90465762 0.90071899]  Mean R2: 0.9016983 Std R2: 0.013611\n",
      "----------------------- \n",
      "\n",
      "======== meta_xgbr ========\n",
      "RMSE CV: [0.11003293 0.09937064 0.11181776 0.1093788  0.10896465 0.11101063]  Mean RMSE: 0.1084292 Std RMSE: 0.0041626\n",
      "MAE CV: [0.07628757 0.06930225 0.07437404 0.07556047 0.07674033 0.07777757]  Mean MAE: 0.075007 Std MAE: 0.0027559\n",
      "R2 CV: [0.89358543 0.92895104 0.90545429 0.90183553 0.91132176 0.89153632]  Mean R2: 0.9054474 Std R2: 0.012478\n",
      "----------------------- \n",
      "\n",
      "======== meta_lgbm ========\n",
      "RMSE CV: [0.11075294 0.10119323 0.1085396  0.10512649 0.10961908 0.11248176]  Mean RMSE: 0.1079522 Std RMSE: 0.0037672\n",
      "MAE CV: [0.07620156 0.07313764 0.07350469 0.07388951 0.07953625 0.076622  ]  Mean MAE: 0.0754819 Std MAE: 0.0022434\n",
      "R2 CV: [0.89349531 0.92691766 0.9073411  0.90681863 0.90804806 0.89634659]  Mean R2: 0.9064946 Std R2: 0.0107417\n",
      "----------------------- \n",
      "\n",
      "======== meta_gbr ========\n",
      "RMSE CV: [0.10932213 0.10084991 0.10792009 0.11135917 0.1089541  0.11789809]  Mean RMSE: 0.1093839 Std RMSE: 0.0050258\n",
      "MAE CV: [0.07501181 0.07317332 0.07007403 0.07441166 0.08039453 0.07882378]  Mean MAE: 0.0753149 Std MAE: 0.0034418\n",
      "R2 CV: [0.89080647 0.92738427 0.9072307  0.90242815 0.91396385 0.88741149]  Mean R2: 0.9048708 Std R2: 0.0135629\n",
      "----------------------- \n",
      "\n"
     ]
    }
   ],
   "source": [
    "for name, model in models.items():\n",
    "    stack_reg = StackingCVRegressor(regressors=(lasso_reg, \n",
    "                                                ridge_reg, \n",
    "                                                elnet_reg, \n",
    "                                                sv_reg, \n",
    "                                                tuned_xgbr_booster_optuna, \n",
    "                                                tuned_lgbm_booster_bayes, \n",
    "                                                tuned_gbr_booster_bayes),\n",
    "                                meta_regressor=model,\n",
    "                                use_features_in_secondary=True,\n",
    "                                n_jobs=3,\n",
    "                                verbose=10\n",
    "                                )\n",
    "    \n",
    "    cv_stack_score = np.array(cv_rmse(stack_reg, np.array(X), np.array(y), kfolds=kfolds))\n",
    "    \n",
    "    stack_scores['meta_' + name] = cv_stack_score.mean(axis=1)[0]\n",
    "    \n",
    "    print('='*8, 'meta_' + name, '='*8)\n",
    "    display_cv_scores(*cv_stack_score)\n",
    "    print('-'*23, '\\n')\n",
    "    "
   ]
  },
  {
   "cell_type": "code",
   "execution_count": 77,
   "id": "ea916f12",
   "metadata": {},
   "outputs": [
    {
     "name": "stdout",
     "output_type": "stream",
     "text": [
      "Best meta regressor is meta_lasso with RMSE 0.10573591357311292\n"
     ]
    }
   ],
   "source": [
    "print(f'Best meta regressor is {min(stack_scores, key=stack_scores.get)} with RMSE {min(stack_scores.values())}')"
   ]
  },
  {
   "cell_type": "code",
   "execution_count": 78,
   "id": "c6e8e645",
   "metadata": {},
   "outputs": [
    {
     "data": {
      "image/png": "[encoded data removed]",
      "text/plain": [
       "<Figure size 1080x504 with 1 Axes>"
      ]
     },
     "metadata": {
      "needs_background": "light"
     },
     "output_type": "display_data"
    }
   ],
   "source": [
    "fig, ax = plt.subplots(figsize=(15,7))\n",
    "sns.lineplot(x=stack_scores.keys(), y= stack_scores.values(), marker='o');\n",
    "for i, score in enumerate(stack_scores.values()):\n",
    "    ax.text(i+0.09, score+0.00004, f'{score:.6f}')\n",
    "plt.title('RMSE for MetaRegressor');"
   ]
  },
  {
   "cell_type": "code",
   "execution_count": 27,
   "id": "02f9108b",
   "metadata": {},
   "outputs": [],
   "source": [
    "tuned_stack_reg = StackingCVRegressor(regressors=(lasso_reg, \n",
    "                                                ridge_reg, \n",
    "                                                elnet_reg, \n",
    "                                                sv_reg, \n",
    "                                                tuned_xgbr_booster_optuna, \n",
    "                                                tuned_lgbm_booster_bayes, \n",
    "                                                tuned_gbr_booster_bayes),\n",
    "                                meta_regressor=lasso_reg,\n",
    "                                use_features_in_secondary=True,\n",
    "                                n_jobs=3,\n",
    "                                verbose=2)\n",
    "\n",
    "models['stacked'] = tuned_stack_reg\n"
   ]
  },
  {
   "cell_type": "code",
   "execution_count": null,
   "id": "210625c3",
   "metadata": {},
   "outputs": [],
   "source": [
    "# display_cv_scores(*cv_rmse(tuned_stack_reg, np.array(X), np.array(y), kfolds=kfolds, verb=0))"
   ]
  },
  {
   "cell_type": "code",
   "execution_count": null,
   "id": "5b6b87b4",
   "metadata": {},
   "outputs": [],
   "source": []
  },
  {
   "cell_type": "markdown",
   "id": "bc5cfe0d",
   "metadata": {},
   "source": [
    "##### Voting"
   ]
  },
  {
   "cell_type": "code",
   "execution_count": 29,
   "id": "7f2917cc",
   "metadata": {},
   "outputs": [
    {
     "name": "stdout",
     "output_type": "stream",
     "text": [
      "RMSE CV: [0.10371946 0.09677501 0.10931946 0.10805745 0.10784008 0.10411729]  Mean RMSE: 0.1049715 Std RMSE: 0.0042059\n",
      "MAE CV: [0.06974189 0.07102425 0.07168253 0.07096369 0.0756425  0.07068612]  Mean MAE: 0.0716235 Std MAE: 0.0018872\n",
      "R2 CV: [0.90460235 0.93475768 0.90344637 0.90606363 0.91358346 0.90881196]  Mean R2: 0.9118776 Std R2: 0.0107519\n"
     ]
    }
   ],
   "source": [
    "models_arr = [(k, v) for k, v in models.items()]\n",
    "\n",
    "voting_regr = VotingRegressor(models_arr,\n",
    "                             n_jobs=4,\n",
    "                             verbose=10)\n",
    "\n",
    "display_cv_scores(*cv_rmse(voting_regr, np.array(X), np.array(y), kfolds=kfolds))"
   ]
  },
  {
   "cell_type": "code",
   "execution_count": 30,
   "id": "46e24a82",
   "metadata": {},
   "outputs": [],
   "source": [
    "models['voting'] = voting_regr"
   ]
  },
  {
   "cell_type": "code",
   "execution_count": null,
   "id": "40c759c7",
   "metadata": {},
   "outputs": [],
   "source": []
  },
  {
   "cell_type": "code",
   "execution_count": 31,
   "id": "78aaf4ae",
   "metadata": {},
   "outputs": [
    {
     "data": {
      "text/plain": [
       "dict_keys(['lasso', 'ridge', 'elnet', 'svr', 'xgbr', 'lgbm', 'gbr', 'stacked', 'voting'])"
      ]
     },
     "execution_count": 31,
     "metadata": {},
     "output_type": "execute_result"
    }
   ],
   "source": [
    "models.keys()"
   ]
  },
  {
   "cell_type": "code",
   "execution_count": 42,
   "id": "3a727ea1",
   "metadata": {},
   "outputs": [
    {
     "name": "stdout",
     "output_type": "stream",
     "text": [
      "======== lasso ========\n",
      "RMSE = 0.10871496164479122  |  MAE = 0.0753898325369658  |  R2 = 0.9061999420024055\n",
      "-------------------- \n",
      "\n",
      "======== ridge ========\n",
      "RMSE = 0.1121911661437993  |  MAE = 0.07748140449828538  |  R2 = 0.8998620480310114\n",
      "-------------------- \n",
      "\n",
      "======== elnet ========\n",
      "RMSE = 0.10823601840778392  |  MAE = 0.07498848846830532  |  R2 = 0.9069769902059001\n",
      "-------------------- \n",
      "\n",
      "======== svr ========\n",
      "RMSE = 0.11180000048426787  |  MAE = 0.07832534316763241  |  R2 = 0.9004358025731407\n",
      "-------------------- \n",
      "\n",
      "======== xgbr ========\n",
      "RMSE = 0.10983643015990724  |  MAE = 0.07649416443359455  |  R2 = 0.9038787944224603\n",
      "-------------------- \n",
      "\n",
      "======== lgbm ========\n",
      "RMSE = 0.11303721532661448  |  MAE = 0.07822102739047686  |  R2 = 0.8982950735410867\n",
      "-------------------- \n",
      "\n",
      "======== gbr ========\n",
      "RMSE = 0.1099520679107804  |  MAE = 0.07549491589306272  |  R2 = 0.9046129902315304\n",
      "-------------------- \n",
      "\n",
      "======== stacked ========\n",
      "RMSE = 0.10658352308045987  |  MAE = 0.07263288130981017  |  R2 = 0.9097897808566571\n",
      "-------------------- \n",
      "\n",
      "======== voting ========\n",
      "RMSE = 0.1051938712427487  |  MAE = 0.07137550353588794  |  R2 = 0.9119599643684171\n",
      "-------------------- \n",
      "\n"
     ]
    }
   ],
   "source": [
    "scores = {}\n",
    "\n",
    "for name, model in models.items():\n",
    "    \n",
    "    cv_score = np.array(cv_rmse(model, np.array(X), np.array(y), kfolds=kfolds, verb=0))\n",
    "    \n",
    "    scores[name] = {\n",
    "                    'mean': cv_score.mean(axis=1),\n",
    "                    'std': cv_score.std(axis=1)\n",
    "                }\n",
    "    print('='*8, name, '='*8)\n",
    "    print(f'RMSE = {cv_score.mean(axis=1)[0]}  |  MAE = {cv_score.mean(axis=1)[1]}  |  R2 = {cv_score.mean(axis=1)[2]}')\n",
    "    print('-'*20, '\\n')"
   ]
  },
  {
   "cell_type": "code",
   "execution_count": null,
   "id": "2f762e89",
   "metadata": {},
   "outputs": [],
   "source": []
  },
  {
   "cell_type": "markdown",
   "id": "576ec547",
   "metadata": {},
   "source": [
    "## Forecasting Submissions"
   ]
  },
  {
   "cell_type": "code",
   "execution_count": 32,
   "id": "8a20798b",
   "metadata": {},
   "outputs": [
    {
     "data": {
      "text/html": [
       "<div>\n",
       "<style scoped>\n",
       "    .dataframe tbody tr th:only-of-type {\n",
       "        vertical-align: middle;\n",
       "    }\n",
       "\n",
       "    .dataframe tbody tr th {\n",
       "        vertical-align: top;\n",
       "    }\n",
       "\n",
       "    .dataframe thead th {\n",
       "        text-align: right;\n",
       "    }\n",
       "</style>\n",
       "<table border=\"1\" class=\"dataframe\">\n",
       "  <thead>\n",
       "    <tr style=\"text-align: right;\">\n",
       "      <th></th>\n",
       "      <th>Id</th>\n",
       "      <th>SalePrice</th>\n",
       "    </tr>\n",
       "  </thead>\n",
       "  <tbody>\n",
       "    <tr>\n",
       "      <th>0</th>\n",
       "      <td>1461</td>\n",
       "      <td>169277.052498</td>\n",
       "    </tr>\n",
       "    <tr>\n",
       "      <th>1</th>\n",
       "      <td>1462</td>\n",
       "      <td>187758.393989</td>\n",
       "    </tr>\n",
       "    <tr>\n",
       "      <th>2</th>\n",
       "      <td>1463</td>\n",
       "      <td>183583.683570</td>\n",
       "    </tr>\n",
       "    <tr>\n",
       "      <th>3</th>\n",
       "      <td>1464</td>\n",
       "      <td>179317.477511</td>\n",
       "    </tr>\n",
       "    <tr>\n",
       "      <th>4</th>\n",
       "      <td>1465</td>\n",
       "      <td>150730.079977</td>\n",
       "    </tr>\n",
       "    <tr>\n",
       "      <th>...</th>\n",
       "      <td>...</td>\n",
       "      <td>...</td>\n",
       "    </tr>\n",
       "    <tr>\n",
       "      <th>1454</th>\n",
       "      <td>2915</td>\n",
       "      <td>167081.220949</td>\n",
       "    </tr>\n",
       "    <tr>\n",
       "      <th>1455</th>\n",
       "      <td>2916</td>\n",
       "      <td>164788.778231</td>\n",
       "    </tr>\n",
       "    <tr>\n",
       "      <th>1456</th>\n",
       "      <td>2917</td>\n",
       "      <td>219222.423400</td>\n",
       "    </tr>\n",
       "    <tr>\n",
       "      <th>1457</th>\n",
       "      <td>2918</td>\n",
       "      <td>184924.279659</td>\n",
       "    </tr>\n",
       "    <tr>\n",
       "      <th>1458</th>\n",
       "      <td>2919</td>\n",
       "      <td>187741.866657</td>\n",
       "    </tr>\n",
       "  </tbody>\n",
       "</table>\n",
       "<p>1459 rows × 2 columns</p>\n",
       "</div>"
      ],
      "text/plain": [
       "        Id      SalePrice\n",
       "0     1461  169277.052498\n",
       "1     1462  187758.393989\n",
       "2     1463  183583.683570\n",
       "3     1464  179317.477511\n",
       "4     1465  150730.079977\n",
       "...    ...            ...\n",
       "1454  2915  167081.220949\n",
       "1455  2916  164788.778231\n",
       "1456  2917  219222.423400\n",
       "1457  2918  184924.279659\n",
       "1458  2919  187741.866657\n",
       "\n",
       "[1459 rows x 2 columns]"
      ]
     },
     "execution_count": 32,
     "metadata": {},
     "output_type": "execute_result"
    }
   ],
   "source": [
    "sample_sub = pd.read_csv('./data/sample_submission.csv')\n",
    "sample_sub"
   ]
  },
  {
   "cell_type": "code",
   "execution_count": 159,
   "id": "c856ecbd",
   "metadata": {},
   "outputs": [
    {
     "data": {
      "text/html": [
       "<div>\n",
       "<style scoped>\n",
       "    .dataframe tbody tr th:only-of-type {\n",
       "        vertical-align: middle;\n",
       "    }\n",
       "\n",
       "    .dataframe tbody tr th {\n",
       "        vertical-align: top;\n",
       "    }\n",
       "\n",
       "    .dataframe thead th {\n",
       "        text-align: right;\n",
       "    }\n",
       "</style>\n",
       "<table border=\"1\" class=\"dataframe\">\n",
       "  <thead>\n",
       "    <tr style=\"text-align: right;\">\n",
       "      <th></th>\n",
       "      <th>2ndFloorY/N</th>\n",
       "      <th>PorchY/N</th>\n",
       "      <th>BsmtFinSF2_cat</th>\n",
       "      <th>LowQualFinSF_cat</th>\n",
       "      <th>EnclosedPorch_cat</th>\n",
       "      <th>3SsnPorch_cat</th>\n",
       "      <th>ScreenPorch_cat</th>\n",
       "      <th>MiscVal_cat</th>\n",
       "      <th>PoolArea_cat</th>\n",
       "      <th>MSZoning_FV</th>\n",
       "      <th>...</th>\n",
       "      <th>BsmtFinSF</th>\n",
       "      <th>OtherRooms</th>\n",
       "      <th>GarageSpaceForCar</th>\n",
       "      <th>WoodDeckOpenPorch</th>\n",
       "      <th>TotalPorchSF</th>\n",
       "      <th>1stFlrSF_log</th>\n",
       "      <th>AverageRoomSF_log</th>\n",
       "      <th>GrLivArea_log</th>\n",
       "      <th>LotArea_log</th>\n",
       "      <th>totSqFt_log</th>\n",
       "    </tr>\n",
       "    <tr>\n",
       "      <th>Id</th>\n",
       "      <th></th>\n",
       "      <th></th>\n",
       "      <th></th>\n",
       "      <th></th>\n",
       "      <th></th>\n",
       "      <th></th>\n",
       "      <th></th>\n",
       "      <th></th>\n",
       "      <th></th>\n",
       "      <th></th>\n",
       "      <th></th>\n",
       "      <th></th>\n",
       "      <th></th>\n",
       "      <th></th>\n",
       "      <th></th>\n",
       "      <th></th>\n",
       "      <th></th>\n",
       "      <th></th>\n",
       "      <th></th>\n",
       "      <th></th>\n",
       "      <th></th>\n",
       "    </tr>\n",
       "  </thead>\n",
       "  <tbody>\n",
       "    <tr>\n",
       "      <th>1461</th>\n",
       "      <td>0</td>\n",
       "      <td>1</td>\n",
       "      <td>1</td>\n",
       "      <td>0</td>\n",
       "      <td>0</td>\n",
       "      <td>0</td>\n",
       "      <td>1</td>\n",
       "      <td>0</td>\n",
       "      <td>0</td>\n",
       "      <td>0</td>\n",
       "      <td>...</td>\n",
       "      <td>0.251869</td>\n",
       "      <td>-0.440639</td>\n",
       "      <td>5.621140</td>\n",
       "      <td>-0.010178</td>\n",
       "      <td>0.258664</td>\n",
       "      <td>-0.612768</td>\n",
       "      <td>-1.216581</td>\n",
       "      <td>-1.442220</td>\n",
       "      <td>0.561781</td>\n",
       "      <td>-1.201794</td>\n",
       "    </tr>\n",
       "    <tr>\n",
       "      <th>1462</th>\n",
       "      <td>0</td>\n",
       "      <td>1</td>\n",
       "      <td>0</td>\n",
       "      <td>0</td>\n",
       "      <td>0</td>\n",
       "      <td>0</td>\n",
       "      <td>0</td>\n",
       "      <td>1</td>\n",
       "      <td>0</td>\n",
       "      <td>0</td>\n",
       "      <td>...</td>\n",
       "      <td>0.902142</td>\n",
       "      <td>-0.440639</td>\n",
       "      <td>0.640460</td>\n",
       "      <td>1.965756</td>\n",
       "      <td>-0.501474</td>\n",
       "      <td>0.589032</td>\n",
       "      <td>-0.133883</td>\n",
       "      <td>-0.194791</td>\n",
       "      <td>0.970361</td>\n",
       "      <td>0.126204</td>\n",
       "    </tr>\n",
       "    <tr>\n",
       "      <th>1463</th>\n",
       "      <td>1</td>\n",
       "      <td>1</td>\n",
       "      <td>0</td>\n",
       "      <td>0</td>\n",
       "      <td>0</td>\n",
       "      <td>0</td>\n",
       "      <td>0</td>\n",
       "      <td>0</td>\n",
       "      <td>0</td>\n",
       "      <td>0</td>\n",
       "      <td>...</td>\n",
       "      <td>0.626142</td>\n",
       "      <td>-0.440639</td>\n",
       "      <td>-0.205540</td>\n",
       "      <td>0.714559</td>\n",
       "      <td>-0.519573</td>\n",
       "      <td>-0.505796</td>\n",
       "      <td>0.905998</td>\n",
       "      <td>0.449232</td>\n",
       "      <td>0.908374</td>\n",
       "      <td>0.288127</td>\n",
       "    </tr>\n",
       "    <tr>\n",
       "      <th>1464</th>\n",
       "      <td>1</td>\n",
       "      <td>1</td>\n",
       "      <td>0</td>\n",
       "      <td>0</td>\n",
       "      <td>0</td>\n",
       "      <td>0</td>\n",
       "      <td>0</td>\n",
       "      <td>0</td>\n",
       "      <td>0</td>\n",
       "      <td>0</td>\n",
       "      <td>...</td>\n",
       "      <td>0.230960</td>\n",
       "      <td>0.461033</td>\n",
       "      <td>-0.277033</td>\n",
       "      <td>1.740130</td>\n",
       "      <td>-0.501474</td>\n",
       "      <td>-0.512373</td>\n",
       "      <td>0.039429</td>\n",
       "      <td>0.400297</td>\n",
       "      <td>0.257876</td>\n",
       "      <td>0.246570</td>\n",
       "    </tr>\n",
       "    <tr>\n",
       "      <th>1465</th>\n",
       "      <td>0</td>\n",
       "      <td>1</td>\n",
       "      <td>0</td>\n",
       "      <td>0</td>\n",
       "      <td>0</td>\n",
       "      <td>0</td>\n",
       "      <td>1</td>\n",
       "      <td>0</td>\n",
       "      <td>0</td>\n",
       "      <td>0</td>\n",
       "      <td>...</td>\n",
       "      <td>-0.477858</td>\n",
       "      <td>-0.440639</td>\n",
       "      <td>-0.062554</td>\n",
       "      <td>-0.406733</td>\n",
       "      <td>1.217885</td>\n",
       "      <td>0.474514</td>\n",
       "      <td>0.605668</td>\n",
       "      <td>-0.313657</td>\n",
       "      <td>-1.116906</td>\n",
       "      <td>0.001315</td>\n",
       "    </tr>\n",
       "  </tbody>\n",
       "</table>\n",
       "<p>5 rows × 206 columns</p>\n",
       "</div>"
      ],
      "text/plain": [
       "      2ndFloorY/N  PorchY/N  BsmtFinSF2_cat  LowQualFinSF_cat  \\\n",
       "Id                                                              \n",
       "1461            0         1               1                 0   \n",
       "1462            0         1               0                 0   \n",
       "1463            1         1               0                 0   \n",
       "1464            1         1               0                 0   \n",
       "1465            0         1               0                 0   \n",
       "\n",
       "      EnclosedPorch_cat  3SsnPorch_cat  ScreenPorch_cat  MiscVal_cat  \\\n",
       "Id                                                                     \n",
       "1461                  0              0                1            0   \n",
       "1462                  0              0                0            1   \n",
       "1463                  0              0                0            0   \n",
       "1464                  0              0                0            0   \n",
       "1465                  0              0                1            0   \n",
       "\n",
       "      PoolArea_cat  MSZoning_FV  ...  BsmtFinSF  OtherRooms  \\\n",
       "Id                               ...                          \n",
       "1461             0            0  ...   0.251869   -0.440639   \n",
       "1462             0            0  ...   0.902142   -0.440639   \n",
       "1463             0            0  ...   0.626142   -0.440639   \n",
       "1464             0            0  ...   0.230960    0.461033   \n",
       "1465             0            0  ...  -0.477858   -0.440639   \n",
       "\n",
       "      GarageSpaceForCar  WoodDeckOpenPorch  TotalPorchSF  1stFlrSF_log  \\\n",
       "Id                                                                       \n",
       "1461           5.621140          -0.010178      0.258664     -0.612768   \n",
       "1462           0.640460           1.965756     -0.501474      0.589032   \n",
       "1463          -0.205540           0.714559     -0.519573     -0.505796   \n",
       "1464          -0.277033           1.740130     -0.501474     -0.512373   \n",
       "1465          -0.062554          -0.406733      1.217885      0.474514   \n",
       "\n",
       "      AverageRoomSF_log  GrLivArea_log  LotArea_log  totSqFt_log  \n",
       "Id                                                                \n",
       "1461          -1.216581      -1.442220     0.561781    -1.201794  \n",
       "1462          -0.133883      -0.194791     0.970361     0.126204  \n",
       "1463           0.905998       0.449232     0.908374     0.288127  \n",
       "1464           0.039429       0.400297     0.257876     0.246570  \n",
       "1465           0.605668      -0.313657    -1.116906     0.001315  \n",
       "\n",
       "[5 rows x 206 columns]"
      ]
     },
     "execution_count": 159,
     "metadata": {},
     "output_type": "execute_result"
    }
   ],
   "source": [
    "test_df.head(5)"
   ]
  },
  {
   "cell_type": "code",
   "execution_count": 160,
   "id": "6039918c",
   "metadata": {},
   "outputs": [
    {
     "data": {
      "text/html": [
       "<div>\n",
       "<style scoped>\n",
       "    .dataframe tbody tr th:only-of-type {\n",
       "        vertical-align: middle;\n",
       "    }\n",
       "\n",
       "    .dataframe tbody tr th {\n",
       "        vertical-align: top;\n",
       "    }\n",
       "\n",
       "    .dataframe thead th {\n",
       "        text-align: right;\n",
       "    }\n",
       "</style>\n",
       "<table border=\"1\" class=\"dataframe\">\n",
       "  <thead>\n",
       "    <tr style=\"text-align: right;\">\n",
       "      <th></th>\n",
       "      <th>2ndFloorY/N</th>\n",
       "      <th>PorchY/N</th>\n",
       "      <th>BsmtFinSF2_cat</th>\n",
       "      <th>LowQualFinSF_cat</th>\n",
       "      <th>EnclosedPorch_cat</th>\n",
       "      <th>3SsnPorch_cat</th>\n",
       "      <th>ScreenPorch_cat</th>\n",
       "      <th>MiscVal_cat</th>\n",
       "      <th>PoolArea_cat</th>\n",
       "      <th>MSZoning_FV</th>\n",
       "      <th>...</th>\n",
       "      <th>BsmtFinSF</th>\n",
       "      <th>OtherRooms</th>\n",
       "      <th>GarageSpaceForCar</th>\n",
       "      <th>WoodDeckOpenPorch</th>\n",
       "      <th>TotalPorchSF</th>\n",
       "      <th>1stFlrSF_log</th>\n",
       "      <th>AverageRoomSF_log</th>\n",
       "      <th>GrLivArea_log</th>\n",
       "      <th>LotArea_log</th>\n",
       "      <th>totSqFt_log</th>\n",
       "    </tr>\n",
       "    <tr>\n",
       "      <th>Id</th>\n",
       "      <th></th>\n",
       "      <th></th>\n",
       "      <th></th>\n",
       "      <th></th>\n",
       "      <th></th>\n",
       "      <th></th>\n",
       "      <th></th>\n",
       "      <th></th>\n",
       "      <th></th>\n",
       "      <th></th>\n",
       "      <th></th>\n",
       "      <th></th>\n",
       "      <th></th>\n",
       "      <th></th>\n",
       "      <th></th>\n",
       "      <th></th>\n",
       "      <th></th>\n",
       "      <th></th>\n",
       "      <th></th>\n",
       "      <th></th>\n",
       "      <th></th>\n",
       "    </tr>\n",
       "  </thead>\n",
       "  <tbody>\n",
       "    <tr>\n",
       "      <th>1</th>\n",
       "      <td>1</td>\n",
       "      <td>1</td>\n",
       "      <td>0</td>\n",
       "      <td>0</td>\n",
       "      <td>0</td>\n",
       "      <td>0</td>\n",
       "      <td>0</td>\n",
       "      <td>0</td>\n",
       "      <td>0</td>\n",
       "      <td>0</td>\n",
       "      <td>...</td>\n",
       "      <td>0.562915</td>\n",
       "      <td>1.333563</td>\n",
       "      <td>0.200358</td>\n",
       "      <td>-0.507130</td>\n",
       "      <td>-0.195467</td>\n",
       "      <td>-0.872968</td>\n",
       "      <td>-0.240149</td>\n",
       "      <td>0.651878</td>\n",
       "      <td>-0.237114</td>\n",
       "      <td>0.418300</td>\n",
       "    </tr>\n",
       "    <tr>\n",
       "      <th>2</th>\n",
       "      <td>0</td>\n",
       "      <td>0</td>\n",
       "      <td>0</td>\n",
       "      <td>0</td>\n",
       "      <td>0</td>\n",
       "      <td>0</td>\n",
       "      <td>0</td>\n",
       "      <td>0</td>\n",
       "      <td>0</td>\n",
       "      <td>0</td>\n",
       "      <td>...</td>\n",
       "      <td>1.193802</td>\n",
       "      <td>-0.469483</td>\n",
       "      <td>-0.296532</td>\n",
       "      <td>1.417162</td>\n",
       "      <td>-0.891971</td>\n",
       "      <td>0.497152</td>\n",
       "      <td>-0.330569</td>\n",
       "      <td>-0.329824</td>\n",
       "      <td>0.125468</td>\n",
       "      <td>-0.016393</td>\n",
       "    </tr>\n",
       "    <tr>\n",
       "      <th>3</th>\n",
       "      <td>1</td>\n",
       "      <td>1</td>\n",
       "      <td>0</td>\n",
       "      <td>0</td>\n",
       "      <td>0</td>\n",
       "      <td>0</td>\n",
       "      <td>0</td>\n",
       "      <td>0</td>\n",
       "      <td>0</td>\n",
       "      <td>0</td>\n",
       "      <td>...</td>\n",
       "      <td>0.052639</td>\n",
       "      <td>-0.469483</td>\n",
       "      <td>0.539147</td>\n",
       "      <td>-0.661398</td>\n",
       "      <td>-0.412410</td>\n",
       "      <td>-0.618474</td>\n",
       "      <td>1.618175</td>\n",
       "      <td>0.792398</td>\n",
       "      <td>0.576164</td>\n",
       "      <td>0.594309</td>\n",
       "    </tr>\n",
       "    <tr>\n",
       "      <th>4</th>\n",
       "      <td>1</td>\n",
       "      <td>1</td>\n",
       "      <td>0</td>\n",
       "      <td>0</td>\n",
       "      <td>1</td>\n",
       "      <td>0</td>\n",
       "      <td>0</td>\n",
       "      <td>0</td>\n",
       "      <td>0</td>\n",
       "      <td>0</td>\n",
       "      <td>...</td>\n",
       "      <td>-0.573609</td>\n",
       "      <td>0.432040</td>\n",
       "      <td>-0.477219</td>\n",
       "      <td>-0.718234</td>\n",
       "      <td>2.613386</td>\n",
       "      <td>-0.464582</td>\n",
       "      <td>0.532078</td>\n",
       "      <td>0.665079</td>\n",
       "      <td>0.110630</td>\n",
       "      <td>0.345734</td>\n",
       "    </tr>\n",
       "    <tr>\n",
       "      <th>5</th>\n",
       "      <td>1</td>\n",
       "      <td>1</td>\n",
       "      <td>0</td>\n",
       "      <td>0</td>\n",
       "      <td>0</td>\n",
       "      <td>0</td>\n",
       "      <td>0</td>\n",
       "      <td>0</td>\n",
       "      <td>0</td>\n",
       "      <td>0</td>\n",
       "      <td>...</td>\n",
       "      <td>0.444624</td>\n",
       "      <td>1.333563</td>\n",
       "      <td>0.253059</td>\n",
       "      <td>1.238536</td>\n",
       "      <td>0.067150</td>\n",
       "      <td>0.153748</td>\n",
       "      <td>0.507695</td>\n",
       "      <td>1.463149</td>\n",
       "      <td>1.249886</td>\n",
       "      <td>1.343907</td>\n",
       "    </tr>\n",
       "  </tbody>\n",
       "</table>\n",
       "<p>5 rows × 206 columns</p>\n",
       "</div>"
      ],
      "text/plain": [
       "    2ndFloorY/N  PorchY/N  BsmtFinSF2_cat  LowQualFinSF_cat  \\\n",
       "Id                                                            \n",
       "1             1         1               0                 0   \n",
       "2             0         0               0                 0   \n",
       "3             1         1               0                 0   \n",
       "4             1         1               0                 0   \n",
       "5             1         1               0                 0   \n",
       "\n",
       "    EnclosedPorch_cat  3SsnPorch_cat  ScreenPorch_cat  MiscVal_cat  \\\n",
       "Id                                                                   \n",
       "1                   0              0                0            0   \n",
       "2                   0              0                0            0   \n",
       "3                   0              0                0            0   \n",
       "4                   1              0                0            0   \n",
       "5                   0              0                0            0   \n",
       "\n",
       "    PoolArea_cat  MSZoning_FV  ...  BsmtFinSF  OtherRooms  GarageSpaceForCar  \\\n",
       "Id                             ...                                             \n",
       "1              0            0  ...   0.562915    1.333563           0.200358   \n",
       "2              0            0  ...   1.193802   -0.469483          -0.296532   \n",
       "3              0            0  ...   0.052639   -0.469483           0.539147   \n",
       "4              0            0  ...  -0.573609    0.432040          -0.477219   \n",
       "5              0            0  ...   0.444624    1.333563           0.253059   \n",
       "\n",
       "    WoodDeckOpenPorch  TotalPorchSF  1stFlrSF_log  AverageRoomSF_log  \\\n",
       "Id                                                                     \n",
       "1           -0.507130     -0.195467     -0.872968          -0.240149   \n",
       "2            1.417162     -0.891971      0.497152          -0.330569   \n",
       "3           -0.661398     -0.412410     -0.618474           1.618175   \n",
       "4           -0.718234      2.613386     -0.464582           0.532078   \n",
       "5            1.238536      0.067150      0.153748           0.507695   \n",
       "\n",
       "    GrLivArea_log  LotArea_log  totSqFt_log  \n",
       "Id                                           \n",
       "1        0.651878    -0.237114     0.418300  \n",
       "2       -0.329824     0.125468    -0.016393  \n",
       "3        0.792398     0.576164     0.594309  \n",
       "4        0.665079     0.110630     0.345734  \n",
       "5        1.463149     1.249886     1.343907  \n",
       "\n",
       "[5 rows x 206 columns]"
      ]
     },
     "execution_count": 160,
     "metadata": {},
     "output_type": "execute_result"
    }
   ],
   "source": [
    "X.head(5)"
   ]
  },
  {
   "cell_type": "code",
   "execution_count": null,
   "id": "37a93d05",
   "metadata": {},
   "outputs": [],
   "source": []
  },
  {
   "cell_type": "code",
   "execution_count": 33,
   "id": "71a96ea5",
   "metadata": {},
   "outputs": [],
   "source": [
    "tuned_stack_reg_ = voting_regr.fit(np.array(X), np.array(y))"
   ]
  },
  {
   "cell_type": "code",
   "execution_count": 34,
   "id": "6196add3",
   "metadata": {},
   "outputs": [
    {
     "data": {
      "text/plain": [
       "(1459,)"
      ]
     },
     "execution_count": 34,
     "metadata": {},
     "output_type": "execute_result"
    }
   ],
   "source": [
    "y_pred = tuned_stack_reg_.predict(np.array(test_df))\n",
    "y_pred.shape"
   ]
  },
  {
   "cell_type": "code",
   "execution_count": 36,
   "id": "e8b4ac36",
   "metadata": {},
   "outputs": [
    {
     "data": {
      "text/html": [
       "<div>\n",
       "<style scoped>\n",
       "    .dataframe tbody tr th:only-of-type {\n",
       "        vertical-align: middle;\n",
       "    }\n",
       "\n",
       "    .dataframe tbody tr th {\n",
       "        vertical-align: top;\n",
       "    }\n",
       "\n",
       "    .dataframe thead th {\n",
       "        text-align: right;\n",
       "    }\n",
       "</style>\n",
       "<table border=\"1\" class=\"dataframe\">\n",
       "  <thead>\n",
       "    <tr style=\"text-align: right;\">\n",
       "      <th></th>\n",
       "      <th>Id</th>\n",
       "      <th>SalePrice</th>\n",
       "    </tr>\n",
       "  </thead>\n",
       "  <tbody>\n",
       "    <tr>\n",
       "      <th>0</th>\n",
       "      <td>1461</td>\n",
       "      <td>122070.059433</td>\n",
       "    </tr>\n",
       "    <tr>\n",
       "      <th>1</th>\n",
       "      <td>1462</td>\n",
       "      <td>164081.173498</td>\n",
       "    </tr>\n",
       "    <tr>\n",
       "      <th>2</th>\n",
       "      <td>1463</td>\n",
       "      <td>179626.936483</td>\n",
       "    </tr>\n",
       "    <tr>\n",
       "      <th>3</th>\n",
       "      <td>1464</td>\n",
       "      <td>196433.022235</td>\n",
       "    </tr>\n",
       "    <tr>\n",
       "      <th>4</th>\n",
       "      <td>1465</td>\n",
       "      <td>192524.343937</td>\n",
       "    </tr>\n",
       "    <tr>\n",
       "      <th>...</th>\n",
       "      <td>...</td>\n",
       "      <td>...</td>\n",
       "    </tr>\n",
       "    <tr>\n",
       "      <th>1454</th>\n",
       "      <td>2915</td>\n",
       "      <td>95635.419140</td>\n",
       "    </tr>\n",
       "    <tr>\n",
       "      <th>1455</th>\n",
       "      <td>2916</td>\n",
       "      <td>96103.439277</td>\n",
       "    </tr>\n",
       "    <tr>\n",
       "      <th>1456</th>\n",
       "      <td>2917</td>\n",
       "      <td>168989.875069</td>\n",
       "    </tr>\n",
       "    <tr>\n",
       "      <th>1457</th>\n",
       "      <td>2918</td>\n",
       "      <td>122760.545276</td>\n",
       "    </tr>\n",
       "    <tr>\n",
       "      <th>1458</th>\n",
       "      <td>2919</td>\n",
       "      <td>215948.701287</td>\n",
       "    </tr>\n",
       "  </tbody>\n",
       "</table>\n",
       "<p>1459 rows × 2 columns</p>\n",
       "</div>"
      ],
      "text/plain": [
       "        Id      SalePrice\n",
       "0     1461  122070.059433\n",
       "1     1462  164081.173498\n",
       "2     1463  179626.936483\n",
       "3     1464  196433.022235\n",
       "4     1465  192524.343937\n",
       "...    ...            ...\n",
       "1454  2915   95635.419140\n",
       "1455  2916   96103.439277\n",
       "1456  2917  168989.875069\n",
       "1457  2918  122760.545276\n",
       "1458  2919  215948.701287\n",
       "\n",
       "[1459 rows x 2 columns]"
      ]
     },
     "execution_count": 36,
     "metadata": {},
     "output_type": "execute_result"
    }
   ],
   "source": [
    "sample_sub['SalePrice'] = np.exp(y_pred)\n",
    "sample_sub"
   ]
  },
  {
   "cell_type": "code",
   "execution_count": 40,
   "id": "11c07400",
   "metadata": {},
   "outputs": [],
   "source": [
    "sample_sub.to_csv('data/submit.csv', index=False)"
   ]
  },
  {
   "cell_type": "code",
   "execution_count": null,
   "id": "a3b50ca2",
   "metadata": {},
   "outputs": [],
   "source": []
  },
  {
   "cell_type": "code",
   "execution_count": null,
   "id": "f9d2ab27",
   "metadata": {},
   "outputs": [],
   "source": []
  },
  {
   "cell_type": "code",
   "execution_count": null,
   "id": "428e7e9e",
   "metadata": {},
   "outputs": [],
   "source": []
  },
  {
   "cell_type": "code",
   "execution_count": null,
   "id": "f1f89209",
   "metadata": {},
   "outputs": [],
   "source": []
  },
  {
   "cell_type": "code",
   "execution_count": null,
   "id": "729f3884",
   "metadata": {},
   "outputs": [],
   "source": []
  },
  {
   "cell_type": "code",
   "execution_count": null,
   "id": "24a140b3",
   "metadata": {},
   "outputs": [],
   "source": []
  },
  {
   "cell_type": "code",
   "execution_count": null,
   "id": "39e45b92",
   "metadata": {},
   "outputs": [],
   "source": []
  },
  {
   "cell_type": "code",
   "execution_count": null,
   "id": "b97a7f94",
   "metadata": {},
   "outputs": [],
   "source": []
  },
  {
   "cell_type": "code",
   "execution_count": null,
   "id": "90793eb2",
   "metadata": {},
   "outputs": [],
   "source": []
  },
  {
   "cell_type": "code",
   "execution_count": 128,
   "id": "c15ec90e",
   "metadata": {},
   "outputs": [
    {
     "data": {
      "text/plain": [
       "Id\n",
       "1       0.699150\n",
       "2       0.311211\n",
       "3       0.893486\n",
       "4      -0.415006\n",
       "5       1.206922\n",
       "          ...   \n",
       "1455    0.364640\n",
       "1456    0.209194\n",
       "1457    0.719203\n",
       "1458    1.385707\n",
       "1459   -0.372866\n",
       "Name: SalePrice_log, Length: 1252, dtype: float64"
      ]
     },
     "execution_count": 128,
     "metadata": {},
     "output_type": "execute_result"
    }
   ],
   "source": [
    "y"
   ]
  },
  {
   "cell_type": "code",
   "execution_count": 125,
   "id": "74997f33",
   "metadata": {},
   "outputs": [
    {
     "data": {
      "text/html": [
       "<div>\n",
       "<style scoped>\n",
       "    .dataframe tbody tr th:only-of-type {\n",
       "        vertical-align: middle;\n",
       "    }\n",
       "\n",
       "    .dataframe tbody tr th {\n",
       "        vertical-align: top;\n",
       "    }\n",
       "\n",
       "    .dataframe thead th {\n",
       "        text-align: right;\n",
       "    }\n",
       "</style>\n",
       "<table border=\"1\" class=\"dataframe\">\n",
       "  <thead>\n",
       "    <tr style=\"text-align: right;\">\n",
       "      <th></th>\n",
       "      <th>2ndFloorY/N</th>\n",
       "      <th>PorchY/N</th>\n",
       "      <th>BsmtFinSF2_cat</th>\n",
       "      <th>LowQualFinSF_cat</th>\n",
       "      <th>EnclosedPorch_cat</th>\n",
       "      <th>3SsnPorch_cat</th>\n",
       "      <th>ScreenPorch_cat</th>\n",
       "      <th>MiscVal_cat</th>\n",
       "      <th>PoolArea_cat</th>\n",
       "      <th>MSZoning_FV</th>\n",
       "      <th>...</th>\n",
       "      <th>BsmtFinSF</th>\n",
       "      <th>OtherRooms</th>\n",
       "      <th>GarageSpaceForCar</th>\n",
       "      <th>WoodDeckOpenPorch</th>\n",
       "      <th>TotalPorchSF</th>\n",
       "      <th>1stFlrSF_log</th>\n",
       "      <th>AverageRoomSF_log</th>\n",
       "      <th>GrLivArea_log</th>\n",
       "      <th>LotArea_log</th>\n",
       "      <th>totSqFt_log</th>\n",
       "    </tr>\n",
       "    <tr>\n",
       "      <th>Id</th>\n",
       "      <th></th>\n",
       "      <th></th>\n",
       "      <th></th>\n",
       "      <th></th>\n",
       "      <th></th>\n",
       "      <th></th>\n",
       "      <th></th>\n",
       "      <th></th>\n",
       "      <th></th>\n",
       "      <th></th>\n",
       "      <th></th>\n",
       "      <th></th>\n",
       "      <th></th>\n",
       "      <th></th>\n",
       "      <th></th>\n",
       "      <th></th>\n",
       "      <th></th>\n",
       "      <th></th>\n",
       "      <th></th>\n",
       "      <th></th>\n",
       "      <th></th>\n",
       "    </tr>\n",
       "  </thead>\n",
       "  <tbody>\n",
       "    <tr>\n",
       "      <th>1461</th>\n",
       "      <td>0</td>\n",
       "      <td>1</td>\n",
       "      <td>1</td>\n",
       "      <td>0</td>\n",
       "      <td>0</td>\n",
       "      <td>0</td>\n",
       "      <td>1</td>\n",
       "      <td>0</td>\n",
       "      <td>0</td>\n",
       "      <td>0</td>\n",
       "      <td>...</td>\n",
       "      <td>0.251869</td>\n",
       "      <td>-0.440639</td>\n",
       "      <td>7.664441</td>\n",
       "      <td>-0.010178</td>\n",
       "      <td>NaN</td>\n",
       "      <td>-0.612768</td>\n",
       "      <td>-1.216581</td>\n",
       "      <td>-1.442220</td>\n",
       "      <td>0.561781</td>\n",
       "      <td>-1.201794</td>\n",
       "    </tr>\n",
       "    <tr>\n",
       "      <th>1462</th>\n",
       "      <td>0</td>\n",
       "      <td>1</td>\n",
       "      <td>0</td>\n",
       "      <td>0</td>\n",
       "      <td>0</td>\n",
       "      <td>0</td>\n",
       "      <td>0</td>\n",
       "      <td>1</td>\n",
       "      <td>0</td>\n",
       "      <td>0</td>\n",
       "      <td>...</td>\n",
       "      <td>0.902142</td>\n",
       "      <td>-0.440639</td>\n",
       "      <td>0.662635</td>\n",
       "      <td>1.965756</td>\n",
       "      <td>NaN</td>\n",
       "      <td>0.589032</td>\n",
       "      <td>-0.133883</td>\n",
       "      <td>-0.194791</td>\n",
       "      <td>0.970361</td>\n",
       "      <td>0.126204</td>\n",
       "    </tr>\n",
       "    <tr>\n",
       "      <th>1463</th>\n",
       "      <td>1</td>\n",
       "      <td>1</td>\n",
       "      <td>0</td>\n",
       "      <td>0</td>\n",
       "      <td>0</td>\n",
       "      <td>0</td>\n",
       "      <td>0</td>\n",
       "      <td>0</td>\n",
       "      <td>0</td>\n",
       "      <td>0</td>\n",
       "      <td>...</td>\n",
       "      <td>0.626142</td>\n",
       "      <td>-0.440639</td>\n",
       "      <td>-0.526667</td>\n",
       "      <td>0.714559</td>\n",
       "      <td>NaN</td>\n",
       "      <td>-0.505796</td>\n",
       "      <td>0.905998</td>\n",
       "      <td>0.449232</td>\n",
       "      <td>0.908374</td>\n",
       "      <td>0.288127</td>\n",
       "    </tr>\n",
       "    <tr>\n",
       "      <th>1464</th>\n",
       "      <td>1</td>\n",
       "      <td>1</td>\n",
       "      <td>0</td>\n",
       "      <td>0</td>\n",
       "      <td>0</td>\n",
       "      <td>0</td>\n",
       "      <td>0</td>\n",
       "      <td>0</td>\n",
       "      <td>0</td>\n",
       "      <td>0</td>\n",
       "      <td>...</td>\n",
       "      <td>0.230960</td>\n",
       "      <td>0.461033</td>\n",
       "      <td>-0.627171</td>\n",
       "      <td>1.740130</td>\n",
       "      <td>NaN</td>\n",
       "      <td>-0.512373</td>\n",
       "      <td>0.039429</td>\n",
       "      <td>0.400297</td>\n",
       "      <td>0.257876</td>\n",
       "      <td>0.246570</td>\n",
       "    </tr>\n",
       "    <tr>\n",
       "      <th>1465</th>\n",
       "      <td>0</td>\n",
       "      <td>1</td>\n",
       "      <td>0</td>\n",
       "      <td>0</td>\n",
       "      <td>0</td>\n",
       "      <td>0</td>\n",
       "      <td>1</td>\n",
       "      <td>0</td>\n",
       "      <td>0</td>\n",
       "      <td>0</td>\n",
       "      <td>...</td>\n",
       "      <td>-0.477858</td>\n",
       "      <td>-0.440639</td>\n",
       "      <td>-0.325658</td>\n",
       "      <td>-0.406733</td>\n",
       "      <td>NaN</td>\n",
       "      <td>0.474514</td>\n",
       "      <td>0.605668</td>\n",
       "      <td>-0.313657</td>\n",
       "      <td>-1.116906</td>\n",
       "      <td>0.001315</td>\n",
       "    </tr>\n",
       "    <tr>\n",
       "      <th>...</th>\n",
       "      <td>...</td>\n",
       "      <td>...</td>\n",
       "      <td>...</td>\n",
       "      <td>...</td>\n",
       "      <td>...</td>\n",
       "      <td>...</td>\n",
       "      <td>...</td>\n",
       "      <td>...</td>\n",
       "      <td>...</td>\n",
       "      <td>...</td>\n",
       "      <td>...</td>\n",
       "      <td>...</td>\n",
       "      <td>...</td>\n",
       "      <td>...</td>\n",
       "      <td>...</td>\n",
       "      <td>...</td>\n",
       "      <td>...</td>\n",
       "      <td>...</td>\n",
       "      <td>...</td>\n",
       "      <td>...</td>\n",
       "      <td>...</td>\n",
       "    </tr>\n",
       "    <tr>\n",
       "      <th>2915</th>\n",
       "      <td>1</td>\n",
       "      <td>1</td>\n",
       "      <td>0</td>\n",
       "      <td>0</td>\n",
       "      <td>0</td>\n",
       "      <td>0</td>\n",
       "      <td>0</td>\n",
       "      <td>0</td>\n",
       "      <td>0</td>\n",
       "      <td>0</td>\n",
       "      <td>...</td>\n",
       "      <td>-1.027767</td>\n",
       "      <td>-1.342310</td>\n",
       "      <td>NaN</td>\n",
       "      <td>-0.967378</td>\n",
       "      <td>NaN</td>\n",
       "      <td>-2.122697</td>\n",
       "      <td>-0.205891</td>\n",
       "      <td>-0.816275</td>\n",
       "      <td>-3.009500</td>\n",
       "      <td>-1.132891</td>\n",
       "    </tr>\n",
       "    <tr>\n",
       "      <th>2916</th>\n",
       "      <td>1</td>\n",
       "      <td>1</td>\n",
       "      <td>0</td>\n",
       "      <td>0</td>\n",
       "      <td>0</td>\n",
       "      <td>0</td>\n",
       "      <td>0</td>\n",
       "      <td>0</td>\n",
       "      <td>0</td>\n",
       "      <td>0</td>\n",
       "      <td>...</td>\n",
       "      <td>-0.500858</td>\n",
       "      <td>-0.440639</td>\n",
       "      <td>0.227116</td>\n",
       "      <td>-0.803287</td>\n",
       "      <td>NaN</td>\n",
       "      <td>-2.122697</td>\n",
       "      <td>-1.137370</td>\n",
       "      <td>-0.816275</td>\n",
       "      <td>-3.053203</td>\n",
       "      <td>-1.132891</td>\n",
       "    </tr>\n",
       "    <tr>\n",
       "      <th>2917</th>\n",
       "      <td>0</td>\n",
       "      <td>1</td>\n",
       "      <td>0</td>\n",
       "      <td>0</td>\n",
       "      <td>0</td>\n",
       "      <td>0</td>\n",
       "      <td>0</td>\n",
       "      <td>0</td>\n",
       "      <td>0</td>\n",
       "      <td>0</td>\n",
       "      <td>...</td>\n",
       "      <td>1.531505</td>\n",
       "      <td>-0.440639</td>\n",
       "      <td>0.260618</td>\n",
       "      <td>2.273427</td>\n",
       "      <td>NaN</td>\n",
       "      <td>0.338142</td>\n",
       "      <td>-1.341921</td>\n",
       "      <td>-0.455207</td>\n",
       "      <td>1.643426</td>\n",
       "      <td>-0.147407</td>\n",
       "    </tr>\n",
       "    <tr>\n",
       "      <th>2918</th>\n",
       "      <td>0</td>\n",
       "      <td>1</td>\n",
       "      <td>0</td>\n",
       "      <td>0</td>\n",
       "      <td>0</td>\n",
       "      <td>0</td>\n",
       "      <td>0</td>\n",
       "      <td>1</td>\n",
       "      <td>0</td>\n",
       "      <td>0</td>\n",
       "      <td>...</td>\n",
       "      <td>-0.323131</td>\n",
       "      <td>-0.440639</td>\n",
       "      <td>NaN</td>\n",
       "      <td>-0.201618</td>\n",
       "      <td>NaN</td>\n",
       "      <td>-0.370861</td>\n",
       "      <td>-1.742633</td>\n",
       "      <td>-1.191129</td>\n",
       "      <td>0.348255</td>\n",
       "      <td>-0.987549</td>\n",
       "    </tr>\n",
       "    <tr>\n",
       "      <th>2919</th>\n",
       "      <td>1</td>\n",
       "      <td>1</td>\n",
       "      <td>0</td>\n",
       "      <td>0</td>\n",
       "      <td>0</td>\n",
       "      <td>0</td>\n",
       "      <td>0</td>\n",
       "      <td>0</td>\n",
       "      <td>0</td>\n",
       "      <td>0</td>\n",
       "      <td>...</td>\n",
       "      <td>0.557142</td>\n",
       "      <td>2.264375</td>\n",
       "      <td>-0.934268</td>\n",
       "      <td>0.659862</td>\n",
       "      <td>NaN</td>\n",
       "      <td>-0.290228</td>\n",
       "      <td>-0.117252</td>\n",
       "      <td>1.098449</td>\n",
       "      <td>0.186519</td>\n",
       "      <td>0.876196</td>\n",
       "    </tr>\n",
       "  </tbody>\n",
       "</table>\n",
       "<p>1459 rows × 206 columns</p>\n",
       "</div>"
      ],
      "text/plain": [
       "      2ndFloorY/N  PorchY/N  BsmtFinSF2_cat  LowQualFinSF_cat  \\\n",
       "Id                                                              \n",
       "1461            0         1               1                 0   \n",
       "1462            0         1               0                 0   \n",
       "1463            1         1               0                 0   \n",
       "1464            1         1               0                 0   \n",
       "1465            0         1               0                 0   \n",
       "...           ...       ...             ...               ...   \n",
       "2915            1         1               0                 0   \n",
       "2916            1         1               0                 0   \n",
       "2917            0         1               0                 0   \n",
       "2918            0         1               0                 0   \n",
       "2919            1         1               0                 0   \n",
       "\n",
       "      EnclosedPorch_cat  3SsnPorch_cat  ScreenPorch_cat  MiscVal_cat  \\\n",
       "Id                                                                     \n",
       "1461                  0              0                1            0   \n",
       "1462                  0              0                0            1   \n",
       "1463                  0              0                0            0   \n",
       "1464                  0              0                0            0   \n",
       "1465                  0              0                1            0   \n",
       "...                 ...            ...              ...          ...   \n",
       "2915                  0              0                0            0   \n",
       "2916                  0              0                0            0   \n",
       "2917                  0              0                0            0   \n",
       "2918                  0              0                0            1   \n",
       "2919                  0              0                0            0   \n",
       "\n",
       "      PoolArea_cat  MSZoning_FV  ...  BsmtFinSF  OtherRooms  \\\n",
       "Id                               ...                          \n",
       "1461             0            0  ...   0.251869   -0.440639   \n",
       "1462             0            0  ...   0.902142   -0.440639   \n",
       "1463             0            0  ...   0.626142   -0.440639   \n",
       "1464             0            0  ...   0.230960    0.461033   \n",
       "1465             0            0  ...  -0.477858   -0.440639   \n",
       "...            ...          ...  ...        ...         ...   \n",
       "2915             0            0  ...  -1.027767   -1.342310   \n",
       "2916             0            0  ...  -0.500858   -0.440639   \n",
       "2917             0            0  ...   1.531505   -0.440639   \n",
       "2918             0            0  ...  -0.323131   -0.440639   \n",
       "2919             0            0  ...   0.557142    2.264375   \n",
       "\n",
       "      GarageSpaceForCar  WoodDeckOpenPorch  TotalPorchSF  1stFlrSF_log  \\\n",
       "Id                                                                       \n",
       "1461           7.664441          -0.010178           NaN     -0.612768   \n",
       "1462           0.662635           1.965756           NaN      0.589032   \n",
       "1463          -0.526667           0.714559           NaN     -0.505796   \n",
       "1464          -0.627171           1.740130           NaN     -0.512373   \n",
       "1465          -0.325658          -0.406733           NaN      0.474514   \n",
       "...                 ...                ...           ...           ...   \n",
       "2915                NaN          -0.967378           NaN     -2.122697   \n",
       "2916           0.227116          -0.803287           NaN     -2.122697   \n",
       "2917           0.260618           2.273427           NaN      0.338142   \n",
       "2918                NaN          -0.201618           NaN     -0.370861   \n",
       "2919          -0.934268           0.659862           NaN     -0.290228   \n",
       "\n",
       "      AverageRoomSF_log  GrLivArea_log  LotArea_log  totSqFt_log  \n",
       "Id                                                                \n",
       "1461          -1.216581      -1.442220     0.561781    -1.201794  \n",
       "1462          -0.133883      -0.194791     0.970361     0.126204  \n",
       "1463           0.905998       0.449232     0.908374     0.288127  \n",
       "1464           0.039429       0.400297     0.257876     0.246570  \n",
       "1465           0.605668      -0.313657    -1.116906     0.001315  \n",
       "...                 ...            ...          ...          ...  \n",
       "2915          -0.205891      -0.816275    -3.009500    -1.132891  \n",
       "2916          -1.137370      -0.816275    -3.053203    -1.132891  \n",
       "2917          -1.341921      -0.455207     1.643426    -0.147407  \n",
       "2918          -1.742633      -1.191129     0.348255    -0.987549  \n",
       "2919          -0.117252       1.098449     0.186519     0.876196  \n",
       "\n",
       "[1459 rows x 206 columns]"
      ]
     },
     "execution_count": 125,
     "metadata": {},
     "output_type": "execute_result"
    }
   ],
   "source": [
    "test_df"
   ]
  },
  {
   "cell_type": "code",
   "execution_count": 127,
   "id": "2954cfcf",
   "metadata": {},
   "outputs": [
    {
     "data": {
      "text/html": [
       "<div>\n",
       "<style scoped>\n",
       "    .dataframe tbody tr th:only-of-type {\n",
       "        vertical-align: middle;\n",
       "    }\n",
       "\n",
       "    .dataframe tbody tr th {\n",
       "        vertical-align: top;\n",
       "    }\n",
       "\n",
       "    .dataframe thead th {\n",
       "        text-align: right;\n",
       "    }\n",
       "</style>\n",
       "<table border=\"1\" class=\"dataframe\">\n",
       "  <thead>\n",
       "    <tr style=\"text-align: right;\">\n",
       "      <th></th>\n",
       "      <th>2ndFloorY/N</th>\n",
       "      <th>PorchY/N</th>\n",
       "      <th>BsmtFinSF2_cat</th>\n",
       "      <th>LowQualFinSF_cat</th>\n",
       "      <th>EnclosedPorch_cat</th>\n",
       "      <th>3SsnPorch_cat</th>\n",
       "      <th>ScreenPorch_cat</th>\n",
       "      <th>MiscVal_cat</th>\n",
       "      <th>PoolArea_cat</th>\n",
       "      <th>MSZoning_FV</th>\n",
       "      <th>...</th>\n",
       "      <th>BsmtFinSF</th>\n",
       "      <th>OtherRooms</th>\n",
       "      <th>GarageSpaceForCar</th>\n",
       "      <th>WoodDeckOpenPorch</th>\n",
       "      <th>TotalPorchSF</th>\n",
       "      <th>1stFlrSF_log</th>\n",
       "      <th>AverageRoomSF_log</th>\n",
       "      <th>GrLivArea_log</th>\n",
       "      <th>LotArea_log</th>\n",
       "      <th>totSqFt_log</th>\n",
       "    </tr>\n",
       "    <tr>\n",
       "      <th>Id</th>\n",
       "      <th></th>\n",
       "      <th></th>\n",
       "      <th></th>\n",
       "      <th></th>\n",
       "      <th></th>\n",
       "      <th></th>\n",
       "      <th></th>\n",
       "      <th></th>\n",
       "      <th></th>\n",
       "      <th></th>\n",
       "      <th></th>\n",
       "      <th></th>\n",
       "      <th></th>\n",
       "      <th></th>\n",
       "      <th></th>\n",
       "      <th></th>\n",
       "      <th></th>\n",
       "      <th></th>\n",
       "      <th></th>\n",
       "      <th></th>\n",
       "      <th></th>\n",
       "    </tr>\n",
       "  </thead>\n",
       "  <tbody>\n",
       "    <tr>\n",
       "      <th>1</th>\n",
       "      <td>1</td>\n",
       "      <td>1</td>\n",
       "      <td>0</td>\n",
       "      <td>0</td>\n",
       "      <td>0</td>\n",
       "      <td>0</td>\n",
       "      <td>0</td>\n",
       "      <td>0</td>\n",
       "      <td>0</td>\n",
       "      <td>0</td>\n",
       "      <td>...</td>\n",
       "      <td>0.562915</td>\n",
       "      <td>1.333563</td>\n",
       "      <td>0.200358</td>\n",
       "      <td>-0.507130</td>\n",
       "      <td>-0.195467</td>\n",
       "      <td>-0.872968</td>\n",
       "      <td>-0.240149</td>\n",
       "      <td>0.651878</td>\n",
       "      <td>-0.237114</td>\n",
       "      <td>0.418300</td>\n",
       "    </tr>\n",
       "    <tr>\n",
       "      <th>2</th>\n",
       "      <td>0</td>\n",
       "      <td>0</td>\n",
       "      <td>0</td>\n",
       "      <td>0</td>\n",
       "      <td>0</td>\n",
       "      <td>0</td>\n",
       "      <td>0</td>\n",
       "      <td>0</td>\n",
       "      <td>0</td>\n",
       "      <td>0</td>\n",
       "      <td>...</td>\n",
       "      <td>1.193802</td>\n",
       "      <td>-0.469483</td>\n",
       "      <td>-0.296532</td>\n",
       "      <td>1.417162</td>\n",
       "      <td>-0.891971</td>\n",
       "      <td>0.497152</td>\n",
       "      <td>-0.330569</td>\n",
       "      <td>-0.329824</td>\n",
       "      <td>0.125468</td>\n",
       "      <td>-0.016393</td>\n",
       "    </tr>\n",
       "    <tr>\n",
       "      <th>3</th>\n",
       "      <td>1</td>\n",
       "      <td>1</td>\n",
       "      <td>0</td>\n",
       "      <td>0</td>\n",
       "      <td>0</td>\n",
       "      <td>0</td>\n",
       "      <td>0</td>\n",
       "      <td>0</td>\n",
       "      <td>0</td>\n",
       "      <td>0</td>\n",
       "      <td>...</td>\n",
       "      <td>0.052639</td>\n",
       "      <td>-0.469483</td>\n",
       "      <td>0.539147</td>\n",
       "      <td>-0.661398</td>\n",
       "      <td>-0.412410</td>\n",
       "      <td>-0.618474</td>\n",
       "      <td>1.618175</td>\n",
       "      <td>0.792398</td>\n",
       "      <td>0.576164</td>\n",
       "      <td>0.594309</td>\n",
       "    </tr>\n",
       "    <tr>\n",
       "      <th>4</th>\n",
       "      <td>1</td>\n",
       "      <td>1</td>\n",
       "      <td>0</td>\n",
       "      <td>0</td>\n",
       "      <td>1</td>\n",
       "      <td>0</td>\n",
       "      <td>0</td>\n",
       "      <td>0</td>\n",
       "      <td>0</td>\n",
       "      <td>0</td>\n",
       "      <td>...</td>\n",
       "      <td>-0.573609</td>\n",
       "      <td>0.432040</td>\n",
       "      <td>-0.477219</td>\n",
       "      <td>-0.718234</td>\n",
       "      <td>2.613386</td>\n",
       "      <td>-0.464582</td>\n",
       "      <td>0.532078</td>\n",
       "      <td>0.665079</td>\n",
       "      <td>0.110630</td>\n",
       "      <td>0.345734</td>\n",
       "    </tr>\n",
       "    <tr>\n",
       "      <th>5</th>\n",
       "      <td>1</td>\n",
       "      <td>1</td>\n",
       "      <td>0</td>\n",
       "      <td>0</td>\n",
       "      <td>0</td>\n",
       "      <td>0</td>\n",
       "      <td>0</td>\n",
       "      <td>0</td>\n",
       "      <td>0</td>\n",
       "      <td>0</td>\n",
       "      <td>...</td>\n",
       "      <td>0.444624</td>\n",
       "      <td>1.333563</td>\n",
       "      <td>0.253059</td>\n",
       "      <td>1.238536</td>\n",
       "      <td>0.067150</td>\n",
       "      <td>0.153748</td>\n",
       "      <td>0.507695</td>\n",
       "      <td>1.463149</td>\n",
       "      <td>1.249886</td>\n",
       "      <td>1.343907</td>\n",
       "    </tr>\n",
       "    <tr>\n",
       "      <th>...</th>\n",
       "      <td>...</td>\n",
       "      <td>...</td>\n",
       "      <td>...</td>\n",
       "      <td>...</td>\n",
       "      <td>...</td>\n",
       "      <td>...</td>\n",
       "      <td>...</td>\n",
       "      <td>...</td>\n",
       "      <td>...</td>\n",
       "      <td>...</td>\n",
       "      <td>...</td>\n",
       "      <td>...</td>\n",
       "      <td>...</td>\n",
       "      <td>...</td>\n",
       "      <td>...</td>\n",
       "      <td>...</td>\n",
       "      <td>...</td>\n",
       "      <td>...</td>\n",
       "      <td>...</td>\n",
       "      <td>...</td>\n",
       "      <td>...</td>\n",
       "    </tr>\n",
       "    <tr>\n",
       "      <th>1455</th>\n",
       "      <td>0</td>\n",
       "      <td>1</td>\n",
       "      <td>0</td>\n",
       "      <td>0</td>\n",
       "      <td>0</td>\n",
       "      <td>0</td>\n",
       "      <td>0</td>\n",
       "      <td>0</td>\n",
       "      <td>0</td>\n",
       "      <td>1</td>\n",
       "      <td>...</td>\n",
       "      <td>-0.123638</td>\n",
       "      <td>0.432040</td>\n",
       "      <td>-0.635321</td>\n",
       "      <td>-0.084923</td>\n",
       "      <td>0.398275</td>\n",
       "      <td>0.380578</td>\n",
       "      <td>-0.515901</td>\n",
       "      <td>-0.436551</td>\n",
       "      <td>-0.576016</td>\n",
       "      <td>-0.134355</td>\n",
       "    </tr>\n",
       "    <tr>\n",
       "      <th>1456</th>\n",
       "      <td>1</td>\n",
       "      <td>1</td>\n",
       "      <td>0</td>\n",
       "      <td>0</td>\n",
       "      <td>0</td>\n",
       "      <td>0</td>\n",
       "      <td>0</td>\n",
       "      <td>0</td>\n",
       "      <td>0</td>\n",
       "      <td>0</td>\n",
       "      <td>...</td>\n",
       "      <td>-1.074607</td>\n",
       "      <td>0.432040</td>\n",
       "      <td>-0.296532</td>\n",
       "      <td>-0.677637</td>\n",
       "      <td>-0.435247</td>\n",
       "      <td>-0.494088</td>\n",
       "      <td>0.298512</td>\n",
       "      <td>0.530576</td>\n",
       "      <td>-0.422257</td>\n",
       "      <td>0.393994</td>\n",
       "    </tr>\n",
       "    <tr>\n",
       "      <th>1457</th>\n",
       "      <td>0</td>\n",
       "      <td>0</td>\n",
       "      <td>1</td>\n",
       "      <td>0</td>\n",
       "      <td>0</td>\n",
       "      <td>0</td>\n",
       "      <td>0</td>\n",
       "      <td>0</td>\n",
       "      <td>0</td>\n",
       "      <td>0</td>\n",
       "      <td>...</td>\n",
       "      <td>1.135816</td>\n",
       "      <td>0.432040</td>\n",
       "      <td>-0.070673</td>\n",
       "      <td>1.831250</td>\n",
       "      <td>-0.891971</td>\n",
       "      <td>2.248877</td>\n",
       "      <td>1.589375</td>\n",
       "      <td>1.273944</td>\n",
       "      <td>1.025008</td>\n",
       "      <td>1.437425</td>\n",
       "    </tr>\n",
       "    <tr>\n",
       "      <th>1458</th>\n",
       "      <td>1</td>\n",
       "      <td>1</td>\n",
       "      <td>0</td>\n",
       "      <td>0</td>\n",
       "      <td>0</td>\n",
       "      <td>0</td>\n",
       "      <td>0</td>\n",
       "      <td>1</td>\n",
       "      <td>0</td>\n",
       "      <td>0</td>\n",
       "      <td>...</td>\n",
       "      <td>-0.436762</td>\n",
       "      <td>1.333563</td>\n",
       "      <td>-0.048087</td>\n",
       "      <td>-0.515250</td>\n",
       "      <td>-0.206885</td>\n",
       "      <td>0.283872</td>\n",
       "      <td>0.858989</td>\n",
       "      <td>1.665447</td>\n",
       "      <td>-0.044696</td>\n",
       "      <td>1.526720</td>\n",
       "    </tr>\n",
       "    <tr>\n",
       "      <th>1459</th>\n",
       "      <td>0</td>\n",
       "      <td>1</td>\n",
       "      <td>1</td>\n",
       "      <td>0</td>\n",
       "      <td>1</td>\n",
       "      <td>0</td>\n",
       "      <td>0</td>\n",
       "      <td>0</td>\n",
       "      <td>0</td>\n",
       "      <td>0</td>\n",
       "      <td>...</td>\n",
       "      <td>1.425746</td>\n",
       "      <td>-0.469483</td>\n",
       "      <td>-0.183602</td>\n",
       "      <td>1.969280</td>\n",
       "      <td>0.386857</td>\n",
       "      <td>-0.059075</td>\n",
       "      <td>-0.191791</td>\n",
       "      <td>-0.839070</td>\n",
       "      <td>0.159891</td>\n",
       "      <td>-0.579244</td>\n",
       "    </tr>\n",
       "  </tbody>\n",
       "</table>\n",
       "<p>1252 rows × 206 columns</p>\n",
       "</div>"
      ],
      "text/plain": [
       "      2ndFloorY/N  PorchY/N  BsmtFinSF2_cat  LowQualFinSF_cat  \\\n",
       "Id                                                              \n",
       "1               1         1               0                 0   \n",
       "2               0         0               0                 0   \n",
       "3               1         1               0                 0   \n",
       "4               1         1               0                 0   \n",
       "5               1         1               0                 0   \n",
       "...           ...       ...             ...               ...   \n",
       "1455            0         1               0                 0   \n",
       "1456            1         1               0                 0   \n",
       "1457            0         0               1                 0   \n",
       "1458            1         1               0                 0   \n",
       "1459            0         1               1                 0   \n",
       "\n",
       "      EnclosedPorch_cat  3SsnPorch_cat  ScreenPorch_cat  MiscVal_cat  \\\n",
       "Id                                                                     \n",
       "1                     0              0                0            0   \n",
       "2                     0              0                0            0   \n",
       "3                     0              0                0            0   \n",
       "4                     1              0                0            0   \n",
       "5                     0              0                0            0   \n",
       "...                 ...            ...              ...          ...   \n",
       "1455                  0              0                0            0   \n",
       "1456                  0              0                0            0   \n",
       "1457                  0              0                0            0   \n",
       "1458                  0              0                0            1   \n",
       "1459                  1              0                0            0   \n",
       "\n",
       "      PoolArea_cat  MSZoning_FV  ...  BsmtFinSF  OtherRooms  \\\n",
       "Id                               ...                          \n",
       "1                0            0  ...   0.562915    1.333563   \n",
       "2                0            0  ...   1.193802   -0.469483   \n",
       "3                0            0  ...   0.052639   -0.469483   \n",
       "4                0            0  ...  -0.573609    0.432040   \n",
       "5                0            0  ...   0.444624    1.333563   \n",
       "...            ...          ...  ...        ...         ...   \n",
       "1455             0            1  ...  -0.123638    0.432040   \n",
       "1456             0            0  ...  -1.074607    0.432040   \n",
       "1457             0            0  ...   1.135816    0.432040   \n",
       "1458             0            0  ...  -0.436762    1.333563   \n",
       "1459             0            0  ...   1.425746   -0.469483   \n",
       "\n",
       "      GarageSpaceForCar  WoodDeckOpenPorch  TotalPorchSF  1stFlrSF_log  \\\n",
       "Id                                                                       \n",
       "1              0.200358          -0.507130     -0.195467     -0.872968   \n",
       "2             -0.296532           1.417162     -0.891971      0.497152   \n",
       "3              0.539147          -0.661398     -0.412410     -0.618474   \n",
       "4             -0.477219          -0.718234      2.613386     -0.464582   \n",
       "5              0.253059           1.238536      0.067150      0.153748   \n",
       "...                 ...                ...           ...           ...   \n",
       "1455          -0.635321          -0.084923      0.398275      0.380578   \n",
       "1456          -0.296532          -0.677637     -0.435247     -0.494088   \n",
       "1457          -0.070673           1.831250     -0.891971      2.248877   \n",
       "1458          -0.048087          -0.515250     -0.206885      0.283872   \n",
       "1459          -0.183602           1.969280      0.386857     -0.059075   \n",
       "\n",
       "      AverageRoomSF_log  GrLivArea_log  LotArea_log  totSqFt_log  \n",
       "Id                                                                \n",
       "1             -0.240149       0.651878    -0.237114     0.418300  \n",
       "2             -0.330569      -0.329824     0.125468    -0.016393  \n",
       "3              1.618175       0.792398     0.576164     0.594309  \n",
       "4              0.532078       0.665079     0.110630     0.345734  \n",
       "5              0.507695       1.463149     1.249886     1.343907  \n",
       "...                 ...            ...          ...          ...  \n",
       "1455          -0.515901      -0.436551    -0.576016    -0.134355  \n",
       "1456           0.298512       0.530576    -0.422257     0.393994  \n",
       "1457           1.589375       1.273944     1.025008     1.437425  \n",
       "1458           0.858989       1.665447    -0.044696     1.526720  \n",
       "1459          -0.191791      -0.839070     0.159891    -0.579244  \n",
       "\n",
       "[1252 rows x 206 columns]"
      ]
     },
     "execution_count": 127,
     "metadata": {},
     "output_type": "execute_result"
    }
   ],
   "source": [
    "X"
   ]
  },
  {
   "cell_type": "code",
   "execution_count": null,
   "id": "a2afd954",
   "metadata": {},
   "outputs": [],
   "source": []
  },
  {
   "cell_type": "code",
   "execution_count": null,
   "id": "2d1de00e",
   "metadata": {},
   "outputs": [],
   "source": []
  },
  {
   "cell_type": "code",
   "execution_count": null,
   "id": "44c7d3d8",
   "metadata": {},
   "outputs": [],
   "source": []
  },
  {
   "cell_type": "code",
   "execution_count": null,
   "id": "52843cd2",
   "metadata": {},
   "outputs": [],
   "source": []
  },
  {
   "cell_type": "code",
   "execution_count": null,
   "id": "fe37fb72",
   "metadata": {},
   "outputs": [],
   "source": []
  },
  {
   "cell_type": "code",
   "execution_count": null,
   "id": "9c9650c9",
   "metadata": {},
   "outputs": [],
   "source": []
  },
  {
   "cell_type": "code",
   "execution_count": null,
   "id": "1f6ab4bb",
   "metadata": {},
   "outputs": [],
   "source": []
  },
  {
   "cell_type": "code",
   "execution_count": null,
   "id": "1d340670",
   "metadata": {},
   "outputs": [],
   "source": []
  },
  {
   "cell_type": "code",
   "execution_count": 56,
   "id": "d020d117",
   "metadata": {},
   "outputs": [],
   "source": [
    "scr = cv_rmse(lasso_reg, X, y, kfolds=kfolds)"
   ]
  },
  {
   "cell_type": "code",
   "execution_count": 99,
   "id": "4cf4b5ba",
   "metadata": {},
   "outputs": [
    {
     "data": {
      "text/plain": [
       "(array([0.2848823 , 0.27530303, 0.30639453, 0.30724993, 0.30951852,\n",
       "        0.30286856]),\n",
       " array([0.1956968 , 0.20672758, 0.20500126, 0.20814133, 0.22282672,\n",
       "        0.20704383]),\n",
       " array([0.90813502, 0.93232392, 0.90349962, 0.90342025, 0.90952742,\n",
       "        0.90242708]))"
      ]
     },
     "execution_count": 99,
     "metadata": {},
     "output_type": "execute_result"
    }
   ],
   "source": [
    "scr"
   ]
  },
  {
   "cell_type": "code",
   "execution_count": 92,
   "id": "076eba38",
   "metadata": {},
   "outputs": [
    {
     "name": "stdout",
     "output_type": "stream",
     "text": [
      "RMSE CV: [0.2848823  0.27530303 0.30639453 0.30724993 0.30951852 0.30286856]  Mean RMSE: 0.2977028 Std RMSE: 0.0129042\n",
      "MAE CV: [0.1956968  0.20672758 0.20500126 0.20814133 0.22282672 0.20704383]  Mean MAE: 0.2075729 Std MAE: 0.0079755\n",
      "R2 CV: [0.90813502 0.93232392 0.90349962 0.90342025 0.90952742 0.90242708]  Mean R2: 0.9098889 Std R2: 0.0103673\n"
     ]
    }
   ],
   "source": [
    "display_cv_scores(*np.array(scr))"
   ]
  },
  {
   "cell_type": "code",
   "execution_count": 100,
   "id": "9acfa439",
   "metadata": {},
   "outputs": [
    {
     "data": {
      "text/plain": [
       "array([0.29770281, 0.20757292, 0.90988889])"
      ]
     },
     "execution_count": 100,
     "metadata": {},
     "output_type": "execute_result"
    }
   ],
   "source": [
    "np.array(scr).mean(axis=1)"
   ]
  },
  {
   "cell_type": "code",
   "execution_count": 67,
   "id": "ba692a18",
   "metadata": {},
   "outputs": [],
   "source": [
    "scores['first'] = {'mean': np.array(scr).mean(axis=1), 'std': np.array(scr).std(axis=1)}"
   ]
  },
  {
   "cell_type": "code",
   "execution_count": 71,
   "id": "cefba07a",
   "metadata": {},
   "outputs": [
    {
     "data": {
      "text/plain": [
       "0.29770281209690247"
      ]
     },
     "execution_count": 71,
     "metadata": {},
     "output_type": "execute_result"
    }
   ],
   "source": [
    "scores['first']['mean'][0]"
   ]
  },
  {
   "cell_type": "code",
   "execution_count": 14,
   "id": "3f9109b8",
   "metadata": {},
   "outputs": [],
   "source": [
    "rmse, mae, r2 = [], [], []\n",
    "\n",
    "\n",
    "alpha_l1_ = 0.0015\n",
    "lasso_reg = Lasso(alpha=alpha_l1_).fit(X, y)\n",
    "\n",
    "rmse_l1, mae_l1, r2_l1 = cv_rmse(lasso_reg, X, y)\n",
    "rmse_l1, mae_l1, r2_l1 = rmse_l1.mean(), mae_l1.mean(), r2_l1.mean()\n",
    "print('-'*7, 'LASSO', '-'*7)\n",
    "print(f'RMSE = {rmse_l1}')\n",
    "rmse.append(rmse_l1), mae.append(mae_l1), r2.append(r2_l1)\n",
    "\n",
    "\n",
    "alpha_l2_ = 21.12\n",
    "ridge_reg = Ridge(alpha=alpha_l2_).fit(X, y)\n",
    "\n",
    "rmse_l2, mae_l2, r2_l2 = cv_rmse(ridge_reg, X, y)\n",
    "rmse_l2, mae_l2, r2_l2 = rmse_l2.mean(), mae_l2.mean(), r2_l2.mean()\n",
    "print('-'*7, 'RIDGE', '-'*7)\n",
    "rmse.append(rmse_l2), mae.append(mae_l2), r2.append(r2_l2)\n",
    "\n",
    "\n",
    "\n",
    "\n",
    "\n"
   ]
  },
  {
   "cell_type": "code",
   "execution_count": null,
   "id": "c33b50b0",
   "metadata": {},
   "outputs": [],
   "source": []
  },
  {
   "cell_type": "code",
   "execution_count": null,
   "id": "5f7241ae",
   "metadata": {},
   "outputs": [],
   "source": []
  },
  {
   "cell_type": "code",
   "execution_count": null,
   "id": "382038d6",
   "metadata": {},
   "outputs": [],
   "source": []
  },
  {
   "cell_type": "code",
   "execution_count": null,
   "id": "7142bc83",
   "metadata": {},
   "outputs": [],
   "source": []
  },
  {
   "cell_type": "code",
   "execution_count": null,
   "id": "84d8d172",
   "metadata": {},
   "outputs": [],
   "source": []
  },
  {
   "cell_type": "code",
   "execution_count": null,
   "id": "0803a2e8",
   "metadata": {},
   "outputs": [],
   "source": []
  }
 ],
 "metadata": {
  "kernelspec": {
   "display_name": "Python 3 (ipykernel)",
   "language": "python",
   "name": "python3"
  },
  "language_info": {
   "codemirror_mode": {
    "name": "ipython",
    "version": 3
   },
   "file_extension": ".py",
   "mimetype": "text/x-python",
   "name": "python",
   "nbconvert_exporter": "python",
   "pygments_lexer": "ipython3",
   "version": "3.7.9"
  }
 },
 "nbformat": 4,
 "nbformat_minor": 5
}
